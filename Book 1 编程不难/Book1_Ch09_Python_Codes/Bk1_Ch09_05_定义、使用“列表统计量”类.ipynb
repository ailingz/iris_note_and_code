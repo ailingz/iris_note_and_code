{
 "cells": [
  {
   "cell_type": "markdown",
   "id": "341d0771-65a2-40f4-a2c5-dbc9dc9efa06",
   "metadata": {},
   "source": [
    "Book 1  \n",
    "Chapter 9 Object-Oriented Programming in Python\n",
    "### Define & Use the `ListStatistics` Class"
   ]
  },
  {
   "cell_type": "code",
   "execution_count": 2,
   "id": "d7d6c404-bcf3-46aa-8033-c9f8c9e6e2b8",
   "metadata": {
    "tags": []
   },
   "outputs": [],
   "source": [
    "# 创建 ListStatistics 类\n",
    "class ListStatistics:\n",
    "\n",
    "    # 构造函数，用于初始化属性\n",
    "    def __init__(self, data): # ListStatistics 包含一个 data 属性来存储浮点数列表\n",
    "        self.data = data\n",
    "\n",
    "    # 下面定义了4个方法\n",
    "    # 方法1：计算列表的长度，即元素的数量\n",
    "    def list_length(self):\n",
    "        return len(self.data)\n",
    "\n",
    "    # 方法2：计算列表元素之和\n",
    "    def list_sum(self):\n",
    "        return sum(self.data)\n",
    "\n",
    "    # 方法3：计算列表元素平均值\n",
    "    def list_mean(self):\n",
    "        return sum(self.data) / self.list_length()\n",
    "\n",
    "    # 方法4：计算列表元素方差\n",
    "    def list_variance(self, ddof=1):\n",
    "        # Delta 自由度 ddof 默认为 1；无偏样本方差\n",
    "        sum_squares = sum((x_i - self.list_mean())**2 for x_i in self.data)\n",
    "        return sum_squares / (self.list_length() - ddof)"
   ]
  },
  {
   "cell_type": "code",
   "execution_count": 3,
   "id": "530d262b-872d-4bc8-b473-4c74a45778f7",
   "metadata": {
    "tags": []
   },
   "outputs": [],
   "source": [
    "# 创建一个浮点数列表\n",
    "data = [8.8, 1.8, 7.8, 3.8, 2.8, 5.6, 3.9, 6.9]"
   ]
  },
  {
   "cell_type": "code",
   "execution_count": 4,
   "id": "47a068be-c49a-4771-9692-a719f6c6e863",
   "metadata": {
    "tags": []
   },
   "outputs": [],
   "source": [
    "# 创建 ListStatistics 对象实例\n",
    "float_list = ListStatistics(data)"
   ]
  },
  {
   "cell_type": "code",
   "execution_count": 5,
   "id": "b5c660bb-477a-4c2c-8e05-517349b5fc5c",
   "metadata": {
    "tags": []
   },
   "outputs": [
    {
     "name": "stdout",
     "output_type": "stream",
     "text": [
      "Length of the list: 8\n"
     ]
    }
   ],
   "source": [
    "# 使用 float_list 对象计算列表长度\n",
    "print('Length of the list:', float_list.list_length())"
   ]
  },
  {
   "cell_type": "code",
   "execution_count": 6,
   "id": "48b39292-e231-4a85-a83e-51d7bb0a8d28",
   "metadata": {
    "tags": []
   },
   "outputs": [
    {
     "name": "stdout",
     "output_type": "stream",
     "text": [
      "Sum of the list: 41.4\n"
     ]
    }
   ],
   "source": [
    "# 使用 float_list 对象计算列表和\n",
    "print('Sum of the list:', float_list.list_sum())"
   ]
  },
  {
   "cell_type": "code",
   "execution_count": 7,
   "id": "882ffe9b-6b30-4141-a478-cd2a65913a8a",
   "metadata": {
    "tags": []
   },
   "outputs": [
    {
     "name": "stdout",
     "output_type": "stream",
     "text": [
      "Average of the list: 5.175\n"
     ]
    }
   ],
   "source": [
    "# 使用 float_list 对象计算列表平均值\n",
    "print('Average of the list:', float_list.list_mean())"
   ]
  },
  {
   "cell_type": "code",
   "execution_count": 8,
   "id": "2d93cf8c-0075-4019-a4c0-8272ea977d21",
   "metadata": {},
   "outputs": [
    {
     "name": "stdout",
     "output_type": "stream",
     "text": [
      "Variance of the list: 6.247857142857144\n",
      "Variance (ddof=0) of the list: 5.466875000000001\n"
     ]
    }
   ],
   "source": [
    "# 使用 float_list 对象计算列表方差\n",
    "print('Variance of the list:', float_list.list_variance()) # Sample variance\n",
    "print('Variance (ddof=0) of the list:', float_list.list_variance(0)) # Population variance"
   ]
  }
 ],
 "metadata": {
  "kernelspec": {
   "display_name": "Python 3 (ipykernel)",
   "language": "python",
   "name": "python3"
  },
  "language_info": {
   "codemirror_mode": {
    "name": "ipython",
    "version": 3
   },
   "file_extension": ".py",
   "mimetype": "text/x-python",
   "name": "python",
   "nbconvert_exporter": "python",
   "pygments_lexer": "ipython3",
   "version": "3.11.7"
  }
 },
 "nbformat": 4,
 "nbformat_minor": 5
}
