{
 "cells": [
  {
   "cell_type": "markdown",
   "id": "04a49897-d6c6-4ddd-b11c-11b21cf3fffd",
   "metadata": {},
   "source": [
    "Book 1  \n",
    "Chapter 9 Object-Oriented Programming in Python\n",
    "### Define & Use the `Chicken` Class, No Parameters Required When Creating An Instance"
   ]
  },
  {
   "cell_type": "code",
   "execution_count": 2,
   "id": "4ffec37f-5895-4c0e-99b9-388bcecbd8d2",
   "metadata": {
    "tags": []
   },
   "outputs": [],
   "source": [
    "# 创建了一个名为 \"Chicken\" 的类\n",
    "class Chicken:\n",
    "    def __init__(self):\n",
    "    # 初始化对象的属性\n",
    "        # 设置实例变量 self.name 来存储小鸡名字的参数\n",
    "        self.name = ''\n",
    "        # 设置实例变量 self.age 来存储小鸡名字的年龄\n",
    "        self.age = ''\n",
    "        # 设置实例变量 self.color 来存储小鸡名字的颜色\n",
    "        self.color = ''\n",
    "        # 设置实例变量 self.weight 来存储小鸡名字的体重\n",
    "        self.weight = ''"
   ]
  },
  {
   "cell_type": "code",
   "execution_count": 3,
   "id": "f05c377f-896c-4bc2-b88c-50540480f554",
   "metadata": {
    "tags": []
   },
   "outputs": [],
   "source": [
    "# 调用 Chicken 类，然后赋值\n",
    "chicken_01 = Chicken()"
   ]
  },
  {
   "cell_type": "code",
   "execution_count": 4,
   "id": "c146dce9-2bbe-46ce-a946-dcc63e8f1cf8",
   "metadata": {
    "tags": []
   },
   "outputs": [],
   "source": [
    "chicken_01.name = '小红'\n",
    "chicken_01.age = 1\n",
    "chicken_01.color = 'Yellow'\n",
    "chicken_01.weight = 1.5"
   ]
  }
 ],
 "metadata": {
  "kernelspec": {
   "display_name": "Python 3 (ipykernel)",
   "language": "python",
   "name": "python3"
  },
  "language_info": {
   "codemirror_mode": {
    "name": "ipython",
    "version": 3
   },
   "file_extension": ".py",
   "mimetype": "text/x-python",
   "name": "python",
   "nbconvert_exporter": "python",
   "pygments_lexer": "ipython3",
   "version": "3.11.7"
  }
 },
 "nbformat": 4,
 "nbformat_minor": 5
}
