{
 "cells": [
  {
   "cell_type": "markdown",
   "id": "a8b10fda-7e2d-40de-b5c1-8640f59eda5e",
   "metadata": {},
   "source": [
    "Book 1  \n",
    "Chapter 9 Object-Oriented Programming in Python\n",
    "### 定义、使用“矩形”类"
   ]
  },
  {
   "cell_type": "code",
   "execution_count": 2,
   "id": "89bc5c43-0f33-496b-9548-9b8feaf186a9",
   "metadata": {},
   "outputs": [],
   "source": [
    "# # 定义一个名为 Rectangle 的类\n",
    "# 具有构造函数来初始化矩形的宽度和高度，并提供了两个方法来计算矩形的周长和面积\n",
    "class Rectangle: # class 定义一个类，类是一种数据结构，包含属性和方法，用于创建实例对象\n",
    "    # 创建 Rectangle 对象时执行一些初始化工作\n",
    "    def __init__(self, width, height): # def __init__ 用于初始化对象的属性，在对象创建时自动调用 Constructor\n",
    "        # 设置实例变量 self.width 来存储传入的宽度参数\n",
    "        self.width = width # self 表示当前对象的引用，用于访问对象的属性和调用对象的方法\n",
    "        # 设置实例变量 self.height 来存储传入的高度参数\n",
    "        self.height = height\n",
    "\n",
    "    # 定义一个名为 circumference 的方法，用于计算矩形的周长\n",
    "    def circumference(self):\n",
    "        # 返回矩形的周长，计算公式为 2*(宽度 + 高度)\n",
    "        return 2 * (self.width + self.height)\n",
    "\n",
    "    # 定义一个名为 area 的方法，用于计算矩形的面积\n",
    "    def area(self):\n",
    "        # 返回矩形的面积，计算公式为 宽度 * 高度\n",
    "        return self.width * self.height"
   ]
  },
  {
   "cell_type": "code",
   "execution_count": 3,
   "id": "0dce8e43-ff16-4667-bc64-2329bbb2c51a",
   "metadata": {},
   "outputs": [
    {
     "name": "stdout",
     "output_type": "stream",
     "text": [
      "Width of rectangle: 5\n",
      "Height of rectangle: 10\n"
     ]
    }
   ],
   "source": [
    "# 使用 Rectangle 类\n",
    "# 定义矩形，宽5，高10\n",
    "rect_width_5_height_10 = Rectangle(5, 10)\n",
    "print('Width of rectangle:', rect_width_5_height_10.width)\n",
    "print('Height of rectangle:', rect_width_5_height_10.height)"
   ]
  },
  {
   "cell_type": "code",
   "execution_count": 4,
   "id": "846fa7d5-70ef-4163-8f36-0cd11aa5e0b9",
   "metadata": {},
   "outputs": [
    {
     "name": "stdout",
     "output_type": "stream",
     "text": [
      "Circumference of rectangle: 30\n",
      "Area of rectangle: 50\n"
     ]
    }
   ],
   "source": [
    "print('Circumference of rectangle:', rect_width_5_height_10.circumference())\n",
    "print('Area of rectangle:', rect_width_5_height_10.area())"
   ]
  }
 ],
 "metadata": {
  "kernelspec": {
   "display_name": "Python 3 (ipykernel)",
   "language": "python",
   "name": "python3"
  },
  "language_info": {
   "codemirror_mode": {
    "name": "ipython",
    "version": 3
   },
   "file_extension": ".py",
   "mimetype": "text/x-python",
   "name": "python",
   "nbconvert_exporter": "python",
   "pygments_lexer": "ipython3",
   "version": "3.11.7"
  }
 },
 "nbformat": 4,
 "nbformat_minor": 5
}
