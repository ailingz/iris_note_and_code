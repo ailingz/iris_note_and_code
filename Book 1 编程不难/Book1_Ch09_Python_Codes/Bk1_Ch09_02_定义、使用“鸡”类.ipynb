{
 "cells": [
  {
   "cell_type": "markdown",
   "id": "8b1f4c20-2d84-4daa-a792-7fdd7100731e",
   "metadata": {},
   "source": [
    "Book 1  \n",
    "Chapter 9 Object-Oriented Programming in Python\n",
    "### Define & Use the `Chicken` Class"
   ]
  },
  {
   "cell_type": "code",
   "execution_count": 2,
   "id": "43dd25cb-6b31-4bdd-a6e4-0895563453c8",
   "metadata": {
    "tags": []
   },
   "outputs": [],
   "source": [
    "# 创建了一个名为 \"Chicken\" 的类\n",
    "class Chicken:\n",
    "    def __init__(self, name, age, color, weight):\n",
    "    # 初始化对象的属性\n",
    "        # 设置实例变量 self.name 来存储小鸡名字\n",
    "        self.name = name\n",
    "        # 设置实例变量 self.age 来存储小鸡年龄\n",
    "        self.age = age\n",
    "        # 设置实例变量 self.color 来存储小鸡体色\n",
    "        self.color = color\n",
    "        # 设置实例变量 self.weight 来存储小鸡体重\n",
    "        self.weight = weight"
   ]
  },
  {
   "cell_type": "code",
   "execution_count": 3,
   "id": "690d7f64-e551-4072-b45e-50e9d153cdf0",
   "metadata": {
    "tags": []
   },
   "outputs": [],
   "source": [
    "# 调用 Chicken 类\n",
    "chicken_01 = Chicken('小红', 1,   'Yellow', 1.5)\n",
    "chicken_02 = Chicken('小黄', 1.2, 'Red',    2  )"
   ]
  },
  {
   "cell_type": "code",
   "execution_count": 4,
   "id": "c884cee2-b405-47a9-8766-7f0496ec6fb8",
   "metadata": {
    "tags": []
   },
   "outputs": [
    {
     "name": "stdout",
     "output_type": "stream",
     "text": [
      "==Chickens Name   ==   小红\n",
      "==Chickens Age, yr==   1\n",
      "==Chickens Color  ==   Yellow\n",
      "==Chickens Weight ==   1.5\n"
     ]
    }
   ],
   "source": [
    "print('==Chicken''s Name   ==  ', chicken_01.name  )\n",
    "print('==Chicken''s Age, yr==  ', chicken_01.age   )\n",
    "print('==Chicken''s Color  ==  ', chicken_01.color )\n",
    "print('==Chicken''s Weight ==  ', chicken_01.weight)"
   ]
  },
  {
   "cell_type": "code",
   "execution_count": 5,
   "id": "d376b896-8efa-4df5-bae3-b5b7c57b0f52",
   "metadata": {
    "tags": []
   },
   "outputs": [
    {
     "name": "stdout",
     "output_type": "stream",
     "text": [
      "==Chickens Name   ==   小黄\n",
      "==Chickens Age, yr==   1.2\n",
      "==Chickens Color  ==   Red\n",
      "==Chickens Weight ==   2\n"
     ]
    }
   ],
   "source": [
    "print('==Chicken''s Name   ==  ', chicken_02.name  )\n",
    "print('==Chicken''s Age, yr==  ', chicken_02.age   )\n",
    "print('==Chicken''s Color  ==  ', chicken_02.color )\n",
    "print('==Chicken''s Weight ==  ', chicken_02.weight)"
   ]
  }
 ],
 "metadata": {
  "kernelspec": {
   "display_name": "Python 3 (ipykernel)",
   "language": "python",
   "name": "python3"
  },
  "language_info": {
   "codemirror_mode": {
    "name": "ipython",
    "version": 3
   },
   "file_extension": ".py",
   "mimetype": "text/x-python",
   "name": "python",
   "nbconvert_exporter": "python",
   "pygments_lexer": "ipython3",
   "version": "3.11.7"
  }
 },
 "nbformat": 4,
 "nbformat_minor": 5
}
