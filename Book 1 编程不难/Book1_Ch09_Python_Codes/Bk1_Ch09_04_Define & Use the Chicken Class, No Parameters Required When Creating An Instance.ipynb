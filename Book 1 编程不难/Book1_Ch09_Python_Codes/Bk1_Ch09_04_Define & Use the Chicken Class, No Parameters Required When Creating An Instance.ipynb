{
 "cells": [
  {
   "cell_type": "markdown",
   "id": "04a49897-d6c6-4ddd-b11c-11b21cf3fffd",
   "metadata": {},
   "source": [
    "Book 1  \n",
    "Chapter 9 Object-Oriented Programming in Python\n",
    "### 定义、使用“鸡”类，创建实例时不需要参数"
   ]
  },
  {
   "cell_type": "code",
   "execution_count": 2,
   "id": "308b4de3-94f1-4435-9c6c-11a5739f62e7",
   "metadata": {},
   "outputs": [],
   "source": [
    "# 创建了一个名为 \"Chicken\" 的类\n",
    "class Chicken:\n",
    "    def __init__(self):\n",
    "        # 初始化对象的属性\n",
    "        # 设置实例变量 self.name 来存储小鸡名字的参数\n",
    "        self.name = ''\n",
    "        # 设置实例变量 self.age 来存储小鸡名字的年龄\n",
    "        self.age = ''\n",
    "        # 设置实例变量 self.color 来存储小鸡名字的颜色\n",
    "        self.color = ''\n",
    "        # 设置实例变量 self.weight 来存储小鸡名字的体重\n",
    "        self.weight = ''"
   ]
  },
  {
   "cell_type": "code",
   "execution_count": 3,
   "id": "1d1e8db8-2b4d-47da-99b5-6a6730fcb081",
   "metadata": {},
   "outputs": [],
   "source": [
    "# 调用 Chicken 类，然后赋值\n",
    "chicken_01 = Chicken()"
   ]
  },
  {
   "cell_type": "code",
   "execution_count": 4,
   "id": "fc4b4cb2-a21d-4f4a-af22-5670efb5116d",
   "metadata": {},
   "outputs": [],
   "source": [
    "chicken_01.name = '小红'\n",
    "chicken_01.age = 1\n",
    "chicken_01.color = 'Yellow'\n",
    "chicken_01.weight = 1.5"
   ]
  },
  {
   "cell_type": "code",
   "execution_count": 5,
   "id": "64135b51-df1c-4db8-9268-bdae0c41049a",
   "metadata": {},
   "outputs": [
    {
     "name": "stdout",
     "output_type": "stream",
     "text": [
      "==Chickens Name    ==  小红\n",
      "==Chickens Age, yr ==  1\n",
      "==Chickens Color   ==  Yellow\n",
      "==Chickens Weight  ==  1.5\n"
     ]
    }
   ],
   "source": [
    "print('==Chicken''s Name    == ', chicken_01.name )\n",
    "print('==Chicken''s Age, yr == ', chicken_01.age  )\n",
    "print('==Chicken''s Color   == ', chicken_01.color)\n",
    "print('==Chicken''s Weight  == ', chicken_01.weight)"
   ]
  }
 ],
 "metadata": {
  "kernelspec": {
   "display_name": "Python 3 (ipykernel)",
   "language": "python",
   "name": "python3"
  },
  "language_info": {
   "codemirror_mode": {
    "name": "ipython",
    "version": 3
   },
   "file_extension": ".py",
   "mimetype": "text/x-python",
   "name": "python",
   "nbconvert_exporter": "python",
   "pygments_lexer": "ipython3",
   "version": "3.11.7"
  }
 },
 "nbformat": 4,
 "nbformat_minor": 5
}
