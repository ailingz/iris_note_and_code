{
 "cells": [
  {
   "cell_type": "markdown",
   "id": "459a5c21-8833-4f2f-b580-749bf847eb07",
   "metadata": {},
   "source": [
    "Book 1  \n",
    "Chapter 9 Object-Oriented Programming in Python\n",
    "### Define & Use the Parent Class `Animal` & Child Class `Chicken`/`Rabbit`/`Pig`"
   ]
  },
  {
   "cell_type": "code",
   "execution_count": 2,
   "id": "a05a020e-06d0-4552-9a47-adc9076dbe4f",
   "metadata": {
    "tags": []
   },
   "outputs": [],
   "source": [
    "# 父类，动物\n",
    "class Animal:\n",
    "    def __init__(self, name, age):\n",
    "        self.name = name\n",
    "        self.age = age\n",
    "\n",
    "    def eat(self):\n",
    "        print(f'{self.name} is eating.')\n",
    "\n",
    "    def sleep(self):\n",
    "        print(f'{self.name} is sleeping.')"
   ]
  },
  {
   "cell_type": "code",
   "execution_count": 3,
   "id": "6a0e6e60-b3e4-402c-8cef-5d751be80ab8",
   "metadata": {
    "tags": []
   },
   "outputs": [],
   "source": [
    "# 子类，鸡\n",
    "class Chicken(Animal):\n",
    "    def __init__(self, name, age, color):\n",
    "        super().__init__(name, age)\n",
    "        self.color = color\n",
    "\n",
    "    def lay_egg(self):\n",
    "        print(f'{self.name} is laying an egg.')"
   ]
  },
  {
   "cell_type": "code",
   "execution_count": 4,
   "id": "e44ac72e-4770-4770-8cc9-87c219396fa4",
   "metadata": {
    "tags": []
   },
   "outputs": [],
   "source": [
    "# 子类，兔\n",
    "class Rabbit(Animal):\n",
    "    def __init__(self, name, age, speed):\n",
    "        super().__init__(name, age)\n",
    "        self.speed = speed\n",
    "\n",
    "    def jump(self):\n",
    "        print(f'{self.name} is jumping.')"
   ]
  },
  {
   "cell_type": "code",
   "execution_count": 5,
   "id": "803818ef-f01f-403f-a2a6-92cc6b8732de",
   "metadata": {
    "tags": []
   },
   "outputs": [],
   "source": [
    "# 子类，猪\n",
    "class Pig(Animal):\n",
    "    def __init__(self, name, age, weight):\n",
    "        super().__init__(name, age)\n",
    "        self.weight = weight\n",
    "\n",
    "    def roll(self):\n",
    "        print(f'{self.name} is rolling around.')"
   ]
  },
  {
   "cell_type": "code",
   "execution_count": 6,
   "id": "ac428fca-0b7e-4c02-b363-8f52effbcf72",
   "metadata": {
    "tags": []
   },
   "outputs": [
    {
     "name": "stdout",
     "output_type": "stream",
     "text": [
      "chicken1 is eating.\n",
      "chicken1 is laying an egg.\n"
     ]
    }
   ],
   "source": [
    "chicken1 = Chicken('chicken1', 1, 'white')\n",
    "chicken1.eat()\n",
    "chicken1.lay_egg()"
   ]
  },
  {
   "cell_type": "code",
   "execution_count": 7,
   "id": "fb82ecf7-ab06-4714-8010-464e0ad011ec",
   "metadata": {
    "tags": []
   },
   "outputs": [
    {
     "name": "stdout",
     "output_type": "stream",
     "text": [
      "rabbit1 is sleeping.\n",
      "rabbit1 is jumping.\n"
     ]
    }
   ],
   "source": [
    "rabbit1 = Rabbit('rabbit1', 2, 10)\n",
    "rabbit1.sleep()\n",
    "rabbit1.jump()"
   ]
  },
  {
   "cell_type": "code",
   "execution_count": 8,
   "id": "0a1f34aa-12a7-4437-8cdd-9492ccbd9fea",
   "metadata": {
    "tags": []
   },
   "outputs": [
    {
     "name": "stdout",
     "output_type": "stream",
     "text": [
      "pig1 is eating.\n",
      "pig1 is rolling around.\n"
     ]
    }
   ],
   "source": [
    "pig1 = Pig('pig1', 3, 100)\n",
    "pig1.eat();\n",
    "pig1.roll()"
   ]
  }
 ],
 "metadata": {
  "kernelspec": {
   "display_name": "Python 3 (ipykernel)",
   "language": "python",
   "name": "python3"
  },
  "language_info": {
   "codemirror_mode": {
    "name": "ipython",
    "version": 3
   },
   "file_extension": ".py",
   "mimetype": "text/x-python",
   "name": "python",
   "nbconvert_exporter": "python",
   "pygments_lexer": "ipython3",
   "version": "3.11.7"
  }
 },
 "nbformat": 4,
 "nbformat_minor": 5
}
