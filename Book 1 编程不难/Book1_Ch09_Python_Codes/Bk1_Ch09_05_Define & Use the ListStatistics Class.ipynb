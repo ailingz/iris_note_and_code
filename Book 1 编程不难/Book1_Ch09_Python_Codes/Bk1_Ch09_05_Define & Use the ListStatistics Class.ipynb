{
 "cells": [
  {
   "cell_type": "markdown",
   "id": "341d0771-65a2-40f4-a2c5-dbc9dc9efa06",
   "metadata": {},
   "source": [
    "Book 1  \n",
    "Chapter 9 Object-Oriented Programming in Python\n",
    "### 定义、使用“列表统计量”类"
   ]
  },
  {
   "cell_type": "code",
   "execution_count": 2,
   "id": "65c64c02-b35e-48e0-80e8-78548cec3991",
   "metadata": {},
   "outputs": [],
   "source": [
    "# 创建 ListStatistics 类\n",
    "class ListStatistics:\n",
    "    # 构造函数，用于初始化属性\n",
    "    def __init__(self, data): # ListStatistics 包含一个 data 属性来存储浮点数列表\n",
    "        self.data = data\n",
    "\n",
    "    # 下面定义了4个方法\n",
    "    # 方法1：计算列表的长度，即元素的数量\n",
    "    def list_length(self):\n",
    "        return len(self.data)\n",
    "\n",
    "    # 方法2：计算列表元素之和\n",
    "    def list_sum(self):\n",
    "        return sum(self.data)\n",
    "\n",
    "    # 方法3：计算列表元素平均值\n",
    "    def list_mean(self):\n",
    "        return sum(self.data) / self.list_length()\n",
    "\n",
    "    # 方法4：计算列表元素方差\n",
    "    def list_variance(self, ddof=1):\n",
    "        # Delta 自由度 ddof 默认为 1；无偏样本方差\n",
    "        sum_squares = sum((x_i - self.list_mean()) ** 2 for x_i in self.data)\n",
    "        return sum_squares / (self.list_length() - ddof)"
   ]
  },
  {
   "cell_type": "code",
   "execution_count": 3,
   "id": "64425c42-edac-428e-9bc9-c8021db70d78",
   "metadata": {},
   "outputs": [],
   "source": [
    "# 创建一个浮点数列表\n",
    "data = [8.8, 1.8, 7.8, 3.8, 2.8, 5.6, 3.9, 6.9]"
   ]
  },
  {
   "cell_type": "code",
   "execution_count": 4,
   "id": "9a931044-b598-49de-ba8b-2408ca5e3133",
   "metadata": {},
   "outputs": [],
   "source": [
    "# 创建 ListStatistics 对象实例\n",
    "float_list = ListStatistics(data)"
   ]
  },
  {
   "cell_type": "code",
   "execution_count": 5,
   "id": "4c7607a2-0405-4926-a461-57efd60a1a7b",
   "metadata": {},
   "outputs": [
    {
     "name": "stdout",
     "output_type": "stream",
     "text": [
      "Length of the list: 8\n"
     ]
    }
   ],
   "source": [
    "# 使用 float_list 对象计算列表长度\n",
    "print('Length of the list:', float_list.list_length())"
   ]
  },
  {
   "cell_type": "code",
   "execution_count": 6,
   "id": "bc33d2c6-772c-4ce5-93f5-a7a83ce3b699",
   "metadata": {},
   "outputs": [
    {
     "name": "stdout",
     "output_type": "stream",
     "text": [
      "Sum of the list: 41.4\n"
     ]
    }
   ],
   "source": [
    "# 使用 float_list 对象计算列表和\n",
    "print('Sum of the list:', float_list.list_sum())"
   ]
  },
  {
   "cell_type": "code",
   "execution_count": 7,
   "id": "e206810e-6fc1-4ce1-92be-94a2e96a76ae",
   "metadata": {},
   "outputs": [
    {
     "name": "stdout",
     "output_type": "stream",
     "text": [
      "Average of the list: 5.175\n"
     ]
    }
   ],
   "source": [
    "# 使用 float_list 对象计算列表平均值\n",
    "print('Average of the list:', float_list.list_mean())"
   ]
  },
  {
   "cell_type": "code",
   "execution_count": 8,
   "id": "fd791f2e-0eaf-4c11-8208-0b5a178a880d",
   "metadata": {},
   "outputs": [
    {
     "name": "stdout",
     "output_type": "stream",
     "text": [
      "Variance of the list: 6.247857142857144\n",
      "Variance (ddof=0) of the list: 5.466875000000001\n"
     ]
    }
   ],
   "source": [
    "# 使用 float_list 对象计算列表方差\n",
    "print('Variance of the list:', float_list.list_variance()) # Sample variance\n",
    "print('Variance (ddof=0) of the list:', float_list.list_variance(0)) # Population variance"
   ]
  }
 ],
 "metadata": {
  "kernelspec": {
   "display_name": "Python 3 (ipykernel)",
   "language": "python",
   "name": "python3"
  },
  "language_info": {
   "codemirror_mode": {
    "name": "ipython",
    "version": 3
   },
   "file_extension": ".py",
   "mimetype": "text/x-python",
   "name": "python",
   "nbconvert_exporter": "python",
   "pygments_lexer": "ipython3",
   "version": "3.11.7"
  }
 },
 "nbformat": 4,
 "nbformat_minor": 5
}
