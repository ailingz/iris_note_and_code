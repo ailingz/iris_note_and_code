{
 "cells": [
  {
   "cell_type": "markdown",
   "id": "3e8c1c92-8f9f-4a59-b437-105fd38a7f06",
   "metadata": {},
   "source": [
    "Book 1  \n",
    "Chapter 9 Object-Oriented Programming in Python\n",
    "### Define & Use the `Rectangle` Class\n",
    "\n",
    "定义了一个名为 `Rectangle` 的类，它具有构造函数来初始化矩形的宽度和高度，并提供了两个方法来计算矩形的周长和面积"
   ]
  },
  {
   "cell_type": "code",
   "execution_count": 2,
   "id": "4dd53177-9abb-48d2-b763-a2f700d8da29",
   "metadata": {
    "tags": []
   },
   "outputs": [],
   "source": [
    "# 定义一个名为 Rectangle 的类\n",
    "class Rectangle: # class 定义一个类，类是一种数据结构，包含属性和方法，用于创建实例对象\n",
    "\n",
    "    # 创建 Rectangle 对象时执行一些初始化工作\n",
    "    def __init__(self, width, height): # def __init__ 用于初始化对象的属性，在对象创建时自动调用 Constructor\n",
    "        # 设置实例变量 self.width 来存储传入的宽度参数\n",
    "        self.width = width # self 表示当前对象的引用，用于访问对象的属性和调用对象的方法\n",
    "        # 设置实例变量 self.height 来存储传入的高度参数\n",
    "        self.height = height\n",
    "\n",
    "    # 定义一个名为 circumference 的方法，用于计算矩形的周长\n",
    "    def circumference(self):\n",
    "        # 返回矩形的周长，计算公式为 2*(宽度 + 高度)\n",
    "        return 2 * (self.width + self.height)\n",
    "\n",
    "    # 定义一个名为 area 的方法，用于计算矩形的面积\n",
    "    def area(self):\n",
    "        # 返回矩形的面积，计算公式为 宽度 * 高度\n",
    "        return self.width * self.height"
   ]
  },
  {
   "cell_type": "code",
   "execution_count": 3,
   "id": "bbd90684-b59f-4668-a235-1a865f102f1d",
   "metadata": {
    "tags": []
   },
   "outputs": [],
   "source": [
    "# 使用 Rectangle 类\n",
    "# 定义矩形，宽5，高10\n",
    "rect_width_5_height_10 = Rectangle(5, 10)"
   ]
  },
  {
   "cell_type": "code",
   "execution_count": 4,
   "id": "91f7d626-a816-4f04-a747-c74ff056dd34",
   "metadata": {
    "tags": []
   },
   "outputs": [
    {
     "name": "stdout",
     "output_type": "stream",
     "text": [
      "Width of rectangle: 5\n"
     ]
    }
   ],
   "source": [
    "print('Width of rectangle:', rect_width_5_height_10.width)"
   ]
  },
  {
   "cell_type": "code",
   "execution_count": 5,
   "id": "f02a72a8-d5eb-49e8-ae25-ce6f9fbd2c33",
   "metadata": {
    "tags": []
   },
   "outputs": [
    {
     "name": "stdout",
     "output_type": "stream",
     "text": [
      "Height of rectangle: 10\n"
     ]
    }
   ],
   "source": [
    "print('Height of rectangle:', rect_width_5_height_10.height)"
   ]
  },
  {
   "cell_type": "code",
   "execution_count": 6,
   "id": "f4d0e98a-19fb-4b5f-b981-f8c51694de0a",
   "metadata": {
    "tags": []
   },
   "outputs": [
    {
     "name": "stdout",
     "output_type": "stream",
     "text": [
      "Circumference of rectangle: 30\n"
     ]
    }
   ],
   "source": [
    "print('Circumference of rectangle:', rect_width_5_height_10.circumference())"
   ]
  },
  {
   "cell_type": "code",
   "execution_count": 7,
   "id": "e6085f74-2c13-49d3-809a-5cad4d92d682",
   "metadata": {
    "tags": []
   },
   "outputs": [
    {
     "name": "stdout",
     "output_type": "stream",
     "text": [
      "Area of rectangle: 50\n"
     ]
    }
   ],
   "source": [
    "print('Area of rectangle:', rect_width_5_height_10.area())"
   ]
  }
 ],
 "metadata": {
  "kernelspec": {
   "display_name": "Python 3 (ipykernel)",
   "language": "python",
   "name": "python3"
  },
  "language_info": {
   "codemirror_mode": {
    "name": "ipython",
    "version": 3
   },
   "file_extension": ".py",
   "mimetype": "text/x-python",
   "name": "python",
   "nbconvert_exporter": "python",
   "pygments_lexer": "ipython3",
   "version": "3.11.7"
  }
 },
 "nbformat": 4,
 "nbformat_minor": 5
}
