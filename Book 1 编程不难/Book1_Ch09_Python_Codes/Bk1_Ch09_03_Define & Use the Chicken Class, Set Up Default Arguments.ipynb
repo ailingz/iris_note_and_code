{
 "cells": [
  {
   "cell_type": "markdown",
   "id": "b9548ebe-13a2-4242-9d59-a9d89b90fd99",
   "metadata": {},
   "source": [
    "Book 1  \n",
    "Chapter 9 Object-Oriented Programming in Python\n",
    "### 定义、使用“鸡”类，设置默认参数变量"
   ]
  },
  {
   "cell_type": "code",
   "execution_count": 2,
   "id": "0fe54327-7eef-4c03-8f24-26bd5df24f39",
   "metadata": {},
   "outputs": [],
   "source": [
    "# 创建了一个名为 \"Chicken\" 的类\n",
    "class Chicken:\n",
    "    def __init__(self, name, age, color='Yellow', weight='2'):\n",
    "        # 初始化对象的属性；毛色默认 '黄色'，体重默认 2 (kg)\n",
    "        # 设置实例变量 self.name 来存储小鸡名字\n",
    "        self.name = name\n",
    "        # 设置实例变量 self.age 来存储小鸡年龄\n",
    "        self.age = age\n",
    "        # 设置实例变量 self.color 来存储小鸡体色\n",
    "        self.color = color\n",
    "        # 设置实例变量 self.weight 来存储小鸡体重\n",
    "        self.weight = weight"
   ]
  },
  {
   "cell_type": "code",
   "execution_count": 3,
   "id": "7c77a159-5d72-4a84-9f76-354f4caaf8b2",
   "metadata": {},
   "outputs": [],
   "source": [
    "# 调用 Chicken 类\n",
    "chicken_01 = Chicken(name='小红', age=1, color='White') # 覆盖默认 color"
   ]
  },
  {
   "cell_type": "code",
   "execution_count": 4,
   "id": "59d0df18-2d35-4bea-b17c-c34cc3ff89ac",
   "metadata": {},
   "outputs": [
    {
     "name": "stdout",
     "output_type": "stream",
     "text": [
      "==Chickens Name    ==  小红\n",
      "==Chickens Age, yr ==  1\n",
      "==Chickens Color   ==  White\n",
      "==Chickens Weight  ==  2\n"
     ]
    }
   ],
   "source": [
    "print('==Chicken''s Name    == ', chicken_01.name )\n",
    "print('==Chicken''s Age, yr == ', chicken_01.age  )\n",
    "print('==Chicken''s Color   == ', chicken_01.color)\n",
    "print('==Chicken''s Weight  == ', chicken_01.weight)"
   ]
  },
  {
   "cell_type": "code",
   "execution_count": 5,
   "id": "820901d1-e494-48ba-97b0-cd902e35ddd1",
   "metadata": {},
   "outputs": [],
   "source": [
    "chicken_01.weight = 1.5"
   ]
  },
  {
   "cell_type": "code",
   "execution_count": 6,
   "id": "0975a5cd-b141-4738-9258-42ffe2097b2b",
   "metadata": {},
   "outputs": [
    {
     "name": "stdout",
     "output_type": "stream",
     "text": [
      "==Chickens Name    ==  小红\n",
      "==Chickens Age, yr ==  1\n",
      "==Chickens Color   ==  White\n",
      "==Chickens Weight  ==  1.5\n"
     ]
    }
   ],
   "source": [
    "print('==Chicken''s Name    == ', chicken_01.name )\n",
    "print('==Chicken''s Age, yr == ', chicken_01.age  )\n",
    "print('==Chicken''s Color   == ', chicken_01.color)\n",
    "print('==Chicken''s Weight  == ', chicken_01.weight)"
   ]
  }
 ],
 "metadata": {
  "kernelspec": {
   "display_name": "Python 3 (ipykernel)",
   "language": "python",
   "name": "python3"
  },
  "language_info": {
   "codemirror_mode": {
    "name": "ipython",
    "version": 3
   },
   "file_extension": ".py",
   "mimetype": "text/x-python",
   "name": "python",
   "nbconvert_exporter": "python",
   "pygments_lexer": "ipython3",
   "version": "3.11.7"
  }
 },
 "nbformat": 4,
 "nbformat_minor": 5
}
