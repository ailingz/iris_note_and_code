{
 "cells": [
  {
   "cell_type": "markdown",
   "id": "622194a0-85a4-494d-8b53-d2f29e83b4e5",
   "metadata": {},
   "source": [
    "Book 1  \n",
    "Chapter 9 Object-Oriented Programming in Python\n",
    "### Define & Use the `Chicken` Class, Set Up Default Auguments"
   ]
  },
  {
   "cell_type": "code",
   "execution_count": 2,
   "id": "923ac7f5-f024-4e83-8795-953287b209d4",
   "metadata": {
    "tags": []
   },
   "outputs": [],
   "source": [
    "# 创建了一个名为 \"Chicken\" 的类\n",
    "class Chicken:\n",
    "    def __init__(self, name, age, color='Yellow', weight='2'):\n",
    "    # 初始化对象的属性；毛色默认 '黄色'，体重默认 2 (kg)\n",
    "        # 设置实例变量 self.name 来存储小鸡名字的参数\n",
    "        self.name = name\n",
    "        # 设置实例变量 self.age 来存储小鸡名字的年龄\n",
    "        self.age = age\n",
    "        # 设置实例变量 self.color 来存储小鸡名字的颜色\n",
    "        self.color = color\n",
    "        # 设置实例变量 self.weight 来存储小鸡名字的体重\n",
    "        self.weight = weight"
   ]
  },
  {
   "cell_type": "code",
   "execution_count": 3,
   "id": "08abdb63-ba21-45aa-8e2e-43f670737899",
   "metadata": {
    "tags": []
   },
   "outputs": [],
   "source": [
    "# 调用 Chicken 类\n",
    "chicken_01 = Chicken(name='小红', age=1, color='White') # 覆盖默认 color"
   ]
  },
  {
   "cell_type": "code",
   "execution_count": 4,
   "id": "4e291555-2ed0-44fb-b3f5-57b7930c5807",
   "metadata": {
    "tags": []
   },
   "outputs": [
    {
     "name": "stdout",
     "output_type": "stream",
     "text": [
      "==Chickens Name   ==   小红\n",
      "==Chickens Age, yr==   1\n",
      "==Chickens Color  ==   White\n",
      "==Chickens Weight ==   2\n"
     ]
    }
   ],
   "source": [
    "print('==Chicken''s Name   ==  ', chicken_01.name  )\n",
    "print('==Chicken''s Age, yr==  ', chicken_01.age   )\n",
    "print('==Chicken''s Color  ==  ', chicken_01.color )\n",
    "print('==Chicken''s Weight ==  ', chicken_01.weight)"
   ]
  },
  {
   "cell_type": "code",
   "execution_count": 5,
   "id": "523b1e35-9abc-4b45-9737-16bd4a526f36",
   "metadata": {
    "tags": []
   },
   "outputs": [],
   "source": [
    "chicken_01.weight = 1.5"
   ]
  },
  {
   "cell_type": "code",
   "execution_count": 6,
   "id": "a801fe01-912c-4595-91d7-2cbf727a1148",
   "metadata": {},
   "outputs": [
    {
     "name": "stdout",
     "output_type": "stream",
     "text": [
      "==Chickens Name   ==   小红\n",
      "==Chickens Age, yr==   1\n",
      "==Chickens Color  ==   White\n",
      "==Chickens Weight ==   1.5\n"
     ]
    }
   ],
   "source": [
    "print('==Chicken''s Name   ==  ', chicken_01.name  )\n",
    "print('==Chicken''s Age, yr==  ', chicken_01.age   )\n",
    "print('==Chicken''s Color  ==  ', chicken_01.color )\n",
    "print('==Chicken''s Weight ==  ', chicken_01.weight)"
   ]
  }
 ],
 "metadata": {
  "kernelspec": {
   "display_name": "Python 3 (ipykernel)",
   "language": "python",
   "name": "python3"
  },
  "language_info": {
   "codemirror_mode": {
    "name": "ipython",
    "version": 3
   },
   "file_extension": ".py",
   "mimetype": "text/x-python",
   "name": "python",
   "nbconvert_exporter": "python",
   "pygments_lexer": "ipython3",
   "version": "3.11.7"
  }
 },
 "nbformat": 4,
 "nbformat_minor": 5
}
