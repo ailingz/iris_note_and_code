{
 "cells": [
  {
   "cell_type": "markdown",
   "id": "9c2272a0-5509-4d40-9174-df73b33e4448",
   "metadata": {},
   "source": [
    "Book 1  \n",
    "Chapter 9 Object-Oriented Programming in Python\n",
    "### 定义、使用父类 (动物)、子类 (鸡、兔、猪)"
   ]
  },
  {
   "cell_type": "code",
   "execution_count": 2,
   "id": "691c68d9-e8f0-48bc-b910-6e5c9eb13fdd",
   "metadata": {},
   "outputs": [],
   "source": [
    "# 父类，动物\n",
    "class Animal:\n",
    "    def __init__(self, name, age):\n",
    "        self.name = name\n",
    "        self.age = age\n",
    "\n",
    "    def eat(self):\n",
    "        print(f'{self.name} is eating.')\n",
    "\n",
    "    def sleep(self):\n",
    "        print(f'{self.name} is sleeping.')"
   ]
  },
  {
   "cell_type": "code",
   "execution_count": 3,
   "id": "578067fa-e44f-4d28-a0f5-bb49a3413a93",
   "metadata": {},
   "outputs": [],
   "source": [
    "# 子类，鸡\n",
    "class Chicken(Animal):\n",
    "    def __init__(self, name, age, color):\n",
    "        super().__init__(name, age) # super().__init__() 调用父类的构造方法，用于在子类的构造方法中初始化父类的属性\n",
    "        self.color = color\n",
    "\n",
    "    def lay_egg(self):\n",
    "        print(f'{self.name} is laying an egg.')"
   ]
  },
  {
   "cell_type": "code",
   "execution_count": 4,
   "id": "9c76938c-ec32-4d93-83d0-4a66fedbc50c",
   "metadata": {},
   "outputs": [],
   "source": [
    "# 子类，兔\n",
    "class Rabbit(Animal):\n",
    "    def __init__(self, name, age, speed):\n",
    "        super().__init__(name, age)\n",
    "        self.speed = speed\n",
    "\n",
    "    def jump(self):\n",
    "        print(f'{self.name} is jumping.')"
   ]
  },
  {
   "cell_type": "code",
   "execution_count": 5,
   "id": "3b95e107-ab4f-45eb-8037-16cd42bd9f47",
   "metadata": {},
   "outputs": [],
   "source": [
    "# 子类，猪\n",
    "class Pig(Animal):\n",
    "    def __init__(self, name, age, weight):\n",
    "        super().__init__(name, age)\n",
    "        self.weight = weight\n",
    "\n",
    "    def roll(self):\n",
    "        print(f'{self.name} is rolling around.')"
   ]
  },
  {
   "cell_type": "code",
   "execution_count": 6,
   "id": "7529f646-5a8d-475a-8a09-80706b79c0a4",
   "metadata": {},
   "outputs": [
    {
     "name": "stdout",
     "output_type": "stream",
     "text": [
      "chicken1 is eating.\n",
      "chicken1 is laying an egg.\n"
     ]
    }
   ],
   "source": [
    "chicken1 = Chicken('chicken1', 1, 'white')\n",
    "chicken1.eat()\n",
    "chicken1.lay_egg()"
   ]
  },
  {
   "cell_type": "code",
   "execution_count": 7,
   "id": "77041eba-04af-4a7f-920e-8624b6d4616d",
   "metadata": {},
   "outputs": [
    {
     "name": "stdout",
     "output_type": "stream",
     "text": [
      "rabbit1 is sleeping.\n",
      "rabbit1 is jumping.\n"
     ]
    }
   ],
   "source": [
    "rabbit1 = Rabbit('rabbit1', 2, 10)\n",
    "rabbit1.sleep()\n",
    "rabbit1.jump()"
   ]
  },
  {
   "cell_type": "code",
   "execution_count": 8,
   "id": "ca1fddf7-e478-4809-86b4-8080d644ee1a",
   "metadata": {},
   "outputs": [
    {
     "name": "stdout",
     "output_type": "stream",
     "text": [
      "pig1 is eating.\n",
      "pig1 is rolling around.\n"
     ]
    }
   ],
   "source": [
    "pig1 = Pig('pig1', 3, 100)\n",
    "pig1.eat()\n",
    "pig1.roll()"
   ]
  }
 ],
 "metadata": {
  "kernelspec": {
   "display_name": "Python 3 (ipykernel)",
   "language": "python",
   "name": "python3"
  },
  "language_info": {
   "codemirror_mode": {
    "name": "ipython",
    "version": 3
   },
   "file_extension": ".py",
   "mimetype": "text/x-python",
   "name": "python",
   "nbconvert_exporter": "python",
   "pygments_lexer": "ipython3",
   "version": "3.11.7"
  }
 },
 "nbformat": 4,
 "nbformat_minor": 5
}
