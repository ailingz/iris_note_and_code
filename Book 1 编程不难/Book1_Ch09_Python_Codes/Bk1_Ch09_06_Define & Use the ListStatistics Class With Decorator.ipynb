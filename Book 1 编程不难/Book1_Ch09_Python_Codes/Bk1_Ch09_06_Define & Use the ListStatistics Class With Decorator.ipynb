{
 "cells": [
  {
   "cell_type": "markdown",
   "id": "71b4871f-fcf4-4c5f-b176-5bf2f5b5aa68",
   "metadata": {},
   "source": [
    "Book 1  \n",
    "Chapter 9 Object-Oriented Programming in Python\n",
    "### 定义、使用“列表统计量”类，使用装饰器"
   ]
  },
  {
   "cell_type": "code",
   "execution_count": 2,
   "id": "bd49c9b7-888e-499c-9597-04616bd672c2",
   "metadata": {},
   "outputs": [],
   "source": [
    "# 定义了一个 ListStatistics 类\n",
    "class ListStatistics:\n",
    "    # 构造函数，用于初始化属性\n",
    "    def __init__(self):\n",
    "        self.data = []\n",
    "\n",
    "    @property # 用于将一个方法转换为只读属性，可以像访问属性一样访问该方法，而无需使用括号调用它\n",
    "    # @property 将方法转换为只读属性\n",
    "    def data(self):\n",
    "        return self._data\n",
    "\n",
    "    @data.setter # 用于在 @property 装饰的方法后定义一个 setter 方法，这样可以在设置属性时执行一些逻辑或验证，对属性的赋值进行控制\n",
    "    # setter 设置属性时执行一些逻辑或验证\n",
    "    def data(self, new_list):\n",
    "        if self._are_all_numeric(new_list):\n",
    "            self._data = new_list\n",
    "        else:\n",
    "            print('错误：列表中元素必须全部是数值')\n",
    "\n",
    "    @classmethod # 用于定义类方法。类方法是在类上而不是在实例上调用的方法\n",
    "    # 不同于 self，类方法的第一个参数通常被命名为 cls，它表示类本身而不是实例\n",
    "    # 简单来说，cls 是一个约定俗成的名字，表示类本身，而不是类的实例\n",
    "    # @classmethod 装饰器用于定义类方法\n",
    "    # 逐个判断列表所有元素是否都是数值\n",
    "    def _are_all_numeric(cls, input_list):\n",
    "        for element in input_list:\n",
    "            if not isinstance(element, (int, float)):\n",
    "                return False\n",
    "        return True"
   ]
  },
  {
   "cell_type": "code",
   "execution_count": 3,
   "id": "615b706c-6068-42b5-83d1-868b70a212bf",
   "metadata": {},
   "outputs": [],
   "source": [
    "# 创建一个浮点数列表\n",
    "data = [8.8, 1.8, 7.8, 3.8, 2.8, 5.6, '3.9', 6.9]"
   ]
  },
  {
   "cell_type": "code",
   "execution_count": 4,
   "id": "1c980052-3387-4979-8d6b-e6dc0c968ef8",
   "metadata": {},
   "outputs": [],
   "source": [
    "# 创建实例\n",
    "float_list_obj = ListStatistics()"
   ]
  },
  {
   "cell_type": "code",
   "execution_count": 5,
   "id": "e22a2ec3-bd9b-4051-891a-bc63d28fcb6f",
   "metadata": {},
   "outputs": [
    {
     "name": "stdout",
     "output_type": "stream",
     "text": [
      "错误：列表中元素必须全部是数值\n"
     ]
    }
   ],
   "source": [
    "# 尝试设置含非数值元素的列表，会输出错误消息\n",
    "float_list_obj.data = data"
   ]
  }
 ],
 "metadata": {
  "kernelspec": {
   "display_name": "Python 3 (ipykernel)",
   "language": "python",
   "name": "python3"
  },
  "language_info": {
   "codemirror_mode": {
    "name": "ipython",
    "version": 3
   },
   "file_extension": ".py",
   "mimetype": "text/x-python",
   "name": "python",
   "nbconvert_exporter": "python",
   "pygments_lexer": "ipython3",
   "version": "3.11.7"
  }
 },
 "nbformat": 4,
 "nbformat_minor": 5
}
