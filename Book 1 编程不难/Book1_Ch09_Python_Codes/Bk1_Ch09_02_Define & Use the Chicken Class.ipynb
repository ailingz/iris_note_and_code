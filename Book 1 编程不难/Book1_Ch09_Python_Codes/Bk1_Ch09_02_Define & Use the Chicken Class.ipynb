{
 "cells": [
  {
   "cell_type": "markdown",
   "id": "c81b6c76-8acb-4932-be70-a2678f869bd3",
   "metadata": {},
   "source": [
    "Book 1  \n",
    "Chapter 9 Object-Oriented Programming in Python\n",
    "### 定义、使用“鸡”类"
   ]
  },
  {
   "cell_type": "code",
   "execution_count": 2,
   "id": "dcec324d-acd3-42aa-9205-d9101e6ea5e6",
   "metadata": {},
   "outputs": [],
   "source": [
    "# 创建了一个名为 \"Chicken\" 的类\n",
    "class Chicken:\n",
    "    def __init__(self, name, age, color, weight):\n",
    "        # 初始化对象的属性\n",
    "        # 设置实例变量 self.name 来存储小鸡名字\n",
    "        self.name = name\n",
    "        # 设置实例变量 self.age 来存储小鸡年龄\n",
    "        self.age = age\n",
    "        # 设置实例变量 self.color 来存储小鸡体色\n",
    "        self.color = color\n",
    "        # 设置实例变量 self.weight 来存储小鸡体重\n",
    "        self.weight = weight"
   ]
  },
  {
   "cell_type": "code",
   "execution_count": 3,
   "id": "2ea88812-99ce-4ee3-a05e-b8297a8226f6",
   "metadata": {},
   "outputs": [],
   "source": [
    "# 调用 Chicken 类\n",
    "chicken_01 = Chicken('小红', 1,   'Yellow', 1.5)\n",
    "chicken_02 = Chicken('小黄', 1.2, 'Red',    2  )"
   ]
  },
  {
   "cell_type": "code",
   "execution_count": 4,
   "id": "cf57fb79-19a1-4009-892d-89c49cb676d3",
   "metadata": {},
   "outputs": [
    {
     "name": "stdout",
     "output_type": "stream",
     "text": [
      "==Chickens Name    ==  小红\n",
      "==Chickens Age, yr ==  1\n",
      "==Chickens Color   ==  Yellow\n",
      "==Chickens Weight  ==  1.5\n"
     ]
    }
   ],
   "source": [
    "print('==Chicken''s Name    == ', chicken_01.name )\n",
    "print('==Chicken''s Age, yr == ', chicken_01.age  )\n",
    "print('==Chicken''s Color   == ', chicken_01.color)\n",
    "print('==Chicken''s Weight  == ', chicken_01.weight)"
   ]
  },
  {
   "cell_type": "code",
   "execution_count": 5,
   "id": "6c14a7d2-50b9-4e73-936a-6ee9d3207d8e",
   "metadata": {},
   "outputs": [
    {
     "name": "stdout",
     "output_type": "stream",
     "text": [
      "==Chickens Name    ==  小黄\n",
      "==Chickens Age, yr ==  1.2\n",
      "==Chickens Color   ==  Red\n",
      "==Chickens Weight  ==  2\n"
     ]
    }
   ],
   "source": [
    "print('==Chicken''s Name    == ', chicken_02.name )\n",
    "print('==Chicken''s Age, yr == ', chicken_02.age  )\n",
    "print('==Chicken''s Color   == ', chicken_02.color)\n",
    "print('==Chicken''s Weight  == ', chicken_02.weight)"
   ]
  }
 ],
 "metadata": {
  "kernelspec": {
   "display_name": "Python 3 (ipykernel)",
   "language": "python",
   "name": "python3"
  },
  "language_info": {
   "codemirror_mode": {
    "name": "ipython",
    "version": 3
   },
   "file_extension": ".py",
   "mimetype": "text/x-python",
   "name": "python",
   "nbconvert_exporter": "python",
   "pygments_lexer": "ipython3",
   "version": "3.11.7"
  }
 },
 "nbformat": 4,
 "nbformat_minor": 5
}
