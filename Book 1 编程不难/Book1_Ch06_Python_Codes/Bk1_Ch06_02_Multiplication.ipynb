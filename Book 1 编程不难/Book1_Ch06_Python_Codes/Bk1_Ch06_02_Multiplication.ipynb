{
 "cells": [
  {
   "cell_type": "markdown",
   "id": "2b99cce0-abb3-4020-bc9b-2935d4a088da",
   "metadata": {},
   "source": [
    "Book 1  \n",
    "Chapter 6 Basic Calculations in Python\n",
    "### 乘法\n",
    "\n",
    "- 乘法运算符 `*` 用于将两个数值相乘，或将一个字符串重复多次\n",
    "- 幂运算符 `**` 用于将一个数值的幂次方\n",
    "- *NumPy 数组完成矩阵乘法 matrix multiplication 时用 `@`*\n",
    "- 除法运算符 `/` 用于将两个数值相除，结果为浮点数\n",
    "- 取模运算符 `%` 用于获取两个数值相除的余数\n",
    "- 括号 `()` 用于改变运算符的优先级顺序"
   ]
  },
  {
   "cell_type": "code",
   "execution_count": 2,
   "id": "9d5aa833-f92a-4efe-a53e-0b4d184f9698",
   "metadata": {},
   "outputs": [
    {
     "name": "stdout",
     "output_type": "stream",
     "text": [
      "200.0\n",
      "<class 'float'>\n"
     ]
    }
   ],
   "source": [
    "# 数值乘法\n",
    "a = 10   # 整数\n",
    "b = 20.0 # 浮点数\n",
    "\n",
    "c = a * b\n",
    "print(c)\n",
    "print(type(c))"
   ]
  },
  {
   "cell_type": "code",
   "execution_count": 3,
   "id": "14210f9e-3b97-427f-b9f8-1a6960469f94",
   "metadata": {},
   "outputs": [
    {
     "name": "stdout",
     "output_type": "stream",
     "text": [
      "101010\n",
      "20.020.0\n"
     ]
    }
   ],
   "source": [
    "# 字符串复制\n",
    "str_a = '10'\n",
    "str_b = '20.0'\n",
    "\n",
    "str_c = str_a * 3\n",
    "str_d = str_b * 2\n",
    "\n",
    "print(str_c)\n",
    "print(str_d)"
   ]
  },
  {
   "cell_type": "code",
   "execution_count": 4,
   "id": "1dc93fd9-93f6-4d76-9a4d-88efba7b0de5",
   "metadata": {},
   "outputs": [
    {
     "name": "stdout",
     "output_type": "stream",
     "text": [
      "8\n"
     ]
    }
   ],
   "source": [
    "# 幂运算符\n",
    "print(2 ** 3)"
   ]
  },
  {
   "cell_type": "code",
   "execution_count": 5,
   "id": "d7b32388-71b4-43cd-ac2a-cc5a4d70d875",
   "metadata": {},
   "outputs": [
    {
     "name": "stdout",
     "output_type": "stream",
     "text": [
      "1\n"
     ]
    }
   ],
   "source": [
    "# 取模运算符\n",
    "print(10 % 3)"
   ]
  },
  {
   "cell_type": "code",
   "execution_count": 6,
   "id": "4dddddf9-eeac-469d-ae12-b7930563506d",
   "metadata": {},
   "outputs": [
    {
     "name": "stdout",
     "output_type": "stream",
     "text": [
      "14\n",
      "20\n"
     ]
    }
   ],
   "source": [
    "# 括号\n",
    "print(2 + 3 * 4)\n",
    "print((2 + 3) * 4)"
   ]
  }
 ],
 "metadata": {
  "kernelspec": {
   "display_name": "Python 3 (ipykernel)",
   "language": "python",
   "name": "python3"
  },
  "language_info": {
   "codemirror_mode": {
    "name": "ipython",
    "version": 3
   },
   "file_extension": ".py",
   "mimetype": "text/x-python",
   "name": "python",
   "nbconvert_exporter": "python",
   "pygments_lexer": "ipython3",
   "version": "3.11.7"
  }
 },
 "nbformat": 4,
 "nbformat_minor": 5
}
