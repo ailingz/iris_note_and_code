{
 "cells": [
  {
   "cell_type": "markdown",
   "id": "4bd42687-40de-46d1-9563-8cf7c6754f43",
   "metadata": {},
   "source": [
    "Book 1  \n",
    "Chapter 6 Basic Calculations in Python\n",
    "### 成员运算符\n",
    "\n",
    "- `in` 如果在序列中找到值，返回 `True`，否则返回 `False`\n",
    "- `not in` 如果在序列中没有找到值，返回 `True`，否则返回 `False`"
   ]
  },
  {
   "cell_type": "code",
   "execution_count": 2,
   "id": "e6ad2336-1a7b-4ca4-9268-41d565badad6",
   "metadata": {},
   "outputs": [],
   "source": [
    "# 定义一个列表\n",
    "my_list = [1, 2, 3, 4, 5]"
   ]
  },
  {
   "cell_type": "code",
   "execution_count": 3,
   "id": "769a88c7-0cce-483d-b1e3-ca8ffeda3851",
   "metadata": {},
   "outputs": [
    {
     "name": "stdout",
     "output_type": "stream",
     "text": [
      "True\n",
      "False\n"
     ]
    }
   ],
   "source": [
    "# 判断元素是否在列表中\n",
    "print(3 in my_list)\n",
    "print(6 in my_list)"
   ]
  },
  {
   "cell_type": "code",
   "execution_count": 4,
   "id": "9b1e8589-8eec-429d-8693-ed71a1aee3f3",
   "metadata": {},
   "outputs": [
    {
     "name": "stdout",
     "output_type": "stream",
     "text": [
      "False\n",
      "True\n"
     ]
    }
   ],
   "source": [
    "# 判断元素是否不在列表中\n",
    "print(3 not in my_list)\n",
    "print(6 not in my_list)"
   ]
  }
 ],
 "metadata": {
  "kernelspec": {
   "display_name": "Python 3 (ipykernel)",
   "language": "python",
   "name": "python3"
  },
  "language_info": {
   "codemirror_mode": {
    "name": "ipython",
    "version": 3
   },
   "file_extension": ".py",
   "mimetype": "text/x-python",
   "name": "python",
   "nbconvert_exporter": "python",
   "pygments_lexer": "ipython3",
   "version": "3.11.7"
  }
 },
 "nbformat": 4,
 "nbformat_minor": 5
}
