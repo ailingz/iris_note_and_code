{
 "cells": [
  {
   "cell_type": "markdown",
   "id": "c7093042-02fb-43ce-885b-54977e7368ce",
   "metadata": {},
   "source": [
    "Book 1  \n",
    "Chapter 6 Basic Calculations in Python\n",
    "### 比较运算符\n",
    "\n",
    "- 相等运算符 `==` 比较两个值是否相等，返回True 或False\n",
    "- 不等运算符 `!=` 比较两个值是否不相等，返回True 或False\n",
    "- 大于运算符 `>` 比较左边的值是否大于右边的值，返回True 或False\n",
    "- 大于等于运算符 `>=` 比较左边的值是否大于等于右边的值，返回True 或False\n",
    "- 小于运算符 `<` 比较左边的值是否小于右边的值，返回True 或False\n",
    "- 小于等于运算符 `<=` 比较左边的值是否小于等于右边的值，返回True 或False"
   ]
  },
  {
   "cell_type": "code",
   "execution_count": 2,
   "id": "4776c7b3-0337-49e2-b0ef-cc99418406da",
   "metadata": {},
   "outputs": [],
   "source": [
    "x = 5\n",
    "y = 3"
   ]
  },
  {
   "cell_type": "code",
   "execution_count": 3,
   "id": "3e70b5f5-2a63-4801-81d1-5cab1cd569de",
   "metadata": {},
   "outputs": [
    {
     "name": "stdout",
     "output_type": "stream",
     "text": [
      "False\n",
      "True\n",
      "True\n",
      "False\n",
      "False\n"
     ]
    }
   ],
   "source": [
    "print(x == y)\n",
    "print(x == 5)\n",
    "print(x != y)\n",
    "print(x != 5)\n",
    "print(x != 5.0)"
   ]
  },
  {
   "cell_type": "code",
   "execution_count": 4,
   "id": "82550138-cd26-40d0-89f6-608903f1d9c5",
   "metadata": {},
   "outputs": [
    {
     "name": "stdout",
     "output_type": "stream",
     "text": [
      "True\n",
      "False\n",
      "True\n",
      "True\n"
     ]
    }
   ],
   "source": [
    "print(x > y)\n",
    "print(x > 10)\n",
    "print(x >= y)\n",
    "print(x >= 5)"
   ]
  },
  {
   "cell_type": "code",
   "execution_count": 5,
   "id": "8ec8929a-2812-4cab-bc9f-75fd0b5c3119",
   "metadata": {},
   "outputs": [
    {
     "name": "stdout",
     "output_type": "stream",
     "text": [
      "False\n",
      "True\n",
      "False\n",
      "True\n"
     ]
    }
   ],
   "source": [
    "print(x < y)\n",
    "print(x < 10)\n",
    "print(x <= y)\n",
    "print(x <= 5)"
   ]
  }
 ],
 "metadata": {
  "kernelspec": {
   "display_name": "Python 3 (ipykernel)",
   "language": "python",
   "name": "python3"
  },
  "language_info": {
   "codemirror_mode": {
    "name": "ipython",
    "version": 3
   },
   "file_extension": ".py",
   "mimetype": "text/x-python",
   "name": "python",
   "nbconvert_exporter": "python",
   "pygments_lexer": "ipython3",
   "version": "3.11.7"
  }
 },
 "nbformat": 4,
 "nbformat_minor": 5
}
