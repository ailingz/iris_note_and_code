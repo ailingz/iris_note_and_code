{
 "cells": [
  {
   "cell_type": "markdown",
   "id": "02ea1cc6-1992-4a6d-8e80-e1ecbb7afc45",
   "metadata": {},
   "source": [
    "Book 1  \n",
    "Chapter 6 Basic Calculations in Python\n",
    "### 身份运算符\n",
    "\n",
    "- `is`/`is not` 用于判断两个对象是否引用同一个内存地址"
   ]
  },
  {
   "cell_type": "code",
   "execution_count": 2,
   "id": "8b06387a-88ae-4f53-afd3-2fee1e0c6f86",
   "metadata": {},
   "outputs": [],
   "source": [
    "import copy\n",
    "\n",
    "a = [1, 2, 3]\n",
    "b = a # 视图 b 引用 a 的内存地址\n",
    "c = [1, 2, 3]\n",
    "d = a.copy()"
   ]
  },
  {
   "cell_type": "code",
   "execution_count": 3,
   "id": "136c581b-bda0-4bb9-a29e-24a81856314d",
   "metadata": {},
   "outputs": [
    {
     "name": "stdout",
     "output_type": "stream",
     "text": [
      "True\n"
     ]
    }
   ],
   "source": [
    "print(a is b) # 输出 True，因为 a 和 b 引用同一个内存地址"
   ]
  },
  {
   "cell_type": "code",
   "execution_count": 4,
   "id": "4e9762d5-1832-4ab9-b8e8-20566f48342d",
   "metadata": {},
   "outputs": [
    {
     "name": "stdout",
     "output_type": "stream",
     "text": [
      "True\n"
     ]
    }
   ],
   "source": [
    "print(a is not c) # 输出 True，因为 a 和 c 引用不同的内存地址"
   ]
  },
  {
   "cell_type": "code",
   "execution_count": 5,
   "id": "02b5fb45-b82d-4de5-9ca0-08c448efb761",
   "metadata": {},
   "outputs": [
    {
     "name": "stdout",
     "output_type": "stream",
     "text": [
      "True\n"
     ]
    }
   ],
   "source": [
    "print(a == c) # 输出 True，因为 a 和 c 的值相等"
   ]
  },
  {
   "cell_type": "code",
   "execution_count": 6,
   "id": "32adbef1-e2a8-4da1-902b-2f6fbc1a231b",
   "metadata": {},
   "outputs": [
    {
     "name": "stdout",
     "output_type": "stream",
     "text": [
      "True\n"
     ]
    }
   ],
   "source": [
    "print(a is not d) # 输出 True，因为 a 和 d 引用不同的内存地址"
   ]
  },
  {
   "cell_type": "code",
   "execution_count": 7,
   "id": "eb046cee-01b3-486e-bc18-59a0ac2324bf",
   "metadata": {},
   "outputs": [
    {
     "name": "stdout",
     "output_type": "stream",
     "text": [
      "True\n"
     ]
    }
   ],
   "source": [
    "print(a == d) # 输出 True，因为 a 和 d 的值相等"
   ]
  },
  {
   "cell_type": "code",
   "execution_count": 8,
   "id": "564b72cf-b088-45ed-b768-0328d67cafdf",
   "metadata": {},
   "outputs": [
    {
     "data": {
      "text/plain": [
       "[1, 2, [3, 4]]"
      ]
     },
     "execution_count": 8,
     "metadata": {},
     "output_type": "execute_result"
    }
   ],
   "source": [
    "a_2_layers = [1, 2, [3, 4]]\n",
    "a_2_layers"
   ]
  },
  {
   "cell_type": "code",
   "execution_count": 9,
   "id": "ba85042c-b64f-4fcf-91ba-2e1443ea8568",
   "metadata": {},
   "outputs": [
    {
     "data": {
      "text/plain": [
       "[1, 2, [3, 4]]"
      ]
     },
     "execution_count": 9,
     "metadata": {},
     "output_type": "execute_result"
    }
   ],
   "source": [
    "d_2_layers = a_2_layers.copy()\n",
    "d_2_layers"
   ]
  },
  {
   "cell_type": "code",
   "execution_count": 10,
   "id": "2b921570-0ec2-4d4c-8a1b-630185e05d36",
   "metadata": {},
   "outputs": [
    {
     "data": {
      "text/plain": [
       "[1, 2, [3, 4]]"
      ]
     },
     "execution_count": 10,
     "metadata": {},
     "output_type": "execute_result"
    }
   ],
   "source": [
    "e_2_layers = copy.deepcopy(a_2_layers)\n",
    "e_2_layers"
   ]
  },
  {
   "cell_type": "code",
   "execution_count": 11,
   "id": "61d98ce2-f57a-4012-8ef8-7172f07a9d6d",
   "metadata": {},
   "outputs": [
    {
     "name": "stdout",
     "output_type": "stream",
     "text": [
      "False\n",
      "True\n"
     ]
    }
   ],
   "source": [
    "print(a_2_layers is d_2_layers)\n",
    "print(a_2_layers[2] is d_2_layers[2]) # 输出 True，因为 shallow copy"
   ]
  },
  {
   "cell_type": "code",
   "execution_count": 12,
   "id": "ae9d11db-e322-463c-bec0-be601d8d30e0",
   "metadata": {},
   "outputs": [
    {
     "name": "stdout",
     "output_type": "stream",
     "text": [
      "False\n",
      "False\n"
     ]
    }
   ],
   "source": [
    "print(a_2_layers is e_2_layers)\n",
    "print(a_2_layers[2] is e_2_layers[2]) # 输出 False，因为 deep copy"
   ]
  }
 ],
 "metadata": {
  "kernelspec": {
   "display_name": "Python 3 (ipykernel)",
   "language": "python",
   "name": "python3"
  },
  "language_info": {
   "codemirror_mode": {
    "name": "ipython",
    "version": 3
   },
   "file_extension": ".py",
   "mimetype": "text/x-python",
   "name": "python",
   "nbconvert_exporter": "python",
   "pygments_lexer": "ipython3",
   "version": "3.11.7"
  }
 },
 "nbformat": 4,
 "nbformat_minor": 5
}
