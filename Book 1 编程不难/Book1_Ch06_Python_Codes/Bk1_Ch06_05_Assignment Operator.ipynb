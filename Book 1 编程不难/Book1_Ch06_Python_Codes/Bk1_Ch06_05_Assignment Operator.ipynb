{
 "cells": [
  {
   "cell_type": "markdown",
   "id": "de625e35-067f-4c98-8541-2cb4dce1e8ca",
   "metadata": {},
   "source": [
    "Book 1  \n",
    "Chapter 6 Basic Calculations in Python\n",
    "### 赋值运算符\n",
    "\n",
    "- 等号 `=` 将右侧的值赋给左侧的变量\n",
    "- 加等于 `+=` 将右侧的值加到左侧的变量上，并将结果赋给左侧的变量\n",
    "- 减等于 `-=` 将右侧的值从左侧的变量中减去，并将结果赋给左侧的变量\n",
    "- 乘等于 `*=` 将右侧的值乘以左侧的变量，并将结果赋给左侧的变量\n",
    "- 除等于 `/=` 将左侧的变量除以右侧的值，并将结果赋给左侧的变量\n",
    "- 取模等于 `%=` 将左侧的变量对右侧的值取模，并将结果赋给左侧的变量\n",
    "- 幂等于 `**=` 将左侧的变量的值提高到右侧的值的幂，并将结果赋给左侧的变量"
   ]
  },
  {
   "cell_type": "code",
   "execution_count": 2,
   "id": "ea7e1b69-a3ba-44eb-a2a3-462ba340e5f1",
   "metadata": {},
   "outputs": [
    {
     "name": "stdout",
     "output_type": "stream",
     "text": [
      "5\n"
     ]
    }
   ],
   "source": [
    "a = 5\n",
    "print(a)"
   ]
  },
  {
   "cell_type": "code",
   "execution_count": 3,
   "id": "9c4b4e79-1dab-40ea-8570-8fa41b73ba45",
   "metadata": {},
   "outputs": [
    {
     "name": "stdout",
     "output_type": "stream",
     "text": [
      "8\n"
     ]
    }
   ],
   "source": [
    "a += 3 # 等同于 a = a + 3\n",
    "print(a)"
   ]
  },
  {
   "cell_type": "code",
   "execution_count": 4,
   "id": "75a3408f-837c-4ef7-b841-1885988d4662",
   "metadata": {},
   "outputs": [
    {
     "name": "stdout",
     "output_type": "stream",
     "text": [
      "5\n"
     ]
    }
   ],
   "source": [
    "a -= 3 # 等同于 a = a - 3\n",
    "print(a)"
   ]
  },
  {
   "cell_type": "code",
   "execution_count": 5,
   "id": "5b58feba-1994-4fe6-88d9-b9671b31b7cf",
   "metadata": {},
   "outputs": [
    {
     "name": "stdout",
     "output_type": "stream",
     "text": [
      "10\n"
     ]
    }
   ],
   "source": [
    "a *= 2 # 等同于 a = a * 2\n",
    "print(a)"
   ]
  },
  {
   "cell_type": "code",
   "execution_count": 6,
   "id": "2ae7c014-d0ad-4525-92fa-ce93c66b9f4a",
   "metadata": {},
   "outputs": [
    {
     "name": "stdout",
     "output_type": "stream",
     "text": [
      "2.0\n"
     ]
    }
   ],
   "source": [
    "a /= 5 # 等同于 a = a / 5\n",
    "print(a)"
   ]
  },
  {
   "cell_type": "code",
   "execution_count": 7,
   "id": "f9148372-05fd-488a-9be0-cb5b7fb9233e",
   "metadata": {},
   "outputs": [
    {
     "name": "stdout",
     "output_type": "stream",
     "text": [
      "2.0\n"
     ]
    }
   ],
   "source": [
    "a %= 3 # 等同于 a = a % 3\n",
    "print(a)"
   ]
  },
  {
   "cell_type": "code",
   "execution_count": 8,
   "id": "15f0b85e-9853-4919-842c-e18090d6e166",
   "metadata": {},
   "outputs": [
    {
     "name": "stdout",
     "output_type": "stream",
     "text": [
      "8.0\n"
     ]
    }
   ],
   "source": [
    "a **= 3 # 等同于 a = a ** 3\n",
    "print(a)"
   ]
  }
 ],
 "metadata": {
  "kernelspec": {
   "display_name": "Python 3 (ipykernel)",
   "language": "python",
   "name": "python3"
  },
  "language_info": {
   "codemirror_mode": {
    "name": "ipython",
    "version": 3
   },
   "file_extension": ".py",
   "mimetype": "text/x-python",
   "name": "python",
   "nbconvert_exporter": "python",
   "pygments_lexer": "ipython3",
   "version": "3.11.7"
  }
 },
 "nbformat": 4,
 "nbformat_minor": 5
}
