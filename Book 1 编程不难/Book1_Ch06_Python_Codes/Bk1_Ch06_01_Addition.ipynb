{
 "cells": [
  {
   "cell_type": "markdown",
   "id": "f1be9266-35d8-4f89-a8ad-6c7e058cc3d2",
   "metadata": {},
   "source": [
    "Book 1  \n",
    "Chapter 6 Basic Calculations in Python\n",
    "### 加法\n",
    "\n",
    "- 加法运算符 `+` 用于将两个数值相加或将两个字符串拼接起来\n",
    "- 减法运算符 `-` 用于将两个数值相减，不支持字符串运算"
   ]
  },
  {
   "cell_type": "code",
   "execution_count": 2,
   "id": "a2772302-3e82-40db-9aa0-e68154504a4b",
   "metadata": {},
   "outputs": [
    {
     "name": "stdout",
     "output_type": "stream",
     "text": [
      "30.0\n",
      "<class 'float'>\n"
     ]
    }
   ],
   "source": [
    "# 数值加法\n",
    "a = 10   # 整数\n",
    "b = 20.0 # 浮点数\n",
    "\n",
    "# 如果操作数的类型不一致，Python 会自动进行类型转换\n",
    "# 整数或浮点数不能和字符串数字相加\n",
    "c = a + b\n",
    "print(c)\n",
    "print(type(c))"
   ]
  },
  {
   "cell_type": "code",
   "execution_count": 3,
   "id": "205b4e09-c123-4ca7-b670-d4af404741a4",
   "metadata": {},
   "outputs": [
    {
     "name": "stdout",
     "output_type": "stream",
     "text": [
      "1020.0\n"
     ]
    }
   ],
   "source": [
    "# 字符串拼接\n",
    "str_a = '10'\n",
    "str_b = '20.0'\n",
    "\n",
    "str_c = str_a + str_b\n",
    "print(str_c)"
   ]
  }
 ],
 "metadata": {
  "kernelspec": {
   "display_name": "Python 3 (ipykernel)",
   "language": "python",
   "name": "python3"
  },
  "language_info": {
   "codemirror_mode": {
    "name": "ipython",
    "version": 3
   },
   "file_extension": ".py",
   "mimetype": "text/x-python",
   "name": "python",
   "nbconvert_exporter": "python",
   "pygments_lexer": "ipython3",
   "version": "3.11.7"
  }
 },
 "nbformat": 4,
 "nbformat_minor": 5
}
