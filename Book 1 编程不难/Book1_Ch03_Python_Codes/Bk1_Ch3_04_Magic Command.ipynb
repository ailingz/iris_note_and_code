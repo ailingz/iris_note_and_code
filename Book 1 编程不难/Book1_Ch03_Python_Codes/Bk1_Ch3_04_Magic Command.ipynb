{
 "cells": [
  {
   "cell_type": "markdown",
   "id": "feed2893-4681-4c5e-bf4e-2e64fa6bd6d4",
   "metadata": {},
   "source": [
    "Book 1  \n",
    "Chapter 3 Using JupyterLab\n",
    "### 魔法命令"
   ]
  },
  {
   "cell_type": "markdown",
   "id": "5187fd02-6086-4881-8cb0-5fb40797c90c",
   "metadata": {},
   "source": [
    "- Special commands prefixed by `%` or `%%` that provide enhancements and additional functionalities beyond the standard Python syntax\n",
    "- Specific to IPython and Jupyter environments\n",
    "- Two types\n",
    "    - **Line Magic 行魔法**: Prefixed with `%`, operate on a single line within a cell\n",
    "    - **Cell Magic 单元格魔法**: Prefixed with `%%`, operate on entire cells"
   ]
  },
  {
   "cell_type": "code",
   "execution_count": 4,
   "id": "c61ada0a-c8bc-4201-8113-673464b0627d",
   "metadata": {},
   "outputs": [
    {
     "data": {
      "application/json": {
       "cell": {
        "!": "OSMagics",
        "HTML": "Other",
        "SVG": "Other",
        "bash": "Other",
        "capture": "ExecutionMagics",
        "code_wrap": "ExecutionMagics",
        "debug": "ExecutionMagics",
        "file": "Other",
        "html": "DisplayMagics",
        "javascript": "DisplayMagics",
        "js": "DisplayMagics",
        "latex": "DisplayMagics",
        "markdown": "DisplayMagics",
        "perl": "Other",
        "prun": "ExecutionMagics",
        "pypy": "Other",
        "python": "Other",
        "python2": "Other",
        "python3": "Other",
        "ruby": "Other",
        "script": "ScriptMagics",
        "sh": "Other",
        "svg": "DisplayMagics",
        "sx": "OSMagics",
        "system": "OSMagics",
        "time": "ExecutionMagics",
        "timeit": "ExecutionMagics",
        "writefile": "OSMagics"
       },
       "line": {
        "alias": "OSMagics",
        "alias_magic": "BasicMagics",
        "autoawait": "AsyncMagics",
        "autocall": "AutoMagics",
        "automagic": "AutoMagics",
        "autosave": "KernelMagics",
        "bookmark": "OSMagics",
        "cat": "Other",
        "cd": "OSMagics",
        "clear": "KernelMagics",
        "code_wrap": "ExecutionMagics",
        "colors": "BasicMagics",
        "conda": "PackagingMagics",
        "config": "ConfigMagics",
        "connect_info": "KernelMagics",
        "cp": "Other",
        "debug": "ExecutionMagics",
        "dhist": "OSMagics",
        "dirs": "OSMagics",
        "doctest_mode": "BasicMagics",
        "ed": "Other",
        "edit": "KernelMagics",
        "env": "OSMagics",
        "gui": "BasicMagics",
        "hist": "Other",
        "history": "HistoryMagics",
        "killbgscripts": "ScriptMagics",
        "ldir": "Other",
        "less": "KernelMagics",
        "lf": "Other",
        "lk": "Other",
        "ll": "Other",
        "load": "CodeMagics",
        "load_ext": "ExtensionMagics",
        "loadpy": "CodeMagics",
        "logoff": "LoggingMagics",
        "logon": "LoggingMagics",
        "logstart": "LoggingMagics",
        "logstate": "LoggingMagics",
        "logstop": "LoggingMagics",
        "ls": "Other",
        "lsmagic": "BasicMagics",
        "lx": "Other",
        "macro": "ExecutionMagics",
        "magic": "BasicMagics",
        "mamba": "PackagingMagics",
        "man": "KernelMagics",
        "matplotlib": "PylabMagics",
        "micromamba": "PackagingMagics",
        "mkdir": "Other",
        "more": "KernelMagics",
        "mv": "Other",
        "notebook": "BasicMagics",
        "page": "BasicMagics",
        "pastebin": "CodeMagics",
        "pdb": "ExecutionMagics",
        "pdef": "NamespaceMagics",
        "pdoc": "NamespaceMagics",
        "pfile": "NamespaceMagics",
        "pinfo": "NamespaceMagics",
        "pinfo2": "NamespaceMagics",
        "pip": "PackagingMagics",
        "popd": "OSMagics",
        "pprint": "BasicMagics",
        "precision": "BasicMagics",
        "prun": "ExecutionMagics",
        "psearch": "NamespaceMagics",
        "psource": "NamespaceMagics",
        "pushd": "OSMagics",
        "pwd": "OSMagics",
        "pycat": "OSMagics",
        "pylab": "PylabMagics",
        "qtconsole": "KernelMagics",
        "quickref": "BasicMagics",
        "recall": "HistoryMagics",
        "rehashx": "OSMagics",
        "reload_ext": "ExtensionMagics",
        "rep": "Other",
        "rerun": "HistoryMagics",
        "reset": "NamespaceMagics",
        "reset_selective": "NamespaceMagics",
        "rm": "Other",
        "rmdir": "Other",
        "run": "ExecutionMagics",
        "save": "CodeMagics",
        "sc": "OSMagics",
        "set_env": "OSMagics",
        "store": "StoreMagics",
        "sx": "OSMagics",
        "system": "OSMagics",
        "tb": "ExecutionMagics",
        "time": "ExecutionMagics",
        "timeit": "ExecutionMagics",
        "unalias": "OSMagics",
        "unload_ext": "ExtensionMagics",
        "who": "NamespaceMagics",
        "who_ls": "NamespaceMagics",
        "whos": "NamespaceMagics",
        "xdel": "NamespaceMagics",
        "xmode": "BasicMagics"
       }
      },
      "text/plain": [
       "Available line magics:\n",
       "%alias  %alias_magic  %autoawait  %autocall  %automagic  %autosave  %bookmark  %cat  %cd  %clear  %code_wrap  %colors  %conda  %config  %connect_info  %cp  %debug  %dhist  %dirs  %doctest_mode  %ed  %edit  %env  %gui  %hist  %history  %killbgscripts  %ldir  %less  %lf  %lk  %ll  %load  %load_ext  %loadpy  %logoff  %logon  %logstart  %logstate  %logstop  %ls  %lsmagic  %lx  %macro  %magic  %mamba  %man  %matplotlib  %micromamba  %mkdir  %more  %mv  %notebook  %page  %pastebin  %pdb  %pdef  %pdoc  %pfile  %pinfo  %pinfo2  %pip  %popd  %pprint  %precision  %prun  %psearch  %psource  %pushd  %pwd  %pycat  %pylab  %qtconsole  %quickref  %recall  %rehashx  %reload_ext  %rep  %rerun  %reset  %reset_selective  %rm  %rmdir  %run  %save  %sc  %set_env  %store  %sx  %system  %tb  %time  %timeit  %unalias  %unload_ext  %who  %who_ls  %whos  %xdel  %xmode\n",
       "\n",
       "Available cell magics:\n",
       "%%!  %%HTML  %%SVG  %%bash  %%capture  %%code_wrap  %%debug  %%file  %%html  %%javascript  %%js  %%latex  %%markdown  %%perl  %%prun  %%pypy  %%python  %%python2  %%python3  %%ruby  %%script  %%sh  %%svg  %%sx  %%system  %%time  %%timeit  %%writefile\n",
       "\n",
       "Automagic is ON, % prefix IS NOT needed for line magics."
      ]
     },
     "execution_count": 4,
     "metadata": {},
     "output_type": "execute_result"
    }
   ],
   "source": [
    "# List currently available magic functions\n",
    "%lsmagic"
   ]
  },
  {
   "cell_type": "code",
   "execution_count": 5,
   "id": "52f9bb4f-02be-4075-b629-50f04e1951b7",
   "metadata": {},
   "outputs": [
    {
     "data": {
      "text/plain": [
       "\u001b[0;31mDocstring:\u001b[0m List currently available magic functions.\n",
       "\u001b[0;31mFile:\u001b[0m      /opt/homebrew/anaconda3/lib/python3.11/site-packages/IPython/core/magics/basic.py"
      ]
     },
     "metadata": {},
     "output_type": "display_data"
    }
   ],
   "source": [
    "# ? is used to get the definition\n",
    "%lsmagic?"
   ]
  },
  {
   "cell_type": "code",
   "execution_count": 6,
   "id": "e2f05573-9e25-4a74-b060-5b7bc7b315a6",
   "metadata": {},
   "outputs": [],
   "source": [
    "# Print information about the magic function system\n",
    "# %magic"
   ]
  },
  {
   "cell_type": "code",
   "execution_count": 7,
   "id": "fc0f4cdb-d6f6-4723-9238-360d43963a6b",
   "metadata": {},
   "outputs": [],
   "source": [
    "# Change the current working directory\n",
    "# %cd 'dir'"
   ]
  },
  {
   "cell_type": "code",
   "execution_count": 8,
   "id": "16b5f84d-e658-48ad-9b3b-5882d66ffc4a",
   "metadata": {},
   "outputs": [],
   "source": [
    "# Time execution of a Python statement or expression\n",
    "# %timeit\n",
    "# %time\n",
    "# %%timeit\n",
    "# %%time"
   ]
  },
  {
   "cell_type": "code",
   "execution_count": 9,
   "id": "508b6922-25c0-46b8-961d-e74b94977156",
   "metadata": {},
   "outputs": [
    {
     "name": "stdout",
     "output_type": "stream",
     "text": [
      "38.3 µs ± 1.07 µs per loop (mean ± std. dev. of 7 runs, 10,000 loops each)\n"
     ]
    }
   ],
   "source": [
    "import numpy as np\n",
    "%timeit data = np.random.uniform(0, 1, 10000)"
   ]
  },
  {
   "cell_type": "code",
   "execution_count": 10,
   "id": "ae9647d9-41d3-430e-9d36-8d063608a316",
   "metadata": {},
   "outputs": [
    {
     "name": "stdout",
     "output_type": "stream",
     "text": [
      "CPU times: user 79 µs, sys: 61 µs, total: 140 µs\n",
      "Wall time: 76.1 µs\n"
     ]
    }
   ],
   "source": [
    "import numpy as np\n",
    "%time data = np.random.uniform(0, 1, 10000)"
   ]
  },
  {
   "cell_type": "code",
   "execution_count": 11,
   "id": "e169407b-3d4b-416f-918f-5773e3927147",
   "metadata": {},
   "outputs": [
    {
     "name": "stdout",
     "output_type": "stream",
     "text": [
      "25 ms ± 2.09 ms per loop (mean ± std. dev. of 7 runs, 10 loops each)\n"
     ]
    }
   ],
   "source": [
    "%%timeit\n",
    "\n",
    "import numpy as np\n",
    "\n",
    "A = np.random.uniform(0, 1, (1000, 1000))\n",
    "B = np.random.uniform(0, 1, (1000, 1000))\n",
    "C = A @ B"
   ]
  },
  {
   "cell_type": "code",
   "execution_count": 12,
   "id": "fd9fe348-b65a-4e11-96a5-173f85fd42a5",
   "metadata": {
    "tags": []
   },
   "outputs": [
    {
     "name": "stdout",
     "output_type": "stream",
     "text": [
      "CPU times: user 115 ms, sys: 144 ms, total: 259 ms\n",
      "Wall time: 29 ms\n"
     ]
    }
   ],
   "source": [
    "%%time\n",
    "\n",
    "import numpy as np\n",
    "\n",
    "A = np.random.uniform(0, 1, (1000, 1000))\n",
    "B = np.random.uniform(0, 1, (1000, 1000))\n",
    "C = A @ B"
   ]
  },
  {
   "cell_type": "code",
   "execution_count": 13,
   "id": "7d031fb3-ac05-4da8-99b4-2a8af28ce980",
   "metadata": {},
   "outputs": [],
   "source": [
    "# Run the pip package manager within the current kernel\n",
    "# %pip"
   ]
  },
  {
   "cell_type": "code",
   "execution_count": 14,
   "id": "72cece0a-6ee8-4b04-9d42-70e4a5c3b432",
   "metadata": {},
   "outputs": [],
   "source": [
    "# Run the conda package manager within the current kernel\n",
    "# %conda"
   ]
  },
  {
   "cell_type": "code",
   "execution_count": 15,
   "id": "91066049-10af-4bff-a79b-c8ec628e0aaf",
   "metadata": {},
   "outputs": [
    {
     "name": "stdout",
     "output_type": "stream",
     "text": [
      "A\t B\t C\t NamespaceMagics\t data\t dataframe_columns\t dataframe_hash\t dtypes_str\t get_dataframes\t \n",
      "get_ipython\t getpass\t hashlib\t import_pandas_safely\t is_data_frame\t json\t np\t sys\t \n"
     ]
    }
   ],
   "source": [
    "# Print all interactive variables, with some minimal formatting\n",
    "%who"
   ]
  },
  {
   "cell_type": "code",
   "execution_count": 16,
   "id": "71cceac7-2b99-412a-8bdf-259114ba3b95",
   "metadata": {},
   "outputs": [
    {
     "name": "stdout",
     "output_type": "stream",
     "text": [
      "No variables match your requested type.\n"
     ]
    }
   ],
   "source": [
    "%who str"
   ]
  },
  {
   "cell_type": "code",
   "execution_count": 17,
   "id": "50629d56-df38-4cb5-85b8-d1744b9a91ef",
   "metadata": {},
   "outputs": [
    {
     "name": "stdout",
     "output_type": "stream",
     "text": [
      "No variables match your requested type.\n"
     ]
    }
   ],
   "source": [
    "%who dict"
   ]
  },
  {
   "cell_type": "code",
   "execution_count": 18,
   "id": "377574fc-a4f2-49fa-a3dd-65e30b753150",
   "metadata": {},
   "outputs": [
    {
     "name": "stdout",
     "output_type": "stream",
     "text": [
      "No variables match your requested type.\n"
     ]
    }
   ],
   "source": [
    "%who float"
   ]
  },
  {
   "cell_type": "code",
   "execution_count": 19,
   "id": "d18884da-3920-4af3-8092-bbbbd9b88859",
   "metadata": {},
   "outputs": [
    {
     "name": "stdout",
     "output_type": "stream",
     "text": [
      "No variables match your requested type.\n"
     ]
    }
   ],
   "source": [
    "%who list"
   ]
  },
  {
   "cell_type": "code",
   "execution_count": 20,
   "id": "7cc0027b-135b-457e-bbd3-87d2e278ebde",
   "metadata": {},
   "outputs": [
    {
     "name": "stdout",
     "output_type": "stream",
     "text": [
      "Overwriting python_file.py\n"
     ]
    }
   ],
   "source": [
    "%%writefile \"python_file.py\"\n",
    "# Write the contents of the cell to a file\n",
    "# %%writefile\n",
    "\n",
    "import numpy as np\n",
    "\n",
    "A = np.random.uniform(0, 1, (1000, 1000))\n",
    "B = np.random.uniform(0, 1, (1000, 1000))\n",
    "C = A @ B\n",
    "\n",
    "print(C)"
   ]
  },
  {
   "cell_type": "code",
   "execution_count": 21,
   "id": "b8f10eb0-e652-4219-b46d-ef18d6817fe7",
   "metadata": {
    "tags": []
   },
   "outputs": [
    {
     "data": {
      "text/plain": [
       "'/Users/eRei/Library/CloudStorage/OneDrive-Personal/Git/iris_note_and_code/Book 1 编程不难/Book1_Ch03_Python_Codes'"
      ]
     },
     "execution_count": 21,
     "metadata": {},
     "output_type": "execute_result"
    }
   ],
   "source": [
    "# Return the current working directory path\n",
    "%pwd"
   ]
  },
  {
   "cell_type": "code",
   "execution_count": 22,
   "id": "969a1a5f-ce27-4fea-baec-ce04eb030777",
   "metadata": {},
   "outputs": [
    {
     "name": "stdout",
     "output_type": "stream",
     "text": [
      "[[251.66579134 255.85920125 257.47558062 ... 255.22554999 250.90546251\n",
      "  255.22335795]\n",
      " [259.03035303 255.52359314 262.64613054 ... 261.65331511 255.73354992\n",
      "  261.45440801]\n",
      " [246.25962516 250.77087499 259.15340479 ... 254.14261653 248.98369279\n",
      "  252.28754711]\n",
      " ...\n",
      " [251.81380611 257.76925948 263.1456279  ... 255.3893098  249.25706536\n",
      "  256.04195516]\n",
      " [250.34604148 253.51284912 258.07654847 ... 256.65583526 252.38871414\n",
      "  252.28169134]\n",
      " [245.27029498 255.34581322 252.68551917 ... 252.91809028 246.48703588\n",
      "  250.574751  ]]\n"
     ]
    }
   ],
   "source": [
    "# Run the named file inside IPython as a program\n",
    "%run python_file.py"
   ]
  }
 ],
 "metadata": {
  "kernelspec": {
   "display_name": "Python 3 (ipykernel)",
   "language": "python",
   "name": "python3"
  },
  "language_info": {
   "codemirror_mode": {
    "name": "ipython",
    "version": 3
   },
   "file_extension": ".py",
   "mimetype": "text/x-python",
   "name": "python",
   "nbconvert_exporter": "python",
   "pygments_lexer": "ipython3",
   "version": "3.11.7"
  }
 },
 "nbformat": 4,
 "nbformat_minor": 5
}
