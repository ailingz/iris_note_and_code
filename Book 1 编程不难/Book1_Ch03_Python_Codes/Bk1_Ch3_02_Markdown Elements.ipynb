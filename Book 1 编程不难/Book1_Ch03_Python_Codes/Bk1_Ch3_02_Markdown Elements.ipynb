{
 "cells": [
  {
   "cell_type": "markdown",
   "id": "51ea5e5c-87ea-4a69-ac9b-6b384bc2d89d",
   "metadata": {},
   "source": [
    "Book 1  \n",
    "Chapter 3 Using JupyterLab\n",
    "### Markdown 中的各种常用元素"
   ]
  },
  {
   "cell_type": "markdown",
   "id": "09ecf560-d5b4-4cd2-9fa7-946359ebb291",
   "metadata": {},
   "source": [
    "# Level 1 Header\n",
    "## Level 2 Header\n",
    "### Level 3 Header\n",
    "#### Level 4 Header\n",
    "##### Level 5 Header\n",
    "\n",
    "```\n",
    "# Level 1 Header\n",
    "## Level 2 Header\n",
    "### Level 3 Header\n",
    "#### Level 4 Header\n",
    "##### Level 5 Header\n",
    "```"
   ]
  },
  {
   "cell_type": "markdown",
   "id": "91046ae4-c692-426f-b5eb-4596fb9f008c",
   "metadata": {},
   "source": [
    "<h1> Level 1 Header HTML </h1>\n",
    "<h2> Level 2 Header HTML </h2>\n",
    "<h3> Level 3 Header HTML </h3>\n",
    "<h4> Level 4 Header HTML </h4>\n",
    "<h5> Level 5 Header HTML </h5>\n",
    "\n",
    "```\n",
    "<h1> Level 1 Header HTML </h1>\n",
    "<h2> Level 2 Header HTML </h2>\n",
    "<h3> Level 3 Header HTML </h3>\n",
    "<h4> Level 4 Header HTML </h4>\n",
    "<h5> Level 5 Header HTML </h5>\n",
    "```"
   ]
  },
  {
   "cell_type": "markdown",
   "id": "5bec7413-dad0-4aa2-aeab-a14d3b6ae5b5",
   "metadata": {},
   "source": [
    "<font color=blue> colored text </font>\n",
    "\n",
    "```\n",
    "<font color=blue> colored text </font>\n",
    "```"
   ]
  },
  {
   "cell_type": "markdown",
   "id": "00b32fea-0e87-4651-ad6c-8b0e1171e50b",
   "metadata": {},
   "source": [
    "*italic text*  \n",
    "_italic text_  \n",
    "<em> italic text </em>\n",
    "\n",
    "```\n",
    "*italic text*  \n",
    "_italic text_  \n",
    "<em> italic text </em>\n",
    "```"
   ]
  },
  {
   "cell_type": "markdown",
   "id": "89f12da9-8c72-4e45-ae15-8ab475ecdb1a",
   "metadata": {},
   "source": [
    "**bold text**  \n",
    "<strong> bold text </strong>  \n",
    "<b> bold text </b>  \n",
    "__bold text__\n",
    "\n",
    "```\n",
    "**bold text**  \n",
    "<strong> bold text </strong>  \n",
    "<b> bold text </b>  \n",
    "__bold text__\n",
    "```"
   ]
  },
  {
   "cell_type": "markdown",
   "id": "2b1557d3-de7c-44f9-abbe-86e98cf15d09",
   "metadata": {},
   "source": [
    "***bold and italic text***  \n",
    "___bold and italic text___  \n",
    "<strong><em> bold and italic text </em></strong>\n",
    "\n",
    "```\n",
    "***bold and italic text***  \n",
    "___bold and italic text___  \n",
    "<strong><em> bold and italic text </em></strong>\n",
    "```"
   ]
  },
  {
   "cell_type": "markdown",
   "id": "ae19c1ec-c584-40bc-85a7-a73ee17b096e",
   "metadata": {},
   "source": [
    "~~Scratch this~~  \n",
    "<del> Scratch this </del>\n",
    "\n",
    "```\n",
    "~~Scratch this~~  \n",
    "<del> Scratch this </del>\n",
    "```"
   ]
  },
  {
   "cell_type": "markdown",
   "id": "00da5441-20bc-4334-8067-ea44aa588832",
   "metadata": {},
   "source": [
    "***\n",
    "---\n",
    "___\n",
    "<hr>\n",
    "\n",
    "```\n",
    "***\n",
    "---\n",
    "___\n",
    "<hr>\n",
    "```"
   ]
  },
  {
   "cell_type": "markdown",
   "id": "b6ad0bba-688d-4673-b1ba-fc2a75f71458",
   "metadata": {},
   "source": [
    "* bullet point 1\n",
    "* bullet point 2\n",
    "\n",
    "```\n",
    "* bullet point 1\n",
    "* bullet point 2\n",
    "```"
   ]
  },
  {
   "cell_type": "markdown",
   "id": "0b423387-9036-4672-9aeb-694e6ddeba28",
   "metadata": {},
   "source": [
    "- bullet point 1\n",
    "- bullet point 2\n",
    "\n",
    "```\n",
    "- bullet point 1\n",
    "- bullet point 2\n",
    "```"
   ]
  },
  {
   "cell_type": "markdown",
   "id": "b098697d-dc5c-4b6b-844f-1dd7b5fb557e",
   "metadata": {},
   "source": [
    "- bullet point 1\n",
    "    - bullet point 1.1\n",
    "        - bullet point 1.1.1\n",
    "        - bullet point 1.1.2\n",
    "    - bullet point 1.2\n",
    " \n",
    "```\n",
    "- bullet point 1\n",
    "    - bullet point 1.1\n",
    "        - bullet point 1.1.1\n",
    "        - bullet point 1.1.2\n",
    "    - bullet point 1.2\n",
    "```"
   ]
  },
  {
   "cell_type": "markdown",
   "id": "4e79b2ff-32e6-400d-972d-1558f957533e",
   "metadata": {},
   "source": [
    "1. bullet point\n",
    "2. bullet point\n",
    "\n",
    "```\n",
    "1. bullet point\n",
    "2. bullet point\n",
    "```"
   ]
  },
  {
   "cell_type": "markdown",
   "id": "8ca80059-f7a2-4fd7-8e7f-a88f9cec8f9f",
   "metadata": {},
   "source": [
    "<ul>\n",
    "    <li> item 1 </li>\n",
    "    <li> item 2 </li>\n",
    "    <li> item 3 </li>\n",
    "</ul>\n",
    "\n",
    "```\n",
    "<ul>\n",
    "    <li> item 1 </li>\n",
    "    <li> item 2 </li>\n",
    "    <li> item 3 </li>\n",
    "</ul>\n",
    "```"
   ]
  },
  {
   "cell_type": "markdown",
   "id": "cd8468e9-a4e2-4004-9cdd-07710f0a3dbb",
   "metadata": {},
   "source": [
    "<ol>\n",
    "    <li> item 1 </li>\n",
    "    <li> item 2 </li>\n",
    "    <li> item 3 </li>\n",
    "</ol>\n",
    "\n",
    "```\n",
    "<ol>\n",
    "    <li> item 1 </li>\n",
    "    <li> item 2 </li>\n",
    "    <li> item 3 </li>\n",
    "</ol>\n",
    "```"
   ]
  },
  {
   "cell_type": "markdown",
   "id": "d43bc084-2292-4fff-87b0-d6df14e860e1",
   "metadata": {},
   "source": [
    "- [x] Done\n",
    "- [ ] To Do\n",
    "\n",
    "```\n",
    "- [x] Done\n",
    "- [ ] To Do\n",
    "```"
   ]
  },
  {
   "cell_type": "markdown",
   "id": "b2c42817-c626-4781-a744-d9fcb11e2a69",
   "metadata": {},
   "source": [
    "paragraph 1<br> paragraph 2<br>\n",
    "\n",
    "```\n",
    "paragraph 1<br> paragraph 2<br>\n",
    "```"
   ]
  },
  {
   "cell_type": "markdown",
   "id": "eb127142-bcf3-404e-8e95-a2a8ea0abc63",
   "metadata": {},
   "source": [
    "<p> paragraph 1 </p>\n",
    "<p> paragraph 2 </p>\n",
    "\n",
    "```\n",
    "<p> paragraph 1 </p>\n",
    "<p> paragraph 2 </p>\n",
    "```"
   ]
  },
  {
   "cell_type": "markdown",
   "id": "4b7df76c-a4b0-48d2-a766-5cb364fac479",
   "metadata": {},
   "source": [
    "> Quote\n",
    "\n",
    "```\n",
    "> Quote\n",
    "```"
   ]
  },
  {
   "cell_type": "markdown",
   "id": "293dcfa5-c208-4388-bc71-2deec5bb6ddb",
   "metadata": {},
   "source": [
    "> Quote level 1\n",
    ">> Quote level 2\n",
    ">>> Quote level 3\n",
    "\n",
    "```\n",
    "> Quote level 1\n",
    ">> Quote level 2\n",
    ">>> Quote level 3\n",
    "```"
   ]
  },
  {
   "cell_type": "markdown",
   "id": "75047586-85f6-4188-9f8f-5f4a97598558",
   "metadata": {},
   "source": [
    "$\\pi$\n",
    "$$\\pi$$\n",
    "\n",
    "```\n",
    "$\\pi$\n",
    "$$\\pi$$\n",
    "```"
   ]
  },
  {
   "cell_type": "markdown",
   "id": "820a22a2-8b71-4044-a60e-225bf2f4e569",
   "metadata": {},
   "source": [
    "| col 1 | col 2 | col 3 |\n",
    "|-:     |:-:    |:-     |\n",
    "|   1   |   A   |   a   |\n",
    "|   2   |   B   |   b   |\n",
    "\n",
    "```\n",
    "| col 1 | col 2 | col 3 |\n",
    "|-:     |:-:    |:-     |\n",
    "|   1   |   A   |   a   |\n",
    "|   2   |   B   |   b   |\n",
    "```"
   ]
  },
  {
   "cell_type": "markdown",
   "id": "ae530de6-86dc-4e04-af2d-d40954527e20",
   "metadata": {},
   "source": [
    "\\*\n",
    "\n",
    "```\n",
    "\\*\n",
    "```"
   ]
  },
  {
   "cell_type": "markdown",
   "id": "731271d0-4d3b-4b9a-be63-3d7168b2a29e",
   "metadata": {},
   "source": [
    "Repos [link](https://github.com/Visualize-ML).\n",
    "\n",
    "```\n",
    "Repos [link](https://github.com/Visualize-ML).\n",
    "```"
   ]
  },
  {
   "cell_type": "markdown",
   "id": "361e723c-ec15-45f3-aeec-40c4339503ba",
   "metadata": {},
   "source": [
    "~~~python\n",
    "print('Python is fun!')\n",
    "~~~\n",
    "\n",
    "```\n",
    "~~~python\n",
    "print('Python is fun!')\n",
    "~~~\n",
    "```"
   ]
  }
 ],
 "metadata": {
  "kernelspec": {
   "display_name": "Python 3 (ipykernel)",
   "language": "python",
   "name": "python3"
  },
  "language_info": {
   "codemirror_mode": {
    "name": "ipython",
    "version": 3
   },
   "file_extension": ".py",
   "mimetype": "text/x-python",
   "name": "python",
   "nbconvert_exporter": "python",
   "pygments_lexer": "ipython3",
   "version": "3.11.7"
  }
 },
 "nbformat": 4,
 "nbformat_minor": 5
}
