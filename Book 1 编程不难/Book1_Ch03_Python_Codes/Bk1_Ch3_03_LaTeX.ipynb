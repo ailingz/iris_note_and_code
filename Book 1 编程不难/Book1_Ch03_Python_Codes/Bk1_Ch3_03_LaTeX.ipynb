{
 "cells": [
  {
   "cell_type": "markdown",
   "id": "dc2d122f-ff23-4c4a-b6bc-8c25dd80be72",
   "metadata": {},
   "source": [
    "Book 1  \n",
    "Chapter 3 Using JupyterLab\n",
    "### LaTeX公式"
   ]
  },
  {
   "cell_type": "markdown",
   "id": "96df9f4c-b939-4420-b9e8-9159ff686c8f",
   "metadata": {},
   "source": [
    "$$A_{m \\times n} =\n",
    " \\begin{bmatrix}\n",
    "  a_{1,1} & a_{1,2} & \\cdots & a_{1,n} \\\\\n",
    "  a_{2,1} & a_{2,2} & \\cdots & a_{2,n} \\\\\n",
    "  \\vdots  & \\vdots  & \\ddots & \\vdots  \\\\\n",
    "  a_{m,1} & a_{m,2} & \\cdots & a_{m,n} \\\\\n",
    " \\end{bmatrix}$$"
   ]
  },
  {
   "cell_type": "markdown",
   "id": "b62214f2-eb12-4137-bd75-f7353a61985f",
   "metadata": {},
   "source": [
    "$$f_X(x) = \\frac{1}{\\sigma \\sqrt{2\\pi}}\n",
    " \\exp \\left(-\\frac{1}{2}\n",
    " \\left(\\frac{x-\\mu}{\\sigma}\\right)^2\\right)$$"
   ]
  },
  {
   "cell_type": "markdown",
   "id": "fb010f21-7e9f-4557-aad5-3ce031a5ca11",
   "metadata": {},
   "source": [
    "#### 字母样式"
   ]
  },
  {
   "cell_type": "markdown",
   "id": "aef84191-b0af-426d-a706-13125e2ee71c",
   "metadata": {},
   "source": [
    "| <div style=\"width:200px\">LaTeX</div> | <div style=\"width:150px\">Results</div> | <div style=\"width:300px\">Notes</div> |\n",
    "|:-|:-:|:-|\n",
    "|`${AaBbCc}$`|${AaBbCc}$|斜体，大部分数学符号、表达式|\n",
    "|`$\\mathrm{AaBbCc}$`|$\\mathrm{AaBbCc}$|正体，公式中的单位或文字|\n",
    "|`$\\mathbf{AaBbCc}$`|$\\mathbf{AaBbCc}$|粗体，向量、矩阵|\n",
    "|`$\\boldsymbol{AaBbCc}$`|$\\boldsymbol{AaBbCc}$|粗体、斜体，向量、矩阵|\n",
    "|`$\\mathtt{AaBbCc}$`|$\\mathtt{AaBbCc}$|等宽字体，常用于代码|\n",
    "|`$\\mathcal{ABCDEF}$`|$\\mathcal{ABCDEF}$|花体，用于表示数学中的集合、代数结构、算子|\n",
    "|`$\\mathbb{CROZN}$`|$\\mathbb{CROZN}$|黑板粗体 (blackboard bold)，常用来表达各种集合|\n",
    "|`$\\text{Aa Bb Cc}$`|$\\text{Aa Bb Cc}$|用来写公式中的文字|\n",
    "|`$\\mathrm{d}x$`|$\\mathrm{d}x$|ISO 规定导数符号d为正体|\n",
    "|`$\\operatorname{T}$`|$\\operatorname{T}$|运算符|"
   ]
  },
  {
   "cell_type": "markdown",
   "id": "2a3467c1-691d-4873-a965-550c6b11bf60",
   "metadata": {},
   "source": [
    "#### 标记"
   ]
  },
  {
   "cell_type": "markdown",
   "id": "2cd9e643-abe6-4053-9a43-bfe6ca5688b0",
   "metadata": {},
   "source": [
    "| <div style=\"width:200px\">LaTeX</div> | <div style=\"width:150px\">Results</div> | <div style=\"width:300px\">Notes</div> |\n",
    "|:-|:-:|:-|\n",
    "|`$x'$`<br>`$x^{\\prime}$`|$x'$|x prime|\n",
    "|`$x''$`|$x''$|x double prime|\n",
    "|`$\\overrightarrow{AB}$`|$\\overrightarrow{AB}$|a vector pointing from A to B|\n",
    "|`$\\underline{x}$`|$\\underline{x}$|x underline|\n",
    "|`$\\hat{x}$`|$\\hat{x}$|x hat|\n",
    "|`$\\bar{x}$`|$\\bar{x}$|x bar|\n",
    "|`$\\dot{x}$`|$\\dot{x}$|x dot|\n",
    "|`$\\tilde{x}$`|$\\tilde{x}$|x tilde|\n",
    "|`$x_i$`|$x_i$|x subscript i, x sub i|\n",
    "|`$x^i$`|$x^i$|x to the i, x to the ith, x to the i-th power<br>x raised to the i-th power|\n",
    "|`$\\ddot{x}$`|$\\ddot{x}$|x double dot|\n",
    "|`$x^*$`|$x^*$|x star, x super asterisk|\n",
    "|`$x\\dagger$`|$x\\dagger$|x dagger|\n",
    "|`$x\\ddagger$`|$x\\ddagger$|x double dagger|\n",
    "|`${\\color{red}x}$`|${\\color{red}x}$|red x|"
   ]
  },
  {
   "cell_type": "markdown",
   "id": "a20ae401-c116-4d1f-9184-a5f8c4980f6f",
   "metadata": {},
   "source": [
    "#### 希腊字母"
   ]
  },
  {
   "cell_type": "markdown",
   "id": "7c7268d2-749b-4680-b04e-251a02cce444",
   "metadata": {},
   "source": [
    "| <div style=\"width:100px\">Lowercase</div> | <div style=\"width:100px\">LaTeX</div> | <div style=\"width:100px\">Uppercase</div> | <div style=\"width:100px\">LaTeX</div> | <div style=\"width:100px\">English</div> | <div style=\"width:150px\">Pronunciation</div> |\n",
    "|:-:|:-:|:-:|:-:|-:|:-|\n",
    "|$\\alpha$|`$\\alpha$`|$A$|`$A$`|alpha|/ˈælfə/|\n",
    "|$\\beta$|`$\\beta$`|$B$|`$B$`|beta|/ˈbeɪtə/|\n",
    "|$\\gamma$|`$\\gamma$`|$\\Gamma$|`$\\Gamma$`|gamma|/ˈɡæmə/|\n",
    "|$\\delta$|`$\\delta$`|$\\Delta$|`$\\Delta$`|delta|/ˈdeltə/|\n",
    "|$\\epsilon$|`$\\epsilon$`|$E$|`$E$`|epsilon|/ˈepsɪlɑːn/|\n",
    "|$\\zeta$|`$\\zeta$`|$Z$|`$Z$`|zeta|/ˈziːtə/|\n",
    "|$\\eta$|`$\\eta$`|$H$|`$H$`|eta|/ˈiːtə/|\n",
    "|$\\theta$|`$\\theta$`|$\\Theta$|`$\\Theta$`|theta|/ˈθiːtə/|\n",
    "|$\\iota$|`$\\iota$`|$I$|`$I$`|iota|/aɪˈoʊtə/|\n",
    "|$\\kappa$|`$\\kappa$`|$K$|`$K$`|kappa|/ˈkæpə/|\n",
    "|$\\lambda$|`$\\lambda$`|$\\Lambda$|`$\\Lambda$`|lambda|/ˈlæmdə/|\n",
    "|$\\mu$|`$\\mu$`|$M$|`$M$`|mu|/mjuː/|\n",
    "|$\\nu$|`$\\nu$`|$N$|`$N$`|nu|/njuː/|\n",
    "|$\\xi$|`$\\xi$`|$\\Xi$|`$\\Xi$`|xi|/ksaɪ/ 或 /zaɪ/ 或 /ɡzaɪ/|\n",
    "|$\\omicron$|`$\\omicron$`|$O$|`$O$`|omicron|/ˈɑːməkrɑːn/|\n",
    "|$\\pi$|`$\\pi$`|$\\Pi$|`$\\Pi$`|pi|/paɪ/|\n",
    "|$\\rho$|`$\\rho$`|$P$|`$P$`|rho|/roʊ/|\n",
    "|$\\sigma$|`$\\sigma$`|$\\Sigma$|`$\\Sigma$`|sigma|/ˈsɪɡmə/|\n",
    "|$\\tau$|`$\\tau$`|$T$|`$T$`|tau|/taʊ/|\n",
    "|$\\upsilon$|`$\\upsilon$`|$Y$|`$Y$`|upsilon|/ˈʊpsɪlɑːn/|\n",
    "|$\\phi$|`$\\phi$`|$\\Phi$|`$\\Phi$`|phi|/faɪ/|\n",
    "|$\\chi$|`$\\chi$`|$X$|`$X$`|chi|/kaɪ/|\n",
    "|$\\psi$|`$\\psi$`|$\\Psi$|`$\\Psi$`|psi|/saɪ/|\n",
    "|$\\omega$|`$\\omega$`|$\\Omega$|`$\\Omega$`|omega|/oʊˈmeɡə/|"
   ]
  },
  {
   "cell_type": "markdown",
   "id": "529c7cbb-6fa0-4f40-bd98-59304cb0c7c7",
   "metadata": {},
   "source": [
    "##### 常用作变量的希腊字母"
   ]
  },
  {
   "cell_type": "markdown",
   "id": "37a9a6fc-85c3-44e7-940c-5a629b4933ec",
   "metadata": {},
   "source": [
    "| <div style=\"width:150px\">LaTeX</div> | <div style=\"width:150px\">Results</div> | <div style=\"width:150px\">LaTeX</div> | <div style=\"width:150px\">Results</div> |\n",
    "|:-:|:-:|:-:|:-:|\n",
    "|`$\\vartheta$`|$\\vartheta$|`$\\varrho$`|$\\varrho$|\n",
    "|`$\\varkappa$`|$\\varkappa$|`$\\varphi$`|$\\varphi$|\n",
    "|`$\\varpi$`|$\\varpi$|`$\\varepsilon$`|$\\varepsilon$|\n",
    "|`$\\varsigma$`|$\\varsigma$|||"
   ]
  },
  {
   "cell_type": "markdown",
   "id": "abd48a41-3a74-4ed6-a6da-63e0367d4ef6",
   "metadata": {},
   "source": [
    "#### 常用符号"
   ]
  },
  {
   "cell_type": "markdown",
   "id": "f3bf1582-603f-42cb-9dad-10d9bd8512c0",
   "metadata": {},
   "source": [
    "| <div style=\"width:150px\">LaTeX</div> | <div style=\"width:100px\">Results</div> | <div style=\"width:150px\">English</div> | <div style=\"width:150px\">Chinese</div> |\n",
    "|:-:|:-:|:-|:-|\n",
    "|`$\\|x\\|$`|$\\vert x\\vert$|absolute value of x|绝对值|"
   ]
  },
  {
   "cell_type": "markdown",
   "id": "60b477fe-422a-4520-a4bd-098969d76703",
   "metadata": {},
   "source": [
    "#### 代数"
   ]
  },
  {
   "cell_type": "markdown",
   "id": "05f432be-fa73-4e12-9d43-60faeb1575fb",
   "metadata": {},
   "source": [
    "##### 多项式\n",
    "\n",
    "$x^{2} - y^{2} = \\left(x + y\\right)\\left(x - y\\right)$  \n",
    "$a_{n}x^{n} + a_{n-1}x^{n-1} + \\dotsb + a_{2}x^{2} + a_{1}x + a_{0}$  \n",
    "$\\sum_{k=0}^{n}a_{k}x^{k}$  \n",
    "$ax^{2} + bx + c = 0\\ (a\\neq 0) $"
   ]
  },
  {
   "cell_type": "markdown",
   "id": "ed9975f7-b280-486f-9406-65fd641bb7cd",
   "metadata": {},
   "source": [
    "##### 根式\n",
    "\n",
    "${\\sqrt[{n}]{a^{m}}} = (a^{m})^{1/n} = a^{m/n} = (a^{1/n})^{m} = ({\\sqrt[{n}]{a}})^{m}$  \n",
    "$\\left({\\sqrt{1 - x^{2}}}\\right)^{2}$"
   ]
  },
  {
   "cell_type": "markdown",
   "id": "357af4e8-e9c8-476e-b61a-6121a4fb883b",
   "metadata": {},
   "source": [
    "\n",
    "\n",
    "\n",
    "\n"
   ]
  },
  {
   "cell_type": "markdown",
   "id": "98c51aa9-f65d-4311-9708-4703a3b468e9",
   "metadata": {},
   "source": [
    "##### 分式\n",
    "\n",
    "$\\frac{1}{x+1} + {\\frac {1}{x-1}} = {\\frac{2x}{x^{2} - 1}}$  \n",
    "$x_{1,2} = {\\frac{-b \\pm {\\sqrt{b^{2} - 4ac}}}{2a}}$"
   ]
  },
  {
   "cell_type": "markdown",
   "id": "e519c260-cde0-4e05-a243-74cc72f08353",
   "metadata": {},
   "source": [
    "##### 函数\n",
    "\n",
    "$f(x) = ax^{2} + bx + c ~~{\\text{ with }}~~ a,b,c \\in \\mathbb{R},\\ a \\neq 0$  \n",
    "$f(x_1, x_2) = x_1^2 + x_2^2 + 2x_1x_2$  \n",
    "$\\log_{b}(xy) = \\log_{b}x + \\log_{b}y$  \n",
    "$\\ln(xy) = \\ln x + \\ln y{\\text{ for }} x>0 {\\text{ and }} y>0$  \n",
    "$f(x) = a\\exp\\left(-{\\frac{(x - b)^{2}}{2c^{2}}}\\right)$"
   ]
  },
  {
   "cell_type": "markdown",
   "id": "2db227c8-d318-48e0-bfd5-8d4c3866430e",
   "metadata": {},
   "source": [
    "##### 三角恒等式\n",
    "\n",
    "$\\sin^{2}\\theta + \\cos^{2}\\theta = 1$  \n",
    "$\\sin2\\theta = 2\\sin\\theta \\cos\\theta$  \n",
    "$\\sin(\\alpha \\pm \\beta) = \\sin\\alpha\\cos\\beta \\pm \\cos\\alpha\\sin\\beta$  \n",
    "$\\tan(\\alpha \\pm \\beta) = \\frac{\\tan\\alpha \\pm \\tan\\beta}{1 \\mp \\tan\\alpha\\tan\\beta}$"
   ]
  },
  {
   "cell_type": "markdown",
   "id": "b6d8f40e-f4a3-4eb6-be2a-97282630e6bf",
   "metadata": {},
   "source": [
    "##### 微积分\n",
    "\n",
    "$\\exp(x) = \\sum_{k=0}^{\\infty}{\\frac{x^{k}}{k!}} = 1 + x + {\\frac{x^{2}}{2}} + {\\frac{x^{3}}{6}} + {\\frac{x^{4}}{24}} + \\cdots$  \n",
    "$\\left(\\sum_{i=0}^{n}a_{i}\\right)\\left(\\sum_{j=0}^{n}b_{j}\\right) = \\sum_{i=0}^{n}\\sum_{j=0}^{n}a_{i}b_{j}$  \n",
    "$\\exp(x) = \\lim_{n \\to \\infty}\\left(1 + {\\frac{x}{n}}\\right)^{n}$  \n",
    "$\\frac{\\mathrm{d}}{\\mathrm{d}x} \\exp(f(x)) = f'(x)\\exp(f(x))$  \n",
    "$\\int_{a}^{b}f(x)\\mathrm{d}x$  \n",
    "$\\int_{-\\infty}^{\\infty}\\exp(-x^{2})\\mathrm{d}x = {\\sqrt{\\mathrm{\\pi}}}$  \n",
    "$\\int_{-\\infty}^{\\infty}\\int _{-\\infty}^{\\infty}\\exp\\left({-\\left(x^{2} + y^{2}\\right)}\\right){\\mathrm{d}x}{\\mathrm{d}y} = \\pi$  \n",
    "$\\frac{\\partial^{2}f}{\\partial x^{2}} = f''_{xx} = \\partial_{xx}f = \\partial_{x}^{2}f$  \n",
    "${\\frac{\\partial^{2}f}{\\partial y\\partial x}} = {\\frac{\\partial}{\\partial y}}\\left({\\frac{\\partial f}{\\partial x}}\\right) = f''_{xy}$"
   ]
  },
  {
   "cell_type": "markdown",
   "id": "9db40891-970b-4e57-b98d-e7f25029f5c9",
   "metadata": {},
   "source": [
    "#### 线性代数"
   ]
  },
  {
   "cell_type": "markdown",
   "id": "34d75290-99d1-4f85-b229-c50ddd3f1a00",
   "metadata": {},
   "source": [
    "##### 向量\n",
    "\n",
    "$\\mathbf{a} = {\\begin{bmatrix} a_{1} \\\\ a_{2} \\\\ a_{3} \\end{bmatrix}} = [a_{1}\\ a_{2}\\ a_{3}]^{\\operatorname {T}}$  \n",
    "$\\left\\|\\mathbf{a}\\right\\| = \\sqrt{a_{1}^{2} + a_{2}^{2} + a_{3}^{2}}$  \n",
    "$\\mathbf{a} \\cdot \\mathbf{b} = a_{1}b_{1} + a_{2}b_{2} + a_{3}b_{3}$  \n",
    "$\\mathbf{a} \\cdot \\mathbf{b} = \\left\\|\\mathbf{a}\\right\\| \\left\\|\\mathbf{b}\\right\\| \\cos\\theta$  \n",
    "$\\|\\mathbf{x}\\|_{p} = \\left(\\sum_{i=1}^{n} \\left|x_{i}\\right|^{p}\\right)^{1/p}$"
   ]
  },
  {
   "cell_type": "markdown",
   "id": "1dfa8414-f6f8-4a72-94fb-7cc62dab45b2",
   "metadata": {},
   "source": [
    "##### 矩阵\n",
    "\n",
    "$\\mathbf{A} = {\\begin{bmatrix} 1 & 2\\\\ 3 & 4 \\\\ 5 & 6 \\end{bmatrix}}$  \n",
    "$\\mathbf{A} = {\\begin{bmatrix}\n",
    "a_{11} & a_{12} & \\cdots & a_{1n} \\\\\n",
    "a_{21} & a_{22} & \\cdots & a_{2n} \\\\\n",
    "\\vdots & \\vdots & \\ddots & \\vdots \\\\\n",
    "a_{m1} & a_{m2} & \\cdots & a_{mn}\n",
    "\\end{bmatrix}}$  \n",
    "$\\left(\\mathbf{A} + \\mathbf{B}\\right)^{\\operatorname{T}} = \\mathbf{A}^{\\operatorname{T}} + \\mathbf{B}^{\\operatorname{T}}$  \n",
    "$\\left(\\mathbf{AB}\\right)^{\\operatorname{T}} = \\mathbf{B}^{\\operatorname{T}}\\mathbf{A}^{\\operatorname{T}}$  \n",
    "$\\left(\\mathbf{A}^{\\operatorname{T}}\\right)^{-1} = \\left(\\mathbf{A}^{-1}\\right)^{\\operatorname{T}}$  \n",
    "$\\mathbf{u} \\otimes \\mathbf{v} =\n",
    " \\mathbf{u} \\mathbf{v}^{\\operatorname{T}} =\n",
    " {\\begin{bmatrix}u_{1} \\\\ u_{2} \\\\ u_{3} \\\\ u_{4}\\end{bmatrix}}\n",
    " {\\begin{bmatrix}v_{1} & v_{2} & v_{3}\\end{bmatrix}} =\n",
    " {\\begin{bmatrix}\n",
    "  u_{1}v_{1} & u_{1}v_{2} & u_{1}v_{3} \\\\\n",
    "  u_{2}v_{1} & u_{2}v_{2} & u_{2}v_{3} \\\\\n",
    "  u_{3}v_{1} & u_{3}v_{2} & u_{3}v_{3} \\\\\n",
    "  u_{4}v_{1} & u_{4}v_{2} & u_{4}v_{3}\n",
    " \\end{bmatrix}}$  \n",
    "$\\det{\\begin{bmatrix}a & b \\\\ c & d\\end{bmatrix}} = ad - bc$"
   ]
  },
  {
   "cell_type": "markdown",
   "id": "becd2a95-4a13-455b-b66a-1835d468b968",
   "metadata": {},
   "source": [
    "#### 概率统计\n",
    "\n",
    "$\\Pr(A \\vert B) = {\\frac{\\Pr(B \\vert A)\\Pr(A)}{\\Pr(B)}}$  \n",
    "$f_{X \\vert Y=y}(x) = {\\frac{f_{X,Y}(x,y)}{f_{Y}(y)}}$  \n",
    "$\\operatorname{var}(X) = \\operatorname{E}\\left[X^{2}\\right] - \\operatorname{E}[X]^{2}$  \n",
    "$\\operatorname{var}(aX+bY) = a^{2}\\operatorname{var}(X) + b^{2}\\operatorname{var}(Y) + 2ab\\operatorname{cov}(X,Y)$  \n",
    "$\\operatorname{E}[X] = \\int_{-\\infty}^{\\infty}xf_{X}(x)\\operatorname{d}x$  \n",
    "$X \\sim N(\\mu, \\sigma^{2})$  \n",
    "$\\frac{\\exp\\left(-{\\frac{1}{2}}\\left({\\mathbf{x}} - {\\boldsymbol{\\mu}}\\right)^{\\mathrm{T}}\n",
    "{\\boldsymbol{\\Sigma}}^{-1}\\left({\\mathbf{x}} - {\\boldsymbol{\\mu}}\\right)\\right)}\n",
    "{\\sqrt{(2\\pi)^{k}|{\\boldsymbol{\\Sigma}}|}}$"
   ]
  }
 ],
 "metadata": {
  "kernelspec": {
   "display_name": "Python 3 (ipykernel)",
   "language": "python",
   "name": "python3"
  },
  "language_info": {
   "codemirror_mode": {
    "name": "ipython",
    "version": 3
   },
   "file_extension": ".py",
   "mimetype": "text/x-python",
   "name": "python",
   "nbconvert_exporter": "python",
   "pygments_lexer": "ipython3",
   "version": "3.11.7"
  }
 },
 "nbformat": 4,
 "nbformat_minor": 5
}
