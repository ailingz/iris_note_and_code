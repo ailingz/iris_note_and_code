{
 "cells": [
  {
   "cell_type": "markdown",
   "id": "91cb7329-c4a4-47fc-ab8d-2b5b77529c5d",
   "metadata": {},
   "source": [
    "Book 1  \n",
    "Chapter 8 Functions in Python\n",
    "### 自定义函数中的帮助文档"
   ]
  },
  {
   "cell_type": "code",
   "execution_count": 3,
   "id": "06be6829-0708-43f0-8fe2-0bfb5da7e602",
   "metadata": {},
   "outputs": [],
   "source": [
    "# 计算向量内积\n",
    "def inner_prod(a, b):\n",
    "    '''\n",
    "    自定义函数计算两个向量内积\n",
    "    输入:\n",
    "    a: 向量，类型为数据列表\n",
    "    b: 向量，类型为数据列表\n",
    "    输出:\n",
    "    c: 标量\n",
    "    参考:\n",
    "    https://mathworld.wolfram.com/InnerProduct.html\n",
    "    '''\n",
    "\n",
    "    # 检查两个向量元素数量是否相同\n",
    "    if len(a) != len(b):\n",
    "        raise ValueError('Error: check a/b lengths')\n",
    "\n",
    "    # 初始化内积为0\n",
    "    dot_product = 0\n",
    "\n",
    "    # 使用for循环计算内积\n",
    "    for i in range(len(a)):\n",
    "        dot_product += a[i] * b[i]\n",
    "\n",
    "    return dot_product"
   ]
  },
  {
   "cell_type": "code",
   "execution_count": 4,
   "id": "00ee8a71-0f6f-47f0-9a9a-c842910317cf",
   "metadata": {},
   "outputs": [
    {
     "name": "stdout",
     "output_type": "stream",
     "text": [
      "Help on function inner_prod in module __main__:\n",
      "\n",
      "inner_prod(a, b)\n",
      "    自定义函数计算两个向量内积\n",
      "    输入:\n",
      "    a: 向量，类型为数据列表\n",
      "    b: 向量，类型为数据列表\n",
      "    输出:\n",
      "    c: 标量\n",
      "    参考:\n",
      "    https://mathworld.wolfram.com/InnerProduct.html\n",
      "\n"
     ]
    }
   ],
   "source": [
    "# 查询自定义函数文档，两种办法\n",
    "help(inner_prod)"
   ]
  },
  {
   "cell_type": "code",
   "execution_count": 5,
   "id": "f834bfde-69a4-402d-97a6-0c8574bbc22f",
   "metadata": {},
   "outputs": [
    {
     "name": "stdout",
     "output_type": "stream",
     "text": [
      "\n",
      "    自定义函数计算两个向量内积\n",
      "    输入:\n",
      "    a: 向量，类型为数据列表\n",
      "    b: 向量，类型为数据列表\n",
      "    输出:\n",
      "    c: 标量\n",
      "    参考:\n",
      "    https://mathworld.wolfram.com/InnerProduct.html\n",
      "    \n"
     ]
    }
   ],
   "source": [
    "print(inner_prod.__doc__)"
   ]
  },
  {
   "cell_type": "code",
   "execution_count": 6,
   "id": "118ca26b-6a13-4aae-aaaf-4df7dfe54d9d",
   "metadata": {},
   "outputs": [],
   "source": [
    "# 定义向量 a 和 b\n",
    "a = [1, 2, 3, 4, 5, 6, 7, 8, 9]\n",
    "b = a[::-1]"
   ]
  },
  {
   "cell_type": "code",
   "execution_count": 7,
   "id": "46a292b3-f713-4b35-8e0e-0438f92f5a98",
   "metadata": {},
   "outputs": [
    {
     "name": "stdout",
     "output_type": "stream",
     "text": [
      "The inner product is : 165\n"
     ]
    }
   ],
   "source": [
    "c = inner_prod(a, b)\n",
    "print(f'The inner product is : {c}')"
   ]
  }
 ],
 "metadata": {
  "kernelspec": {
   "display_name": "Python 3 (ipykernel)",
   "language": "python",
   "name": "python3"
  },
  "language_info": {
   "codemirror_mode": {
    "name": "ipython",
    "version": 3
   },
   "file_extension": ".py",
   "mimetype": "text/x-python",
   "name": "python",
   "nbconvert_exporter": "python",
   "pygments_lexer": "ipython3",
   "version": "3.11.7"
  }
 },
 "nbformat": 4,
 "nbformat_minor": 5
}
