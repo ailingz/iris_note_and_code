{
 "cells": [
  {
   "cell_type": "markdown",
   "id": "18d00420-d8c8-48be-992c-d30c11f103ba",
   "metadata": {},
   "source": [
    "Book 1  \n",
    "Chapter 8 Functions in Python\n",
    "### 2 × 2矩阵的行列式值\n",
    "\n",
    "**行列式 Determinant**: 将方阵映射成一个标量，`numpy.linalg.det()`  \n",
    "$\\det{\\begin{bmatrix}a & b \\\\ c & d\\end{bmatrix}} = ad - bc$"
   ]
  },
  {
   "cell_type": "code",
   "execution_count": 3,
   "id": "8056ff0f-5e71-4186-a412-73fa3075b5de",
   "metadata": {},
   "outputs": [],
   "source": [
    "def determinant_2x2(matrix):\n",
    "    if len(matrix) != 2 or len(matrix[0]) != 2:\n",
    "        raise ValueError('Matrix must be 2x2')\n",
    "\n",
    "    a = matrix[0][0]\n",
    "    b = matrix[0][1]\n",
    "    c = matrix[1][0]\n",
    "    d = matrix[1][1]\n",
    "\n",
    "    det = a*d - b*c\n",
    "\n",
    "    return det"
   ]
  },
  {
   "cell_type": "code",
   "execution_count": 4,
   "id": "cc61d198-0c0b-4baf-afb5-b80dc8775d92",
   "metadata": {},
   "outputs": [],
   "source": [
    "A = [[3, 2],\n",
    "     [1, 4]]"
   ]
  },
  {
   "cell_type": "code",
   "execution_count": 5,
   "id": "4a05ed01-842c-4c30-bc9f-936722659233",
   "metadata": {},
   "outputs": [
    {
     "name": "stdout",
     "output_type": "stream",
     "text": [
      "Determinant of matrix A is 10\n"
     ]
    }
   ],
   "source": [
    "det = determinant_2x2(A)\n",
    "print('Determinant of matrix A is', det)"
   ]
  }
 ],
 "metadata": {
  "kernelspec": {
   "display_name": "Python 3 (ipykernel)",
   "language": "python",
   "name": "python3"
  },
  "language_info": {
   "codemirror_mode": {
    "name": "ipython",
    "version": 3
   },
   "file_extension": ".py",
   "mimetype": "text/x-python",
   "name": "python",
   "nbconvert_exporter": "python",
   "pygments_lexer": "ipython3",
   "version": "3.11.7"
  }
 },
 "nbformat": 4,
 "nbformat_minor": 5
}
