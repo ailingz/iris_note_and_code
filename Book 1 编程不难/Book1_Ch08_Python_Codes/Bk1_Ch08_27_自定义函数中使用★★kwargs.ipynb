{
 "cells": [
  {
   "cell_type": "markdown",
   "id": "94afe18a-933e-49b1-9aa8-61e2ba9b52e7",
   "metadata": {},
   "source": [
    "Book 1  \n",
    "Chapter 8 Functions in Python\n",
    "### `**kwargs` in User Defined Functions"
   ]
  },
  {
   "cell_type": "code",
   "execution_count": 2,
   "id": "7d7fc572-88e4-4aff-9471-684ffe401a88",
   "metadata": {
    "tags": []
   },
   "outputs": [],
   "source": [
    "# 利用 **kwargs\n",
    "def multiply_all_2(**kwargs):\n",
    "    result = 1\n",
    "    print(type(kwargs))\n",
    "\n",
    "    # 循环dict()\n",
    "    for key, value in kwargs.items():\n",
    "        print('The value of {} is {}'.format(key, value))\n",
    "\n",
    "        result *= value\n",
    "\n",
    "    return result"
   ]
  },
  {
   "cell_type": "code",
   "execution_count": 3,
   "id": "3eecb5f0-c21f-4a6c-b1e3-e418c1c77fcf",
   "metadata": {
    "tags": []
   },
   "outputs": [
    {
     "name": "stdout",
     "output_type": "stream",
     "text": [
      "<class 'dict'>\n",
      "The value of A is 1\n",
      "The value of B is 2\n",
      "The value of C is 3\n",
      "6\n"
     ]
    }
   ],
   "source": [
    "print(multiply_all_2(A=1, B=2, C=3))"
   ]
  },
  {
   "cell_type": "code",
   "execution_count": 4,
   "id": "e7556e00-957b-4be3-b4f7-b0afcf9e7fb1",
   "metadata": {
    "tags": []
   },
   "outputs": [
    {
     "name": "stdout",
     "output_type": "stream",
     "text": [
      "<class 'dict'>\n",
      "The value of A is 1\n",
      "The value of B is 2\n",
      "The value of C is 3\n",
      "The value of D is 4\n",
      "24\n"
     ]
    }
   ],
   "source": [
    "print(multiply_all_2(A=1, B=2, C=3, D=4))"
   ]
  }
 ],
 "metadata": {
  "kernelspec": {
   "display_name": "Python 3 (ipykernel)",
   "language": "python",
   "name": "python3"
  },
  "language_info": {
   "codemirror_mode": {
    "name": "ipython",
    "version": 3
   },
   "file_extension": ".py",
   "mimetype": "text/x-python",
   "name": "python",
   "nbconvert_exporter": "python",
   "pygments_lexer": "ipython3",
   "version": "3.11.7"
  }
 },
 "nbformat": 4,
 "nbformat_minor": 5
}
