{
 "cells": [
  {
   "cell_type": "markdown",
   "id": "cfdb7c77-94a0-4c89-958d-5f641d50a64b",
   "metadata": {},
   "source": [
    "Book 1  \n",
    "Chapter 8 Functions in Python\n",
    "### 产生全0矩阵\n",
    "\n",
    "**全0矩阵 Zero matrix**: 一个所有元素都为零的矩阵, `numpy.zeros()`/`numpy.zeros_like()`"
   ]
  },
  {
   "cell_type": "code",
   "execution_count": 3,
   "id": "7f933005-1e37-4b39-8a20-4da7c8cfc1b6",
   "metadata": {},
   "outputs": [],
   "source": [
    "# 自定义函数产生全0矩阵\n",
    "def create_zeros_matrix(rows, cols):\n",
    "    matrix = []\n",
    "\n",
    "    for _ in range(rows):\n",
    "        row_idx = [0] * cols\n",
    "        matrix.append(row_idx)\n",
    "\n",
    "    return matrix        "
   ]
  },
  {
   "cell_type": "code",
   "execution_count": 4,
   "id": "b8c22e57-9631-4f5e-b185-549ec1e5d82b",
   "metadata": {},
   "outputs": [
    {
     "name": "stdout",
     "output_type": "stream",
     "text": [
      "[0, 0, 0, 0]\n",
      "[0, 0, 0, 0]\n",
      "[0, 0, 0, 0]\n"
     ]
    }
   ],
   "source": [
    "# 调用自定义函数\n",
    "m = create_zeros_matrix(3, 4)\n",
    "for row in m:\n",
    "    print(row)"
   ]
  }
 ],
 "metadata": {
  "kernelspec": {
   "display_name": "Python 3 (ipykernel)",
   "language": "python",
   "name": "python3"
  },
  "language_info": {
   "codemirror_mode": {
    "name": "ipython",
    "version": 3
   },
   "file_extension": ".py",
   "mimetype": "text/x-python",
   "name": "python",
   "nbconvert_exporter": "python",
   "pygments_lexer": "ipython3",
   "version": "3.11.7"
  }
 },
 "nbformat": 4,
 "nbformat_minor": 5
}
