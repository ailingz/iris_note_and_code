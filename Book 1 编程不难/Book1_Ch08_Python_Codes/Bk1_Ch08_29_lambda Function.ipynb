{
 "cells": [
  {
   "cell_type": "markdown",
   "id": "a37e2b87-07c3-48b3-b8c0-3c22a5144934",
   "metadata": {},
   "source": [
    "Book 1  \n",
    "Chapter 8 Functions in Python\n",
    "### `lambda` 函数\n",
    "\n",
    "`lambda arguments: expression`"
   ]
  },
  {
   "cell_type": "code",
   "execution_count": 2,
   "id": "0a5169dc-49f7-47f0-83d2-4cb7c3946fbb",
   "metadata": {},
   "outputs": [],
   "source": [
    "my_list = [1, 2, 3, 4, 5]"
   ]
  },
  {
   "cell_type": "code",
   "execution_count": 3,
   "id": "02405632-e78b-4981-8c82-e21ca6040815",
   "metadata": {},
   "outputs": [
    {
     "name": "stdout",
     "output_type": "stream",
     "text": [
      "[2, 3, 4, 5, 6]\n"
     ]
    }
   ],
   "source": [
    "# 将列表中的所有元素加 1\n",
    "list_plus_1 = list(map(lambda x: x + 1, my_list))\n",
    "# map() 是一种内置的高阶函数 higher-order function，接受一个函数和一个可迭代对象作为输入\n",
    "# 将函数应用于可迭代对象的每个元素并返回一个可迭代对象，其中每个元素都是应用于原始可迭代对象的函数的结果\n",
    "\n",
    "print(list_plus_1)"
   ]
  },
  {
   "cell_type": "code",
   "execution_count": 4,
   "id": "ec7f1858-1ed2-4f31-9122-274306625a39",
   "metadata": {},
   "outputs": [
    {
     "name": "stdout",
     "output_type": "stream",
     "text": [
      "[1, 4, 9, 16, 25]\n"
     ]
    }
   ],
   "source": [
    "# 将列表中的所有元素分别求平方\n",
    "list_squared = list(map(lambda x: x ** 2, my_list))\n",
    "print(list_squared)"
   ]
  },
  {
   "cell_type": "code",
   "execution_count": 5,
   "id": "c7785c17-33ab-45c1-8c17-c81b1b550783",
   "metadata": {},
   "outputs": [
    {
     "data": {
      "text/plain": [
       "2"
      ]
     },
     "execution_count": 5,
     "metadata": {},
     "output_type": "execute_result"
    }
   ],
   "source": [
    "(lambda x: x + 1)(1)"
   ]
  }
 ],
 "metadata": {
  "kernelspec": {
   "display_name": "Python 3 (ipykernel)",
   "language": "python",
   "name": "python3"
  },
  "language_info": {
   "codemirror_mode": {
    "name": "ipython",
    "version": 3
   },
   "file_extension": ".py",
   "mimetype": "text/x-python",
   "name": "python",
   "nbconvert_exporter": "python",
   "pygments_lexer": "ipython3",
   "version": "3.11.7"
  }
 },
 "nbformat": 4,
 "nbformat_minor": 5
}
