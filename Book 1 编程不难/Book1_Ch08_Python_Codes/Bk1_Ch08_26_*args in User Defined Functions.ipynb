{
 "cells": [
  {
   "cell_type": "markdown",
   "id": "b83f4748-838c-4163-b15f-34b98ffcc89b",
   "metadata": {},
   "source": [
    "Book 1  \n",
    "Chapter 8 Functions in Python\n",
    "### 自定义函数中使用 `*args`"
   ]
  },
  {
   "cell_type": "code",
   "execution_count": 2,
   "id": "f99b05f3-4c49-45ee-88c8-a1c3861f3a66",
   "metadata": {},
   "outputs": [],
   "source": [
    "# 利用 *args\n",
    "def multiply_all(*args):\n",
    "    result = 1\n",
    "    print(args)\n",
    "\n",
    "    for num_idx in args:\n",
    "        result *= num_idx\n",
    "\n",
    "    return result"
   ]
  },
  {
   "cell_type": "code",
   "execution_count": 3,
   "id": "33617586-8ffe-486b-b45f-e5d7f057bb08",
   "metadata": {},
   "outputs": [
    {
     "name": "stdout",
     "output_type": "stream",
     "text": [
      "(1, 2, 3, 4)\n",
      "24\n"
     ]
    }
   ],
   "source": [
    "print(multiply_all(1, 2, 3, 4))"
   ]
  },
  {
   "cell_type": "code",
   "execution_count": 4,
   "id": "7f598214-4b31-4062-91bf-fb40d929aee9",
   "metadata": {},
   "outputs": [
    {
     "name": "stdout",
     "output_type": "stream",
     "text": [
      "(1, 2, 3, 4, 5, 6)\n",
      "720\n"
     ]
    }
   ],
   "source": [
    "print(multiply_all(1, 2, 3, 4, 5, 6))"
   ]
  }
 ],
 "metadata": {
  "kernelspec": {
   "display_name": "Python 3 (ipykernel)",
   "language": "python",
   "name": "python3"
  },
  "language_info": {
   "codemirror_mode": {
    "name": "ipython",
    "version": 3
   },
   "file_extension": ".py",
   "mimetype": "text/x-python",
   "name": "python",
   "nbconvert_exporter": "python",
   "pygments_lexer": "ipython3",
   "version": "3.11.7"
  }
 },
 "nbformat": 4,
 "nbformat_minor": 5
}
