{
 "cells": [
  {
   "cell_type": "code",
   "execution_count": 1,
   "id": "ba810010-a4b5-4fd6-95af-eaf8ebd8be85",
   "metadata": {},
   "outputs": [],
   "source": [
    "# 找到源代码"
   ]
  },
  {
   "cell_type": "code",
   "execution_count": 2,
   "id": "bdfa301e-d661-4df5-94be-b53bdeacd978",
   "metadata": {},
   "outputs": [],
   "source": [
    "# 1.\n",
    "# import statistics\n",
    "# ??statistics.linear_regression # 获取函数或模块的帮助文档、源代码\n",
    "# help(statistics.linear_regression) # 获取函数的帮助文档"
   ]
  },
  {
   "cell_type": "code",
   "execution_count": 3,
   "id": "9856775d-8ce2-4c86-9cb9-aa2f9b1a5af1",
   "metadata": {},
   "outputs": [],
   "source": [
    "# 2.\n",
    "# https://docs.python.org/3/library/statistics.html\n",
    "# https://github.com/python/cpython/blob/main/Lib/statistics.py"
   ]
  },
  {
   "cell_type": "code",
   "execution_count": 4,
   "id": "99756978-54cf-4230-b741-7a726c50fdc2",
   "metadata": {
    "tags": []
   },
   "outputs": [],
   "source": [
    "# 3.\n",
    "# C:\\Users\\ereiz\\anaconda3\\Lib\\statistics.py\n",
    "# C:\\Users\\ereiz\\AppData\\Local\\Programs\\Python\\Python312\\Lib\\statistics.py"
   ]
  },
  {
   "cell_type": "code",
   "execution_count": 5,
   "id": "a01dcd48-7dd4-46a0-872b-a1e5cf043f27",
   "metadata": {
    "tags": []
   },
   "outputs": [],
   "source": [
    "# 4.\n",
    "# 在 Spyder 中利用 ctrl + O 打开 statistics.linear_regression"
   ]
  },
  {
   "cell_type": "code",
   "execution_count": 6,
   "id": "747e5cb0-67e9-4af2-b330-2cd8f1b374fd",
   "metadata": {
    "tags": []
   },
   "outputs": [],
   "source": [
    "from math import fsum\n",
    "from collections import namedtuple\n",
    "\n",
    "def linear_regression(x, y, /):\n",
    "    n = len(x)\n",
    "\n",
    "    if len(y) != n:\n",
    "        raise StatisticsError('linear regression requires that both inputs have same number of data points')\n",
    "    if n < 2:\n",
    "        raise StatisticsError('linear regression requires at least two data points')\n",
    "\n",
    "    xbar = fsum(x) / n\n",
    "    ybar = fsum(y) / n\n",
    "\n",
    "    sxy = fsum((xi - xbar) * (yi - ybar) for xi, yi in zip(x, y))\n",
    "    sxx = fsum((xi - xbar) ** 2.0 for xi in x)\n",
    "\n",
    "    try:\n",
    "        slope = sxy / sxx\n",
    "        # equivalent to: covariance(x, y) / variance(x)\n",
    "    except ZeroDivisionError:\n",
    "        raise StatisticsError('x is constant')\n",
    "\n",
    "    intercept = ybar - slope * xbar\n",
    "\n",
    "    LinearRegression = namedtuple('LinearRegression', ('slope', 'intercept'))\n",
    "    # 用 Python 中 collections 模块中 namedtuple 函数创建的具有命名字段的轻量级的类似元组的数据结构\n",
    "\n",
    "    return LinearRegression(slope=slope, intercept=intercept)"
   ]
  },
  {
   "cell_type": "code",
   "execution_count": 7,
   "id": "3974ef1d-4f02-4bcd-a2d7-5e17f22408f2",
   "metadata": {
    "tags": []
   },
   "outputs": [
    {
     "name": "stdout",
     "output_type": "stream",
     "text": [
      "LinearRegression(slope=1.0, intercept=0.0)\n",
      "1.0\n",
      "1.0\n"
     ]
    }
   ],
   "source": [
    "print(linear_regression([1, 2, 3], [1, 2, 3]))\n",
    "print(linear_regression([1, 2, 3], [1, 2, 3]).slope)\n",
    "print(linear_regression([1, 2, 3], [1, 2, 3])[0])"
   ]
  }
 ],
 "metadata": {
  "kernelspec": {
   "display_name": "Python 3 (ipykernel)",
   "language": "python",
   "name": "python3"
  },
  "language_info": {
   "codemirror_mode": {
    "name": "ipython",
    "version": 3
   },
   "file_extension": ".py",
   "mimetype": "text/x-python",
   "name": "python",
   "nbconvert_exporter": "python",
   "pygments_lexer": "ipython3",
   "version": "3.11.7"
  }
 },
 "nbformat": 4,
 "nbformat_minor": 5
}
