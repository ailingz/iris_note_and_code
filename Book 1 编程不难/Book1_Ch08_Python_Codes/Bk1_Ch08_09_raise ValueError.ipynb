{
 "cells": [
  {
   "cell_type": "markdown",
   "id": "c9d206da-69db-40c9-8d09-bc0ba65dfe73",
   "metadata": {},
   "source": [
    "Book 1  \n",
    "Chapter 8 Functions in Python\n",
    "### 增加矩阵形状不匹配的报错信息"
   ]
  },
  {
   "cell_type": "code",
   "execution_count": 3,
   "id": "50212fb4-cbd3-42df-8be4-72f8c37b86f2",
   "metadata": {},
   "outputs": [],
   "source": [
    "# 自定义函数\n",
    "def matrix_multiplication(A, B):\n",
    "    # 检查两个矩阵形状是否匹配\n",
    "    if len(A[0]) != len(B):\n",
    "        raise ValueError('Error: check matrix sizes')\n",
    "    else:\n",
    "        # 定义全 0 矩阵 C 用来存放结果\n",
    "        C = [[0] * len(B[0]) for i in range(len(A))]\n",
    "\n",
    "        # 遍历 A 的行\n",
    "        for i in range(len(A)):\n",
    "\n",
    "            # 遍历 B 的列\n",
    "            for j in range(len(B[0])):\n",
    "\n",
    "                # 这一层相当于消去 p 所在的维度，即压缩\n",
    "                for k in range(len(B)):\n",
    "                    C[i][j] += A[i][k] * B[k][j]\n",
    "\n",
    "        return C"
   ]
  },
  {
   "cell_type": "code",
   "execution_count": 4,
   "id": "ee0679b2-ab6e-4093-9b9b-da0ba05d0018",
   "metadata": {},
   "outputs": [],
   "source": [
    "# 定义矩阵 A 和 B\n",
    "A = [[1], [2], [3], [4]]\n",
    "B = [[1, 2, 3]]"
   ]
  },
  {
   "cell_type": "code",
   "execution_count": 5,
   "id": "bd4eae47-f5c2-4bfc-8b47-e15181a117a7",
   "metadata": {},
   "outputs": [
    {
     "name": "stdout",
     "output_type": "stream",
     "text": [
      "A @ B = \n",
      "[1, 2, 3]\n",
      "[2, 4, 6]\n",
      "[3, 6, 9]\n",
      "[4, 8, 12]\n"
     ]
    }
   ],
   "source": [
    "print('A @ B = ')\n",
    "C = matrix_multiplication(A, B)\n",
    "for row in C:\n",
    "    print(row)"
   ]
  },
  {
   "cell_type": "code",
   "execution_count": 6,
   "id": "1044bdd6-f07a-4269-989f-a074da10a0a8",
   "metadata": {},
   "outputs": [
    {
     "name": "stdout",
     "output_type": "stream",
     "text": [
      "B @ A = \n"
     ]
    },
    {
     "ename": "ValueError",
     "evalue": "Error: check matrix sizes",
     "output_type": "error",
     "traceback": [
      "\u001b[0;31m---------------------------------------------------------------------------\u001b[0m",
      "\u001b[0;31mValueError\u001b[0m                                Traceback (most recent call last)",
      "Cell \u001b[0;32mIn[6], line 2\u001b[0m\n\u001b[1;32m      1\u001b[0m \u001b[38;5;28mprint\u001b[39m(\u001b[38;5;124m'\u001b[39m\u001b[38;5;124mB @ A = \u001b[39m\u001b[38;5;124m'\u001b[39m)\n\u001b[0;32m----> 2\u001b[0m C \u001b[38;5;241m=\u001b[39m matrix_multiplication(B, A)\n",
      "Cell \u001b[0;32mIn[3], line 5\u001b[0m, in \u001b[0;36mmatrix_multiplication\u001b[0;34m(A, B)\u001b[0m\n\u001b[1;32m      2\u001b[0m \u001b[38;5;28;01mdef\u001b[39;00m \u001b[38;5;21mmatrix_multiplication\u001b[39m(A, B):\n\u001b[1;32m      3\u001b[0m     \u001b[38;5;66;03m# 检查两个矩阵形状是否匹配\u001b[39;00m\n\u001b[1;32m      4\u001b[0m     \u001b[38;5;28;01mif\u001b[39;00m \u001b[38;5;28mlen\u001b[39m(A[\u001b[38;5;241m0\u001b[39m]) \u001b[38;5;241m!=\u001b[39m \u001b[38;5;28mlen\u001b[39m(B):\n\u001b[0;32m----> 5\u001b[0m         \u001b[38;5;28;01mraise\u001b[39;00m \u001b[38;5;167;01mValueError\u001b[39;00m(\u001b[38;5;124m'\u001b[39m\u001b[38;5;124mError: check matrix sizes\u001b[39m\u001b[38;5;124m'\u001b[39m)\n\u001b[1;32m      6\u001b[0m     \u001b[38;5;28;01melse\u001b[39;00m:\n\u001b[1;32m      7\u001b[0m         \u001b[38;5;66;03m# 定义全 0 矩阵 C 用来存放结果\u001b[39;00m\n\u001b[1;32m      8\u001b[0m         C \u001b[38;5;241m=\u001b[39m [[\u001b[38;5;241m0\u001b[39m] \u001b[38;5;241m*\u001b[39m \u001b[38;5;28mlen\u001b[39m(B[\u001b[38;5;241m0\u001b[39m]) \u001b[38;5;28;01mfor\u001b[39;00m i \u001b[38;5;129;01min\u001b[39;00m \u001b[38;5;28mrange\u001b[39m(\u001b[38;5;28mlen\u001b[39m(A))]\n",
      "\u001b[0;31mValueError\u001b[0m: Error: check matrix sizes"
     ]
    }
   ],
   "source": [
    "print('B @ A = ')\n",
    "C = matrix_multiplication(B, A) # 会报错"
   ]
  }
 ],
 "metadata": {
  "kernelspec": {
   "display_name": "Python 3 (ipykernel)",
   "language": "python",
   "name": "python3"
  },
  "language_info": {
   "codemirror_mode": {
    "name": "ipython",
    "version": 3
   },
   "file_extension": ".py",
   "mimetype": "text/x-python",
   "name": "python",
   "nbconvert_exporter": "python",
   "pygments_lexer": "ipython3",
   "version": "3.11.7"
  }
 },
 "nbformat": 4,
 "nbformat_minor": 5
}
