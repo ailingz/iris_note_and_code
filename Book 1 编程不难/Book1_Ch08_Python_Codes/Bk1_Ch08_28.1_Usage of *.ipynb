{
 "cells": [
  {
   "cell_type": "markdown",
   "id": "8977a3c9-b776-49f5-b549-45472497295d",
   "metadata": {
    "tags": []
   },
   "source": [
    "Book 1  \n",
    "Chapter 8 Functions in Python\n",
    "### `*` 用法"
   ]
  },
  {
   "cell_type": "code",
   "execution_count": 2,
   "id": "28e854ac-b538-4b26-9f74-e150bcd25549",
   "metadata": {},
   "outputs": [
    {
     "data": {
      "text/plain": [
       "6"
      ]
     },
     "execution_count": 2,
     "metadata": {},
     "output_type": "execute_result"
    }
   ],
   "source": [
    "# 乘法\n",
    "a, b = 2, 3\n",
    "a * b"
   ]
  },
  {
   "cell_type": "code",
   "execution_count": 3,
   "id": "04e72eda-3c82-4d56-be3b-5102964e3598",
   "metadata": {},
   "outputs": [
    {
     "data": {
      "text/plain": [
       "8"
      ]
     },
     "execution_count": 3,
     "metadata": {},
     "output_type": "execute_result"
    }
   ],
   "source": [
    "# 乘幂\n",
    "a, b = 2, 3\n",
    "a ** b"
   ]
  },
  {
   "cell_type": "code",
   "execution_count": 4,
   "id": "b59c0f7a-9892-4383-90ba-2d149153db92",
   "metadata": {},
   "outputs": [
    {
     "data": {
      "text/plain": [
       "[1, 2, 3, 1, 2, 3, 1, 2, 3]"
      ]
     },
     "execution_count": 4,
     "metadata": {},
     "output_type": "execute_result"
    }
   ],
   "source": [
    "# 复制列表\n",
    "a = [1, 2, 3]\n",
    "a * 3"
   ]
  },
  {
   "cell_type": "code",
   "execution_count": 5,
   "id": "deb97873-d9fc-486d-9968-b5b5b0351bf1",
   "metadata": {},
   "outputs": [
    {
     "data": {
      "text/plain": [
       "[1, 2, 0, 1, 2, 3, 4]"
      ]
     },
     "execution_count": 5,
     "metadata": {},
     "output_type": "execute_result"
    }
   ],
   "source": [
    "# 合并列表\n",
    "a_list = [1, 2]\n",
    "b_list = range(5)\n",
    "[*a_list, *b_list]"
   ]
  },
  {
   "cell_type": "code",
   "execution_count": 6,
   "id": "720499c0-c9d5-41b3-8923-5eda51f4cd70",
   "metadata": {},
   "outputs": [
    {
     "data": {
      "text/plain": [
       "[2, 3, 4, 5]"
      ]
     },
     "execution_count": 6,
     "metadata": {},
     "output_type": "execute_result"
    }
   ],
   "source": [
    "# 拆包\n",
    "a_list = [1, 2, 3, 4, 5]\n",
    "first, *b_list = a_list\n",
    "b_list"
   ]
  },
  {
   "cell_type": "code",
   "execution_count": 7,
   "id": "1f8f7325-b4ac-459b-b807-ffaed24e5b48",
   "metadata": {},
   "outputs": [],
   "source": [
    "# 分割位置参数和关键字参数\n",
    "def fcn_name(a, b, /, c, d, *, e, f):\n",
    "    pass"
   ]
  },
  {
   "cell_type": "code",
   "execution_count": 8,
   "id": "046171a7-f076-4813-9c10-5b74ec0e6059",
   "metadata": {},
   "outputs": [],
   "source": [
    "# 位置参数\n",
    "def fcn_name(*args):\n",
    "    pass"
   ]
  },
  {
   "cell_type": "code",
   "execution_count": 9,
   "id": "54165b9c-1fb9-48c2-8a28-622057c982f9",
   "metadata": {},
   "outputs": [],
   "source": [
    "# 关键字参数\n",
    "def fcn_name(**kwargs):\n",
    "    pass"
   ]
  }
 ],
 "metadata": {
  "kernelspec": {
   "display_name": "Python 3 (ipykernel)",
   "language": "python",
   "name": "python3"
  },
  "language_info": {
   "codemirror_mode": {
    "name": "ipython",
    "version": 3
   },
   "file_extension": ".py",
   "mimetype": "text/x-python",
   "name": "python",
   "nbconvert_exporter": "python",
   "pygments_lexer": "ipython3",
   "version": "3.11.7"
  }
 },
 "nbformat": 4,
 "nbformat_minor": 5
}
