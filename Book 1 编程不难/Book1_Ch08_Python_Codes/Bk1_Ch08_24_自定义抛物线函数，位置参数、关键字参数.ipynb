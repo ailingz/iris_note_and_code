{
 "cells": [
  {
   "cell_type": "markdown",
   "id": "ea18e0cd-782a-4e09-af9d-ab76f425fdef",
   "metadata": {},
   "source": [
    "Book 1  \n",
    "Chapter 8 Functions in Python\n",
    "### User Defined Parabolic Function, Position/Keyword Arguments"
   ]
  },
  {
   "cell_type": "code",
   "execution_count": 2,
   "id": "f70cb6c9-3704-4684-a804-96f2ea53c946",
   "metadata": {
    "tags": []
   },
   "outputs": [],
   "source": [
    "# 位置参数\n",
    "def quadratic_f(a, b, c, x, /):\n",
    "    f = a * x ** 2 + b * x + c\n",
    "\n",
    "    return f"
   ]
  },
  {
   "cell_type": "code",
   "execution_count": 3,
   "id": "1aaa915e-c1ec-4a44-a422-73a0c90134e1",
   "metadata": {
    "tags": []
   },
   "outputs": [
    {
     "data": {
      "text/plain": [
       "27"
      ]
     },
     "execution_count": 3,
     "metadata": {},
     "output_type": "execute_result"
    }
   ],
   "source": [
    "quadratic_f(1, 2, 3, 4)"
   ]
  },
  {
   "cell_type": "code",
   "execution_count": 4,
   "id": "7ef19c92-eb23-4919-9b5e-ea4454d9c3b0",
   "metadata": {
    "tags": []
   },
   "outputs": [
    {
     "data": {
      "text/plain": [
       "57"
      ]
     },
     "execution_count": 4,
     "metadata": {},
     "output_type": "execute_result"
    }
   ],
   "source": [
    "quadratic_f(3, 2, 1, 4)"
   ]
  },
  {
   "cell_type": "code",
   "execution_count": 5,
   "id": "5dc5f383-055e-4540-9fc0-b8f76eb3c5b6",
   "metadata": {
    "tags": []
   },
   "outputs": [],
   "source": [
    "# 关键字参数\n",
    "def quadratic_f_2(*, a, b, c, x):\n",
    "    f = a * x ** 2 + b * x + c\n",
    "\n",
    "    return f"
   ]
  },
  {
   "cell_type": "code",
   "execution_count": 6,
   "id": "185812ee-f8d3-4281-ac01-fc870c935114",
   "metadata": {
    "tags": []
   },
   "outputs": [
    {
     "data": {
      "text/plain": [
       "27"
      ]
     },
     "execution_count": 6,
     "metadata": {},
     "output_type": "execute_result"
    }
   ],
   "source": [
    "quadratic_f_2(a=1, b=2, c=3, x=4)"
   ]
  },
  {
   "cell_type": "code",
   "execution_count": 7,
   "id": "cd8b7cb4-778a-4d7f-8b5c-7eb132c2beaf",
   "metadata": {
    "tags": []
   },
   "outputs": [
    {
     "data": {
      "text/plain": [
       "27"
      ]
     },
     "execution_count": 7,
     "metadata": {},
     "output_type": "execute_result"
    }
   ],
   "source": [
    "quadratic_f_2(c=3, x=4, a=1, b=2)"
   ]
  },
  {
   "cell_type": "code",
   "execution_count": 8,
   "id": "9dd93446-e093-4486-9f93-347b04076847",
   "metadata": {
    "tags": []
   },
   "outputs": [],
   "source": [
    "# 关键字/位置参数\n",
    "def quadratic_f_3(a, b, /, c, *, x):\n",
    "    f = a * x ** 2 + b * x + c\n",
    "\n",
    "    return f"
   ]
  },
  {
   "cell_type": "code",
   "execution_count": 9,
   "id": "616f992f-c7ba-49ea-b688-f045ee4684ee",
   "metadata": {
    "tags": []
   },
   "outputs": [
    {
     "data": {
      "text/plain": [
       "27"
      ]
     },
     "execution_count": 9,
     "metadata": {},
     "output_type": "execute_result"
    }
   ],
   "source": [
    "quadratic_f_3(1, 2, 3, x=4)"
   ]
  },
  {
   "cell_type": "code",
   "execution_count": 10,
   "id": "15848540-219d-46f5-a5c6-eea10be7319d",
   "metadata": {
    "tags": []
   },
   "outputs": [
    {
     "data": {
      "text/plain": [
       "27"
      ]
     },
     "execution_count": 10,
     "metadata": {},
     "output_type": "execute_result"
    }
   ],
   "source": [
    "quadratic_f_3(1, 2, c=3, x=4)"
   ]
  }
 ],
 "metadata": {
  "kernelspec": {
   "display_name": "Python 3 (ipykernel)",
   "language": "python",
   "name": "python3"
  },
  "language_info": {
   "codemirror_mode": {
    "name": "ipython",
    "version": 3
   },
   "file_extension": ".py",
   "mimetype": "text/x-python",
   "name": "python",
   "nbconvert_exporter": "python",
   "pygments_lexer": "ipython3",
   "version": "3.11.7"
  }
 },
 "nbformat": 4,
 "nbformat_minor": 5
}
