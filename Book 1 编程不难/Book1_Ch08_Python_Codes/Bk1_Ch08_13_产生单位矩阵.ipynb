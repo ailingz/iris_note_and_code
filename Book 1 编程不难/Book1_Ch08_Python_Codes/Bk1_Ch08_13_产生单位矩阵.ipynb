{
 "cells": [
  {
   "cell_type": "markdown",
   "id": "956d1b62-4122-498c-89fd-c9acd407d26c",
   "metadata": {},
   "source": [
    "Book 1  \n",
    "Chapter 8 Functions in Python\n",
    "### Identity Matrix\n",
    "\n",
    "**单位矩阵(Identity matrix)**: 一个特殊的方阵(Square matrix)，在主对角线上的元素都是1，而其它元素都是0，`numpy.identity()`"
   ]
  },
  {
   "cell_type": "code",
   "execution_count": 2,
   "id": "314f0fbc-07dc-4c80-a0ff-bedebddaa324",
   "metadata": {
    "tags": []
   },
   "outputs": [],
   "source": [
    "# 自定义函数产生单位矩阵\n",
    "\n",
    "def identity_matrix(size):\n",
    "    matrix = []\n",
    "\n",
    "    for i in range(size):\n",
    "        row = [0] * size\n",
    "        row[i] = 1\n",
    "        matrix.append(row)\n",
    "\n",
    "    return matrix"
   ]
  },
  {
   "cell_type": "code",
   "execution_count": 3,
   "id": "fc8e0fba-4e3b-466c-bd1e-bb7031dc39a9",
   "metadata": {
    "tags": []
   },
   "outputs": [
    {
     "name": "stdout",
     "output_type": "stream",
     "text": [
      "[1, 0, 0, 0]\n",
      "[0, 1, 0, 0]\n",
      "[0, 0, 1, 0]\n",
      "[0, 0, 0, 1]\n"
     ]
    }
   ],
   "source": [
    "# 调用自定函数\n",
    "\n",
    "identity_matrix = identity_matrix(4)\n",
    "\n",
    "for row in identity_matrix:\n",
    "    print(row)"
   ]
  }
 ],
 "metadata": {
  "kernelspec": {
   "display_name": "Python 3 (ipykernel)",
   "language": "python",
   "name": "python3"
  },
  "language_info": {
   "codemirror_mode": {
    "name": "ipython",
    "version": 3
   },
   "file_extension": ".py",
   "mimetype": "text/x-python",
   "name": "python",
   "nbconvert_exporter": "python",
   "pygments_lexer": "ipython3",
   "version": "3.11.7"
  }
 },
 "nbformat": 4,
 "nbformat_minor": 5
}
