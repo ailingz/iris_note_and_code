{
 "cells": [
  {
   "cell_type": "markdown",
   "id": "b2b128fb-365b-4bce-8f1f-234fe2130057",
   "metadata": {},
   "source": [
    "Book 1  \n",
    "Chapter 8 Functions in Python\n",
    "### 采用 `*` 和 `**` 拆包\n",
    "\n",
    "- 一个星号 `*` 常用来拆包 unpacking。作用是将一个可迭代对象，比如列表、元组等中的元素分别传递给函数的位置参数\n",
    "- 两个星号 `**` 用于进行关键字参数拆包，将一个字典中的键值对作为关键字参数传递给函数"
   ]
  },
  {
   "cell_type": "code",
   "execution_count": 2,
   "id": "4ff6b8d2-c17e-4ea9-99fb-f4c5a8f8966e",
   "metadata": {},
   "outputs": [
    {
     "data": {
      "text/plain": [
       "(3+4j)"
      ]
     },
     "execution_count": 2,
     "metadata": {},
     "output_type": "execute_result"
    }
   ],
   "source": [
    "# 使用一个星号\n",
    "complex_list = [3, 4]\n",
    "complex(*complex_list)"
   ]
  },
  {
   "cell_type": "code",
   "execution_count": 3,
   "id": "422b5deb-3318-40a1-8967-b8d53333feb8",
   "metadata": {},
   "outputs": [
    {
     "data": {
      "text/plain": [
       "(3+4j)"
      ]
     },
     "execution_count": 3,
     "metadata": {},
     "output_type": "execute_result"
    }
   ],
   "source": [
    "# 使用两个星号\n",
    "complex_dict = {'real':3, 'imag':4}\n",
    "complex(**complex_dict) # **complex_dict 将字典中的键值对拆包，并将它们作为关键字参数传递给 complex 函数"
   ]
  }
 ],
 "metadata": {
  "kernelspec": {
   "display_name": "Python 3 (ipykernel)",
   "language": "python",
   "name": "python3"
  },
  "language_info": {
   "codemirror_mode": {
    "name": "ipython",
    "version": 3
   },
   "file_extension": ".py",
   "mimetype": "text/x-python",
   "name": "python",
   "nbconvert_exporter": "python",
   "pygments_lexer": "ipython3",
   "version": "3.11.7"
  }
 },
 "nbformat": 4,
 "nbformat_minor": 5
}
