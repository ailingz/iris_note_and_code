{
 "cells": [
  {
   "cell_type": "markdown",
   "id": "9fa5e9ae-00ca-457a-8d58-19babad3601e",
   "metadata": {},
   "source": [
    "Book 1  \n",
    "Chapter 8 Functions in Python\n",
    "### 产生对角方阵\n",
    "\n",
    "**对角方阵 Diagonal square matrix**: 除了主对角线上的元素之外，所有其他元素都为零，`numpy.diag()`"
   ]
  },
  {
   "cell_type": "code",
   "execution_count": 3,
   "id": "1c5b25b8-722f-4f17-9702-1358c6ee1ebc",
   "metadata": {},
   "outputs": [],
   "source": [
    "# 自定义函数产生对角方阵\n",
    "def diagonal_matrix(values):\n",
    "    size = len(values)\n",
    "    matrix = []\n",
    "\n",
    "    for i in range(size):\n",
    "        row = [0] * size\n",
    "        row[i] = values[i]\n",
    "        matrix.append(row)\n",
    "\n",
    "    return matrix"
   ]
  },
  {
   "cell_type": "code",
   "execution_count": 4,
   "id": "0c491d95-4d96-4900-be2b-50d6488684f6",
   "metadata": {},
   "outputs": [],
   "source": [
    "diagonal_values = [4, 3, 2, 1]"
   ]
  },
  {
   "cell_type": "code",
   "execution_count": 5,
   "id": "c15eaa58-907b-44d7-8a97-c2ca6a1f4d1e",
   "metadata": {},
   "outputs": [
    {
     "name": "stdout",
     "output_type": "stream",
     "text": [
      "[4, 0, 0, 0]\n",
      "[0, 3, 0, 0]\n",
      "[0, 0, 2, 0]\n",
      "[0, 0, 0, 1]\n"
     ]
    }
   ],
   "source": [
    "diagonal_matrix = diagonal_matrix(diagonal_values)\n",
    "for row in diagonal_matrix:\n",
    "    print(row)"
   ]
  }
 ],
 "metadata": {
  "kernelspec": {
   "display_name": "Python 3 (ipykernel)",
   "language": "python",
   "name": "python3"
  },
  "language_info": {
   "codemirror_mode": {
    "name": "ipython",
    "version": 3
   },
   "file_extension": ".py",
   "mimetype": "text/x-python",
   "name": "python",
   "nbconvert_exporter": "python",
   "pygments_lexer": "ipython3",
   "version": "3.11.7"
  }
 },
 "nbformat": 4,
 "nbformat_minor": 5
}
