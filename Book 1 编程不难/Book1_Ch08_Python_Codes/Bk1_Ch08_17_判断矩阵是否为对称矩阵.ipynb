{
 "cells": [
  {
   "cell_type": "markdown",
   "id": "2003f9c3-e4ca-4541-9a64-93af41dd017f",
   "metadata": {},
   "source": [
    "Book 1  \n",
    "Chapter 8 Functions in Python\n",
    "### Determine If The Matrix is Symmetric\n",
    "\n",
    "**对称矩阵(Symmetric matrix)**: 其转置矩阵等于它自己"
   ]
  },
  {
   "cell_type": "code",
   "execution_count": 2,
   "id": "e51bafa0-4caf-4c35-9a3e-fed13c9dade9",
   "metadata": {
    "tags": []
   },
   "outputs": [],
   "source": [
    "def is_symmetric(matrix):\n",
    "    rows = len(matrix)\n",
    "    cols = len(matrix[0])\n",
    "\n",
    "    # 首先判断矩阵是否为方阵\n",
    "    if rows != cols:\n",
    "        return False\n",
    "\n",
    "    # 判断矩阵元素是否沿对称轴镜像对称\n",
    "    for i in range(rows):\n",
    "        for j in range(i+1, cols):\n",
    "            if matrix[i][j] != matrix[j][i]:\n",
    "                return False\n",
    "\n",
    "    return True"
   ]
  },
  {
   "cell_type": "code",
   "execution_count": 3,
   "id": "53f246a6-0509-4e93-99c5-ce787a5f3d71",
   "metadata": {
    "tags": []
   },
   "outputs": [],
   "source": [
    "A = [[1, 2, 3],\n",
    "     [2, 4, 5],\n",
    "     [3, 5, 6]]\n",
    "B = [[1, 2, 3],\n",
    "     [2, 4, 0],\n",
    "     [0, 5, 6]]"
   ]
  },
  {
   "cell_type": "code",
   "execution_count": 4,
   "id": "7018867c-629c-4464-a8c8-728f5d3a7f3f",
   "metadata": {
    "tags": []
   },
   "outputs": [
    {
     "name": "stdout",
     "output_type": "stream",
     "text": [
      "Is matrix A symmetric? True\n",
      "Is matrix B symmetric? False\n"
     ]
    }
   ],
   "source": [
    "print('Is matrix A symmetric?', is_symmetric(A))\n",
    "print('Is matrix B symmetric?', is_symmetric(B))"
   ]
  }
 ],
 "metadata": {
  "kernelspec": {
   "display_name": "Python 3 (ipykernel)",
   "language": "python",
   "name": "python3"
  },
  "language_info": {
   "codemirror_mode": {
    "name": "ipython",
    "version": 3
   },
   "file_extension": ".py",
   "mimetype": "text/x-python",
   "name": "python",
   "nbconvert_exporter": "python",
   "pygments_lexer": "ipython3",
   "version": "3.11.7"
  }
 },
 "nbformat": 4,
 "nbformat_minor": 5
}
