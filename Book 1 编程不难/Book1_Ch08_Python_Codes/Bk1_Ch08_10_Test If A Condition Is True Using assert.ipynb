{
 "cells": [
  {
   "cell_type": "markdown",
   "id": "7ebcea49-d4b4-40e6-94ae-e1ed2a980b5e",
   "metadata": {},
   "source": [
    "Book 1  \n",
    "Chapter 8 Functions in Python\n",
    "### 用 `assert` 检查条件是否为真"
   ]
  },
  {
   "cell_type": "code",
   "execution_count": 3,
   "id": "2557c63d-8c2d-445f-bf3b-430145eafaf3",
   "metadata": {},
   "outputs": [],
   "source": [
    "# 定义除法函数\n",
    "def divide(a, b):\n",
    "    assert b != 0, '除数不能为零' # False 会引发一个 AssertionError 异常，从而表示程序出现了一个错误\n",
    "\n",
    "    return a / b"
   ]
  },
  {
   "cell_type": "code",
   "execution_count": 4,
   "id": "b696ed44-5aaa-4351-826a-37f43e77c06f",
   "metadata": {},
   "outputs": [
    {
     "ename": "AssertionError",
     "evalue": "除数不能为零",
     "output_type": "error",
     "traceback": [
      "\u001b[0;31m---------------------------------------------------------------------------\u001b[0m",
      "\u001b[0;31mAssertionError\u001b[0m                            Traceback (most recent call last)",
      "Cell \u001b[0;32mIn[4], line 2\u001b[0m\n\u001b[1;32m      1\u001b[0m \u001b[38;5;66;03m# 调用自定义函数\u001b[39;00m\n\u001b[0;32m----> 2\u001b[0m result \u001b[38;5;241m=\u001b[39m divide(\u001b[38;5;241m10\u001b[39m, \u001b[38;5;241m0\u001b[39m)\n",
      "Cell \u001b[0;32mIn[3], line 3\u001b[0m, in \u001b[0;36mdivide\u001b[0;34m(a, b)\u001b[0m\n\u001b[1;32m      2\u001b[0m \u001b[38;5;28;01mdef\u001b[39;00m \u001b[38;5;21mdivide\u001b[39m(a, b):\n\u001b[0;32m----> 3\u001b[0m     \u001b[38;5;28;01massert\u001b[39;00m b \u001b[38;5;241m!=\u001b[39m \u001b[38;5;241m0\u001b[39m, \u001b[38;5;124m'\u001b[39m\u001b[38;5;124m除数不能为零\u001b[39m\u001b[38;5;124m'\u001b[39m \u001b[38;5;66;03m# False 会引发一个 AssertionError 异常，从而表示程序出现了一个错误\u001b[39;00m\n\u001b[1;32m      5\u001b[0m     \u001b[38;5;28;01mreturn\u001b[39;00m a \u001b[38;5;241m/\u001b[39m b\n",
      "\u001b[0;31mAssertionError\u001b[0m: 除数不能为零"
     ]
    }
   ],
   "source": [
    "# 调用自定义函数\n",
    "result = divide(10, 0)"
   ]
  },
  {
   "cell_type": "code",
   "execution_count": 6,
   "id": "213d55d3-fae8-42a9-bf51-a1db8e5f9779",
   "metadata": {},
   "outputs": [
    {
     "ename": "NameError",
     "evalue": "name 'result' is not defined",
     "output_type": "error",
     "traceback": [
      "\u001b[0;31m---------------------------------------------------------------------------\u001b[0m",
      "\u001b[0;31mNameError\u001b[0m                                 Traceback (most recent call last)",
      "Cell \u001b[0;32mIn[6], line 1\u001b[0m\n\u001b[0;32m----> 1\u001b[0m \u001b[38;5;28mprint\u001b[39m(result)\n",
      "\u001b[0;31mNameError\u001b[0m: name 'result' is not defined"
     ]
    }
   ],
   "source": [
    "print(result) # 不会被执行，因为异常已经引发"
   ]
  }
 ],
 "metadata": {
  "kernelspec": {
   "display_name": "Python 3 (ipykernel)",
   "language": "python",
   "name": "python3"
  },
  "language_info": {
   "codemirror_mode": {
    "name": "ipython",
    "version": 3
   },
   "file_extension": ".py",
   "mimetype": "text/x-python",
   "name": "python",
   "nbconvert_exporter": "python",
   "pygments_lexer": "ipython3",
   "version": "3.11.7"
  }
 },
 "nbformat": 4,
 "nbformat_minor": 5
}
