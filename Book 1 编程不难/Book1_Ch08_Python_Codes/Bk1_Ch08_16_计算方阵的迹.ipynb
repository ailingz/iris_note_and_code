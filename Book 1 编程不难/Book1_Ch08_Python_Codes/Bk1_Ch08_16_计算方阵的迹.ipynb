{
 "cells": [
  {
   "cell_type": "markdown",
   "id": "5a04dca3-6fb6-4816-b537-4d31569f663a",
   "metadata": {},
   "source": [
    "Book 1  \n",
    "Chapter 8 Functions in Python\n",
    "### Trace of A Matrix\n",
    "\n",
    "**方阵迹(trace)**: 指矩阵中主对角线上元素的总和，通常用$tr(A)$表示，其中 $A$ 是方阵(square matrix)，`numpy.trace()`"
   ]
  },
  {
   "cell_type": "code",
   "execution_count": 2,
   "id": "6f41b1a9-8543-4344-923e-ff90882f9d31",
   "metadata": {
    "tags": []
   },
   "outputs": [],
   "source": [
    "def trace(matrix):\n",
    "    rows = len(matrix)\n",
    "    cols = len(matrix[0])\n",
    "    if rows != cols:\n",
    "        raise ValueError('Matrix is not square')\n",
    "\n",
    "    diagonal_sum = sum(matrix[i][i] for i in range(rows)) # generator expression\n",
    "\n",
    "    return diagonal_sum"
   ]
  },
  {
   "cell_type": "code",
   "execution_count": 3,
   "id": "2c8d3d91-c32d-46ec-91d2-56fa76aa0036",
   "metadata": {
    "tags": []
   },
   "outputs": [],
   "source": [
    "A = [[1, 2, 3],\n",
    "     [4, 5, 6],\n",
    "     [7, 8, 9]]"
   ]
  },
  {
   "cell_type": "code",
   "execution_count": 4,
   "id": "b19dbcd9-c526-4bbe-b22f-54bc0e3cdba6",
   "metadata": {
    "tags": []
   },
   "outputs": [
    {
     "name": "stdout",
     "output_type": "stream",
     "text": [
      "The trace of the matrix is: 15\n"
     ]
    }
   ],
   "source": [
    "trace_A = trace(A)\n",
    "print(f'The trace of the matrix is: {trace_A}')"
   ]
  }
 ],
 "metadata": {
  "kernelspec": {
   "display_name": "Python 3 (ipykernel)",
   "language": "python",
   "name": "python3"
  },
  "language_info": {
   "codemirror_mode": {
    "name": "ipython",
    "version": 3
   },
   "file_extension": ".py",
   "mimetype": "text/x-python",
   "name": "python",
   "nbconvert_exporter": "python",
   "pygments_lexer": "ipython3",
   "version": "3.11.7"
  }
 },
 "nbformat": 4,
 "nbformat_minor": 5
}
