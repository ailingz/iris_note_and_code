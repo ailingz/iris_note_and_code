{
 "cells": [
  {
   "cell_type": "markdown",
   "id": "1018e6b1-3ed2-40dd-94b7-68290f874791",
   "metadata": {},
   "source": [
    "Book 1  \n",
    "Chapter 8 Functions in Python\n",
    "### Extract Main Diagonal\n",
    "\n",
    "`numpy.diag()`"
   ]
  },
  {
   "cell_type": "code",
   "execution_count": 2,
   "id": "dd925433-cc28-4a90-b01e-fd784006088e",
   "metadata": {
    "tags": []
   },
   "outputs": [],
   "source": [
    "def extract_main_diagonal(matrix):\n",
    "    rows = len(matrix)\n",
    "    cols = len(matrix[0])\n",
    "    size = min(rows, cols)\n",
    "\n",
    "    diagonal = [matrix[i][i] for i in range(size)]\n",
    "\n",
    "    return diagonal"
   ]
  },
  {
   "cell_type": "code",
   "execution_count": 3,
   "id": "489ac038-693c-4007-abde-fc0ca5e88bf9",
   "metadata": {
    "tags": []
   },
   "outputs": [],
   "source": [
    "matrix = [[1, 2, 3],\n",
    "          [4, 5, 6]]"
   ]
  },
  {
   "cell_type": "code",
   "execution_count": 4,
   "id": "bcb1b902-3f79-4124-a963-08a727006842",
   "metadata": {
    "tags": []
   },
   "outputs": [
    {
     "name": "stdout",
     "output_type": "stream",
     "text": [
      "[1, 5]\n"
     ]
    }
   ],
   "source": [
    "main_diagonal = extract_main_diagonal(matrix)\n",
    "print(main_diagonal)"
   ]
  }
 ],
 "metadata": {
  "kernelspec": {
   "display_name": "Python 3 (ipykernel)",
   "language": "python",
   "name": "python3"
  },
  "language_info": {
   "codemirror_mode": {
    "name": "ipython",
    "version": 3
   },
   "file_extension": ".py",
   "mimetype": "text/x-python",
   "name": "python",
   "nbconvert_exporter": "python",
   "pygments_lexer": "ipython3",
   "version": "3.11.7"
  }
 },
 "nbformat": 4,
 "nbformat_minor": 5
}
