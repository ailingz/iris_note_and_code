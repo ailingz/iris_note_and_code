{
 "cells": [
  {
   "cell_type": "markdown",
   "id": "552c3510-e4a5-4244-8aec-ea4c7c9a215b",
   "metadata": {},
   "source": [
    "Book 1  \n",
    "Chapter 8 Functions in Python\n",
    "### 利用 `global` 在函数内部声明全局变量"
   ]
  },
  {
   "cell_type": "code",
   "execution_count": 3,
   "id": "bdaba817-40dc-4124-bde1-f5a281b9b321",
   "metadata": {},
   "outputs": [
    {
     "name": "stdout",
     "output_type": "stream",
     "text": [
      "global_x: 8\n"
     ]
    }
   ],
   "source": [
    "# 全局变量\n",
    "global_x = 8\n",
    "print('global_x:', global_x)"
   ]
  },
  {
   "cell_type": "code",
   "execution_count": 4,
   "id": "9ca186e1-3cda-45f5-87d3-9aeabc5eaa6e",
   "metadata": {},
   "outputs": [],
   "source": [
    "# 自定义函数\n",
    "def my_function(local_x):\n",
    "    # 局部变量\n",
    "    print('local_x:', local_x)\n",
    "\n",
    "    # 声明变量是全局变量\n",
    "    global global_x # 要在函数内部修改全局变量的值，需要使用 global 关键字来声明该变量是全局变量\n",
    "    global_x = 88\n",
    "    print('global_x:', global_x)"
   ]
  },
  {
   "cell_type": "code",
   "execution_count": 5,
   "id": "938fe45e-27e2-49db-8cd5-be55dec1d4bd",
   "metadata": {},
   "outputs": [
    {
     "name": "stdout",
     "output_type": "stream",
     "text": [
      "local_x: 38\n",
      "global_x: 88\n"
     ]
    }
   ],
   "source": [
    "# 调用函数\n",
    "my_function(38)"
   ]
  },
  {
   "cell_type": "code",
   "execution_count": 6,
   "id": "a0719c03-a5bc-41c7-be2a-b8a708565df0",
   "metadata": {},
   "outputs": [
    {
     "name": "stdout",
     "output_type": "stream",
     "text": [
      "global_x: 88\n"
     ]
    }
   ],
   "source": [
    "# 在函数外部访问全局变量\n",
    "print('global_x:', global_x)"
   ]
  }
 ],
 "metadata": {
  "kernelspec": {
   "display_name": "Python 3 (ipykernel)",
   "language": "python",
   "name": "python3"
  },
  "language_info": {
   "codemirror_mode": {
    "name": "ipython",
    "version": 3
   },
   "file_extension": ".py",
   "mimetype": "text/x-python",
   "name": "python",
   "nbconvert_exporter": "python",
   "pygments_lexer": "ipython3",
   "version": "3.11.7"
  }
 },
 "nbformat": 4,
 "nbformat_minor": 5
}
