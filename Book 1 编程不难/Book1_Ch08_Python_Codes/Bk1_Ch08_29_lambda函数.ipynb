{
 "cells": [
  {
   "cell_type": "markdown",
   "id": "a37e2b87-07c3-48b3-b8c0-3c22a5144934",
   "metadata": {},
   "source": [
    "Book 1  \n",
    "Chapter 8 Functions in Python\n",
    "### `lambda` Function\n",
    "\n",
    "`lambda arguments: expression`"
   ]
  },
  {
   "cell_type": "code",
   "execution_count": 2,
   "id": "b361b456-2b12-4be1-bce1-e3e58ecffeaf",
   "metadata": {
    "tags": []
   },
   "outputs": [],
   "source": [
    "my_list = [1, 2, 3, 4, 5]"
   ]
  },
  {
   "cell_type": "code",
   "execution_count": 3,
   "id": "1731ef6c-5f53-49fe-aff2-154cf4b8bf34",
   "metadata": {
    "tags": []
   },
   "outputs": [
    {
     "name": "stdout",
     "output_type": "stream",
     "text": [
      "[2, 3, 4, 5, 6]\n"
     ]
    }
   ],
   "source": [
    "# 将列表中的所有元素加 1\n",
    "\n",
    "list_plus_1 = list(map(lambda x: x + 1, my_list))\n",
    "# map() 是一种内置的高阶函数(higher-order function)，接受一个函数和一个可迭代对象作为输入\n",
    "# 将函数应用于可迭代对象的每个元素并返回一个可迭代对象，其中每个元素都是应用于原始可迭代对象的函数的结果\n",
    "print(list_plus_1)"
   ]
  },
  {
   "cell_type": "code",
   "execution_count": 4,
   "id": "465f585c-e333-4010-b11f-a81d65d04884",
   "metadata": {
    "tags": []
   },
   "outputs": [
    {
     "name": "stdout",
     "output_type": "stream",
     "text": [
      "[1, 4, 9, 16, 25]\n"
     ]
    }
   ],
   "source": [
    "# 将列表中的所有元素分别求平方\n",
    "\n",
    "list_squared = list(map(lambda x: x**2, my_list))\n",
    "print(list_squared)"
   ]
  },
  {
   "cell_type": "code",
   "execution_count": 5,
   "id": "62774380-a979-4ad4-b04f-32f8c3ec4fbf",
   "metadata": {
    "tags": []
   },
   "outputs": [
    {
     "data": {
      "text/plain": [
       "2"
      ]
     },
     "execution_count": 5,
     "metadata": {},
     "output_type": "execute_result"
    }
   ],
   "source": [
    "(lambda x: x + 1)(1)"
   ]
  }
 ],
 "metadata": {
  "kernelspec": {
   "display_name": "Python 3 (ipykernel)",
   "language": "python",
   "name": "python3"
  },
  "language_info": {
   "codemirror_mode": {
    "name": "ipython",
    "version": 3
   },
   "file_extension": ".py",
   "mimetype": "text/x-python",
   "name": "python",
   "nbconvert_exporter": "python",
   "pygments_lexer": "ipython3",
   "version": "3.11.7"
  }
 },
 "nbformat": 4,
 "nbformat_minor": 5
}
