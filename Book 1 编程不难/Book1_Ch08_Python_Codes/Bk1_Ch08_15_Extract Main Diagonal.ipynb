{
 "cells": [
  {
   "cell_type": "markdown",
   "id": "1018e6b1-3ed2-40dd-94b7-68290f874791",
   "metadata": {},
   "source": [
    "Book 1  \n",
    "Chapter 8 Functions in Python\n",
    "### 提取对角线元素\n",
    "\n",
    "`numpy.diag()`"
   ]
  },
  {
   "cell_type": "code",
   "execution_count": 3,
   "id": "554af66a-6580-4f7f-8aa2-b4aa7f256d2e",
   "metadata": {},
   "outputs": [],
   "source": [
    "def extract_main_diagonal(matrix):\n",
    "    rows = len(matrix)\n",
    "    cols = len(matrix[0])\n",
    "    size = min(rows, cols)\n",
    "\n",
    "    diagnal = [matrix[i][i] for i in range(size)]\n",
    "\n",
    "    return diagnal"
   ]
  },
  {
   "cell_type": "code",
   "execution_count": 4,
   "id": "c9972e68-ee79-4b0f-af23-8ff1c12c753c",
   "metadata": {},
   "outputs": [],
   "source": [
    "matrix = [[1, 2, 3],\n",
    "          [4, 5, 6]]"
   ]
  },
  {
   "cell_type": "code",
   "execution_count": 5,
   "id": "83d7f45e-e03f-4433-914e-6700dda1e2a4",
   "metadata": {},
   "outputs": [
    {
     "name": "stdout",
     "output_type": "stream",
     "text": [
      "[1, 5]\n"
     ]
    }
   ],
   "source": [
    "main_diagnal = extract_main_diagonal(matrix)\n",
    "print(main_diagnal)"
   ]
  }
 ],
 "metadata": {
  "kernelspec": {
   "display_name": "Python 3 (ipykernel)",
   "language": "python",
   "name": "python3"
  },
  "language_info": {
   "codemirror_mode": {
    "name": "ipython",
    "version": 3
   },
   "file_extension": ".py",
   "mimetype": "text/x-python",
   "name": "python",
   "nbconvert_exporter": "python",
   "pygments_lexer": "ipython3",
   "version": "3.11.7"
  }
 },
 "nbformat": 4,
 "nbformat_minor": 5
}
