{
 "cells": [
  {
   "cell_type": "markdown",
   "id": "9a1ea9a9-8784-4e8a-9d20-0f1ab68c12fc",
   "metadata": {},
   "source": [
    "Book 1  \n",
    "Chapter 8 Functions in Python\n",
    "### 全局变量和局部变量的传递路径"
   ]
  },
  {
   "cell_type": "code",
   "execution_count": 3,
   "id": "c78a6ace-dfa8-4e6f-a7db-3b83e1ae4b0d",
   "metadata": {},
   "outputs": [
    {
     "name": "stdout",
     "output_type": "stream",
     "text": [
      "global_x: 8\n"
     ]
    }
   ],
   "source": [
    "# 全局变量\n",
    "global_x = 8\n",
    "print('global_x:', global_x)"
   ]
  },
  {
   "cell_type": "code",
   "execution_count": 4,
   "id": "7edf0f34-9169-4ccc-9c0f-c1dabe520abc",
   "metadata": {},
   "outputs": [],
   "source": [
    "# 自定义函数\n",
    "def my_function(local_x):\n",
    "    # local_x 局部变量\n",
    "    print('local_x:', local_x)\n",
    "\n",
    "    # 创建一个同名的局部变量\n",
    "    global_x = 88\n",
    "    print('global_x:', global_x)"
   ]
  },
  {
   "cell_type": "code",
   "execution_count": 5,
   "id": "e30af9a5-6f91-45cb-8489-27ef0f5b2eee",
   "metadata": {},
   "outputs": [
    {
     "name": "stdout",
     "output_type": "stream",
     "text": [
      "local_x: 38\n",
      "global_x: 88\n"
     ]
    }
   ],
   "source": [
    "# 调用函数\n",
    "my_function(38)"
   ]
  },
  {
   "cell_type": "code",
   "execution_count": 6,
   "id": "39c72f5f-ae5d-4275-b621-44f37f0c5ad5",
   "metadata": {},
   "outputs": [
    {
     "name": "stdout",
     "output_type": "stream",
     "text": [
      "global_x: 8\n"
     ]
    }
   ],
   "source": [
    "# 在函数外部访问全局变量\n",
    "print('global_x:', global_x)"
   ]
  },
  {
   "cell_type": "code",
   "execution_count": 7,
   "id": "313ed307-dd18-4621-b261-e8d82a4c71b3",
   "metadata": {},
   "outputs": [
    {
     "ename": "NameError",
     "evalue": "name 'local_x' is not defined",
     "output_type": "error",
     "traceback": [
      "\u001b[0;31m---------------------------------------------------------------------------\u001b[0m",
      "\u001b[0;31mNameError\u001b[0m                                 Traceback (most recent call last)",
      "Cell \u001b[0;32mIn[7], line 1\u001b[0m\n\u001b[0;32m----> 1\u001b[0m \u001b[38;5;28mprint\u001b[39m(\u001b[38;5;124m'\u001b[39m\u001b[38;5;124mlocal_x:\u001b[39m\u001b[38;5;124m'\u001b[39m, local_x)\n",
      "\u001b[0;31mNameError\u001b[0m: name 'local_x' is not defined"
     ]
    }
   ],
   "source": [
    "print('local_x:', local_x) # 报错"
   ]
  }
 ],
 "metadata": {
  "kernelspec": {
   "display_name": "Python 3 (ipykernel)",
   "language": "python",
   "name": "python3"
  },
  "language_info": {
   "codemirror_mode": {
    "name": "ipython",
    "version": 3
   },
   "file_extension": ".py",
   "mimetype": "text/x-python",
   "name": "python",
   "nbconvert_exporter": "python",
   "pygments_lexer": "ipython3",
   "version": "3.11.7"
  }
 },
 "nbformat": 4,
 "nbformat_minor": 5
}
