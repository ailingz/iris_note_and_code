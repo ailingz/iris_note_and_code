{
 "cells": [
  {
   "cell_type": "markdown",
   "id": "9fa5e9ae-00ca-457a-8d58-19babad3601e",
   "metadata": {},
   "source": [
    "Book 1  \n",
    "Chapter 8 Functions in Python\n",
    "### Diagonal Square Matrix\n",
    "\n",
    "**对角方阵(Diagonal square matrix)**: 除了主对角线上的元素之外，所有其他元素都为零，`numpy.diag()`"
   ]
  },
  {
   "cell_type": "code",
   "execution_count": 2,
   "id": "6100d22c-3739-4912-88b3-43f4620c5f5d",
   "metadata": {
    "tags": []
   },
   "outputs": [],
   "source": [
    "# 自定义函数产生对角方阵\n",
    "\n",
    "def diagonal_matrix(values):\n",
    "    size = len(values)\n",
    "    matrix = []\n",
    "\n",
    "    for i in range(size):\n",
    "        row = [0] * size\n",
    "        row[i] = values[i]\n",
    "        matrix.append(row)\n",
    "\n",
    "    return matrix"
   ]
  },
  {
   "cell_type": "code",
   "execution_count": 3,
   "id": "5066f620-b7a6-42c8-869b-e540e145e52c",
   "metadata": {
    "tags": []
   },
   "outputs": [],
   "source": [
    "diagonal_values = [4, 3, 2, 1]"
   ]
  },
  {
   "cell_type": "code",
   "execution_count": 4,
   "id": "35711cdd-e5ce-49c5-ba49-9d5222d915f9",
   "metadata": {
    "tags": []
   },
   "outputs": [
    {
     "name": "stdout",
     "output_type": "stream",
     "text": [
      "[4, 0, 0, 0]\n",
      "[0, 3, 0, 0]\n",
      "[0, 0, 2, 0]\n",
      "[0, 0, 0, 1]\n"
     ]
    }
   ],
   "source": [
    "diagonal_matrix = diagonal_matrix(diagonal_values)\n",
    "for row in diagonal_matrix:\n",
    "    print(row)"
   ]
  }
 ],
 "metadata": {
  "kernelspec": {
   "display_name": "Python 3 (ipykernel)",
   "language": "python",
   "name": "python3"
  },
  "language_info": {
   "codemirror_mode": {
    "name": "ipython",
    "version": 3
   },
   "file_extension": ".py",
   "mimetype": "text/x-python",
   "name": "python",
   "nbconvert_exporter": "python",
   "pygments_lexer": "ipython3",
   "version": "3.11.7"
  }
 },
 "nbformat": 4,
 "nbformat_minor": 5
}
