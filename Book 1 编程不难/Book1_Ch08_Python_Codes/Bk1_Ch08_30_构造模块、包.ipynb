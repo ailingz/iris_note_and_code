{
 "cells": [
  {
   "cell_type": "markdown",
   "id": "d08353c1-5628-40a9-82fb-2163529f3d2a",
   "metadata": {},
   "source": [
    "Book 1  \n",
    "Chapter 8 Functions in Python\n",
    "### Build Modules/Packages"
   ]
  },
  {
   "cell_type": "markdown",
   "id": "07a74076-6dcf-4ece-ab90-3d9e63a74c25",
   "metadata": {},
   "source": [
    "#### Use User Defined Modules"
   ]
  },
  {
   "cell_type": "code",
   "execution_count": 4,
   "id": "d9779b39-de0d-4d35-af9d-2931ed60e2c0",
   "metadata": {
    "tags": []
   },
   "outputs": [
    {
     "name": "stdout",
     "output_type": "stream",
     "text": [
      "Area of a circle with radium 5 is 78.53981633974483\n",
      "Circumference of a circle with radium 5 is 31.41592653589793\n"
     ]
    }
   ],
   "source": [
    "import circle as cc\n",
    "\n",
    "r = 5\n",
    "area = cc.area(r)\n",
    "circumference = cc.circumference(r)\n",
    "\n",
    "print(f'Area of a circle with radium {r} is {area}')\n",
    "print(f'Circumference of a circle with radium {r} is {circumference}')"
   ]
  },
  {
   "cell_type": "markdown",
   "id": "fbb979a2-9b7b-4b82-a1fb-fbeab73c5c7c",
   "metadata": {},
   "source": [
    "#### Use User Defined Packages"
   ]
  },
  {
   "cell_type": "code",
   "execution_count": 6,
   "id": "894f5a6e-6eb0-4b5c-862b-2ae24c4d0de3",
   "metadata": {
    "tags": []
   },
   "outputs": [],
   "source": [
    "from mylibrary.circle import area\n",
    "from mylibrary.linear_alg import inner_prod"
   ]
  },
  {
   "cell_type": "code",
   "execution_count": 7,
   "id": "31dc621f-8fc2-4305-80e3-05fa50ec1ce9",
   "metadata": {
    "tags": []
   },
   "outputs": [
    {
     "data": {
      "text/plain": [
       "50.26548245743669"
      ]
     },
     "execution_count": 7,
     "metadata": {},
     "output_type": "execute_result"
    }
   ],
   "source": [
    "r = 4\n",
    "area(r)"
   ]
  },
  {
   "cell_type": "code",
   "execution_count": 8,
   "id": "d05bbbc9-4ef0-4284-9d07-86ed9c253755",
   "metadata": {
    "tags": []
   },
   "outputs": [
    {
     "data": {
      "text/plain": [
       "165"
      ]
     },
     "execution_count": 8,
     "metadata": {},
     "output_type": "execute_result"
    }
   ],
   "source": [
    "# 定义向量 a 和 b\n",
    "a = [1, 2, 3, 4, 5, 6, 7, 8, 9]\n",
    "b = a[::-1]\n",
    "\n",
    "inner_prod(a, b)"
   ]
  }
 ],
 "metadata": {
  "kernelspec": {
   "display_name": "Python 3 (ipykernel)",
   "language": "python",
   "name": "python3"
  },
  "language_info": {
   "codemirror_mode": {
    "name": "ipython",
    "version": 3
   },
   "file_extension": ".py",
   "mimetype": "text/x-python",
   "name": "python",
   "nbconvert_exporter": "python",
   "pygments_lexer": "ipython3",
   "version": "3.11.7"
  }
 },
 "nbformat": 4,
 "nbformat_minor": 5
}
