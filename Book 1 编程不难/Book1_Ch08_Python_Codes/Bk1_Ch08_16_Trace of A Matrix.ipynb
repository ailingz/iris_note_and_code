{
 "cells": [
  {
   "cell_type": "markdown",
   "id": "5a04dca3-6fb6-4816-b537-4d31569f663a",
   "metadata": {},
   "source": [
    "Book 1  \n",
    "Chapter 8 Functions in Python\n",
    "### 计算方阵的迹\n",
    "\n",
    "**方阵迹 trace**: 指矩阵中主对角线上元素的总和，通常用 $tr(A)$ 表示，其中 $A$ 是方阵 square matrix，`numpy.trace()`"
   ]
  },
  {
   "cell_type": "code",
   "execution_count": 3,
   "id": "d5992981-51c5-444e-b883-64035f486748",
   "metadata": {},
   "outputs": [],
   "source": [
    "def trace(matrix):\n",
    "    rows = len(matrix)\n",
    "    cols = len(matrix[0])\n",
    "    if rows != cols:\n",
    "        raise ValueError('Matrix is not square')\n",
    "\n",
    "    diagonal_sum = sum(matrix[i][i] for i in range(rows)) # generator expression\n",
    "\n",
    "    return diagonal_sum"
   ]
  },
  {
   "cell_type": "code",
   "execution_count": 4,
   "id": "6e55fa9d-1186-4f3c-9e4c-4c52293d8c17",
   "metadata": {},
   "outputs": [],
   "source": [
    "A = [[1, 2, 3],\n",
    "     [4, 5, 6],\n",
    "     [7, 8, 9]]"
   ]
  },
  {
   "cell_type": "code",
   "execution_count": 5,
   "id": "5cce552f-702c-4dd1-84fd-292458de9b6c",
   "metadata": {},
   "outputs": [
    {
     "name": "stdout",
     "output_type": "stream",
     "text": [
      "The trace of the matrix is: 15\n"
     ]
    }
   ],
   "source": [
    "trace_A = trace(A)\n",
    "print(f'The trace of the matrix is: {trace_A}')"
   ]
  }
 ],
 "metadata": {
  "kernelspec": {
   "display_name": "Python 3 (ipykernel)",
   "language": "python",
   "name": "python3"
  },
  "language_info": {
   "codemirror_mode": {
    "name": "ipython",
    "version": 3
   },
   "file_extension": ".py",
   "mimetype": "text/x-python",
   "name": "python",
   "nbconvert_exporter": "python",
   "pygments_lexer": "ipython3",
   "version": "3.11.7"
  }
 },
 "nbformat": 4,
 "nbformat_minor": 5
}
