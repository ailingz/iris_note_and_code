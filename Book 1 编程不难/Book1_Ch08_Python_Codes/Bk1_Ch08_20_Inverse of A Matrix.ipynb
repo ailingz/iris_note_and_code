{
 "cells": [
  {
   "cell_type": "markdown",
   "id": "4b575dc7-c1ff-4d87-9305-1ef28cc67027",
   "metadata": {},
   "source": [
    "Book 1  \n",
    "Chapter 8 Functions in Python\n",
    "### 2 × 2矩阵的逆\n",
    "\n",
    "**矩阵逆 Inverse of a matrix**: 是与其相乘后得到单位矩阵的矩阵，`numpy.linalg.inv()`  \n",
    "$A = \\begin{bmatrix}a & b \\\\ c & d\\end{bmatrix}$  \n",
    "$A^{-1} = \\frac{1}{ad-bc} \\begin{bmatrix}d & -b \\\\ -c & a\\end{bmatrix}$  \n",
    "$AA^{-1} = I$"
   ]
  },
  {
   "cell_type": "code",
   "execution_count": 3,
   "id": "b7816ab3-90e9-4453-9569-39572fd95458",
   "metadata": {},
   "outputs": [],
   "source": [
    "def inverse_2x2(matrix):\n",
    "    if len(matrix) != 2 or len(matrix[0]) != 2:\n",
    "        raise ValueError('Matrix must be 2x2')\n",
    "\n",
    "    a = matrix[0][0]\n",
    "    b = matrix[0][1]\n",
    "    c = matrix[1][0]\n",
    "    d = matrix[1][1]\n",
    "\n",
    "    det = a*d - b*c\n",
    "    if det == 0:\n",
    "        raise ValueError('Matrix is not invertible')\n",
    "\n",
    "    inv_det = 1 / det\n",
    "    inv_matrix = [[ d * inv_det, -b * inv_det],\n",
    "                  [-c * inv_det,  a * inv_det]]\n",
    "\n",
    "    return inv_matrix"
   ]
  },
  {
   "cell_type": "code",
   "execution_count": 4,
   "id": "efdf7a7a-634a-4991-89e6-7f1da0987895",
   "metadata": {},
   "outputs": [],
   "source": [
    "A =[[2, 3],\n",
    "    [4, 5]]"
   ]
  },
  {
   "cell_type": "code",
   "execution_count": 5,
   "id": "96ba8697-480a-4ad9-b235-d3a2b95f99fc",
   "metadata": {},
   "outputs": [
    {
     "name": "stdout",
     "output_type": "stream",
     "text": [
      "[-2.5, 1.5]\n",
      "[2.0, -1.0]\n"
     ]
    }
   ],
   "source": [
    "inv_matrix = inverse_2x2(A)\n",
    "for row in inv_matrix:\n",
    "    print(row)"
   ]
  }
 ],
 "metadata": {
  "kernelspec": {
   "display_name": "Python 3 (ipykernel)",
   "language": "python",
   "name": "python3"
  },
  "language_info": {
   "codemirror_mode": {
    "name": "ipython",
    "version": 3
   },
   "file_extension": ".py",
   "mimetype": "text/x-python",
   "name": "python",
   "nbconvert_exporter": "python",
   "pygments_lexer": "ipython3",
   "version": "3.11.7"
  }
 },
 "nbformat": 4,
 "nbformat_minor": 5
}
