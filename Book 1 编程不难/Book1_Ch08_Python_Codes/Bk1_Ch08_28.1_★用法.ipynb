{
 "cells": [
  {
   "cell_type": "markdown",
   "id": "8977a3c9-b776-49f5-b549-45472497295d",
   "metadata": {
    "tags": []
   },
   "source": [
    "Book 1  \n",
    "Chapter 8 Functions in Python\n",
    "### Usage of `*`"
   ]
  },
  {
   "cell_type": "code",
   "execution_count": 2,
   "id": "0d3a4450-1431-4b94-a697-bf72d95ed425",
   "metadata": {
    "tags": []
   },
   "outputs": [
    {
     "data": {
      "text/plain": [
       "6"
      ]
     },
     "execution_count": 2,
     "metadata": {},
     "output_type": "execute_result"
    }
   ],
   "source": [
    "# 乘法\n",
    "a, b = 2, 3\n",
    "a * b"
   ]
  },
  {
   "cell_type": "code",
   "execution_count": 3,
   "id": "55ace0f1-ecc2-4bba-9f16-386b0098722a",
   "metadata": {
    "tags": []
   },
   "outputs": [
    {
     "data": {
      "text/plain": [
       "8"
      ]
     },
     "execution_count": 3,
     "metadata": {},
     "output_type": "execute_result"
    }
   ],
   "source": [
    "# 乘幂\n",
    "a, b = 2, 3\n",
    "a ** b"
   ]
  },
  {
   "cell_type": "code",
   "execution_count": 4,
   "id": "a1a94ee4-0545-4a1a-a093-1eaf7fdc13a6",
   "metadata": {
    "tags": []
   },
   "outputs": [
    {
     "data": {
      "text/plain": [
       "[1, 2, 3, 1, 2, 3, 1, 2, 3]"
      ]
     },
     "execution_count": 4,
     "metadata": {},
     "output_type": "execute_result"
    }
   ],
   "source": [
    "# 复制列表\n",
    "a = [1, 2, 3]\n",
    "a * 3"
   ]
  },
  {
   "cell_type": "code",
   "execution_count": 5,
   "id": "ff5ed5a1-bc6d-423c-86d6-9d7d4b50d29f",
   "metadata": {
    "tags": []
   },
   "outputs": [
    {
     "data": {
      "text/plain": [
       "[1, 2, 0, 1, 2, 3, 4]"
      ]
     },
     "execution_count": 5,
     "metadata": {},
     "output_type": "execute_result"
    }
   ],
   "source": [
    "# 合并列表\n",
    "a_list = [1, 2]\n",
    "b_list = range(5)\n",
    "[*a_list,*b_list]"
   ]
  },
  {
   "cell_type": "code",
   "execution_count": 6,
   "id": "4e2b5598-e5f9-49db-a683-e7171c862987",
   "metadata": {
    "tags": []
   },
   "outputs": [
    {
     "data": {
      "text/plain": [
       "[2, 3, 4, 5]"
      ]
     },
     "execution_count": 6,
     "metadata": {},
     "output_type": "execute_result"
    }
   ],
   "source": [
    "# 拆包\n",
    "a_list = [1, 2, 3, 4, 5]\n",
    "first, *b_list = a_list\n",
    "b_list"
   ]
  },
  {
   "cell_type": "code",
   "execution_count": 7,
   "id": "3fbe1022-9785-472d-948c-3a879f8698bb",
   "metadata": {
    "tags": []
   },
   "outputs": [],
   "source": [
    "# 分割位置参数和关键字参数\n",
    "def fcn_name(a, b, /, c, d, *, e, f):\n",
    "    pass"
   ]
  },
  {
   "cell_type": "code",
   "execution_count": 8,
   "id": "15c10371-9f22-44e3-bb8c-05d09842aed8",
   "metadata": {
    "tags": []
   },
   "outputs": [],
   "source": [
    "# 位置参数\n",
    "def fcn_name(*args):\n",
    "    pass"
   ]
  },
  {
   "cell_type": "code",
   "execution_count": 9,
   "id": "5f2b26cb-be97-476e-ab29-dd1ef8c8ac6d",
   "metadata": {},
   "outputs": [],
   "source": [
    "# 关键字参数\n",
    "def fcn_name(**kwargs):\n",
    "    pass"
   ]
  }
 ],
 "metadata": {
  "kernelspec": {
   "display_name": "Python 3 (ipykernel)",
   "language": "python",
   "name": "python3"
  },
  "language_info": {
   "codemirror_mode": {
    "name": "ipython",
    "version": 3
   },
   "file_extension": ".py",
   "mimetype": "text/x-python",
   "name": "python",
   "nbconvert_exporter": "python",
   "pygments_lexer": "ipython3",
   "version": "3.11.7"
  }
 },
 "nbformat": 4,
 "nbformat_minor": 5
}
