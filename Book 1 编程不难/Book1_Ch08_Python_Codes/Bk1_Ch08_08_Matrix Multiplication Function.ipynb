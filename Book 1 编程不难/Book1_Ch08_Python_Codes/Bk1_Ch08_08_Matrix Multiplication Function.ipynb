{
 "cells": [
  {
   "cell_type": "markdown",
   "id": "545f362e-d344-436f-80e9-cdb16b3897de",
   "metadata": {},
   "source": [
    "Book 1  \n",
    "Chapter 8 Functions in Python\n",
    "### 将矩阵乘法打包成一个函数"
   ]
  },
  {
   "cell_type": "code",
   "execution_count": 2,
   "id": "05a74ae1-d055-486c-bc45-c9da93f54208",
   "metadata": {},
   "outputs": [],
   "source": [
    "# 自定义函数\n",
    "def matrix_multiplication(A, B):\n",
    "    # 定义全0矩阵 C 用来存放结果\n",
    "    C = [[0] * len(B[0]) for i in range(len(A))]\n",
    "\n",
    "    # 遍历 A 的行\n",
    "    for i in range(len(A)):\n",
    "\n",
    "        # 遍历 B 的列\n",
    "        for j in range(len(B[0])):\n",
    "\n",
    "            # 这一层相当于消去 k 所在的维度，即压缩\n",
    "            for k in range(len(B)):\n",
    "                C[i][j] += A[i][k] * B[k][j] # 完成对应元素相乘，再求和\n",
    "\n",
    "    return C"
   ]
  },
  {
   "cell_type": "code",
   "execution_count": 3,
   "id": "3638b508-49cb-4cc2-bf9a-ec3485a16a99",
   "metadata": {},
   "outputs": [],
   "source": [
    "# 定义矩阵 A 和 B\n",
    "A = [[1], [2], [3]]\n",
    "B = [[1, 2, 3]]"
   ]
  },
  {
   "cell_type": "code",
   "execution_count": 4,
   "id": "5a9a5202-6766-4607-a7f0-5d0c6032e673",
   "metadata": {},
   "outputs": [
    {
     "name": "stdout",
     "output_type": "stream",
     "text": [
      "A @ B = \n",
      "[1, 2, 3]\n",
      "[2, 4, 6]\n",
      "[3, 6, 9]\n"
     ]
    }
   ],
   "source": [
    "print('A @ B = ')\n",
    "C = matrix_multiplication(A, B)\n",
    "for row in C:\n",
    "    print(row)"
   ]
  },
  {
   "cell_type": "code",
   "execution_count": 5,
   "id": "a278c324-2bde-4ea0-bfa4-c934358ee495",
   "metadata": {},
   "outputs": [
    {
     "name": "stdout",
     "output_type": "stream",
     "text": [
      "B @ A = \n",
      "[[14]]\n"
     ]
    }
   ],
   "source": [
    "print('B @ A = ')\n",
    "C = matrix_multiplication(B, A)\n",
    "for row in C:\n",
    "    print(C)"
   ]
  }
 ],
 "metadata": {
  "kernelspec": {
   "display_name": "Python 3 (ipykernel)",
   "language": "python",
   "name": "python3"
  },
  "language_info": {
   "codemirror_mode": {
    "name": "ipython",
    "version": 3
   },
   "file_extension": ".py",
   "mimetype": "text/x-python",
   "name": "python",
   "nbconvert_exporter": "python",
   "pygments_lexer": "ipython3",
   "version": "3.11.7"
  }
 },
 "nbformat": 4,
 "nbformat_minor": 5
}
