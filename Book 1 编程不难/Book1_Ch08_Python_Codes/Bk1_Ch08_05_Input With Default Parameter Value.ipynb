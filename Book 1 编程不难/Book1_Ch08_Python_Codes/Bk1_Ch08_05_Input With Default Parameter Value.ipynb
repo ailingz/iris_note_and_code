{
 "cells": [
  {
   "cell_type": "markdown",
   "id": "54b0cdb7-6557-40bb-820c-a30d34ad0ac3",
   "metadata": {},
   "source": [
    "Book 1  \n",
    "Chapter 8 Functions in Python\n",
    "### 函数输入有默认值"
   ]
  },
  {
   "cell_type": "code",
   "execution_count": 2,
   "id": "24d18216-8773-4f21-b709-f48d6b640dc8",
   "metadata": {},
   "outputs": [],
   "source": [
    "# 自定义函数\n",
    "def greet(name, greeting='Hello'):\n",
    "    print(f'{greeting}, {name}!')"
   ]
  },
  {
   "cell_type": "code",
   "execution_count": 3,
   "id": "39fc6e46-a405-4399-8d1a-6b74acb13d98",
   "metadata": {},
   "outputs": [
    {
     "name": "stdout",
     "output_type": "stream",
     "text": [
      "Hello, James!\n"
     ]
    }
   ],
   "source": [
    "# 使用默认的问候语调用函数\n",
    "greet('James')"
   ]
  },
  {
   "cell_type": "code",
   "execution_count": 4,
   "id": "60a23abe-d893-4ffb-b617-ac153521278f",
   "metadata": {},
   "outputs": [
    {
     "name": "stdout",
     "output_type": "stream",
     "text": [
      "Good morning, James!\n"
     ]
    }
   ],
   "source": [
    "# 指定自定义的问候语调用函数\n",
    "greet('James', 'Good morning')"
   ]
  }
 ],
 "metadata": {
  "kernelspec": {
   "display_name": "Python 3 (ipykernel)",
   "language": "python",
   "name": "python3"
  },
  "language_info": {
   "codemirror_mode": {
    "name": "ipython",
    "version": 3
   },
   "file_extension": ".py",
   "mimetype": "text/x-python",
   "name": "python",
   "nbconvert_exporter": "python",
   "pygments_lexer": "ipython3",
   "version": "3.11.7"
  }
 },
 "nbformat": 4,
 "nbformat_minor": 5
}
