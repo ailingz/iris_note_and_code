{
 "cells": [
  {
   "cell_type": "markdown",
   "id": "e08661d1-d307-4464-afc4-357a00e08783",
   "metadata": {},
   "source": [
    "Book 1  \n",
    "Chapter 8 Functions in Python\n",
    "### 无输入、无输出函数"
   ]
  },
  {
   "cell_type": "code",
   "execution_count": 3,
   "id": "46858e74-834f-40e1-a395-774665815313",
   "metadata": {},
   "outputs": [],
   "source": [
    "def say_hello():\n",
    "    # User defined function：print hello\n",
    "    # Input：No\n",
    "    # Output：No\n",
    "    print('Hello')"
   ]
  },
  {
   "cell_type": "code",
   "execution_count": 4,
   "id": "208b4708-88e2-4fb4-b815-091f25cb2247",
   "metadata": {},
   "outputs": [
    {
     "name": "stdout",
     "output_type": "stream",
     "text": [
      "Hello\n"
     ]
    }
   ],
   "source": [
    "# 调用自定义函数\n",
    "say_hello()"
   ]
  }
 ],
 "metadata": {
  "kernelspec": {
   "display_name": "Python 3 (ipykernel)",
   "language": "python",
   "name": "python3"
  },
  "language_info": {
   "codemirror_mode": {
    "name": "ipython",
    "version": 3
   },
   "file_extension": ".py",
   "mimetype": "text/x-python",
   "name": "python",
   "nbconvert_exporter": "python",
   "pygments_lexer": "ipython3",
   "version": "3.11.7"
  }
 },
 "nbformat": 4,
 "nbformat_minor": 5
}
