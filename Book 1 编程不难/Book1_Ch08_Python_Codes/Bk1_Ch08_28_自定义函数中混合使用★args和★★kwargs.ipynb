{
 "cells": [
  {
   "cell_type": "markdown",
   "id": "1f6da859-6bdb-48e9-b189-3d0410451831",
   "metadata": {},
   "source": [
    "Book 1  \n",
    "Chapter 8 Functions in Python\n",
    "### `*args` & `**kwargs` in User Defined Functions"
   ]
  },
  {
   "cell_type": "code",
   "execution_count": 2,
   "id": "577d1ea4-2d31-42f7-bdc0-080d03ca406c",
   "metadata": {
    "tags": []
   },
   "outputs": [],
   "source": [
    "import statistics\n",
    "\n",
    "# 混合 *args, **kwargs\n",
    "def calc_stats(operation, *args, **kwargs):\n",
    "    result = 0\n",
    "\n",
    "    # 计算标准差\n",
    "    if operation == 'stdev':\n",
    "        # 总体标准差\n",
    "        if 'TYPE' in kwargs and kwargs['TYPE'] == 'population':\n",
    "            result = statistics.pstdev(args)\n",
    "        # 样本标准差\n",
    "        elif 'TYPE' in kwargs and kwargs['TYPE'] == 'sample':\n",
    "            result = statistics.stdev(args)\n",
    "        else:\n",
    "            raise ValueError('TYPE, either population or sample')\n",
    "\n",
    "    # 计算方差\n",
    "    elif operation == 'var':\n",
    "        # 总体方差\n",
    "        if 'TYPE' in kwargs and kwargs['TYPE'] == 'population':\n",
    "            result = statistics.pvariance(args)\n",
    "        # 样本方差\n",
    "        elif 'TYPE' in kwargs and kwargs['TYPE'] == 'sample':\n",
    "            result = statistics.variance(args)\n",
    "        else:\n",
    "            raise ValueError('TYPE, either population or sample')\n",
    "    else:\n",
    "        print('Unsupported operation')\n",
    "        return None\n",
    "\n",
    "    # 保留小数位\n",
    "    if 'ROUND' in kwargs:\n",
    "        result = round(result, kwargs['ROUND'])\n",
    "\n",
    "    return result"
   ]
  },
  {
   "cell_type": "code",
   "execution_count": 3,
   "id": "3a4cc777-126a-4f08-be56-2820fafdb6a8",
   "metadata": {
    "tags": []
   },
   "outputs": [
    {
     "data": {
      "text/plain": [
       "1.708"
      ]
     },
     "execution_count": 3,
     "metadata": {},
     "output_type": "execute_result"
    }
   ],
   "source": [
    "# 计算总体标准差\n",
    "calc_stats('stdev',\n",
    "           1, 2, 3, 4, 5, 6,\n",
    "           TYPE='population', ROUND=3)"
   ]
  },
  {
   "cell_type": "code",
   "execution_count": 4,
   "id": "e5c32c28-2638-497c-b930-93dda46c2c4d",
   "metadata": {
    "tags": []
   },
   "outputs": [
    {
     "data": {
      "text/plain": [
       "1.8708286933869707"
      ]
     },
     "execution_count": 4,
     "metadata": {},
     "output_type": "execute_result"
    }
   ],
   "source": [
    "# 计算样本标准差\n",
    "calc_stats('stdev',\n",
    "           1, 2, 3, 4, 5, 6,\n",
    "           TYPE='sample')"
   ]
  },
  {
   "cell_type": "code",
   "execution_count": 5,
   "id": "844db6b2-04ff-4107-aab7-433951477ebd",
   "metadata": {
    "tags": []
   },
   "outputs": [
    {
     "data": {
      "text/plain": [
       "2.9167"
      ]
     },
     "execution_count": 5,
     "metadata": {},
     "output_type": "execute_result"
    }
   ],
   "source": [
    "# 计算总体方差\n",
    "calc_stats('var',\n",
    "           1, 2, 3, 4, 5, 6,\n",
    "           TYPE='population', ROUND=4)"
   ]
  },
  {
   "cell_type": "code",
   "execution_count": 6,
   "id": "5c980d89-507b-40c2-8ebe-4f9bf065749b",
   "metadata": {
    "tags": []
   },
   "outputs": [
    {
     "data": {
      "text/plain": [
       "3.5"
      ]
     },
     "execution_count": 6,
     "metadata": {},
     "output_type": "execute_result"
    }
   ],
   "source": [
    "# 计算样本方差\n",
    "calc_stats('var',\n",
    "           1, 2, 3, 4, 5, 6,\n",
    "           TYPE='sample')"
   ]
  }
 ],
 "metadata": {
  "kernelspec": {
   "display_name": "Python 3 (ipykernel)",
   "language": "python",
   "name": "python3"
  },
  "language_info": {
   "codemirror_mode": {
    "name": "ipython",
    "version": 3
   },
   "file_extension": ".py",
   "mimetype": "text/x-python",
   "name": "python",
   "nbconvert_exporter": "python",
   "pygments_lexer": "ipython3",
   "version": "3.11.7"
  }
 },
 "nbformat": 4,
 "nbformat_minor": 5
}
