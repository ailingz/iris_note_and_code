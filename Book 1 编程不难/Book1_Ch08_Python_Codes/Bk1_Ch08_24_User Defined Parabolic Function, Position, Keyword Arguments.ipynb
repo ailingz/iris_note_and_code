{
 "cells": [
  {
   "cell_type": "markdown",
   "id": "ea18e0cd-782a-4e09-af9d-ab76f425fdef",
   "metadata": {},
   "source": [
    "Book 1  \n",
    "Chapter 8 Functions in Python\n",
    "### 自定义抛物线函数，位置参数、关键字参数"
   ]
  },
  {
   "cell_type": "markdown",
   "id": "08280e2b-4269-4706-8c24-17aa5d863140",
   "metadata": {},
   "source": [
    "#### 位置参数"
   ]
  },
  {
   "cell_type": "code",
   "execution_count": 3,
   "id": "9babb5f5-78ea-4227-9e44-3a2f370bcdf3",
   "metadata": {},
   "outputs": [],
   "source": [
    "def quadratic_f(a, b, c, x, /):\n",
    "    f = a*x**2 + b*x + c\n",
    "\n",
    "    return f"
   ]
  },
  {
   "cell_type": "code",
   "execution_count": 4,
   "id": "26dd6fdd-94c0-4c46-ad1d-5a0fd3aaf1f2",
   "metadata": {},
   "outputs": [
    {
     "data": {
      "text/plain": [
       "27"
      ]
     },
     "execution_count": 4,
     "metadata": {},
     "output_type": "execute_result"
    }
   ],
   "source": [
    "quadratic_f(1, 2, 3, 4)"
   ]
  },
  {
   "cell_type": "code",
   "execution_count": 5,
   "id": "9b964747-0029-40d8-9f27-ed53c1374427",
   "metadata": {},
   "outputs": [
    {
     "data": {
      "text/plain": [
       "57"
      ]
     },
     "execution_count": 5,
     "metadata": {},
     "output_type": "execute_result"
    }
   ],
   "source": [
    "quadratic_f(3, 2, 1, 4)"
   ]
  },
  {
   "cell_type": "markdown",
   "id": "6a35f589-b283-4868-acc7-72268149d7ff",
   "metadata": {},
   "source": [
    "#### 关键字参数"
   ]
  },
  {
   "cell_type": "code",
   "execution_count": 7,
   "id": "20bec468-1099-4201-b09d-f06101864870",
   "metadata": {},
   "outputs": [],
   "source": [
    "def quadratic_f_2(*, a, b, c, x):\n",
    "    f = a*x**2 + b*x + c\n",
    "\n",
    "    return f"
   ]
  },
  {
   "cell_type": "code",
   "execution_count": 8,
   "id": "38f6a27c-82a6-4b7f-9644-9a6710154ff0",
   "metadata": {},
   "outputs": [
    {
     "data": {
      "text/plain": [
       "27"
      ]
     },
     "execution_count": 8,
     "metadata": {},
     "output_type": "execute_result"
    }
   ],
   "source": [
    "quadratic_f_2(a=1, b=2, c=3, x=4)"
   ]
  },
  {
   "cell_type": "code",
   "execution_count": 9,
   "id": "80ed5a73-0e58-4c2b-9808-b0de5d301d7e",
   "metadata": {},
   "outputs": [
    {
     "data": {
      "text/plain": [
       "27"
      ]
     },
     "execution_count": 9,
     "metadata": {},
     "output_type": "execute_result"
    }
   ],
   "source": [
    "quadratic_f_2(c=3, x=4, a=1, b=2)"
   ]
  },
  {
   "cell_type": "markdown",
   "id": "8168bc95-52b9-49f9-9283-08e04c0d3869",
   "metadata": {},
   "source": [
    "#### 关键字/位置参数"
   ]
  },
  {
   "cell_type": "code",
   "execution_count": 11,
   "id": "187fd3f7-166d-4936-aa39-1e9f6ddd0a14",
   "metadata": {},
   "outputs": [],
   "source": [
    "def quadratic_f_3(a, b, /, c, *, x):\n",
    "    f = a*x**2 + b*x + c\n",
    "\n",
    "    return f"
   ]
  },
  {
   "cell_type": "code",
   "execution_count": 12,
   "id": "b3cd0937-0d11-46c5-918c-5f1ae418386f",
   "metadata": {},
   "outputs": [
    {
     "data": {
      "text/plain": [
       "27"
      ]
     },
     "execution_count": 12,
     "metadata": {},
     "output_type": "execute_result"
    }
   ],
   "source": [
    "quadratic_f_3(1, 2, 3, x=4)"
   ]
  },
  {
   "cell_type": "code",
   "execution_count": 13,
   "id": "616f992f-c7ba-49ea-b688-f045ee4684ee",
   "metadata": {
    "tags": []
   },
   "outputs": [
    {
     "data": {
      "text/plain": [
       "27"
      ]
     },
     "execution_count": 13,
     "metadata": {},
     "output_type": "execute_result"
    }
   ],
   "source": [
    "quadratic_f_3(1, 2, c=3, x=4)"
   ]
  }
 ],
 "metadata": {
  "kernelspec": {
   "display_name": "Python 3 (ipykernel)",
   "language": "python",
   "name": "python3"
  },
  "language_info": {
   "codemirror_mode": {
    "name": "ipython",
    "version": 3
   },
   "file_extension": ".py",
   "mimetype": "text/x-python",
   "name": "python",
   "nbconvert_exporter": "python",
   "pygments_lexer": "ipython3",
   "version": "3.11.7"
  }
 },
 "nbformat": 4,
 "nbformat_minor": 5
}
