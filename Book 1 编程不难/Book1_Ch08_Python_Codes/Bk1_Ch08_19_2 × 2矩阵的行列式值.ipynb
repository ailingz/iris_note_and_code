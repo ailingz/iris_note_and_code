{
 "cells": [
  {
   "cell_type": "markdown",
   "id": "18d00420-d8c8-48be-992c-d30c11f103ba",
   "metadata": {},
   "source": [
    "Book 1  \n",
    "Chapter 8 Functions in Python\n",
    "### Determinant of A Matrix\n",
    "\n",
    "**行列式(Determinant)**: 将方阵映射成一个标量，`numpy.linalg.det()`  \n",
    "$\\det{\\begin{bmatrix}a & b \\\\ c & d\\end{bmatrix}} = ad - bc$"
   ]
  },
  {
   "cell_type": "code",
   "execution_count": 1,
   "id": "3d207ee0-b2bc-43eb-a81f-0cc792465c07",
   "metadata": {
    "tags": []
   },
   "outputs": [],
   "source": [
    "def determinant_2x2(matrix):\n",
    "    if len(matrix) != 2 or len(matrix[0]) !=2:\n",
    "        raise ValueError('Matrix must be 2x2')\n",
    "\n",
    "    a = matrix[0][0]\n",
    "    b = matrix[0][1]\n",
    "    c = matrix[1][0]\n",
    "    d = matrix[1][1]\n",
    "\n",
    "    det = a*d - b*c\n",
    "\n",
    "    return det"
   ]
  },
  {
   "cell_type": "code",
   "execution_count": 2,
   "id": "433d3ff1-8dd2-4753-b176-72cf75ad73af",
   "metadata": {
    "tags": []
   },
   "outputs": [],
   "source": [
    "A = [[3, 2],\n",
    "     [1, 4]]"
   ]
  },
  {
   "cell_type": "code",
   "execution_count": 3,
   "id": "f150a698-c04c-4a60-8fc2-54c098d079c7",
   "metadata": {
    "tags": []
   },
   "outputs": [
    {
     "name": "stdout",
     "output_type": "stream",
     "text": [
      "Determinant of matrix A is 10\n"
     ]
    }
   ],
   "source": [
    "det = determinant_2x2(A)\n",
    "print('Determinant of matrix A is', det)"
   ]
  }
 ],
 "metadata": {
  "kernelspec": {
   "display_name": "Python 3 (ipykernel)",
   "language": "python",
   "name": "python3"
  },
  "language_info": {
   "codemirror_mode": {
    "name": "ipython",
    "version": 3
   },
   "file_extension": ".py",
   "mimetype": "text/x-python",
   "name": "python",
   "nbconvert_exporter": "python",
   "pygments_lexer": "ipython3",
   "version": "3.11.7"
  }
 },
 "nbformat": 4,
 "nbformat_minor": 5
}
