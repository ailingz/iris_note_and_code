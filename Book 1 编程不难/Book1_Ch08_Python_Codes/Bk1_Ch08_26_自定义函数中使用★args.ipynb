{
 "cells": [
  {
   "cell_type": "markdown",
   "id": "b83f4748-838c-4163-b15f-34b98ffcc89b",
   "metadata": {},
   "source": [
    "Book 1  \n",
    "Chapter 8 Functions in Python\n",
    "### `*args` in User Defined Functions"
   ]
  },
  {
   "cell_type": "code",
   "execution_count": 2,
   "id": "7a00dac4-1476-4be8-a31a-88fa03e66766",
   "metadata": {
    "tags": []
   },
   "outputs": [],
   "source": [
    "# 利用 *args\n",
    "def multiply_all(*args):\n",
    "    result = 1\n",
    "    print(args)\n",
    "\n",
    "    for num_idx in args:\n",
    "        result *= num_idx\n",
    "\n",
    "    return result"
   ]
  },
  {
   "cell_type": "code",
   "execution_count": 3,
   "id": "e9ed9fa1-2b2f-43a2-b8cf-b199d16a607b",
   "metadata": {
    "tags": []
   },
   "outputs": [
    {
     "name": "stdout",
     "output_type": "stream",
     "text": [
      "(1, 2, 3, 4)\n",
      "24\n"
     ]
    }
   ],
   "source": [
    "print(multiply_all(1, 2, 3, 4))"
   ]
  },
  {
   "cell_type": "code",
   "execution_count": 4,
   "id": "8d5092f0-3c8f-4d79-964f-5ab978aa8875",
   "metadata": {
    "tags": []
   },
   "outputs": [
    {
     "name": "stdout",
     "output_type": "stream",
     "text": [
      "(1, 2, 3, 4, 5, 6)\n",
      "720\n"
     ]
    }
   ],
   "source": [
    "print(multiply_all(1, 2, 3, 4, 5, 6))"
   ]
  }
 ],
 "metadata": {
  "kernelspec": {
   "display_name": "Python 3 (ipykernel)",
   "language": "python",
   "name": "python3"
  },
  "language_info": {
   "codemirror_mode": {
    "name": "ipython",
    "version": 3
   },
   "file_extension": ".py",
   "mimetype": "text/x-python",
   "name": "python",
   "nbconvert_exporter": "python",
   "pygments_lexer": "ipython3",
   "version": "3.11.7"
  }
 },
 "nbformat": 4,
 "nbformat_minor": 5
}
