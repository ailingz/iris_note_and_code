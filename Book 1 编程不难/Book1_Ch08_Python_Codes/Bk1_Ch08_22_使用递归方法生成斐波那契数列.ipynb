{
 "cells": [
  {
   "cell_type": "markdown",
   "id": "5e5b54d1-fdad-4b53-8e0e-4452c13dec00",
   "metadata": {},
   "source": [
    "Book 1  \n",
    "Chapter 8 Functions in Python\n",
    "### Fibonacci Series Using Recursion"
   ]
  },
  {
   "cell_type": "code",
   "execution_count": 2,
   "id": "fba98e63-f21b-42a6-94b7-7356ce676bc6",
   "metadata": {
    "tags": []
   },
   "outputs": [],
   "source": [
    "# 使用递归函数生成 Fibonacci 数列\n",
    "\n",
    "def fibonacci(n):\n",
    "\n",
    "    # 基本情况：如果 n 小于或等于1，它将直接返回 n\n",
    "    if n <= 1:\n",
    "        return n\n",
    "\n",
    "    # 递归情况：否则，它将调用两次自己\n",
    "    # 并将 n-1 和 n-2 作为参数传递给它们\n",
    "    else:\n",
    "        return fibonacci(n-1) + fibonacci(n-2)"
   ]
  },
  {
   "cell_type": "code",
   "execution_count": 3,
   "id": "b36c93d2-8bc0-492f-866b-3f6fe6f8e2ba",
   "metadata": {
    "tags": []
   },
   "outputs": [
    {
     "name": "stdout",
     "output_type": "stream",
     "text": [
      "0\n",
      "1\n",
      "1\n",
      "2\n",
      "3\n",
      "5\n",
      "8\n",
      "13\n",
      "21\n",
      "34\n"
     ]
    }
   ],
   "source": [
    "for i in range(10):\n",
    "    print(fibonacci(i))"
   ]
  }
 ],
 "metadata": {
  "kernelspec": {
   "display_name": "Python 3 (ipykernel)",
   "language": "python",
   "name": "python3"
  },
  "language_info": {
   "codemirror_mode": {
    "name": "ipython",
    "version": 3
   },
   "file_extension": ".py",
   "mimetype": "text/x-python",
   "name": "python",
   "nbconvert_exporter": "python",
   "pygments_lexer": "ipython3",
   "version": "3.11.7"
  }
 },
 "nbformat": 4,
 "nbformat_minor": 5
}
