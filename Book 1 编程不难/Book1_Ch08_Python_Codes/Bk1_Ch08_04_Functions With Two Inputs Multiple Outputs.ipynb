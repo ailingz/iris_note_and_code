{
 "cells": [
  {
   "cell_type": "markdown",
   "id": "34f3546f-600b-4947-832e-1b1115af6958",
   "metadata": {},
   "source": [
    "Book 1  \n",
    "Chapter 8 Functions in Python\n",
    "### 两个输入、多个输出函数"
   ]
  },
  {
   "cell_type": "code",
   "execution_count": 3,
   "id": "1e6e156e-09d3-47f5-bc95-256c7eb556aa",
   "metadata": {},
   "outputs": [],
   "source": [
    "# 自定义函数\n",
    "def arithmetic_operations(a, b):\n",
    "    add = a + b\n",
    "    sub = a - b\n",
    "    mul = a * b\n",
    "    div = a / b\n",
    "\n",
    "    return add, sub, mul, div"
   ]
  },
  {
   "cell_type": "code",
   "execution_count": 4,
   "id": "ff561d6b-e905-4dee-8a7f-1f74a4873bce",
   "metadata": {},
   "outputs": [
    {
     "name": "stdout",
     "output_type": "stream",
     "text": [
      "(15, 5, 50, 2.0)\n"
     ]
    }
   ],
   "source": [
    "# 调用函数并输出结果\n",
    "a, b = 10, 5\n",
    "result = arithmetic_operations(a, b)\n",
    "print(result)"
   ]
  },
  {
   "cell_type": "code",
   "execution_count": 5,
   "id": "edba0637-5eb5-4ec8-9aec-25af4e3e3269",
   "metadata": {},
   "outputs": [
    {
     "name": "stdout",
     "output_type": "stream",
     "text": [
      "Addition: 15\n",
      "Subtraction: 5\n",
      "Multiplication: 50\n",
      "Division: 2.0\n"
     ]
    }
   ],
   "source": [
    "print(f'Addition: {result[0]}')\n",
    "print(f'Subtraction: {result[1]}')\n",
    "print(f'Multiplication: {result[2]}')\n",
    "print(f'Division: {result[3]}')"
   ]
  }
 ],
 "metadata": {
  "kernelspec": {
   "display_name": "Python 3 (ipykernel)",
   "language": "python",
   "name": "python3"
  },
  "language_info": {
   "codemirror_mode": {
    "name": "ipython",
    "version": 3
   },
   "file_extension": ".py",
   "mimetype": "text/x-python",
   "name": "python",
   "nbconvert_exporter": "python",
   "pygments_lexer": "ipython3",
   "version": "3.11.7"
  }
 },
 "nbformat": 4,
 "nbformat_minor": 5
}
