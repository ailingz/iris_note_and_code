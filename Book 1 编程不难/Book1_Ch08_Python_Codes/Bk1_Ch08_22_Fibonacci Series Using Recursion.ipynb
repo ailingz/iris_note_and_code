{
 "cells": [
  {
   "cell_type": "markdown",
   "id": "5e5b54d1-fdad-4b53-8e0e-4452c13dec00",
   "metadata": {},
   "source": [
    "Book 1  \n",
    "Chapter 8 Functions in Python\n",
    "### 使用递归方法生成斐波那契数列"
   ]
  },
  {
   "cell_type": "code",
   "execution_count": 2,
   "id": "770efadc-558a-4353-8f36-b9d3c3b5152a",
   "metadata": {},
   "outputs": [],
   "source": [
    "# 使用递归函数生成 Fibonacci 数列\n",
    "def fibonacci(n):\n",
    "    # 基本情况：如果 n 小于或等于1，它将直接返回 n\n",
    "    if n <= 1:\n",
    "        return n\n",
    "\n",
    "    # 递归情况：否则，它将调用两次自己\n",
    "    # 并将 n-1 和 n-2 作为参数传递给它们\n",
    "    else:\n",
    "        return fibonacci(n-1) + fibonacci(n-2)"
   ]
  },
  {
   "cell_type": "code",
   "execution_count": 3,
   "id": "3cc41dd9-fe6d-4b73-a23f-49bc27adc39c",
   "metadata": {},
   "outputs": [
    {
     "name": "stdout",
     "output_type": "stream",
     "text": [
      "0\n",
      "1\n",
      "1\n",
      "2\n",
      "3\n",
      "5\n",
      "8\n",
      "13\n",
      "21\n",
      "34\n"
     ]
    }
   ],
   "source": [
    "for i in range(10):\n",
    "    print(fibonacci(i))"
   ]
  }
 ],
 "metadata": {
  "kernelspec": {
   "display_name": "Python 3 (ipykernel)",
   "language": "python",
   "name": "python3"
  },
  "language_info": {
   "codemirror_mode": {
    "name": "ipython",
    "version": 3
   },
   "file_extension": ".py",
   "mimetype": "text/x-python",
   "name": "python",
   "nbconvert_exporter": "python",
   "pygments_lexer": "ipython3",
   "version": "3.11.7"
  }
 },
 "nbformat": 4,
 "nbformat_minor": 5
}
