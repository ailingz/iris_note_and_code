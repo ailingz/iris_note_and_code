{
 "cells": [
  {
   "cell_type": "markdown",
   "id": "cfdb7c77-94a0-4c89-958d-5f641d50a64b",
   "metadata": {},
   "source": [
    "Book 1  \n",
    "Chapter 8 Functions in Python\n",
    "### Zero Matrix\n",
    "\n",
    "**全0矩阵(Zero matrix)**: 一个所有元素都为零的矩阵, `numpy.zeros()`/`numpy.zeros_like()`"
   ]
  },
  {
   "cell_type": "code",
   "execution_count": 2,
   "id": "8fb616c3-8615-4867-9fa0-c3ff2c76327c",
   "metadata": {
    "tags": []
   },
   "outputs": [],
   "source": [
    "# 自定义函数产生全0矩阵\n",
    "\n",
    "def create_zeros_matrix(rows, cols):\n",
    "    matrix = []\n",
    "\n",
    "    for _ in range(rows):\n",
    "        row_idx = [0] * cols\n",
    "        matrix.append(row_idx)\n",
    "\n",
    "    return matrix"
   ]
  },
  {
   "cell_type": "code",
   "execution_count": 3,
   "id": "48c13983-e338-440e-b405-78a9cfb5dbb2",
   "metadata": {
    "tags": []
   },
   "outputs": [
    {
     "name": "stdout",
     "output_type": "stream",
     "text": [
      "[0, 0, 0, 0]\n",
      "[0, 0, 0, 0]\n",
      "[0, 0, 0, 0]\n"
     ]
    }
   ],
   "source": [
    "# 调用自定义函数\n",
    "\n",
    "m = create_zeros_matrix(3, 4)\n",
    "for row in m:\n",
    "    print(row)"
   ]
  }
 ],
 "metadata": {
  "kernelspec": {
   "display_name": "Python 3 (ipykernel)",
   "language": "python",
   "name": "python3"
  },
  "language_info": {
   "codemirror_mode": {
    "name": "ipython",
    "version": 3
   },
   "file_extension": ".py",
   "mimetype": "text/x-python",
   "name": "python",
   "nbconvert_exporter": "python",
   "pygments_lexer": "ipython3",
   "version": "3.11.7"
  }
 },
 "nbformat": 4,
 "nbformat_minor": 5
}
