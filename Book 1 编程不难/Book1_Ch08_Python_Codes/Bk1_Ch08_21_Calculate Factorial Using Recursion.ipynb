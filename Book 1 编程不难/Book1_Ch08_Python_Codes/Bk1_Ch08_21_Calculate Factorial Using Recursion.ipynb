{
 "cells": [
  {
   "cell_type": "markdown",
   "id": "3110f50c-7dc8-4481-8c5d-dd287a2f8437",
   "metadata": {},
   "source": [
    "Book 1  \n",
    "Chapter 8 Functions in Python\n",
    "### 使用递归方法生成阶乘"
   ]
  },
  {
   "cell_type": "code",
   "execution_count": 2,
   "id": "fa5e8902-05a2-40a8-b444-bb64a296e20a",
   "metadata": {},
   "outputs": [],
   "source": [
    "def factorial(n):\n",
    "    # 基本情况：当 n 等于0或1时，阶乘为1\n",
    "    if n == 0 or n == 1:\n",
    "        return 1\n",
    "\n",
    "    # 递归情况：计算n的阶乘等于n乘以(n-1)的阶乘\n",
    "    else:\n",
    "        return n * factorial(n-1)"
   ]
  },
  {
   "cell_type": "code",
   "execution_count": 3,
   "id": "aec68299-79f3-4911-abf5-4836269820c5",
   "metadata": {},
   "outputs": [
    {
     "name": "stdout",
     "output_type": "stream",
     "text": [
      "0! = 1\n",
      "1! = 1\n",
      "2! = 2\n",
      "3! = 6\n",
      "4! = 24\n",
      "5! = 120\n",
      "6! = 720\n",
      "7! = 5040\n",
      "8! = 40320\n",
      "9! = 362880\n"
     ]
    }
   ],
   "source": [
    "for i in range(10):\n",
    "    print(f'{i}! = {factorial(i)}')"
   ]
  }
 ],
 "metadata": {
  "kernelspec": {
   "display_name": "Python 3 (ipykernel)",
   "language": "python",
   "name": "python3"
  },
  "language_info": {
   "codemirror_mode": {
    "name": "ipython",
    "version": 3
   },
   "file_extension": ".py",
   "mimetype": "text/x-python",
   "name": "python",
   "nbconvert_exporter": "python",
   "pygments_lexer": "ipython3",
   "version": "3.11.7"
  }
 },
 "nbformat": 4,
 "nbformat_minor": 5
}
