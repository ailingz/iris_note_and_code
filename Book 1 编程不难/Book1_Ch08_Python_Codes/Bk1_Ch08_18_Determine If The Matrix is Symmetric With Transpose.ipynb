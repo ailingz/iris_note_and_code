{
 "cells": [
  {
   "cell_type": "markdown",
   "id": "48f6eb54-8fa9-49f0-b259-17c5be02a945",
   "metadata": {},
   "source": [
    "Book 1  \n",
    "Chapter 8 Functions in Python\n",
    "### 利用矩阵转置判断矩阵是否对称"
   ]
  },
  {
   "cell_type": "code",
   "execution_count": 3,
   "id": "76142cbc-4037-4a37-bf45-723923efffa0",
   "metadata": {},
   "outputs": [],
   "source": [
    "def is_symmetric_2(matrix):\n",
    "    rows = len(matrix)\n",
    "    cols = len(matrix[0])\n",
    "\n",
    "    # 首先判断矩阵是否为方阵\n",
    "    if rows != cols:\n",
    "        return False\n",
    "\n",
    "    # 获得转置矩阵\n",
    "    transposed = [[matrix[j][i] for j in range(cols)]\n",
    "                                for i in range(rows)]\n",
    "\n",
    "    if matrix == transposed:\n",
    "        return True\n",
    "\n",
    "    return False"
   ]
  },
  {
   "cell_type": "code",
   "execution_count": 4,
   "id": "f9d41c52-618b-4578-9087-4d41ab13096a",
   "metadata": {},
   "outputs": [],
   "source": [
    "A = [[1, 2, 3],\n",
    "     [2, 4, 5],\n",
    "     [3, 5, 6]]\n",
    "B = [[1, 2, 3],\n",
    "     [2, 4, 0],\n",
    "     [0, 5, 6]]"
   ]
  },
  {
   "cell_type": "code",
   "execution_count": 5,
   "id": "ed4c5f84-1b0e-485e-8cc1-19e591150838",
   "metadata": {},
   "outputs": [
    {
     "name": "stdout",
     "output_type": "stream",
     "text": [
      "Is matrix A symmetric? True\n",
      "Is matrix B symmetric? False\n"
     ]
    }
   ],
   "source": [
    "print('Is matrix A symmetric?', is_symmetric_2(A))\n",
    "print('Is matrix B symmetric?', is_symmetric_2(B))"
   ]
  }
 ],
 "metadata": {
  "kernelspec": {
   "display_name": "Python 3 (ipykernel)",
   "language": "python",
   "name": "python3"
  },
  "language_info": {
   "codemirror_mode": {
    "name": "ipython",
    "version": 3
   },
   "file_extension": ".py",
   "mimetype": "text/x-python",
   "name": "python",
   "nbconvert_exporter": "python",
   "pygments_lexer": "ipython3",
   "version": "3.11.7"
  }
 },
 "nbformat": 4,
 "nbformat_minor": 5
}
