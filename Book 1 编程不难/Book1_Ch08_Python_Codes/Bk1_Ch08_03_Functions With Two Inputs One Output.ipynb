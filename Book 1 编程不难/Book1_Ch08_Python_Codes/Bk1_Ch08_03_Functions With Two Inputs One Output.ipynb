{
 "cells": [
  {
   "cell_type": "markdown",
   "id": "f646a65a-1d60-4f7a-bc54-5e80b35bc1d4",
   "metadata": {},
   "source": [
    "Book 1  \n",
    "Chapter 8 Functions in Python\n",
    "### 两个输入、一个输出函数"
   ]
  },
  {
   "cell_type": "code",
   "execution_count": 3,
   "id": "ab9c137f-d13e-4343-8905-1e807ee14ce8",
   "metadata": {},
   "outputs": [],
   "source": [
    "# 自定义函数\n",
    "def add_numbers(a, b):\n",
    "    result = a + b\n",
    "\n",
    "    return result"
   ]
  },
  {
   "cell_type": "code",
   "execution_count": 4,
   "id": "4b37e800-2464-48bb-9ef6-6cd9d74adc99",
   "metadata": {},
   "outputs": [
    {
     "name": "stdout",
     "output_type": "stream",
     "text": [
      "8\n"
     ]
    }
   ],
   "source": [
    "sum = add_numbers(3, 5) # 调用函数\n",
    "print(sum)"
   ]
  }
 ],
 "metadata": {
  "kernelspec": {
   "display_name": "Python 3 (ipykernel)",
   "language": "python",
   "name": "python3"
  },
  "language_info": {
   "codemirror_mode": {
    "name": "ipython",
    "version": 3
   },
   "file_extension": ".py",
   "mimetype": "text/x-python",
   "name": "python",
   "nbconvert_exporter": "python",
   "pygments_lexer": "ipython3",
   "version": "3.11.7"
  }
 },
 "nbformat": 4,
 "nbformat_minor": 5
}
