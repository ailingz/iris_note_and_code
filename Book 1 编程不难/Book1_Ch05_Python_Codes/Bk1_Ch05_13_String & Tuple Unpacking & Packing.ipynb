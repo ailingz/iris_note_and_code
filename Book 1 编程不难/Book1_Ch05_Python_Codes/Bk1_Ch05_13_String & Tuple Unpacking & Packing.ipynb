{
 "cells": [
  {
   "cell_type": "markdown",
   "id": "259999b6-8ac4-44ef-b095-eadf03538c39",
   "metadata": {},
   "source": [
    "Book 1  \n",
    "Chapter 5 Data Types in Python\n",
    "### 字符串和元组拆包、打包\n",
    "\n",
    "元组和字符串打包之后的结果为列表。"
   ]
  },
  {
   "cell_type": "code",
   "execution_count": 2,
   "id": "131d9577-972c-4a15-98c8-81afc1b9d3f4",
   "metadata": {},
   "outputs": [
    {
     "name": "stdout",
     "output_type": "stream",
     "text": [
      "['b', 'c']\n"
     ]
    }
   ],
   "source": [
    "# 定义字符串\n",
    "string_0 = 'abcd'\n",
    "\n",
    "first, *str_rest, last = string_0\n",
    "print(str_rest)"
   ]
  },
  {
   "cell_type": "code",
   "execution_count": 3,
   "id": "3b473b82-9534-4926-acf4-2d3bcb601655",
   "metadata": {},
   "outputs": [
    {
     "name": "stdout",
     "output_type": "stream",
     "text": [
      "[2, 3]\n"
     ]
    }
   ],
   "source": [
    "# 定义元组\n",
    "tuple_0 = (1, 2, 3, 4)\n",
    "\n",
    "first, *tuple_rest, last = tuple_0\n",
    "print(tuple_rest)"
   ]
  }
 ],
 "metadata": {
  "kernelspec": {
   "display_name": "Python 3 (ipykernel)",
   "language": "python",
   "name": "python3"
  },
  "language_info": {
   "codemirror_mode": {
    "name": "ipython",
    "version": 3
   },
   "file_extension": ".py",
   "mimetype": "text/x-python",
   "name": "python",
   "nbconvert_exporter": "python",
   "pygments_lexer": "ipython3",
   "version": "3.11.7"
  }
 },
 "nbformat": 4,
 "nbformat_minor": 5
}
