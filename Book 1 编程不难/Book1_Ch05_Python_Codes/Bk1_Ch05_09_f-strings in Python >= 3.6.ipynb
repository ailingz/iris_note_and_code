{
 "cells": [
  {
   "cell_type": "markdown",
   "id": "78d770a7-f2c8-4c5d-aa7d-708448967769",
   "metadata": {},
   "source": [
    "Book 1  \n",
    "Chapter 5 Data Types in Python\n",
    "### 常用 f-string 示例"
   ]
  },
  {
   "cell_type": "code",
   "execution_count": 2,
   "id": "29884284-fdd5-4514-9cc7-b92c217fd389",
   "metadata": {},
   "outputs": [
    {
     "name": "stdout",
     "output_type": "stream",
     "text": [
      "2024-07-08 09:20:42.402475\n",
      "2024-07-08 09:20\n",
      "08/07/24 09:20:42\n"
     ]
    }
   ],
   "source": [
    "# 日期和时间\n",
    "import datetime\n",
    "\n",
    "now = datetime.datetime.now()\n",
    "print(now)\n",
    "print(f'{now:%Y-%m-%d %H:%M}')\n",
    "print(f'{now:%d/%m/%y %H:%M:%S}')"
   ]
  },
  {
   "cell_type": "code",
   "execution_count": 3,
   "id": "00557c38-4f27-4b93-a87a-13e81da2032b",
   "metadata": {},
   "outputs": [
    {
     "name": "stdout",
     "output_type": "stream",
     "text": [
      "3.14\n"
     ]
    }
   ],
   "source": [
    "# 小数点后两位\n",
    "pi = 3.141592653589793238462643\n",
    "print(f'{pi:.2f}')"
   ]
  },
  {
   "cell_type": "code",
   "execution_count": 4,
   "id": "32959445-5d49-449c-8b35-ff1e50befacb",
   "metadata": {},
   "outputs": [
    {
     "name": "stdout",
     "output_type": "stream",
     "text": [
      "3.14e+03\n"
     ]
    }
   ],
   "source": [
    "# 科学计数\n",
    "print(f'{pi*1000:.2e}')"
   ]
  },
  {
   "cell_type": "code",
   "execution_count": 5,
   "id": "a921305b-a085-438f-a7f2-d9de2132ffe2",
   "metadata": {},
   "outputs": [
    {
     "name": "stdout",
     "output_type": "stream",
     "text": [
      "10010\n"
     ]
    }
   ],
   "source": [
    "# 2进制, binary\n",
    "a = 18\n",
    "print(f'{a:b}')"
   ]
  },
  {
   "cell_type": "code",
   "execution_count": 6,
   "id": "328ee7b0-b54d-47a2-8840-b6d0dfec3b0b",
   "metadata": {},
   "outputs": [
    {
     "name": "stdout",
     "output_type": "stream",
     "text": [
      "44\n"
     ]
    }
   ],
   "source": [
    "# 16进制, hexadecimal\n",
    "# RGB 色彩模型颜色定义\n",
    "a = 68\n",
    "print(f'{a:x}')"
   ]
  },
  {
   "cell_type": "code",
   "execution_count": 7,
   "id": "e3ddacfd-f3e4-4c7d-af0d-70a7727f15c5",
   "metadata": {},
   "outputs": [
    {
     "name": "stdout",
     "output_type": "stream",
     "text": [
      "130\n"
     ]
    }
   ],
   "source": [
    "# 8进制, octal\n",
    "a = 88\n",
    "print(f'{a:o}')"
   ]
  }
 ],
 "metadata": {
  "kernelspec": {
   "display_name": "Python 3 (ipykernel)",
   "language": "python",
   "name": "python3"
  },
  "language_info": {
   "codemirror_mode": {
    "name": "ipython",
    "version": 3
   },
   "file_extension": ".py",
   "mimetype": "text/x-python",
   "name": "python",
   "nbconvert_exporter": "python",
   "pygments_lexer": "ipython3",
   "version": "3.11.7"
  }
 },
 "nbformat": 4,
 "nbformat_minor": 5
}
