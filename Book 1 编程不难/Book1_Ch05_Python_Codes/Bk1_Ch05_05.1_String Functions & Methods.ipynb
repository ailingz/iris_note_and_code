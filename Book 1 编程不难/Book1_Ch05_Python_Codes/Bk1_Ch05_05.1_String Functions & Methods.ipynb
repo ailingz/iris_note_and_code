{
 "cells": [
  {
   "cell_type": "markdown",
   "id": "a4f3de54-6ece-471e-a4f1-e6a692753bf1",
   "metadata": {},
   "source": [
    "Book 1  \n",
    "Chapter 5 Data Types in Python\n",
    "### 字符串方法"
   ]
  },
  {
   "cell_type": "code",
   "execution_count": 2,
   "id": "6199e1b1-06a6-4397-b239-d8f8398a8421",
   "metadata": {},
   "outputs": [],
   "source": [
    "string = 'Hello, James!'"
   ]
  },
  {
   "cell_type": "code",
   "execution_count": 3,
   "id": "54b426a5-36cd-4441-ad13-3f148ab45d12",
   "metadata": {},
   "outputs": [
    {
     "name": "stdout",
     "output_type": "stream",
     "text": [
      "13\n"
     ]
    }
   ],
   "source": [
    "# len(s)\n",
    "# Return the length (the number of items) of an object\n",
    "# 返回字符串的长度\n",
    "length = len(string)\n",
    "print(length)"
   ]
  },
  {
   "cell_type": "code",
   "execution_count": 4,
   "id": "c64e521e-e177-4e5a-b185-792ca4438bc0",
   "metadata": {},
   "outputs": [
    {
     "name": "stdout",
     "output_type": "stream",
     "text": [
      "hello, james!\n",
      "HELLO, JAMES!\n"
     ]
    }
   ],
   "source": [
    "# str.lower()\n",
    "# str.upper()\n",
    "# 将字符串转换为小写或大写\n",
    "lower_string = string.lower()\n",
    "upper_string = string.upper()\n",
    "\n",
    "print(lower_string)\n",
    "print(upper_string)"
   ]
  },
  {
   "cell_type": "code",
   "execution_count": 5,
   "id": "0b00791b-0778-4676-9ceb-9afe34778df1",
   "metadata": {},
   "outputs": [
    {
     "name": "stdout",
     "output_type": "stream",
     "text": [
      "Hello, james!\n"
     ]
    }
   ],
   "source": [
    "# str.capitalize()\n",
    "# 将字符串的第一个字符转换为大写，其他字符转换为小写\n",
    "print(string.capitalize())"
   ]
  },
  {
   "cell_type": "code",
   "execution_count": 6,
   "id": "eec8a19e-6ed6-4bf5-8591-1866eb957a98",
   "metadata": {},
   "outputs": [
    {
     "name": "stdout",
     "output_type": "stream",
     "text": [
      "2\n",
      "14\n"
     ]
    }
   ],
   "source": [
    "# str.count(sub[, start[, end]])\n",
    "# Return the number of non-overlapping occurrences of substring sub in the range [start, end]\n",
    "# 统计字符串中指定子字符串的出现次数\n",
    "print(string.count('e'))\n",
    "print(string.count('')) # Returns the number of empty strings between characters which is the length of the string plus one"
   ]
  },
  {
   "cell_type": "code",
   "execution_count": 7,
   "id": "bcaaca5a-5f66-4b1d-8b98-f36bdf59e296",
   "metadata": {},
   "outputs": [
    {
     "name": "stdout",
     "output_type": "stream",
     "text": [
      "8\n",
      "-1\n"
     ]
    }
   ],
   "source": [
    "# str.find(sub[, start[, end]])\n",
    "# Return the lowest index in the string where substring sub is found within the slice s[start:end]\n",
    "# 在字符串中查找指定子字符串的第一次出现，并返回索引值\n",
    "print(string.find('a'))\n",
    "print(string.find('a', 0, 5))"
   ]
  },
  {
   "cell_type": "code",
   "execution_count": 8,
   "id": "68dd6284-a54a-480a-8670-d862c5aabc4a",
   "metadata": {},
   "outputs": [
    {
     "name": "stdout",
     "output_type": "stream",
     "text": [
      "False\n",
      "True\n",
      "False\n"
     ]
    }
   ],
   "source": [
    "# str.isalnum() 检查字符串是否只包含字母和数字\n",
    "# Return True if all characters in the string are alphanumeric and there is at least one character\n",
    "print(string.isalnum())\n",
    "print('Day1'.isalnum())\n",
    "print(''.isalnum())\n",
    "\n",
    "# str.isalpha() 检查字符串是否只包含字母\n",
    "# str.isdigit() 检查字符串是否只包含数字"
   ]
  },
  {
   "cell_type": "code",
   "execution_count": 9,
   "id": "67701c23-b326-4b72-a80e-4c6e8d652d43",
   "metadata": {},
   "outputs": [
    {
     "name": "stdout",
     "output_type": "stream",
     "text": [
      "MON; TUE; WED\n"
     ]
    }
   ],
   "source": [
    "# str.join(iterable)\n",
    "# Return a string which is the concatenation of the strings in iterable\n",
    "# 将字符串列表或可迭代对象中的元素连接为一个字符串\n",
    "print(\"; \".join(['MON', 'TUE', 'WED']))"
   ]
  },
  {
   "cell_type": "code",
   "execution_count": 10,
   "id": "2f42f0c4-4f48-4be5-9633-7ef155303440",
   "metadata": {},
   "outputs": [
    {
     "name": "stdout",
     "output_type": "stream",
     "text": [
      "Hallo, Jamas!\n",
      "Hallo, James!\n"
     ]
    }
   ],
   "source": [
    "# str.replace(old, new[, count])\n",
    "# 将字符串中的指定子字符串替换为另一个字符串\n",
    "print(string.replace('e', 'a'))\n",
    "print(string.replace('e', 'a', 1))"
   ]
  },
  {
   "cell_type": "code",
   "execution_count": 11,
   "id": "b4e3a908-ccb9-4f9a-a00c-a1275c46cfb0",
   "metadata": {},
   "outputs": [
    {
     "name": "stdout",
     "output_type": "stream",
     "text": [
      "['Hello', 'James!']\n",
      "['Hello', ' James!']\n",
      "['Hello,', 'James!']\n"
     ]
    }
   ],
   "source": [
    "# str.split(sep=None, maxsplit=-1)\n",
    "# 将字符串按照指定分隔符分割成子字符串，并返回一个列表\n",
    "print(string.split(', '))\n",
    "print(string.split(','))\n",
    "print(string.split(' '))"
   ]
  }
 ],
 "metadata": {
  "kernelspec": {
   "display_name": "Python 3 (ipykernel)",
   "language": "python",
   "name": "python3"
  },
  "language_info": {
   "codemirror_mode": {
    "name": "ipython",
    "version": 3
   },
   "file_extension": ".py",
   "mimetype": "text/x-python",
   "name": "python",
   "nbconvert_exporter": "python",
   "pygments_lexer": "ipython3",
   "version": "3.11.7"
  }
 },
 "nbformat": 4,
 "nbformat_minor": 5
}
