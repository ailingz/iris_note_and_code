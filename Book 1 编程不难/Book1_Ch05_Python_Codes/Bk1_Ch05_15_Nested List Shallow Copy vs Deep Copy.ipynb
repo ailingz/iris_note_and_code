{
 "cells": [
  {
   "cell_type": "markdown",
   "id": "47d62c9b-70cd-411c-8529-b3bc9d4d216c",
   "metadata": {},
   "source": [
    "Book 1  \n",
    "Chapter 5 Data Types in Python\n",
    "### 嵌套列表浅复制 vs 深复制\n",
    "\n",
    "- **Shallow Copy 浅复制**: 只对 list 的第一层元素完成拷贝，深层元素还是和原 list 共用\n",
    "    - [x] New object created\n",
    "    - [x] Changes affect original\n",
    "    - [x] Nested objects share references with original object\n",
    "- **Deep Copy 深复制**: 创建一个完全独立的列表对象，该对象中的元素与原始列表中的元素是不同的对象\n",
    "    - [x] New object created\n",
    "    - [ ] Changes affect original\n",
    "    - [ ] Nested objects share references with original object"
   ]
  },
  {
   "cell_type": "code",
   "execution_count": 2,
   "id": "c4e1bd2f-782d-44a2-8d65-f0e16ef9d7c6",
   "metadata": {},
   "outputs": [
    {
     "name": "stdout",
     "output_type": "stream",
     "text": [
      "Original list\n",
      "[1, 2, 3, [4, 5]]\n"
     ]
    }
   ],
   "source": [
    "import copy\n",
    "\n",
    "list1 = [1, 2, 3, [4, 5]]\n",
    "print('Original list')\n",
    "print(list1)"
   ]
  },
  {
   "cell_type": "code",
   "execution_count": 3,
   "id": "07987061-2601-4703-89e9-0407b09cd55d",
   "metadata": {},
   "outputs": [],
   "source": [
    "# 深复制，适用于嵌套列表\n",
    "list_deep = copy.deepcopy(list1)"
   ]
  },
  {
   "cell_type": "code",
   "execution_count": 4,
   "id": "505852a2-07be-4178-a933-855a2de30f35",
   "metadata": {},
   "outputs": [],
   "source": [
    "# 只拷贝一层\n",
    "list2 = list1.copy()\n",
    "list3 = list1[:]\n",
    "list4 = list(list1)\n",
    "list5 = [*list1]"
   ]
  },
  {
   "cell_type": "code",
   "execution_count": 5,
   "id": "08eee966-5a2e-4343-8c4c-070d9d8d7244",
   "metadata": {},
   "outputs": [],
   "source": [
    "# 修改元素\n",
    "list_deep[3][0] = 'deep'\n",
    "list_deep[2] = 'worked_0'"
   ]
  },
  {
   "cell_type": "code",
   "execution_count": 6,
   "id": "c5e6cd34-bc1e-4b7e-9d29-b4edd4097c40",
   "metadata": {},
   "outputs": [],
   "source": [
    "list2[3][0] = 'abc'\n",
    "list2[2] = 'worked_1'"
   ]
  },
  {
   "cell_type": "code",
   "execution_count": 7,
   "id": "50dbd66d-c6b5-4bca-8e2a-ff7cee0bdbe1",
   "metadata": {},
   "outputs": [],
   "source": [
    "list3[3][0] = 'X1'\n",
    "list3[2] = 'worked_2'"
   ]
  },
  {
   "cell_type": "code",
   "execution_count": 8,
   "id": "f0d7e9d5-45f4-426c-b7e3-c6d5bfe01723",
   "metadata": {},
   "outputs": [],
   "source": [
    "list4[3][0] = 'X2'\n",
    "list4[2] = 'worked_3'"
   ]
  },
  {
   "cell_type": "code",
   "execution_count": 9,
   "id": "c73952ab-de3c-4102-91f5-282a71980ee0",
   "metadata": {},
   "outputs": [],
   "source": [
    "list5[3][0] = 'X3'\n",
    "list5[2] = 'worked_4'"
   ]
  },
  {
   "cell_type": "code",
   "execution_count": 10,
   "id": "3448da9c-89d5-454e-bc43-4ce5d49bb11c",
   "metadata": {},
   "outputs": [
    {
     "name": "stdout",
     "output_type": "stream",
     "text": [
      "New lists\n",
      "list1: [1, 2, 3, ['X3', 5]]\n",
      "list_deep: [1, 2, 'worked_0', ['deep', 5]]\n",
      "list2: [1, 2, 'worked_1', ['X3', 5]]\n",
      "list3: [1, 2, 'worked_2', ['X3', 5]]\n",
      "list4: [1, 2, 'worked_3', ['X3', 5]]\n",
      "list5: [1, 2, 'worked_4', ['X3', 5]]\n"
     ]
    }
   ],
   "source": [
    "print('New lists')\n",
    "print(f'list1: {list1}')\n",
    "print(f'list_deep: {list_deep}')\n",
    "print(f'list2: {list2}')\n",
    "print(f'list3: {list3}')\n",
    "print(f'list4: {list4}')\n",
    "print(f'list5: {list5}')"
   ]
  }
 ],
 "metadata": {
  "kernelspec": {
   "display_name": "Python 3 (ipykernel)",
   "language": "python",
   "name": "python3"
  },
  "language_info": {
   "codemirror_mode": {
    "name": "ipython",
    "version": 3
   },
   "file_extension": ".py",
   "mimetype": "text/x-python",
   "name": "python",
   "nbconvert_exporter": "python",
   "pygments_lexer": "ipython3",
   "version": "3.11.7"
  }
 },
 "nbformat": 4,
 "nbformat_minor": 5
}
