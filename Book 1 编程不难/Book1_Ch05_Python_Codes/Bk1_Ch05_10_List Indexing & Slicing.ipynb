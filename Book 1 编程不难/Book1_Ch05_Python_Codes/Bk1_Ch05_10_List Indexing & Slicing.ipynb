{
 "cells": [
  {
   "cell_type": "markdown",
   "id": "642c4cdd-c25a-4746-a643-d618d1378642",
   "metadata": {},
   "source": [
    "Book 1  \n",
    "Chapter 5 Data Types in Python\n",
    "### 列表索引和切片"
   ]
  },
  {
   "cell_type": "code",
   "execution_count": 2,
   "id": "d1b87e04-a2fd-4ee3-895f-c7dcd8b65110",
   "metadata": {},
   "outputs": [
    {
     "name": "stdout",
     "output_type": "stream",
     "text": [
      "The length of the list is\n",
      "7\n"
     ]
    }
   ],
   "source": [
    "# 创建一个混合列表\n",
    "my_list = [1, 1.0, '1', True, [1, 1.0, '1'], {1}, {1:1.0}] # 混合列表，嵌套列表 item 4\n",
    "print(\"The length of the list is\")\n",
    "print(len(my_list))"
   ]
  },
  {
   "cell_type": "code",
   "execution_count": 3,
   "id": "a9d2cb0e-f293-4627-bb86-191ab5300c8d",
   "metadata": {},
   "outputs": [
    {
     "name": "stdout",
     "output_type": "stream",
     "text": [
      "Index: 0, Item: 1, Type: <class 'int'>\n",
      "Index: 1, Item: 1.0, Type: <class 'float'>\n",
      "Index: 2, Item: 1, Type: <class 'str'>\n",
      "Index: 3, Item: True, Type: <class 'bool'>\n",
      "Index: 4, Item: [1, 1.0, '1'], Type: <class 'list'>\n",
      "Index: 5, Item: {1}, Type: <class 'set'>\n",
      "Index: 6, Item: {1: 1.0}, Type: <class 'dict'>\n"
     ]
    }
   ],
   "source": [
    "# 打印每个元素和对应的序号\n",
    "for index, item in enumerate(my_list):\n",
    "    type_i = type(item)\n",
    "    print(f'Index: {index}, Item: {item}, Type: {type_i}')"
   ]
  },
  {
   "cell_type": "code",
   "execution_count": 4,
   "id": "755c941f-b5c1-4e0c-aee7-7880daeda2d5",
   "metadata": {},
   "outputs": [
    {
     "name": "stdout",
     "output_type": "stream",
     "text": [
      "1\n",
      "1.0\n"
     ]
    }
   ],
   "source": [
    "# 列表索引\n",
    "print(my_list[0])\n",
    "print(my_list[1])"
   ]
  },
  {
   "cell_type": "code",
   "execution_count": 5,
   "id": "2e1017cc-9f7a-44fd-9252-ad2c239f3c32",
   "metadata": {},
   "outputs": [
    {
     "name": "stdout",
     "output_type": "stream",
     "text": [
      "{1: 1.0}\n",
      "{1}\n"
     ]
    }
   ],
   "source": [
    "print(my_list[-1])\n",
    "print(my_list[-2])"
   ]
  },
  {
   "cell_type": "code",
   "execution_count": 6,
   "id": "5234120c-5622-4c8e-939c-ba5b62112ea4",
   "metadata": {},
   "outputs": [
    {
     "name": "stdout",
     "output_type": "stream",
     "text": [
      "[1, 1.0, '1']\n"
     ]
    }
   ],
   "source": [
    "# 列表切片\n",
    "# 取出前3个元素，索引为0、1、2\n",
    "print(my_list[:3])"
   ]
  },
  {
   "cell_type": "code",
   "execution_count": 7,
   "id": "ce2eabbc-3b41-407c-9e8f-79e21b85f451",
   "metadata": {},
   "outputs": [
    {
     "name": "stdout",
     "output_type": "stream",
     "text": [
      "[1.0, '1', True]\n"
     ]
    }
   ],
   "source": [
    "# 取出索引1、2、3，不含0，不含4\n",
    "print(my_list[1:4])"
   ]
  },
  {
   "cell_type": "code",
   "execution_count": 8,
   "id": "31ce75b5-2ca0-46c1-96a9-c06a2cba9841",
   "metadata": {},
   "outputs": [
    {
     "name": "stdout",
     "output_type": "stream",
     "text": [
      "[1, '1', [1, 1.0, '1'], {1: 1.0}]\n"
     ]
    }
   ],
   "source": [
    "# 指定步长2，取出第0、2、4、6\n",
    "print(my_list[::2])"
   ]
  },
  {
   "cell_type": "code",
   "execution_count": 9,
   "id": "5a1d6044-bd14-45b9-a95a-621102ec0f4e",
   "metadata": {},
   "outputs": [
    {
     "name": "stdout",
     "output_type": "stream",
     "text": [
      "[{1: 1.0}, {1}, [1, 1.0, '1'], True, '1', 1.0, 1]\n"
     ]
    }
   ],
   "source": [
    "# 指定步长-1，倒序\n",
    "print(my_list[::-1])"
   ]
  },
  {
   "cell_type": "code",
   "execution_count": 10,
   "id": "572f58a7-c74a-437e-b30a-9534cacd5566",
   "metadata": {},
   "outputs": [
    {
     "name": "stdout",
     "output_type": "stream",
     "text": [
      "1.0\n"
     ]
    }
   ],
   "source": [
    "# 提取列表中的列表某个元素\n",
    "print(my_list[4][1])"
   ]
  }
 ],
 "metadata": {
  "kernelspec": {
   "display_name": "Python 3 (ipykernel)",
   "language": "python",
   "name": "python3"
  },
  "language_info": {
   "codemirror_mode": {
    "name": "ipython",
    "version": 3
   },
   "file_extension": ".py",
   "mimetype": "text/x-python",
   "name": "python",
   "nbconvert_exporter": "python",
   "pygments_lexer": "ipython3",
   "version": "3.11.7"
  }
 },
 "nbformat": 4,
 "nbformat_minor": 5
}
