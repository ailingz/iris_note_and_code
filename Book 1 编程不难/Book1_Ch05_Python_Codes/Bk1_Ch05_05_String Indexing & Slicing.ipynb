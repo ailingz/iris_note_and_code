{
 "cells": [
  {
   "cell_type": "markdown",
   "id": "9a3da158-66fd-4ec8-a35f-bf0a0f7858f5",
   "metadata": {},
   "source": [
    "Book 1  \n",
    "Chapter 5 Data Types in Python\n",
    "### 字符串索引和切片"
   ]
  },
  {
   "cell_type": "markdown",
   "id": "b946bb7a-46cc-40d0-aab9-76afb606fdc3",
   "metadata": {},
   "source": [
    "#### Indexing 索引\n",
    "\n",
    "- Zero-based counting\n",
    "- 索引和切片操作不会改变原始字符串，而是返回一个新的字符串"
   ]
  },
  {
   "cell_type": "code",
   "execution_count": 3,
   "id": "0dd561ef-31f3-4db4-ba80-dc6192e6139b",
   "metadata": {},
   "outputs": [],
   "source": [
    "greeting_str = 'Hey, James!'"
   ]
  },
  {
   "cell_type": "code",
   "execution_count": 4,
   "id": "37a3a93b-f6cd-4c98-af8d-35a9bf28f907",
   "metadata": {},
   "outputs": [
    {
     "name": "stdout",
     "output_type": "stream",
     "text": [
      "The length of the string is: \n",
      "11\n"
     ]
    }
   ],
   "source": [
    "# 打印字符串长度\n",
    "print('The length of the string is: ')\n",
    "print(len(greeting_str))"
   ]
  },
  {
   "cell_type": "code",
   "execution_count": 5,
   "id": "dbf76041-b824-4c4a-afa5-91e17db26438",
   "metadata": {},
   "outputs": [
    {
     "name": "stdout",
     "output_type": "stream",
     "text": [
      "Character: H, Index: 0\n",
      "Character: e, Index: 1\n",
      "Character: y, Index: 2\n",
      "Character: ,, Index: 3\n",
      "Character:  , Index: 4\n",
      "Character: J, Index: 5\n",
      "Character: a, Index: 6\n",
      "Character: m, Index: 7\n",
      "Character: e, Index: 8\n",
      "Character: s, Index: 9\n",
      "Character: !, Index: 10\n"
     ]
    }
   ],
   "source": [
    "# 打印每个字符和对应的索引\n",
    "for index, char in enumerate(greeting_str):\n",
    "    print(f'Character: {char}, Index: {index}') # formatted string, f-strings"
   ]
  },
  {
   "cell_type": "code",
   "execution_count": 6,
   "id": "1ce931af-da8c-484c-ba7a-1daf7b7a4adc",
   "metadata": {},
   "outputs": [
    {
     "name": "stdout",
     "output_type": "stream",
     "text": [
      "H\n",
      "e\n"
     ]
    }
   ],
   "source": [
    "# 单个字符索引\n",
    "print(greeting_str[0])\n",
    "print(greeting_str[1])"
   ]
  },
  {
   "cell_type": "code",
   "execution_count": 7,
   "id": "4d3052fe-3a4f-464b-898f-aeebacf4435e",
   "metadata": {},
   "outputs": [
    {
     "name": "stdout",
     "output_type": "stream",
     "text": [
      "!\n",
      "s\n"
     ]
    }
   ],
   "source": [
    "print(greeting_str[-1])\n",
    "print(greeting_str[-2])"
   ]
  },
  {
   "cell_type": "markdown",
   "id": "f38cd8d7-8e45-43a4-a273-544dc0e09349",
   "metadata": {},
   "source": [
    "#### Slicing 切片\n",
    "\n",
    "- `string[start:end]`\n",
    "- `string[start:end:step]`"
   ]
  },
  {
   "cell_type": "code",
   "execution_count": 9,
   "id": "bdb18c92-12c6-4ac8-93b4-a98778c37567",
   "metadata": {},
   "outputs": [
    {
     "name": "stdout",
     "output_type": "stream",
     "text": [
      "Hey\n"
     ]
    }
   ],
   "source": [
    "# 切片\n",
    "# 取出前3个字符，索引为0、1、2\n",
    "print(greeting_str[:3])"
   ]
  },
  {
   "cell_type": "code",
   "execution_count": 10,
   "id": "6cdee02d-c738-4cb4-abb7-ba14893ae8b5",
   "metadata": {},
   "outputs": [
    {
     "name": "stdout",
     "output_type": "stream",
     "text": [
      "ey, J\n"
     ]
    }
   ],
   "source": [
    "# 取出索引1、2、3、4、5，不含0，不含6\n",
    "print(greeting_str[1:6])"
   ]
  },
  {
   "cell_type": "code",
   "execution_count": 11,
   "id": "98050404-91eb-4985-b262-fe0cb1003ff9",
   "metadata": {},
   "outputs": [
    {
     "name": "stdout",
     "output_type": "stream",
     "text": [
      "Hy ae!\n"
     ]
    }
   ],
   "source": [
    "# 指定步长2，取出第0、2、4 ...\n",
    "print(greeting_str[::2])"
   ]
  },
  {
   "cell_type": "code",
   "execution_count": 12,
   "id": "31a5d07c-ff6b-4a22-8326-ad500a536d8e",
   "metadata": {},
   "outputs": [
    {
     "name": "stdout",
     "output_type": "stream",
     "text": [
      "!semaJ ,yeH\n"
     ]
    }
   ],
   "source": [
    "# 指定步长-1，倒序\n",
    "print(greeting_str[::-1])"
   ]
  },
  {
   "cell_type": "code",
   "execution_count": 13,
   "id": "1ddf1bd6-1c06-4bcb-a427-6135095a6f27",
   "metadata": {},
   "outputs": [
    {
     "name": "stdout",
     "output_type": "stream",
     "text": [
      "Hey, James!\n"
     ]
    }
   ],
   "source": [
    "# 复制字符串\n",
    "copy = greeting_str[:]\n",
    "print(copy)"
   ]
  }
 ],
 "metadata": {
  "kernelspec": {
   "display_name": "Python 3 (ipykernel)",
   "language": "python",
   "name": "python3"
  },
  "language_info": {
   "codemirror_mode": {
    "name": "ipython",
    "version": 3
   },
   "file_extension": ".py",
   "mimetype": "text/x-python",
   "name": "python",
   "nbconvert_exporter": "python",
   "pygments_lexer": "ipython3",
   "version": "3.11.7"
  }
 },
 "nbformat": 4,
 "nbformat_minor": 5
}
