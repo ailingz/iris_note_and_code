{
 "cells": [
  {
   "cell_type": "markdown",
   "id": "2b7a449d-de8c-4da9-8e36-3998c42ce616",
   "metadata": {},
   "source": [
    "Book 1  \n",
    "Chapter 5 Data Types in Python\n",
    "### 列表视图 vs 副本\n",
    "\n",
    "- **View 视图** 用 `=` 直接赋值\n",
    "    - [ ] New object created\n",
    "    - [x] Changes affect original\n",
    "    - [x] Nested objects share references with original object\n",
    "- **Copy 副本**\n",
    "    - [x] New object created\n",
    "    - [ ] Changes affect original\n",
    "    - [x] Nested objects share references with original object"
   ]
  },
  {
   "cell_type": "code",
   "execution_count": 2,
   "id": "006702c8-daae-490c-9dd8-7a6597923147",
   "metadata": {},
   "outputs": [],
   "source": [
    "list1 = [1, 2, 3, 4]"
   ]
  },
  {
   "cell_type": "code",
   "execution_count": 3,
   "id": "214183bc-df32-48ca-91fa-639376707d51",
   "metadata": {},
   "outputs": [],
   "source": [
    "# 赋值，视图\n",
    "list2 = list1"
   ]
  },
  {
   "cell_type": "code",
   "execution_count": 4,
   "id": "fed9f07e-3a82-474d-baab-555860852460",
   "metadata": {},
   "outputs": [],
   "source": [
    "# 拷贝，副本 (浅拷贝)\n",
    "list3 = list1.copy()"
   ]
  },
  {
   "cell_type": "code",
   "execution_count": 5,
   "id": "fe0066a1-5bce-48bc-b1d3-db7ecf413317",
   "metadata": {},
   "outputs": [],
   "source": [
    "list2[0] = 'a'\n",
    "list2[1] = 'b'\n",
    "list3[2] = 'c'\n",
    "list3[3] = 'd'"
   ]
  },
  {
   "cell_type": "code",
   "execution_count": 6,
   "id": "b8d0f5a6-fc65-4d4b-b1f1-dd2f4137b71e",
   "metadata": {},
   "outputs": [
    {
     "name": "stdout",
     "output_type": "stream",
     "text": [
      "['a', 'b', 3, 4]\n",
      "['a', 'b', 3, 4]\n",
      "[1, 2, 'c', 'd']\n"
     ]
    }
   ],
   "source": [
    "print(list1)\n",
    "print(list2)\n",
    "print(list3)"
   ]
  }
 ],
 "metadata": {
  "kernelspec": {
   "display_name": "Python 3 (ipykernel)",
   "language": "python",
   "name": "python3"
  },
  "language_info": {
   "codemirror_mode": {
    "name": "ipython",
    "version": 3
   },
   "file_extension": ".py",
   "mimetype": "text/x-python",
   "name": "python",
   "nbconvert_exporter": "python",
   "pygments_lexer": "ipython3",
   "version": "3.11.7"
  }
 },
 "nbformat": 4,
 "nbformat_minor": 5
}
