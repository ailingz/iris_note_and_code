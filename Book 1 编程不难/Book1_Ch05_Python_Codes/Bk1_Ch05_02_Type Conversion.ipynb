{
 "cells": [
  {
   "cell_type": "markdown",
   "id": "3aabe7a7-799c-4063-9f63-7feddc7e4e9c",
   "metadata": {},
   "source": [
    "Book 1  \n",
    "Chapter 5 Data Types in Python\n",
    "### 数值转换"
   ]
  },
  {
   "cell_type": "code",
   "execution_count": 2,
   "id": "24ab0a2c-3a3d-4288-9304-905bdc98729f",
   "metadata": {},
   "outputs": [],
   "source": [
    "x = 88.8\n",
    "y = 8"
   ]
  },
  {
   "cell_type": "code",
   "execution_count": 3,
   "id": "49b50cb5-ba84-49aa-8220-cf874503df20",
   "metadata": {},
   "outputs": [
    {
     "name": "stdout",
     "output_type": "stream",
     "text": [
      "88\n"
     ]
    }
   ],
   "source": [
    "# 将浮点数转换为整数\n",
    "x_to_int = int(x)\n",
    "print(x_to_int)"
   ]
  },
  {
   "cell_type": "code",
   "execution_count": 6,
   "id": "3971ed59-d988-4c23-8c4a-d16c9a7f7aa7",
   "metadata": {},
   "outputs": [
    {
     "name": "stdout",
     "output_type": "stream",
     "text": [
      "88\n"
     ]
    },
    {
     "ename": "ValueError",
     "evalue": "invalid literal for int() with base 10: '88.8'",
     "output_type": "error",
     "traceback": [
      "\u001b[0;31m---------------------------------------------------------------------------\u001b[0m",
      "\u001b[0;31mValueError\u001b[0m                                Traceback (most recent call last)",
      "Cell \u001b[0;32mIn[6], line 3\u001b[0m\n\u001b[1;32m      1\u001b[0m \u001b[38;5;66;03m# 字符串整数\u001b[39;00m\n\u001b[1;32m      2\u001b[0m \u001b[38;5;28mprint\u001b[39m(\u001b[38;5;28mint\u001b[39m(\u001b[38;5;124m\"\u001b[39m\u001b[38;5;124m88\u001b[39m\u001b[38;5;124m\"\u001b[39m))\n\u001b[0;32m----> 3\u001b[0m \u001b[38;5;28mprint\u001b[39m(\u001b[38;5;28mint\u001b[39m(\u001b[38;5;124m\"\u001b[39m\u001b[38;5;124m88.8\u001b[39m\u001b[38;5;124m\"\u001b[39m))\n",
      "\u001b[0;31mValueError\u001b[0m: invalid literal for int() with base 10: '88.8'"
     ]
    }
   ],
   "source": [
    "# 字符串整数\n",
    "print(int(\"88\"))\n",
    "print(int(\"88.8\")) # int() 不能把浮点数字符串'88.8'转化为整数"
   ]
  },
  {
   "cell_type": "code",
   "execution_count": 8,
   "id": "beb3b910-8245-4091-9b78-63795e421522",
   "metadata": {},
   "outputs": [
    {
     "name": "stdout",
     "output_type": "stream",
     "text": [
      "1\n",
      "0\n"
     ]
    }
   ],
   "source": [
    "# 布尔值\n",
    "print(int(True))\n",
    "print(int(False))"
   ]
  },
  {
   "cell_type": "code",
   "execution_count": 10,
   "id": "c83ca620-52d2-4c37-8286-2b83679acba9",
   "metadata": {},
   "outputs": [
    {
     "name": "stdout",
     "output_type": "stream",
     "text": [
      "88\n"
     ]
    },
    {
     "ename": "TypeError",
     "evalue": "int() can't convert non-string with explicit base",
     "output_type": "error",
     "traceback": [
      "\u001b[0;31m---------------------------------------------------------------------------\u001b[0m",
      "\u001b[0;31mTypeError\u001b[0m                                 Traceback (most recent call last)",
      "Cell \u001b[0;32mIn[10], line 3\u001b[0m\n\u001b[1;32m      1\u001b[0m \u001b[38;5;66;03m# Binary to Decimal\u001b[39;00m\n\u001b[1;32m      2\u001b[0m \u001b[38;5;28mprint\u001b[39m(\u001b[38;5;28mint\u001b[39m(\u001b[38;5;124m\"\u001b[39m\u001b[38;5;124m1011000\u001b[39m\u001b[38;5;124m\"\u001b[39m, \u001b[38;5;241m2\u001b[39m)) \u001b[38;5;66;03m# int() 可以把二进制字符串转化为十进制整数\u001b[39;00m\n\u001b[0;32m----> 3\u001b[0m \u001b[38;5;28mprint\u001b[39m(\u001b[38;5;28mint\u001b[39m(\u001b[38;5;241m1011000\u001b[39m, \u001b[38;5;241m2\u001b[39m))\n",
      "\u001b[0;31mTypeError\u001b[0m: int() can't convert non-string with explicit base"
     ]
    }
   ],
   "source": [
    "# Binary to Decimal\n",
    "print(int(\"1011000\", 2)) # int() 可以把二进制字符串转化为十进制整数\n",
    "print(int(1011000, 2))"
   ]
  },
  {
   "cell_type": "code",
   "execution_count": 12,
   "id": "4d4e58c5-d9c6-4cd4-b9d6-ff1a29069451",
   "metadata": {},
   "outputs": [
    {
     "name": "stdout",
     "output_type": "stream",
     "text": [
      "8.0\n"
     ]
    }
   ],
   "source": [
    "# 将整数转换为浮点数\n",
    "y_to_float = float(y)\n",
    "print(y_to_float)"
   ]
  },
  {
   "cell_type": "code",
   "execution_count": 14,
   "id": "fc8bfda2-2998-4759-be3f-227a0126ab25",
   "metadata": {},
   "outputs": [
    {
     "data": {
      "text/plain": [
       "8.8"
      ]
     },
     "execution_count": 14,
     "metadata": {},
     "output_type": "execute_result"
    }
   ],
   "source": [
    "# 浮点数字符串\n",
    "float(\"8.8\")"
   ]
  },
  {
   "cell_type": "code",
   "execution_count": 16,
   "id": "cca53890-dab3-488e-9b88-7990864fcda3",
   "metadata": {},
   "outputs": [
    {
     "name": "stdout",
     "output_type": "stream",
     "text": [
      "(8+0j)\n"
     ]
    }
   ],
   "source": [
    "# 将整数转换为复数\n",
    "y_to_complex = complex(y)\n",
    "print(y_to_complex)"
   ]
  },
  {
   "cell_type": "code",
   "execution_count": 18,
   "id": "967e629b-1592-430f-b3e3-d2386ea99fdd",
   "metadata": {},
   "outputs": [
    {
     "data": {
      "text/plain": [
       "(8+0j)"
      ]
     },
     "execution_count": 18,
     "metadata": {},
     "output_type": "execute_result"
    }
   ],
   "source": [
    "complex(\"8.0\")"
   ]
  },
  {
   "cell_type": "code",
   "execution_count": 20,
   "id": "56eb1a34-3c37-4531-8e3d-cab0de12ecbb",
   "metadata": {},
   "outputs": [
    {
     "data": {
      "text/plain": [
       "(8+8j)"
      ]
     },
     "execution_count": 20,
     "metadata": {},
     "output_type": "execute_result"
    }
   ],
   "source": [
    "complex(8, 8)"
   ]
  },
  {
   "cell_type": "code",
   "execution_count": 22,
   "id": "ca8dc436-41f3-45b6-a6a7-16644e3d705f",
   "metadata": {},
   "outputs": [
    {
     "name": "stdout",
     "output_type": "stream",
     "text": [
      "88.8\n"
     ]
    }
   ],
   "source": [
    "# 将数字转换为字符串\n",
    "x_to_str = str(x)\n",
    "print(x_to_str)"
   ]
  },
  {
   "cell_type": "code",
   "execution_count": 24,
   "id": "bd016220-3dad-4ef3-8199-1bc3e6f1ec3f",
   "metadata": {},
   "outputs": [
    {
     "data": {
      "text/plain": [
       "'True'"
      ]
     },
     "execution_count": 24,
     "metadata": {},
     "output_type": "execute_result"
    }
   ],
   "source": [
    "str(True)"
   ]
  }
 ],
 "metadata": {
  "kernelspec": {
   "display_name": "Python 3 (ipykernel)",
   "language": "python",
   "name": "python3"
  },
  "language_info": {
   "codemirror_mode": {
    "name": "ipython",
    "version": 3
   },
   "file_extension": ".py",
   "mimetype": "text/x-python",
   "name": "python",
   "nbconvert_exporter": "python",
   "pygments_lexer": "ipython3",
   "version": "3.11.7"
  }
 },
 "nbformat": 4,
 "nbformat_minor": 5
}
