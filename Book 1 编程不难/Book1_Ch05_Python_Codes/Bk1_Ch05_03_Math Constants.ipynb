{
 "cells": [
  {
   "cell_type": "markdown",
   "id": "b46111f7-298c-43e1-88d4-977df09f364e",
   "metadata": {},
   "source": [
    "Book 1  \n",
    "Chapter 5 Data Types in Python\n",
    "### Math 模块中的特殊数值"
   ]
  },
  {
   "cell_type": "code",
   "execution_count": 2,
   "id": "a6ef9536-b357-4291-ad26-05d270c911ca",
   "metadata": {},
   "outputs": [
    {
     "name": "stdout",
     "output_type": "stream",
     "text": [
      "3.141592653589793\n"
     ]
    }
   ],
   "source": [
    "import math\n",
    "\n",
    "print(math.pi) # 输出 π 的值"
   ]
  },
  {
   "cell_type": "code",
   "execution_count": 3,
   "id": "9ab245ce-b790-45e4-a321-2faf81bf71d1",
   "metadata": {},
   "outputs": [
    {
     "name": "stdout",
     "output_type": "stream",
     "text": [
      "2.718281828459045\n"
     ]
    }
   ],
   "source": [
    "print(math.e) # 输出 e 的值"
   ]
  },
  {
   "cell_type": "code",
   "execution_count": 4,
   "id": "5830c427-fb58-42d8-a221-688b21e1d4fe",
   "metadata": {},
   "outputs": [
    {
     "name": "stdout",
     "output_type": "stream",
     "text": [
      "1.4142135623730951\n"
     ]
    }
   ],
   "source": [
    "print(math.sqrt(2)) # 输出根号2的值"
   ]
  }
 ],
 "metadata": {
  "kernelspec": {
   "display_name": "Python 3 (ipykernel)",
   "language": "python",
   "name": "python3"
  },
  "language_info": {
   "codemirror_mode": {
    "name": "ipython",
    "version": 3
   },
   "file_extension": ".py",
   "mimetype": "text/x-python",
   "name": "python",
   "nbconvert_exporter": "python",
   "pygments_lexer": "ipython3",
   "version": "3.11.7"
  }
 },
 "nbformat": 4,
 "nbformat_minor": 5
}
