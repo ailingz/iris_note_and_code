{
 "cells": [
  {
   "cell_type": "markdown",
   "id": "2c5eff47-46af-49d7-9a75-2fb2c176bb26",
   "metadata": {},
   "source": [
    "Book 1  \n",
    "Chapter 5 Data Types in Python\n",
    "### 常用 `.format()` 示例"
   ]
  },
  {
   "cell_type": "code",
   "execution_count": 2,
   "id": "07e01cdf-6c0f-49d3-99ba-2caf8e5cf987",
   "metadata": {},
   "outputs": [
    {
     "name": "stdout",
     "output_type": "stream",
     "text": [
      "3.14\n"
     ]
    }
   ],
   "source": [
    "# :.2f 浮点数后两位\n",
    "print('{:.2f}'.format(3.1415926))"
   ]
  },
  {
   "cell_type": "code",
   "execution_count": 3,
   "id": "3ef2c9c2-3ee6-41b9-86dd-c9356fa5be5b",
   "metadata": {},
   "outputs": [
    {
     "name": "stdout",
     "output_type": "stream",
     "text": [
      "314.159260%\n"
     ]
    }
   ],
   "source": [
    "# :% 百分数\n",
    "print('{:%}'.format(3.1415926))"
   ]
  },
  {
   "cell_type": "code",
   "execution_count": 4,
   "id": "c06b95cb-c8e2-483d-a31e-2e51b7867bd5",
   "metadata": {},
   "outputs": [
    {
     "name": "stdout",
     "output_type": "stream",
     "text": [
      "314.16%\n"
     ]
    }
   ],
   "source": [
    "# :.2% 百分数，小数点后两位\n",
    "print('{:.2%}'.format(3.1415926))"
   ]
  },
  {
   "cell_type": "code",
   "execution_count": 5,
   "id": "836e37bb-c42b-453a-8a2b-73ffd2a19e8a",
   "metadata": {},
   "outputs": [
    {
     "name": "stdout",
     "output_type": "stream",
     "text": [
      "3.14e+00\n"
     ]
    }
   ],
   "source": [
    "# :.2e 科学计数\n",
    "print('{:.2e}'.format(3.1415926))"
   ]
  },
  {
   "cell_type": "code",
   "execution_count": 6,
   "id": "d68ea4fc-8fce-4f38-a209-b0bf7c006c95",
   "metadata": {},
   "outputs": [
    {
     "name": "stdout",
     "output_type": "stream",
     "text": [
      "3,141.5926\n"
     ]
    }
   ],
   "source": [
    "# :, 千位加逗点\n",
    "print('{:,}'.format(3.1415926*1000))"
   ]
  }
 ],
 "metadata": {
  "kernelspec": {
   "display_name": "Python 3 (ipykernel)",
   "language": "python",
   "name": "python3"
  },
  "language_info": {
   "codemirror_mode": {
    "name": "ipython",
    "version": 3
   },
   "file_extension": ".py",
   "mimetype": "text/x-python",
   "name": "python",
   "nbconvert_exporter": "python",
   "pygments_lexer": "ipython3",
   "version": "3.11.7"
  }
 },
 "nbformat": 4,
 "nbformat_minor": 5
}
