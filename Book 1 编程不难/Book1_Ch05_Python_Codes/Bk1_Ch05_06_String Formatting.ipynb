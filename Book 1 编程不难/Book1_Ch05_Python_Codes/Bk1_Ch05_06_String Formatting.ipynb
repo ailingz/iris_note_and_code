{
 "cells": [
  {
   "cell_type": "markdown",
   "id": "5cfa3f71-6260-46b0-8e48-44a9e5f878b2",
   "metadata": {},
   "source": [
    "Book 1  \n",
    "Chapter 5 Data Types in Python\n",
    "### 将数据插入字符串"
   ]
  },
  {
   "cell_type": "code",
   "execution_count": 2,
   "id": "dfede1b9-0ab0-4c8b-beab-5aeaf85d08f4",
   "metadata": {},
   "outputs": [],
   "source": [
    "name = 'James'\n",
    "height = 181.18"
   ]
  },
  {
   "cell_type": "code",
   "execution_count": 3,
   "id": "f54bb13a-1a4d-47c7-947d-309064b7fbe6",
   "metadata": {},
   "outputs": [
    {
     "name": "stdout",
     "output_type": "stream",
     "text": [
      "James has a height of 181.18 cm.\n"
     ]
    }
   ],
   "source": [
    "# 使用 + 运算符\n",
    "str_1 = name + ' has a height of ' + str(height) + ' cm.'\n",
    "print(str_1)"
   ]
  },
  {
   "cell_type": "code",
   "execution_count": 4,
   "id": "df6cbac1-e601-4e63-9872-94629ab10900",
   "metadata": {},
   "outputs": [
    {
     "name": "stdout",
     "output_type": "stream",
     "text": [
      "James has a height of 181.180 cm.\n"
     ]
    }
   ],
   "source": [
    "# 使用 % 将占位符插入字符串中\n",
    "# 并使用 % 运算符的右侧的数据来替换这些占位符 (placeholder)\n",
    "str_2 = '%s has a height of %.3f cm.' % (name, height) # %s 是一个字符串占位符，%.3f 是一个浮点数占位符\n",
    "print(str_2)"
   ]
  },
  {
   "cell_type": "code",
   "execution_count": 5,
   "id": "99924d9a-a417-4bbb-896f-af3280d84ec6",
   "metadata": {},
   "outputs": [
    {
     "name": "stdout",
     "output_type": "stream",
     "text": [
      "James has a height of 181.180 cm.\n"
     ]
    }
   ],
   "source": [
    "# 使用 str.format() 方法在字符串中指定占位符\n",
    "# 并使用 .format() 方法的参数来替换这些占位符\n",
    "str_3 = '{} has a height of {:.3f} cm.'.format(name, height)\n",
    "print(str_3)"
   ]
  },
  {
   "cell_type": "code",
   "execution_count": 6,
   "id": "faa5c89c-6d5f-4d7d-b302-3c3de7c5b002",
   "metadata": {},
   "outputs": [
    {
     "name": "stdout",
     "output_type": "stream",
     "text": [
      "James has a height of 181.180 cm.\n"
     ]
    }
   ],
   "source": [
    "# 使用 f-strings\n",
    "# Python 3.6版本开始\n",
    "# 在字符串前面加上 f 或 F，并在字符串中使用大括号 {} 插入变量\n",
    "str_4 = f'{name} has a height of {height:.3f} cm.'\n",
    "print(str_4)"
   ]
  }
 ],
 "metadata": {
  "kernelspec": {
   "display_name": "Python 3 (ipykernel)",
   "language": "python",
   "name": "python3"
  },
  "language_info": {
   "codemirror_mode": {
    "name": "ipython",
    "version": 3
   },
   "file_extension": ".py",
   "mimetype": "text/x-python",
   "name": "python",
   "nbconvert_exporter": "python",
   "pygments_lexer": "ipython3",
   "version": "3.11.7"
  }
 },
 "nbformat": 4,
 "nbformat_minor": 5
}
