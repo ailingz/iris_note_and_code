{
 "cells": [
  {
   "cell_type": "markdown",
   "id": "8ccd3fec-c27e-42b1-92ef-829096a94117",
   "metadata": {},
   "source": [
    "Book 1  \n",
    "Chapter 5 Data Types in Python\n",
    "### 列表拆包、打包\n",
    "\n",
    "星号 `*` 可以用来将一个列表拆包 unpacking 成单独元素，也可以将若干元素打包放入另一个列表中。"
   ]
  },
  {
   "cell_type": "code",
   "execution_count": 2,
   "id": "d4b7371a-af12-40a9-8a85-adebe4e9e640",
   "metadata": {},
   "outputs": [],
   "source": [
    "# 定义列表\n",
    "list_0 = [0, 1, 2, 3, 4, 5, 6, 7, 8]"
   ]
  },
  {
   "cell_type": "code",
   "execution_count": 3,
   "id": "c2baf6c6-740a-4b94-9305-842101a68c93",
   "metadata": {},
   "outputs": [
    {
     "name": "stdout",
     "output_type": "stream",
     "text": [
      "[1, 2, 3, 4, 5, 6, 7, 8]\n"
     ]
    }
   ],
   "source": [
    "first, *list_rest = list_0\n",
    "print(list_rest)"
   ]
  },
  {
   "cell_type": "code",
   "execution_count": 4,
   "id": "c371f242-17b6-4601-b92e-f6e4648d08b3",
   "metadata": {},
   "outputs": [
    {
     "name": "stdout",
     "output_type": "stream",
     "text": [
      "[2, 3, 4, 5, 6, 7, 8]\n"
     ]
    }
   ],
   "source": [
    "first, second, *list_rest = list_0\n",
    "print(list_rest)"
   ]
  },
  {
   "cell_type": "code",
   "execution_count": 5,
   "id": "6c3f1171-4f39-413d-a5a1-cb394e9cd899",
   "metadata": {},
   "outputs": [
    {
     "name": "stdout",
     "output_type": "stream",
     "text": [
      "[2, 3, 4, 5, 6, 7]\n"
     ]
    }
   ],
   "source": [
    "first, second, *list_rest, last = list_0\n",
    "print(list_rest)"
   ]
  },
  {
   "cell_type": "code",
   "execution_count": 6,
   "id": "626ce1cc-db68-40b6-b867-6e1ced094975",
   "metadata": {},
   "outputs": [
    {
     "name": "stdout",
     "output_type": "stream",
     "text": [
      "[1, 2, 3, 4, 5, 6, 7]\n"
     ]
    }
   ],
   "source": [
    "first, *list_rest, _ = list_0 # Ignore unwanted values by using _ as a placeholder\n",
    "print(list_rest)"
   ]
  },
  {
   "cell_type": "code",
   "execution_count": 7,
   "id": "a9db0055-e54e-496a-98d0-41ec47060862",
   "metadata": {},
   "outputs": [
    {
     "name": "stdout",
     "output_type": "stream",
     "text": [
      "[1, 2, 3, 4, 5, 6]\n"
     ]
    }
   ],
   "source": [
    "first, *list_rest, _, _ = list_0 # Ignore unwanted values by using _ as a placeholder\n",
    "print(list_rest)"
   ]
  },
  {
   "cell_type": "code",
   "execution_count": 8,
   "id": "3df55133-db75-467b-9f16-5d32af2348ab",
   "metadata": {},
   "outputs": [
    {
     "name": "stdout",
     "output_type": "stream",
     "text": [
      "1 2 3 4 5\n",
      "[1, 2, 3, 4, 5, 6, 7, 8]\n",
      "[[1, 2, 3, 4, 5], [6, 7, 8]]\n"
     ]
    }
   ],
   "source": [
    "list1 = [1, 2, 3, 4, 5]\n",
    "list2 = [6, 7, 8]\n",
    "\n",
    "print(*list1)\n",
    "\n",
    "# 合并\n",
    "combined_list = [*list1, *list2]\n",
    "print(combined_list)\n",
    "\n",
    "print([list1, list2])"
   ]
  }
 ],
 "metadata": {
  "kernelspec": {
   "display_name": "Python 3 (ipykernel)",
   "language": "python",
   "name": "python3"
  },
  "language_info": {
   "codemirror_mode": {
    "name": "ipython",
    "version": 3
   },
   "file_extension": ".py",
   "mimetype": "text/x-python",
   "name": "python",
   "nbconvert_exporter": "python",
   "pygments_lexer": "ipython3",
   "version": "3.11.7"
  }
 },
 "nbformat": 4,
 "nbformat_minor": 5
}
