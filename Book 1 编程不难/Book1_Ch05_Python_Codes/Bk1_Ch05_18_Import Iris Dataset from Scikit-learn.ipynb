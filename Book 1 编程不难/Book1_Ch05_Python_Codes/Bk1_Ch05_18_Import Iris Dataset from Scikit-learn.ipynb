{
 "cells": [
  {
   "cell_type": "markdown",
   "id": "e4dec048-979f-4106-ba8f-8d17324af4f0",
   "metadata": {},
   "source": [
    "Book 1  \n",
    "Chapter 5 Data Types in Python\n",
    "### 从Scikit-learn导入鸢尾花数据集\n",
    "\n",
    "- **Iris flower data set 鸢尾花数据集**\n",
    "    - Anderson's Iris data set/Fisher's Iris data set\n",
    "    - Consists of 50 samples from each of three species of Iris\n",
    "    - Four features: the length and the width of the sepals(花萼) and petals(花瓣)\n",
    "    - A typical test case for many statistical **classification** techniques in machine learning"
   ]
  },
  {
   "cell_type": "code",
   "execution_count": 2,
   "id": "28fe3f13-a769-48af-be23-ffb290100323",
   "metadata": {},
   "outputs": [],
   "source": [
    "from sklearn.datasets import load_iris"
   ]
  },
  {
   "cell_type": "code",
   "execution_count": 3,
   "id": "358dd163-3fd0-4298-ab0a-291bfa41bc3b",
   "metadata": {},
   "outputs": [],
   "source": [
    "# 使用 load_iris 函数加载 Iris 数据集\n",
    "iris = load_iris()"
   ]
  },
  {
   "cell_type": "code",
   "execution_count": 4,
   "id": "0b6cd847-43b6-4fed-8bdd-5da26ac21a75",
   "metadata": {},
   "outputs": [
    {
     "name": "stdout",
     "output_type": "stream",
     "text": [
      "<class 'numpy.ndarray'>\n",
      "2\n"
     ]
    }
   ],
   "source": [
    "# Iris 数据集的特征存储在 iris.data中\n",
    "X = iris.data\n",
    "print(type(X))\n",
    "print(X.ndim) # 2-dimensional array\n",
    "# print(X)"
   ]
  },
  {
   "cell_type": "code",
   "execution_count": 5,
   "id": "f443e01e-ab6e-49b4-b17b-667d7772eac2",
   "metadata": {},
   "outputs": [
    {
     "name": "stdout",
     "output_type": "stream",
     "text": [
      "[0 0 0 0 0 0 0 0 0 0 0 0 0 0 0 0 0 0 0 0 0 0 0 0 0 0 0 0 0 0 0 0 0 0 0 0 0\n",
      " 0 0 0 0 0 0 0 0 0 0 0 0 0 1 1 1 1 1 1 1 1 1 1 1 1 1 1 1 1 1 1 1 1 1 1 1 1\n",
      " 1 1 1 1 1 1 1 1 1 1 1 1 1 1 1 1 1 1 1 1 1 1 1 1 1 1 2 2 2 2 2 2 2 2 2 2 2\n",
      " 2 2 2 2 2 2 2 2 2 2 2 2 2 2 2 2 2 2 2 2 2 2 2 2 2 2 2 2 2 2 2 2 2 2 2 2 2\n",
      " 2 2]\n"
     ]
    }
   ],
   "source": [
    "# Iris 数据集的目标/标签存储在 iris.target 中\n",
    "y = iris.target\n",
    "type(y)\n",
    "print(y)"
   ]
  },
  {
   "cell_type": "code",
   "execution_count": 6,
   "id": "cc433cab-f611-405e-ad0c-b8604142ea0b",
   "metadata": {},
   "outputs": [
    {
     "name": "stdout",
     "output_type": "stream",
     "text": [
      "['DESCR', 'data', 'data_module', 'feature_names', 'filename', 'frame', 'target', 'target_names']\n"
     ]
    }
   ],
   "source": [
    "print(dir(iris))"
   ]
  }
 ],
 "metadata": {
  "kernelspec": {
   "display_name": "Python 3 (ipykernel)",
   "language": "python",
   "name": "python3"
  },
  "language_info": {
   "codemirror_mode": {
    "name": "ipython",
    "version": 3
   },
   "file_extension": ".py",
   "mimetype": "text/x-python",
   "name": "python",
   "nbconvert_exporter": "python",
   "pygments_lexer": "ipython3",
   "version": "3.11.7"
  }
 },
 "nbformat": 4,
 "nbformat_minor": 5
}
