{
 "cells": [
  {
   "cell_type": "markdown",
   "id": "ffc4d5ad-4cb3-416a-99c8-910bd4c2316a",
   "metadata": {},
   "source": [
    "Book 1  \n",
    "Chapter 5 Data Types in Python\n",
    "### 用嵌套列表构造矩阵"
   ]
  },
  {
   "cell_type": "code",
   "execution_count": 2,
   "id": "3dab435d-4ea4-480e-b821-a00e0b04137f",
   "metadata": {},
   "outputs": [],
   "source": [
    "# 用嵌套列表构造矩阵\n",
    "A = [[0, 5],\n",
    "     [3, 4],\n",
    "     [5, 0]]"
   ]
  },
  {
   "cell_type": "code",
   "execution_count": 3,
   "id": "6b1ca25a-342c-4564-b640-962f53c7a487",
   "metadata": {},
   "outputs": [
    {
     "name": "stdout",
     "output_type": "stream",
     "text": [
      "[0, 5]\n",
      "[[0, 5]]\n"
     ]
    }
   ],
   "source": [
    "# 取出行向量\n",
    "print(A[0])\n",
    "print([A[0]])"
   ]
  },
  {
   "cell_type": "code",
   "execution_count": 4,
   "id": "54dbe3bc-8fef-47c4-8340-0942898dfd49",
   "metadata": {},
   "outputs": [
    {
     "name": "stdout",
     "output_type": "stream",
     "text": [
      "[3, 4]\n",
      "[[3, 4]]\n"
     ]
    }
   ],
   "source": [
    "print(A[1])\n",
    "print([A[1]])"
   ]
  },
  {
   "cell_type": "code",
   "execution_count": 5,
   "id": "2e00d1bb-0da5-4961-b61a-715cab9e9a4d",
   "metadata": {},
   "outputs": [
    {
     "name": "stdout",
     "output_type": "stream",
     "text": [
      "[5, 0]\n",
      "[[5, 0]]\n"
     ]
    }
   ],
   "source": [
    "print(A[2])\n",
    "print([A[2]])"
   ]
  },
  {
   "cell_type": "code",
   "execution_count": 6,
   "id": "d58967bd-01fd-43c0-a858-29dd6b7181fd",
   "metadata": {},
   "outputs": [
    {
     "name": "stdout",
     "output_type": "stream",
     "text": [
      "[0, 3, 5]\n",
      "[[0], [3], [5]]\n"
     ]
    }
   ],
   "source": [
    "# 取出列向量\n",
    "print([row[0] for row in A])\n",
    "print([[row[0]] for row in A])"
   ]
  },
  {
   "cell_type": "code",
   "execution_count": 7,
   "id": "1aa096a4-e4cd-4458-9a50-037bcfde4387",
   "metadata": {},
   "outputs": [
    {
     "name": "stdout",
     "output_type": "stream",
     "text": [
      "[5, 4, 0]\n",
      "[[5], [4], [0]]\n"
     ]
    }
   ],
   "source": [
    "# 取出列向量\n",
    "print([row[1] for row in A])\n",
    "print([[row[1]] for row in A])"
   ]
  }
 ],
 "metadata": {
  "kernelspec": {
   "display_name": "Python 3 (ipykernel)",
   "language": "python",
   "name": "python3"
  },
  "language_info": {
   "codemirror_mode": {
    "name": "ipython",
    "version": 3
   },
   "file_extension": ".py",
   "mimetype": "text/x-python",
   "name": "python",
   "nbconvert_exporter": "python",
   "pygments_lexer": "ipython3",
   "version": "3.11.7"
  }
 },
 "nbformat": 4,
 "nbformat_minor": 5
}
