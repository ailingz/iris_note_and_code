{
 "cells": [
  {
   "cell_type": "markdown",
   "id": "b23eadd1-69a9-47b3-9070-b56ac7c39449",
   "metadata": {},
   "source": [
    "Book 1  \n",
    "Chapter 5 Data Types in Python\n",
    "### 列表常用方法、操作"
   ]
  },
  {
   "cell_type": "code",
   "execution_count": 2,
   "id": "3be90e2d-4633-4b30-b620-5fa1d6fbf26e",
   "metadata": {},
   "outputs": [
    {
     "name": "stdout",
     "output_type": "stream",
     "text": [
      "[1, 1.0, '12ab', True, [1, 1.0, '1'], {1}, {1: 1.0}]\n"
     ]
    }
   ],
   "source": [
    "# 创建一个混合列表\n",
    "my_list = [1, 1.0, '12ab', True, [1, 1.0, '1'], {1}, {1:1.0}]\n",
    "print(my_list)"
   ]
  },
  {
   "cell_type": "code",
   "execution_count": 3,
   "id": "8afcc6d4-13de-4139-8ed9-87c725b02c77",
   "metadata": {},
   "outputs": [
    {
     "name": "stdout",
     "output_type": "stream",
     "text": [
      "[1, 1.0, '123', True, [1, 1.0, '1'], {1}, {1: 1.0}]\n"
     ]
    }
   ],
   "source": [
    "# 修改某个元素\n",
    "my_list[2] = '123'\n",
    "print(my_list)"
   ]
  },
  {
   "cell_type": "code",
   "execution_count": 4,
   "id": "410c3d83-b828-41d6-ada7-603a457e80eb",
   "metadata": {},
   "outputs": [
    {
     "name": "stdout",
     "output_type": "stream",
     "text": [
      "[1, 1.0, 'inserted', '123', True, [1, 1.0, '1'], {1}, {1: 1.0}]\n"
     ]
    }
   ],
   "source": [
    "# 在列表指定位置插入元素\n",
    "my_list.insert(2, 'inserted')\n",
    "print(my_list)"
   ]
  },
  {
   "cell_type": "code",
   "execution_count": 5,
   "id": "2cbf008b-a231-4529-a93f-cb045a2ded26",
   "metadata": {},
   "outputs": [
    {
     "name": "stdout",
     "output_type": "stream",
     "text": [
      "[1, 1.0, 'inserted', '123', True, [1, 1.0, '1'], {1}, {1: 1.0}, 'tail']\n"
     ]
    }
   ],
   "source": [
    "# 在列表尾部插入元素\n",
    "my_list.append('tail')\n",
    "print(my_list)"
   ]
  },
  {
   "cell_type": "code",
   "execution_count": 6,
   "id": "3aa769b2-bbbf-49cd-8361-4849cccb5b23",
   "metadata": {},
   "outputs": [
    {
     "name": "stdout",
     "output_type": "stream",
     "text": [
      "[1, 1.0, 'inserted', '123', True, [1, 1.0, '1'], {1}, {1: 1.0}]\n"
     ]
    }
   ],
   "source": [
    "# 通过索引删除\n",
    "del my_list[-1]\n",
    "print(my_list)"
   ]
  },
  {
   "cell_type": "code",
   "execution_count": 7,
   "id": "c30f7410-b688-43ea-96df-25913ddde8d6",
   "metadata": {},
   "outputs": [
    {
     "name": "stdout",
     "output_type": "stream",
     "text": [
      "[1, 1.0, 'inserted', True, [1, 1.0, '1'], {1}, {1: 1.0}]\n"
     ]
    }
   ],
   "source": [
    "# 删除某个元素\n",
    "my_list.remove('123')\n",
    "print(my_list)"
   ]
  },
  {
   "cell_type": "code",
   "execution_count": 8,
   "id": "ec691384-94b0-4b18-b26c-9a9917563c78",
   "metadata": {},
   "outputs": [
    {
     "name": "stdout",
     "output_type": "stream",
     "text": [
      "No\n"
     ]
    }
   ],
   "source": [
    "# 判断一个元素是否在列表中\n",
    "if '123' in my_list:\n",
    "    print('Yes')\n",
    "else:\n",
    "    print('No')"
   ]
  },
  {
   "cell_type": "code",
   "execution_count": 9,
   "id": "cf55c4b1-e395-4be0-96a4-61aed4e7a085",
   "metadata": {},
   "outputs": [
    {
     "name": "stdout",
     "output_type": "stream",
     "text": [
      "[{1: 1.0}, {1}, [1, 1.0, '1'], True, 'inserted', 1.0, 1]\n"
     ]
    }
   ],
   "source": [
    "# 列表翻转\n",
    "my_list.reverse()\n",
    "print(my_list)"
   ]
  },
  {
   "cell_type": "code",
   "execution_count": 10,
   "id": "05ea2d10-a4a6-43ce-ab6c-0ee44a832f90",
   "metadata": {},
   "outputs": [
    {
     "name": "stdout",
     "output_type": "stream",
     "text": [
      "J_a_m_e_s\n"
     ]
    }
   ],
   "source": [
    "# 将列表用所有字符连接，连接符为下划线 _\n",
    "letters = ['J', 'a', 'm', 'e', 's']\n",
    "word = '_'.join(letters)\n",
    "print(word)"
   ]
  }
 ],
 "metadata": {
  "kernelspec": {
   "display_name": "Python 3 (ipykernel)",
   "language": "python",
   "name": "python3"
  },
  "language_info": {
   "codemirror_mode": {
    "name": "ipython",
    "version": 3
   },
   "file_extension": ".py",
   "mimetype": "text/x-python",
   "name": "python",
   "nbconvert_exporter": "python",
   "pygments_lexer": "ipython3",
   "version": "3.11.7"
  }
 },
 "nbformat": 4,
 "nbformat_minor": 5
}
