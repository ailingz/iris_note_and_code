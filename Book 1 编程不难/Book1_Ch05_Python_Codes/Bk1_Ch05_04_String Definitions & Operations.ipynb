{
 "cells": [
  {
   "cell_type": "markdown",
   "id": "9638de57-4e9e-450b-a810-651a52080b44",
   "metadata": {},
   "source": [
    "Book 1  \n",
    "Chapter 5 Data Types in Python\n",
    "### 字符串定义和操作"
   ]
  },
  {
   "cell_type": "code",
   "execution_count": 2,
   "id": "22b1e2b7-cc01-4080-8f2b-1ec84724f183",
   "metadata": {},
   "outputs": [
    {
     "name": "stdout",
     "output_type": "stream",
     "text": [
      "I am learning Python 101!\n"
     ]
    }
   ],
   "source": [
    "# 用一对单引号定义字符串\n",
    "str1 = 'I am learning Python 101!'\n",
    "print(str1)"
   ]
  },
  {
   "cell_type": "code",
   "execution_count": 3,
   "id": "af0a5397-c25e-4013-93ca-9e92c93978df",
   "metadata": {},
   "outputs": [
    {
     "data": {
      "text/plain": [
       "25"
      ]
     },
     "execution_count": 3,
     "metadata": {},
     "output_type": "execute_result"
    }
   ],
   "source": [
    "len(str1)"
   ]
  },
  {
   "cell_type": "code",
   "execution_count": 4,
   "id": "d55ea34f-3af5-4eb5-a741-f851a867d10c",
   "metadata": {},
   "outputs": [
    {
     "name": "stdout",
     "output_type": "stream",
     "text": [
      "Python is fun. Machine learning is fun too.\n"
     ]
    }
   ],
   "source": [
    "# 用一对双引号定义字符串\n",
    "str2 = \"Python is fun. Machine learning is fun too.\"\n",
    "print(str2)"
   ]
  },
  {
   "cell_type": "code",
   "execution_count": 5,
   "id": "242a1914-465e-4890-8f06-68eb4ec86c56",
   "metadata": {},
   "outputs": [
    {
     "name": "stdout",
     "output_type": "stream",
     "text": [
      "Hey, James!\n"
     ]
    }
   ],
   "source": [
    "# 使用加号 + 将多个字符串连接起来\n",
    "str4 = 'Hey, ' + 'James!'\n",
    "print(str4)"
   ]
  },
  {
   "cell_type": "code",
   "execution_count": 6,
   "id": "6ad157d5-7728-490a-b0a0-212a9300f644",
   "metadata": {},
   "outputs": [
    {
     "name": "stdout",
     "output_type": "stream",
     "text": [
      "Python is FUN! Python is FUN! Python is FUN! \n"
     ]
    }
   ],
   "source": [
    "# 使用乘号 * 将一个字符串复制多次\n",
    "str5 = 'Python is FUN! ' # 字符串最后有一个空格\n",
    "str6 = str5 * 3\n",
    "print(str6)"
   ]
  },
  {
   "cell_type": "code",
   "execution_count": 7,
   "id": "e13ab1e9-5ba0-420d-acca-3e086e4585c6",
   "metadata": {},
   "outputs": [
    {
     "name": "stdout",
     "output_type": "stream",
     "text": [
      "123123123\n"
     ]
    }
   ],
   "source": [
    "# 字符串中的数字仅仅是字符\n",
    "str7 = '123'\n",
    "str8 = str7 * 3\n",
    "print(str8)"
   ]
  },
  {
   "cell_type": "code",
   "execution_count": 8,
   "id": "0ef40ca7-84ea-4878-a597-23d39423c27f",
   "metadata": {},
   "outputs": [
    {
     "data": {
      "text/plain": [
       "369"
      ]
     },
     "execution_count": 8,
     "metadata": {},
     "output_type": "execute_result"
    }
   ],
   "source": [
    "int(str7) * 3"
   ]
  },
  {
   "cell_type": "code",
   "execution_count": 9,
   "id": "0b2a26db-07b5-4b12-a848-a11c6b24e823",
   "metadata": {},
   "outputs": [
    {
     "name": "stdout",
     "output_type": "stream",
     "text": [
      "123456\n",
      "456123\n",
      "<class 'str'>\n"
     ]
    }
   ],
   "source": [
    "str9 = '456'\n",
    "str10 = str7 + str9\n",
    "str11 = str9 + str7\n",
    "print(str10)\n",
    "print(str11)\n",
    "print(type(str10))"
   ]
  },
  {
   "cell_type": "code",
   "execution_count": 10,
   "id": "aa54be27-3a2d-47ee-9301-fe0423913728",
   "metadata": {},
   "outputs": [
    {
     "name": "stdout",
     "output_type": "stream",
     "text": [
      "0\n",
      "<class 'str'>\n"
     ]
    }
   ],
   "source": [
    "str_test = ''\n",
    "print(len(str_test))\n",
    "print(type(str_test))"
   ]
  }
 ],
 "metadata": {
  "kernelspec": {
   "display_name": "Python 3 (ipykernel)",
   "language": "python",
   "name": "python3"
  },
  "language_info": {
   "codemirror_mode": {
    "name": "ipython",
    "version": 3
   },
   "file_extension": ".py",
   "mimetype": "text/x-python",
   "name": "python",
   "nbconvert_exporter": "python",
   "pygments_lexer": "ipython3",
   "version": "3.11.7"
  }
 },
 "nbformat": 4,
 "nbformat_minor": 5
}
