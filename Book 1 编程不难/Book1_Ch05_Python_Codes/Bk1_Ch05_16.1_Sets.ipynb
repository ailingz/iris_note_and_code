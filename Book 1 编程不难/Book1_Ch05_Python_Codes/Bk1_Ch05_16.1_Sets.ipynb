{
 "cells": [
  {
   "cell_type": "markdown",
   "id": "7fbd0bc0-ea88-4a77-9829-6af8707b4abb",
   "metadata": {},
   "source": [
    "Book 1  \n",
    "Chapter 5 Data Types in Python\n",
    "### 集合"
   ]
  },
  {
   "cell_type": "code",
   "execution_count": 2,
   "id": "a3bc50d8-adea-4b40-a7e6-008453ea2781",
   "metadata": {},
   "outputs": [
    {
     "name": "stdout",
     "output_type": "stream",
     "text": [
      "{1, 2, 3, 4, 5}\n",
      "{'apple', 'banana', 'orange'}\n"
     ]
    }
   ],
   "source": [
    "# 创建集合\n",
    "number_set = {1, 2, 3, 4, 5}\n",
    "word_set = set(['apple', 'banana', 'orange'])\n",
    "\n",
    "print(number_set)\n",
    "print(word_set)"
   ]
  },
  {
   "cell_type": "code",
   "execution_count": 3,
   "id": "c24339b8-7b28-4a43-83f8-19643b7c41e8",
   "metadata": {},
   "outputs": [
    {
     "name": "stdout",
     "output_type": "stream",
     "text": [
      "{'apple', 'banana', 'orange'}\n",
      "{'banana', 'grape', 'kiwi', 'apple', 'orange'}\n"
     ]
    }
   ],
   "source": [
    "fruit_set = set(['apple', 'banana'])\n",
    "\n",
    "# add() 向集合中添加单个元素\n",
    "fruit_set.add('orange')\n",
    "print(fruit_set)\n",
    "\n",
    "# update() 向集合中添加多个元素\n",
    "fruit_set.update(['grape', 'kiwi'])\n",
    "print(fruit_set)"
   ]
  },
  {
   "cell_type": "code",
   "execution_count": 4,
   "id": "a694cec3-43fb-42fb-b438-1f7040a01f55",
   "metadata": {},
   "outputs": [
    {
     "name": "stdout",
     "output_type": "stream",
     "text": [
      "{'grape', 'kiwi', 'apple', 'orange'}\n",
      "{'grape', 'kiwi', 'apple'}\n"
     ]
    }
   ],
   "source": [
    "# 删除元素\n",
    "# remove(), 元素不存在会引发 KeyError 异常\n",
    "fruit_set.remove('banana')\n",
    "print(fruit_set)\n",
    "\n",
    "# discard(), 元素不存在不会引发 KeyError 异常\n",
    "fruit_set.discard('orange')\n",
    "print(fruit_set)\n",
    "fruit_set.discard('orange')"
   ]
  },
  {
   "cell_type": "code",
   "execution_count": 5,
   "id": "4663ec5a-c452-4686-b5b3-1e2271779e38",
   "metadata": {},
   "outputs": [
    {
     "name": "stdout",
     "output_type": "stream",
     "text": [
      "{3, 4}\n",
      "{1, 2, 3, 4, 5, 6}\n",
      "{1, 2}\n"
     ]
    }
   ],
   "source": [
    "set1 = {1, 2, 3, 4}\n",
    "set2 = {3, 4, 5, 6}\n",
    "\n",
    "set3 = set1 & set2 # 交集\n",
    "set4 = set1 | set2 # 并集\n",
    "set5 = set1 - set2 # 差集\n",
    "\n",
    "print(set3)\n",
    "print(set4)\n",
    "print(set5)"
   ]
  }
 ],
 "metadata": {
  "kernelspec": {
   "display_name": "Python 3 (ipykernel)",
   "language": "python",
   "name": "python3"
  },
  "language_info": {
   "codemirror_mode": {
    "name": "ipython",
    "version": 3
   },
   "file_extension": ".py",
   "mimetype": "text/x-python",
   "name": "python",
   "nbconvert_exporter": "python",
   "pygments_lexer": "ipython3",
   "version": "3.11.7"
  }
 },
 "nbformat": 4,
 "nbformat_minor": 5
}
