{
 "cells": [
  {
   "cell_type": "markdown",
   "id": "8d2614aa-afab-4f91-8718-73d0c79fbfb3",
   "metadata": {},
   "source": [
    "Book 1  \n",
    "Chapter 5 Data Types in Python\n",
    "### 有关字典的常见操作"
   ]
  },
  {
   "cell_type": "code",
   "execution_count": 2,
   "id": "754a7c01-04b7-4d22-be19-e9675c68edcf",
   "metadata": {},
   "outputs": [
    {
     "name": "stdout",
     "output_type": "stream",
     "text": [
      "{'name': 'James', 'age': 88, 'gender': 'male'}\n"
     ]
    }
   ],
   "source": [
    "# 使用大括号创建字典，字符串键 key 用引号\n",
    "person = {'name': 'James', 'age': 88, 'gender': 'male'}\n",
    "print(person)"
   ]
  },
  {
   "cell_type": "code",
   "execution_count": 3,
   "id": "78a758d3-8642-4921-aa13-d233d08649ae",
   "metadata": {},
   "outputs": [
    {
     "name": "stdout",
     "output_type": "stream",
     "text": [
      "{'apple': 88, 'banana': 888, 'cherry': 8888}\n"
     ]
    }
   ],
   "source": [
    "# 使用 dict() 函数创建字典，字符串键不使用引号\n",
    "fruits = dict(apple=88, banana=888, cherry=8888)\n",
    "print(fruits)"
   ]
  },
  {
   "cell_type": "code",
   "execution_count": 4,
   "id": "852bca5f-391b-4fdb-82fe-76ac50098603",
   "metadata": {},
   "outputs": [
    {
     "name": "stdout",
     "output_type": "stream",
     "text": [
      "James\n",
      "8888\n"
     ]
    }
   ],
   "source": [
    "# 访问字典中的值\n",
    "print(person['name'])\n",
    "print(fruits['cherry'])"
   ]
  },
  {
   "cell_type": "code",
   "execution_count": 5,
   "id": "911784ad-df1b-4d11-9dd5-f3f0f4e26e19",
   "metadata": {},
   "outputs": [
    {
     "name": "stdout",
     "output_type": "stream",
     "text": [
      "{'name': 'James', 'age': 28, 'gender': 'male'}\n"
     ]
    }
   ],
   "source": [
    "# 修改字典中的值\n",
    "person['age'] = 28\n",
    "print(person)"
   ]
  },
  {
   "cell_type": "code",
   "execution_count": 6,
   "id": "d585bb41-f83c-4815-bd36-22380e36d5ac",
   "metadata": {},
   "outputs": [
    {
     "name": "stdout",
     "output_type": "stream",
     "text": [
      "{'name': 'James', 'age': 28, 'gender': 'male', 'city': 'Toronto'}\n"
     ]
    }
   ],
   "source": [
    "# 添加键值对\n",
    "person['city'] = 'Toronto'\n",
    "print(person)"
   ]
  },
  {
   "cell_type": "code",
   "execution_count": 7,
   "id": "32a59642-3020-4c03-8540-5c725faae88c",
   "metadata": {},
   "outputs": [
    {
     "name": "stdout",
     "output_type": "stream",
     "text": [
      "{'name': 'James', 'age': 28, 'city': 'Toronto'}\n"
     ]
    }
   ],
   "source": [
    "# 删除键值对\n",
    "del person['gender']\n",
    "print(person)"
   ]
  },
  {
   "cell_type": "code",
   "execution_count": 8,
   "id": "11dc64b2-9175-44fd-bc82-192dbc371731",
   "metadata": {},
   "outputs": [
    {
     "name": "stdout",
     "output_type": "stream",
     "text": [
      "dict_keys(['name', 'age', 'city'])\n",
      "dict_values(['James', 28, 'Toronto'])\n",
      "dict_items([('name', 'James'), ('age', 28), ('city', 'Toronto')])\n"
     ]
    }
   ],
   "source": [
    "# 获取键、值、键值对列表\n",
    "print(person.keys())\n",
    "print(person.values())\n",
    "print(person.items())"
   ]
  }
 ],
 "metadata": {
  "kernelspec": {
   "display_name": "Python 3 (ipykernel)",
   "language": "python",
   "name": "python3"
  },
  "language_info": {
   "codemirror_mode": {
    "name": "ipython",
    "version": 3
   },
   "file_extension": ".py",
   "mimetype": "text/x-python",
   "name": "python",
   "nbconvert_exporter": "python",
   "pygments_lexer": "ipython3",
   "version": "3.11.7"
  }
 },
 "nbformat": 4,
 "nbformat_minor": 5
}
