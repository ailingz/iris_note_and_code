{
 "cells": [
  {
   "cell_type": "markdown",
   "id": "5029c2bc-f67a-4f48-b23c-79fb57950c5f",
   "metadata": {},
   "source": [
    "Book 1  \n",
    "Chapter 4 Fundamentals of Grammar in Python\n",
    "### 代码注释"
   ]
  },
  {
   "cell_type": "code",
   "execution_count": 3,
   "id": "07e827e6-fba6-4ee5-b905-337b8b79c3ba",
   "metadata": {},
   "outputs": [
    {
     "name": "stdout",
     "output_type": "stream",
     "text": [
      "[0 1 2 3 4 5 6 7 8 9]\n"
     ]
    }
   ],
   "source": [
    "import numpy as np\n",
    "# 导入名为 NumPy 的第三方库，并将其重命名为 np ## 整行注释\n",
    "\n",
    "x_array = np.arange(10)\n",
    "# x_array 有10个元素                      ## 单行尾部注释\n",
    "# 这行代码使用 NumPy 库中的函数 numpy.arange()\n",
    "# 创建了一个名为 x_array 的一维数组\n",
    "# 包含从0到9共10个整数\n",
    "\n",
    "print(x_array) # 打印数组"
   ]
  },
  {
   "cell_type": "code",
   "execution_count": 4,
   "id": "7bfbfa0c-7e52-4a6f-85d2-cf5d77644aa3",
   "metadata": {},
   "outputs": [
    {
     "name": "stdout",
     "output_type": "stream",
     "text": [
      "3.5\n"
     ]
    }
   ],
   "source": [
    "def my_function(x, y):\n",
    "    \"\"\"\n",
    "    这个自定义函数计算两个数值 x 和 y 的和\n",
    "    函数输入为:\n",
    "        x: The first number to be added.\n",
    "        y: The second number to be added.\n",
    "    函数输出为:\n",
    "        The sum of x and y.\n",
    "    \"\"\"                                  ## 多行注释\n",
    "    return x + y\n",
    "\n",
    "# 打印结果\n",
    "print(my_function(1.5, 2))"
   ]
  }
 ],
 "metadata": {
  "kernelspec": {
   "display_name": "Python 3 (ipykernel)",
   "language": "python",
   "name": "python3"
  },
  "language_info": {
   "codemirror_mode": {
    "name": "ipython",
    "version": 3
   },
   "file_extension": ".py",
   "mimetype": "text/x-python",
   "name": "python",
   "nbconvert_exporter": "python",
   "pygments_lexer": "ipython3",
   "version": "3.11.7"
  }
 },
 "nbformat": 4,
 "nbformat_minor": 5
}
