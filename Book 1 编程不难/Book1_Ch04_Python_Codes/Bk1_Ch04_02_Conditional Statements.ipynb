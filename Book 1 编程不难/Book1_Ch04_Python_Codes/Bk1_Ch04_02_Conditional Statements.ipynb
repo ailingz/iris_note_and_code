{
 "cells": [
  {
   "cell_type": "markdown",
   "id": "75aca595-e59c-4b77-b83f-79402bf7bd14",
   "metadata": {},
   "source": [
    "Book 1  \n",
    "Chapter 4 Fundamentals of Grammar in Python\n",
    "### 条件语句"
   ]
  },
  {
   "cell_type": "code",
   "execution_count": 2,
   "id": "468ca9dd-8e6e-42ad-ad11-5a2bfe3341db",
   "metadata": {},
   "outputs": [
    {
     "name": "stdin",
     "output_type": "stream",
     "text": [
      "Please enter a number:  -8\n"
     ]
    },
    {
     "name": "stdout",
     "output_type": "stream",
     "text": [
      "x is negative\n",
      "The absolute value of the number is:  8.0\n"
     ]
    }
   ],
   "source": [
    "# 定义变量 x，从用户输入中获取数值\n",
    "x = float(input(\"Please enter a number: \"))\n",
    "\n",
    "# 定义变量 abs_x，用来存放绝对值\n",
    "abs_x = x\n",
    "\n",
    "# 如果 x 为正数\n",
    "if x > 0:\n",
    "    print(\"x is positive\")\n",
    "\n",
    "# 如果 x 为零\n",
    "elif x == 0:\n",
    "    print(\"x is zero\")\n",
    "\n",
    "# 如果 x 为负数\n",
    "else:\n",
    "    print(\"x is negative\")\n",
    "\n",
    "    # 计算负数绝对值\n",
    "    abs_x = -x\n",
    "\n",
    "print(\"The absolute value of the number is: \", abs_x)"
   ]
  }
 ],
 "metadata": {
  "kernelspec": {
   "display_name": "Python 3 (ipykernel)",
   "language": "python",
   "name": "python3"
  },
  "language_info": {
   "codemirror_mode": {
    "name": "ipython",
    "version": 3
   },
   "file_extension": ".py",
   "mimetype": "text/x-python",
   "name": "python",
   "nbconvert_exporter": "python",
   "pygments_lexer": "ipython3",
   "version": "3.11.7"
  }
 },
 "nbformat": 4,
 "nbformat_minor": 5
}
