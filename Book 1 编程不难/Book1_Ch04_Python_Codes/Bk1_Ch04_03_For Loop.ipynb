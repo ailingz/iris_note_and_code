{
 "cells": [
  {
   "cell_type": "markdown",
   "id": "23f3d051-9f7a-40f0-9602-3ea37765a49f",
   "metadata": {},
   "source": [
    "Book 1  \n",
    "Chapter 4 Fundamentals of Grammar in Python\n",
    "### for 循环"
   ]
  },
  {
   "cell_type": "code",
   "execution_count": 2,
   "id": "142818b0-df18-4917-a632-b7e0182fccc7",
   "metadata": {},
   "outputs": [
    {
     "name": "stdout",
     "output_type": "stream",
     "text": [
      "P\n",
      "y\n",
      "t\n",
      "h\n",
      "o\n",
      "n\n",
      " \n",
      "i\n",
      "s\n",
      " \n",
      "F\n",
      "U\n",
      "N\n",
      "!\n"
     ]
    }
   ],
   "source": [
    "x_string = \"Python is FUN!\"\n",
    "\n",
    "# 利用 for 循环打印每个字符\n",
    "for i_str in x_string:\n",
    "    print(i_str)"
   ]
  }
 ],
 "metadata": {
  "kernelspec": {
   "display_name": "Python 3 (ipykernel)",
   "language": "python",
   "name": "python3"
  },
  "language_info": {
   "codemirror_mode": {
    "name": "ipython",
    "version": 3
   },
   "file_extension": ".py",
   "mimetype": "text/x-python",
   "name": "python",
   "nbconvert_exporter": "python",
   "pygments_lexer": "ipython3",
   "version": "3.11.7"
  }
 },
 "nbformat": 4,
 "nbformat_minor": 5
}
