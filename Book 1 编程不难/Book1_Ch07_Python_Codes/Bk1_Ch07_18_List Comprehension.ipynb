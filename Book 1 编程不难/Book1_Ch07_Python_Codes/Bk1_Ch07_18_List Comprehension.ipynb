{
 "cells": [
  {
   "cell_type": "markdown",
   "id": "34c69017-a934-4d6a-aad6-cb2d75ddf580",
   "metadata": {},
   "source": [
    "Book 1  \n",
    "Chapter 7 Control Flow Statements in Python\n",
    "### 列表生成式\n",
    "\n",
    "- `[expression for item in iterable if condition]`\n",
    "- `[expression1 if condition else expression2 for item in iterable]`"
   ]
  },
  {
   "cell_type": "code",
   "execution_count": 2,
   "id": "9c86c15d-2aaa-4b4f-b238-1166325e0cf1",
   "metadata": {},
   "outputs": [
    {
     "name": "stdout",
     "output_type": "stream",
     "text": [
      "[2, 4, 6, 8, 10]\n"
     ]
    }
   ],
   "source": [
    "# 使用列表生成式，获得1 ~ 10之间所有偶数列表\n",
    "even_numbers = [num for num in range(1, 11) if num % 2 == 0]\n",
    "print(even_numbers)"
   ]
  },
  {
   "cell_type": "code",
   "execution_count": 3,
   "id": "d2a9ee11-d15f-46bd-bda0-6f76adcf0bc0",
   "metadata": {},
   "outputs": [
    {
     "name": "stdout",
     "output_type": "stream",
     "text": [
      "[[1, 2, 3], [2, 4, 6], [3, 6, 9]]\n"
     ]
    }
   ],
   "source": [
    "# 嵌套列表生成式\n",
    "matrix = [[i * j for i in range(1, 4)]\n",
    "                 for j in range(1, 4)]\n",
    "print(matrix)"
   ]
  }
 ],
 "metadata": {
  "kernelspec": {
   "display_name": "Python 3 (ipykernel)",
   "language": "python",
   "name": "python3"
  },
  "language_info": {
   "codemirror_mode": {
    "name": "ipython",
    "version": 3
   },
   "file_extension": ".py",
   "mimetype": "text/x-python",
   "name": "python",
   "nbconvert_exporter": "python",
   "pygments_lexer": "ipython3",
   "version": "3.11.7"
  }
 },
 "nbformat": 4,
 "nbformat_minor": 5
}
