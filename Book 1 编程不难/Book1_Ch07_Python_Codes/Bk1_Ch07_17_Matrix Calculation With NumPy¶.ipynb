{
 "cells": [
  {
   "cell_type": "markdown",
   "id": "7dd73eec-a3c8-4860-865c-11504801c2be",
   "metadata": {},
   "source": [
    "Book 1  \n",
    "Chapter 7 Control Flow Statements in Python\n",
    "### 使用 NumPy 计算矩阵乘法"
   ]
  },
  {
   "cell_type": "code",
   "execution_count": 2,
   "id": "dcbb66e5-6670-47dc-966c-bbbd3d3ac22b",
   "metadata": {},
   "outputs": [],
   "source": [
    "import numpy as np\n",
    "\n",
    "# 定义矩阵 A 和 B\n",
    "A = np.array([[1, 2, 10, 20],\n",
    "              [3, 4, 30, 40, ]])\n",
    "B = np.array([[1, 3],\n",
    "              [2, 4],\n",
    "              [10, 30],\n",
    "              [20, 40]])"
   ]
  },
  {
   "cell_type": "code",
   "execution_count": 3,
   "id": "6c9f298b-4853-4275-98e4-4924d3bb9b94",
   "metadata": {},
   "outputs": [
    {
     "name": "stdout",
     "output_type": "stream",
     "text": [
      "[[ 505 1111]\n",
      " [1111 2525]]\n"
     ]
    }
   ],
   "source": [
    "C = A @ B\n",
    "print(C)"
   ]
  },
  {
   "cell_type": "code",
   "execution_count": 4,
   "id": "07a58710-b71c-4c26-bdab-5bdfcd171f45",
   "metadata": {},
   "outputs": [
    {
     "name": "stdout",
     "output_type": "stream",
     "text": [
      "[[  10   14  100  140]\n",
      " [  14   20  140  200]\n",
      " [ 100  140 1000 1400]\n",
      " [ 140  200 1400 2000]]\n"
     ]
    }
   ],
   "source": [
    "D = B @ A\n",
    "print(D)"
   ]
  },
  {
   "cell_type": "code",
   "execution_count": 5,
   "id": "ad985c53-0eed-4008-8def-ed317e3d9f1f",
   "metadata": {},
   "outputs": [
    {
     "name": "stdout",
     "output_type": "stream",
     "text": [
      "--- 0.0028450489044189453 seconds ---\n",
      "--- 2.828805923461914 seconds ---\n"
     ]
    }
   ],
   "source": [
    "# 比较自定义和 NumPy 矩阵乘法运算用时\n",
    "from numpy.random import randint\n",
    "import time\n",
    "\n",
    "num = 200\n",
    "\n",
    "# num * num 大小方阵，0~9随机数\n",
    "A = randint(0, 10, size = (num, num))\n",
    "B = randint(0, 10, size = (num, num))\n",
    "\n",
    "# 使用 NumPy 计算矩阵乘法\n",
    "start_time = time.time() # 开始时刻\n",
    "C_1 = A @ B\n",
    "stop_time = time.time() # 结束时刻\n",
    "time_used = stop_time - start_time\n",
    "print('--- %s seconds ---' % time_used)\n",
    "\n",
    "# 手动计算矩阵乘法\n",
    "C = np.zeros((num, num)) # num * num 大小全0方阵\n",
    "start_time = time.time()\n",
    "for i in range(num):\n",
    "    for j in range(num):\n",
    "        for k in range(num):\n",
    "            C[i][j] += A[i][k] * B[k][j]\n",
    "stop_time = time.time()\n",
    "time_used = stop_time - start_time\n",
    "print('--- %s seconds ---' % time_used)"
   ]
  }
 ],
 "metadata": {
  "kernelspec": {
   "display_name": "Python 3 (ipykernel)",
   "language": "python",
   "name": "python3"
  },
  "language_info": {
   "codemirror_mode": {
    "name": "ipython",
    "version": 3
   },
   "file_extension": ".py",
   "mimetype": "text/x-python",
   "name": "python",
   "nbconvert_exporter": "python",
   "pygments_lexer": "ipython3",
   "version": "3.11.7"
  }
 },
 "nbformat": 4,
 "nbformat_minor": 5
}
