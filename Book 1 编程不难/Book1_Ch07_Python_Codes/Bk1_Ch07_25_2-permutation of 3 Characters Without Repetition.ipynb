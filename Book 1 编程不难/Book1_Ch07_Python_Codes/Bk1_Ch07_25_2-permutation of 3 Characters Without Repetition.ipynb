{
 "cells": [
  {
   "cell_type": "markdown",
   "id": "ef7e4877-4632-4eeb-a279-cc8f8e06a955",
   "metadata": {},
   "source": [
    "Book 1  \n",
    "Chapter 7 Control Flow Statements in Python\n",
    "### 3个字符无放回取2个排列"
   ]
  },
  {
   "cell_type": "code",
   "execution_count": 2,
   "id": "af840cfa-3a5b-4be5-88be-7fb551c90546",
   "metadata": {},
   "outputs": [
    {
     "name": "stdout",
     "output_type": "stream",
     "text": [
      "ab\n",
      "ac\n",
      "ba\n",
      "bc\n",
      "ca\n",
      "cb\n"
     ]
    }
   ],
   "source": [
    "import itertools\n",
    "\n",
    "string = 'abc'\n",
    "\n",
    "# 3个不放回取2个的排列\n",
    "perms_2 = itertools.permutations(string, r=2) # r 用于指定返回的排列长度\n",
    "\n",
    "for perm_idx in perms_2:\n",
    "    print(''.join(perm_idx))"
   ]
  }
 ],
 "metadata": {
  "kernelspec": {
   "display_name": "Python 3 (ipykernel)",
   "language": "python",
   "name": "python3"
  },
  "language_info": {
   "codemirror_mode": {
    "name": "ipython",
    "version": 3
   },
   "file_extension": ".py",
   "mimetype": "text/x-python",
   "name": "python",
   "nbconvert_exporter": "python",
   "pygments_lexer": "ipython3",
   "version": "3.11.7"
  }
 },
 "nbformat": 4,
 "nbformat_minor": 5
}
