{
 "cells": [
  {
   "cell_type": "markdown",
   "id": "c0dc1583-2c85-4a9b-97de-0347b5e3eddf",
   "metadata": {},
   "source": [
    "Book 1  \n",
    "Chapter 7 Control Flow Statements in Python\n",
    "### 使用 `zip()` 计算向量内积"
   ]
  },
  {
   "cell_type": "code",
   "execution_count": 2,
   "id": "123a3e06-37ad-45fe-a939-0bb92651fc62",
   "metadata": {},
   "outputs": [
    {
     "name": "stdout",
     "output_type": "stream",
     "text": [
      "The Inner Product is: 80\n"
     ]
    }
   ],
   "source": [
    "# 计算向量内积\n",
    "# 定义向量 a 和 b\n",
    "a = [1, 2, 3, 4, 5]\n",
    "b = [6, 7, 8, 9, 0]\n",
    "\n",
    "# 初始化内积为0\n",
    "dot_product = 0\n",
    "\n",
    "# 使用for循环计算内积\n",
    "for a_i, b_i in zip(a, b):\n",
    "    dot_product += a_i * b_i\n",
    "\n",
    "# 打印内积\n",
    "print(f'The Inner Product is: {dot_product}')"
   ]
  }
 ],
 "metadata": {
  "kernelspec": {
   "display_name": "Python 3 (ipykernel)",
   "language": "python",
   "name": "python3"
  },
  "language_info": {
   "codemirror_mode": {
    "name": "ipython",
    "version": 3
   },
   "file_extension": ".py",
   "mimetype": "text/x-python",
   "name": "python",
   "nbconvert_exporter": "python",
   "pygments_lexer": "ipython3",
   "version": "3.11.7"
  }
 },
 "nbformat": 4,
 "nbformat_minor": 5
}
