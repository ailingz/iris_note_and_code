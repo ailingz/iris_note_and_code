{
 "cells": [
  {
   "cell_type": "markdown",
   "id": "7090921b-2210-4653-a746-b3e15304a740",
   "metadata": {},
   "source": [
    "Book 1  \n",
    "Chapter 7 Control Flow Statements in Python\n",
    "### 使用嵌套 `for` 循环计算矩阵乘法\n",
    "\n",
    "- 矩阵乘法 Matrix Multiplication\n",
    "    - 一种线性代数运算，用于将两个矩阵相乘\n",
    "    - 对于两个矩阵 $A$ 和 $B$，它们的乘积 $AB$ 的元素是通过将 $A$ 的每一行与 $B$ 的每一列进行内积运算得到的\n",
    "    - 假设 $A$ 是一个 m×n 的矩阵，$B$ 是一个 n×p 的矩阵，则它们的乘积 $C = AB$ 是一个 m×p 的矩阵，其中第 i 行第 j 列的元素 $c_{i,j}$ 为 $A$ 的第 i 行与 $B$ 的第 j 列的内积\n",
    "    - 在机器学习中，矩阵乘法通常用于计算神经网络的前向传播过程，其中输入矩阵与权重矩阵相乘，得到隐藏层的输出矩阵\n",
    " \n",
    "$A_i = a_{i,1} + a_{i,2}, \\cdots, a_{i,n}$  \n",
    "$B_j = b_{1,j} + b_{2,j}, \\cdots, b_{n,j}$  \n",
    "$c_{i,j} = a_{i,1}b_{1,j} + a_{i,2}b_{2,j} + \\cdots + a_{i,n}b_{n,j}$"
   ]
  },
  {
   "cell_type": "code",
   "execution_count": 2,
   "id": "3728639e-d5e2-4f1b-8ced-931cd5c0e984",
   "metadata": {},
   "outputs": [],
   "source": [
    "# 定义矩阵 A 和 B\n",
    "A = [[1, 2, 10, 20],\n",
    "     [3, 4, 30, 40],\n",
    "     [5, 6, 50, 60]]\n",
    "B = [[4, 2],\n",
    "     [3, 1],\n",
    "     [40, 20],\n",
    "     [30, 10]]"
   ]
  },
  {
   "cell_type": "code",
   "execution_count": 3,
   "id": "4f7ad7ba-349f-40af-b5c4-a33781c02104",
   "metadata": {},
   "outputs": [],
   "source": [
    "# 定义全0矩阵 C 用来存放结果\n",
    "C = [[0, 0],\n",
    "     [0, 0],\n",
    "     [0, 0]]"
   ]
  },
  {
   "cell_type": "code",
   "execution_count": 4,
   "id": "8ae3a11e-24d0-4a94-8fd0-8392b2b469ef",
   "metadata": {},
   "outputs": [],
   "source": [
    "# 矩阵乘法\n",
    "# 最外层遍历矩阵 A 的行，第二层遍历矩阵 B 的列\n",
    "\n",
    "# 遍历 A 的行\n",
    "for i in range(len(A)): # len(A) 给出 A 的行数\n",
    "\n",
    "    # 遍历 B 的列\n",
    "    for j in range(len(B[0])): # len(B[0]) 给出 B 的列数\n",
    "\n",
    "        # 这一层相当于消去 k 所在的维度，即压缩\n",
    "        for k in range(len(B)):\n",
    "            C[i][j] += A[i][k] * B[k][j] # 完成对应元素相乘，再求和"
   ]
  },
  {
   "cell_type": "code",
   "execution_count": 5,
   "id": "14cef585-f324-4ed8-a043-4a41e6fdfc84",
   "metadata": {},
   "outputs": [
    {
     "name": "stdout",
     "output_type": "stream",
     "text": [
      "[1010, 404]\n",
      "[2424, 1010]\n",
      "[3838, 1616]\n"
     ]
    }
   ],
   "source": [
    "for row in C:\n",
    "    print(row)"
   ]
  },
  {
   "cell_type": "code",
   "execution_count": 6,
   "id": "5786b5ae-1fd6-4b47-a82f-6c9018a97232",
   "metadata": {},
   "outputs": [],
   "source": [
    "C = [[0, 0],\n",
    "     [0, 0],\n",
    "     [0, 0]]"
   ]
  },
  {
   "cell_type": "code",
   "execution_count": 7,
   "id": "ef853139-be38-40ce-a515-27521bd050fe",
   "metadata": {},
   "outputs": [],
   "source": [
    "# 最外层遍历矩阵 B 的列，第二层遍历矩阵 A 的行\n",
    "for j in range(len(B[0])):\n",
    "    for i in range(len(A)):\n",
    "        for k in range(len(B)):\n",
    "            C[i][j] += A[i][k] * B[k][j]"
   ]
  },
  {
   "cell_type": "code",
   "execution_count": 8,
   "id": "4aad8f04-b1aa-4249-8c79-128042a71732",
   "metadata": {},
   "outputs": [
    {
     "name": "stdout",
     "output_type": "stream",
     "text": [
      "[1010, 404]\n",
      "[2424, 1010]\n",
      "[3838, 1616]\n"
     ]
    }
   ],
   "source": [
    "for row in C:\n",
    "    print(row)"
   ]
  }
 ],
 "metadata": {
  "kernelspec": {
   "display_name": "Python 3 (ipykernel)",
   "language": "python",
   "name": "python3"
  },
  "language_info": {
   "codemirror_mode": {
    "name": "ipython",
    "version": 3
   },
   "file_extension": ".py",
   "mimetype": "text/x-python",
   "name": "python",
   "nbconvert_exporter": "python",
   "pygments_lexer": "ipython3",
   "version": "3.11.7"
  }
 },
 "nbformat": 4,
 "nbformat_minor": 5
}
