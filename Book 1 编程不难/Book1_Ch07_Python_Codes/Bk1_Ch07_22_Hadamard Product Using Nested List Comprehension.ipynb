{
 "cells": [
  {
   "cell_type": "markdown",
   "id": "e7e0682c-55d4-4034-8e22-7aa9a92d5f73",
   "metadata": {},
   "source": [
    "Book 1  \n",
    "Chapter 7 Control Flow Statements in Python\n",
    "### 利用两层列表生成式计算矩阵逐项积\n",
    "\n",
    "- **Hadamard product 阿达玛乘积**\n",
    "    - **Element-wise product** / **Entrywise product 逐项积** / **Schur product 舒尔乘积**\n",
    "    - 一个二元运算，其输入为两个相同形状的矩阵，输出是具有同样形状的、各个位置的元素等于两个输入矩阵相同位置元素的乘积的矩阵\n",
    "\n",
    "$(A \\circ B)_{i,j} = (A)_{i,j}(B)_{i,j}$"
   ]
  },
  {
   "cell_type": "code",
   "execution_count": 2,
   "id": "47d2ef52-21df-49f8-a586-1981bdcb6cd1",
   "metadata": {},
   "outputs": [],
   "source": [
    "def hadamard_prod(M1, M2):\n",
    "    if len(M1) != len(M2) or len(M1[0]) != len(M2[0]):\n",
    "        raise ValueError('Matrices must have the same shape')\n",
    "\n",
    "    result = [[M1[i][j] * M2[i][j] for j in range(len(M1[0]))]\n",
    "                                   for i in range(len(M1))]\n",
    "\n",
    "    return result"
   ]
  },
  {
   "cell_type": "code",
   "execution_count": 3,
   "id": "a7badd9b-c42d-4881-80a7-aac01632f3c9",
   "metadata": {},
   "outputs": [],
   "source": [
    "A = [[1, 2],\n",
    "     [3, 4]]\n",
    "B = [[2, 3],\n",
    "     [4, 5]]"
   ]
  },
  {
   "cell_type": "code",
   "execution_count": 4,
   "id": "d1fe9516-6283-4b79-bd30-213ae37b24d4",
   "metadata": {},
   "outputs": [
    {
     "data": {
      "text/plain": [
       "[[2, 6], [12, 20]]"
      ]
     },
     "execution_count": 4,
     "metadata": {},
     "output_type": "execute_result"
    }
   ],
   "source": [
    "# 计算矩阵逐项积\n",
    "hadamard_prod(A, B)"
   ]
  }
 ],
 "metadata": {
  "kernelspec": {
   "display_name": "Python 3 (ipykernel)",
   "language": "python",
   "name": "python3"
  },
  "language_info": {
   "codemirror_mode": {
    "name": "ipython",
    "version": 3
   },
   "file_extension": ".py",
   "mimetype": "text/x-python",
   "name": "python",
   "nbconvert_exporter": "python",
   "pygments_lexer": "ipython3",
   "version": "3.11.7"
  }
 },
 "nbformat": 4,
 "nbformat_minor": 5
}
