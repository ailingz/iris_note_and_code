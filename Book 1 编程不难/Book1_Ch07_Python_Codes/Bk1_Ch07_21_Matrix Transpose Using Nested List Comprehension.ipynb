{
 "cells": [
  {
   "cell_type": "markdown",
   "id": "a2796c99-7086-48a5-b43f-5d668e8cf1ae",
   "metadata": {},
   "source": [
    "Book 1  \n",
    "Chapter 7 Control Flow Statements in Python\n",
    "### 利用两层列表生成式完成矩阵转置"
   ]
  },
  {
   "cell_type": "code",
   "execution_count": 2,
   "id": "f1d37fa2-0628-40fa-88d6-59639fb834d3",
   "metadata": {},
   "outputs": [],
   "source": [
    "def transpose_2(matrix):\n",
    "    rows = len(matrix)\n",
    "    cols = len(matrix[0])\n",
    "\n",
    "    transposed = [[matrix[i][j] for i in range(rows)] for j in range(cols)]\n",
    "\n",
    "    return transposed"
   ]
  },
  {
   "cell_type": "code",
   "execution_count": 3,
   "id": "eaf393b0-b589-429e-bfb0-642f6c6a262f",
   "metadata": {},
   "outputs": [],
   "source": [
    "# 示例用法\n",
    "A = [[1, 2, 3],\n",
    "     [4, 5, 6]]"
   ]
  },
  {
   "cell_type": "code",
   "execution_count": 4,
   "id": "ee3dcdc0-3bd3-48de-8340-2a443e4e9864",
   "metadata": {},
   "outputs": [
    {
     "data": {
      "text/plain": [
       "[[1, 4], [2, 5], [3, 6]]"
      ]
     },
     "execution_count": 4,
     "metadata": {},
     "output_type": "execute_result"
    }
   ],
   "source": [
    "transpose_2(A)"
   ]
  },
  {
   "cell_type": "code",
   "execution_count": 5,
   "id": "85a731ce-2538-4887-a5bc-13060e8570bf",
   "metadata": {},
   "outputs": [
    {
     "data": {
      "text/plain": [
       "array([[1, 4],\n",
       "       [2, 5],\n",
       "       [3, 6]])"
      ]
     },
     "execution_count": 5,
     "metadata": {},
     "output_type": "execute_result"
    }
   ],
   "source": [
    "import numpy as np\n",
    "\n",
    "np.array(A).T"
   ]
  }
 ],
 "metadata": {
  "kernelspec": {
   "display_name": "Python 3 (ipykernel)",
   "language": "python",
   "name": "python3"
  },
  "language_info": {
   "codemirror_mode": {
    "name": "ipython",
    "version": 3
   },
   "file_extension": ".py",
   "mimetype": "text/x-python",
   "name": "python",
   "nbconvert_exporter": "python",
   "pygments_lexer": "ipython3",
   "version": "3.11.7"
  }
 },
 "nbformat": 4,
 "nbformat_minor": 5
}
