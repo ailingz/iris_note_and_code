{
 "cells": [
  {
   "cell_type": "markdown",
   "id": "3e722d4e-5093-4b02-ad7c-b687b0b33a32",
   "metadata": {},
   "source": [
    "Book 1  \n",
    "Chapter 7 Control Flow Statements in Python\n",
    "### 3个字符无放回取2个组合"
   ]
  },
  {
   "cell_type": "code",
   "execution_count": 2,
   "id": "86e5d16e-1af0-4b0d-9f47-d00cc8f08c85",
   "metadata": {},
   "outputs": [
    {
     "name": "stdout",
     "output_type": "stream",
     "text": [
      "<class 'itertools.combinations'>\n",
      "ab\n",
      "ac\n",
      "bc\n"
     ]
    }
   ],
   "source": [
    "import itertools\n",
    "\n",
    "string = 'abc'\n",
    "\n",
    "# 3个取2个的组合\n",
    "combs_2 = itertools.combinations(string, r=2)\n",
    "\n",
    "print(type(combs_2))\n",
    "\n",
    "for combo_idx in combs_2:\n",
    "    print(''.join(combo_idx))"
   ]
  }
 ],
 "metadata": {
  "kernelspec": {
   "display_name": "Python 3 (ipykernel)",
   "language": "python",
   "name": "python3"
  },
  "language_info": {
   "codemirror_mode": {
    "name": "ipython",
    "version": 3
   },
   "file_extension": ".py",
   "mimetype": "text/x-python",
   "name": "python",
   "nbconvert_exporter": "python",
   "pygments_lexer": "ipython3",
   "version": "3.11.7"
  }
 },
 "nbformat": 4,
 "nbformat_minor": 5
}
