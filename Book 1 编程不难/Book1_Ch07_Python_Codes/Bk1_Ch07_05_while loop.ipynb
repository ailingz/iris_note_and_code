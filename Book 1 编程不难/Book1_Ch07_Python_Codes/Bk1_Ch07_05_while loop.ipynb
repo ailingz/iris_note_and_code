{
 "cells": [
  {
   "cell_type": "markdown",
   "id": "c69fa500-1314-4a77-9536-50f6deddb0fd",
   "metadata": {},
   "source": [
    "Book 1  \n",
    "Chapter 7 Control Flow Statements in Python\n",
    "### `while` 循环例子"
   ]
  },
  {
   "cell_type": "code",
   "execution_count": 2,
   "id": "49174073-030b-4fbb-a54a-c8ccbce8b2d5",
   "metadata": {},
   "outputs": [
    {
     "name": "stdout",
     "output_type": "stream",
     "text": [
      "0\n",
      "1\n",
      "2\n",
      "3\n",
      "4\n"
     ]
    }
   ],
   "source": [
    "i = 0\n",
    "\n",
    "while i < 5:\n",
    "    print(i)\n",
    "    i += 1"
   ]
  }
 ],
 "metadata": {
  "kernelspec": {
   "display_name": "Python 3 (ipykernel)",
   "language": "python",
   "name": "python3"
  },
  "language_info": {
   "codemirror_mode": {
    "name": "ipython",
    "version": 3
   },
   "file_extension": ".py",
   "mimetype": "text/x-python",
   "name": "python",
   "nbconvert_exporter": "python",
   "pygments_lexer": "ipython3",
   "version": "3.11.7"
  }
 },
 "nbformat": 4,
 "nbformat_minor": 5
}
