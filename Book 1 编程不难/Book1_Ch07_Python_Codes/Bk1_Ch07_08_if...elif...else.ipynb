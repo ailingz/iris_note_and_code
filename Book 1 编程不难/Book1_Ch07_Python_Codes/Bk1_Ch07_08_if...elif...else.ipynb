{
 "cells": [
  {
   "cell_type": "markdown",
   "id": "92a5a517-0776-4489-b0b6-b86a023dc04d",
   "metadata": {},
   "source": [
    "Book 1  \n",
    "Chapter 7 Control Flow Statements in Python\n",
    "### `if...elif...else` 语句"
   ]
  },
  {
   "cell_type": "code",
   "execution_count": 2,
   "id": "5446efeb-6f0d-43ec-a3ae-5f5fd6665ac7",
   "metadata": {},
   "outputs": [
    {
     "name": "stdin",
     "output_type": "stream",
     "text": [
      "Enter an integer:  -1\n"
     ]
    },
    {
     "name": "stdout",
     "output_type": "stream",
     "text": [
      "num is negative\n"
     ]
    }
   ],
   "source": [
    "num = input('Enter an integer: ')\n",
    "num = int(num)\n",
    "\n",
    "if num > 0:\n",
    "    print('num is positive')\n",
    "elif num < 0:\n",
    "    print('num is negative')\n",
    "else:\n",
    "    print('num is zero')"
   ]
  }
 ],
 "metadata": {
  "kernelspec": {
   "display_name": "Python 3 (ipykernel)",
   "language": "python",
   "name": "python3"
  },
  "language_info": {
   "codemirror_mode": {
    "name": "ipython",
    "version": 3
   },
   "file_extension": ".py",
   "mimetype": "text/x-python",
   "name": "python",
   "nbconvert_exporter": "python",
   "pygments_lexer": "ipython3",
   "version": "3.11.7"
  }
 },
 "nbformat": 4,
 "nbformat_minor": 5
}
