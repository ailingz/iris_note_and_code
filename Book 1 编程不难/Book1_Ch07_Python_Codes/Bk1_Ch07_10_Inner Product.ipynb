{
 "cells": [
  {
   "cell_type": "markdown",
   "id": "d3e73a4f-3298-47be-a1d2-88c0bcc1570d",
   "metadata": {},
   "source": [
    "Book 1  \n",
    "Chapter 7 Control Flow Statements in Python\n",
    "### 计算向量内积\n",
    "- **向量内积 Inner Product**\n",
    "    - **点积 Dot product** / **标量积 Scalar product**\n",
    "    - 两个向量之间的一种数学运算\n",
    "    - 可以用来计算向量之间的夹角，衡量它们的相似性，以及用于向量空间的正交分解等\n",
    "    - 在机器学习中，向量内积常用于计算特征之间的相似度，从而进行分类、聚类等任务\n",
    "    - 在计算机视觉中，向量内积可以用于计算两个图像之间的相似度\n",
    " \n",
    "$a = [a_1, a_2, \\cdots, a_n]$  \n",
    "$b = [b_1, b_2, \\cdots, b_n]$  \n",
    "$a \\cdot b = a_1b_1 + a_2b_2 + \\cdots + a_nb_n$"
   ]
  },
  {
   "cell_type": "code",
   "execution_count": 2,
   "id": "322e35db-659c-4a86-88cd-bea3c97d87bb",
   "metadata": {},
   "outputs": [
    {
     "name": "stdout",
     "output_type": "stream",
     "text": [
      "Inter Product is: 80\n"
     ]
    }
   ],
   "source": [
    "# 计算向量内积\n",
    "# 定义向量 a 和 b\n",
    "a = [1, 2, 3, 4, 5]\n",
    "b = [6, 7, 8, 9, 0]\n",
    "\n",
    "# 初始化内积为0\n",
    "dot_product = 0\n",
    "\n",
    "# 使用 for 循环计算内积\n",
    "for i in range(len(a)):\n",
    "    dot_product += a[i] * b[i]\n",
    "\n",
    "# 打印内积\n",
    "print(f'Inter Product is: {dot_product}')"
   ]
  },
  {
   "cell_type": "code",
   "execution_count": 3,
   "id": "13ffd123-ab5c-49b6-807d-9b280e265a4c",
   "metadata": {},
   "outputs": [
    {
     "name": "stdout",
     "output_type": "stream",
     "text": [
      "range(0, 5)\n",
      "<class 'range'>\n",
      "[0, 1, 2, 3, 4]\n"
     ]
    }
   ],
   "source": [
    "print(range(len(a)))\n",
    "print(type(range(len(a))))\n",
    "print(list(range(len(a))))"
   ]
  }
 ],
 "metadata": {
  "kernelspec": {
   "display_name": "Python 3 (ipykernel)",
   "language": "python",
   "name": "python3"
  },
  "language_info": {
   "codemirror_mode": {
    "name": "ipython",
    "version": 3
   },
   "file_extension": ".py",
   "mimetype": "text/x-python",
   "name": "python",
   "nbconvert_exporter": "python",
   "pygments_lexer": "ipython3",
   "version": "3.11.7"
  }
 },
 "nbformat": 4,
 "nbformat_minor": 5
}
