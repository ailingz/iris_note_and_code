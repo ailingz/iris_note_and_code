{
 "cells": [
  {
   "cell_type": "markdown",
   "id": "4fe566c3-a74c-4236-91f6-054772085e12",
   "metadata": {},
   "source": [
    "Book 1  \n",
    "Chapter 7 Control Flow Statements in Python\n",
    "### 3个字符有放回取2个的组合"
   ]
  },
  {
   "cell_type": "code",
   "execution_count": 2,
   "id": "b6a27cd0-30ef-4963-adff-d90ef8fe2f6c",
   "metadata": {},
   "outputs": [],
   "source": [
    "import itertools\n",
    "\n",
    "string = 'abc'\n",
    "\n",
    "elements = list(string) # 定义元素列表\n",
    "length = 2 # 指定组合长度"
   ]
  },
  {
   "cell_type": "code",
   "execution_count": 3,
   "id": "b4467ed4-1c05-41f2-9109-22be77c0467b",
   "metadata": {},
   "outputs": [
    {
     "name": "stdout",
     "output_type": "stream",
     "text": [
      "aa\n",
      "ab\n",
      "ac\n",
      "bb\n",
      "bc\n",
      "cc\n"
     ]
    }
   ],
   "source": [
    "# 生成有放回组合\n",
    "combos = itertools.combinations_with_replacement(elements, r=length)\n",
    "\n",
    "for combination_idx in combos:\n",
    "    print(''.join(combination_idx))"
   ]
  }
 ],
 "metadata": {
  "kernelspec": {
   "display_name": "Python 3 (ipykernel)",
   "language": "python",
   "name": "python3"
  },
  "language_info": {
   "codemirror_mode": {
    "name": "ipython",
    "version": 3
   },
   "file_extension": ".py",
   "mimetype": "text/x-python",
   "name": "python",
   "nbconvert_exporter": "python",
   "pygments_lexer": "ipython3",
   "version": "3.11.7"
  }
 },
 "nbformat": 4,
 "nbformat_minor": 5
}
