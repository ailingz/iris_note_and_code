{
 "cells": [
  {
   "cell_type": "markdown",
   "id": "9105ed94-f394-4f58-8039-bf734b63ea5d",
   "metadata": {},
   "source": [
    "Book 1  \n",
    "Chapter 7 Control Flow Statements in Python\n",
    "### 使用 `zip()` 同步遍历多个对象"
   ]
  },
  {
   "cell_type": "code",
   "execution_count": 2,
   "id": "40e41179-5b2d-46ff-94a9-83fa94c29c8e",
   "metadata": {},
   "outputs": [
    {
     "name": "stdout",
     "output_type": "stream",
     "text": [
      "Alice 80\n",
      "Bob 90\n",
      "Charlie 75\n"
     ]
    }
   ],
   "source": [
    "names = ['Alice', 'Bob', 'Charlie']\n",
    "scores = [80, 90, 75]\n",
    "\n",
    "for name, score in zip(names, scores):\n",
    "    print(name, score)"
   ]
  },
  {
   "cell_type": "code",
   "execution_count": 3,
   "id": "9872448e-f179-41f7-9520-d19a8d7024eb",
   "metadata": {},
   "outputs": [
    {
     "name": "stdout",
     "output_type": "stream",
     "text": [
      "Alice 80\n",
      "Bob 90\n",
      "Charlie 75\n"
     ]
    }
   ],
   "source": [
    "# zip() 函数以长度最短的可迭代对象为准进行迭代\n",
    "names = ['Alice', 'Bob', 'Charlie', 'David']\n",
    "scores = [80, 90, 75]\n",
    "\n",
    "for name, score in zip(names, scores):\n",
    "    print(name, score)"
   ]
  },
  {
   "cell_type": "code",
   "execution_count": 4,
   "id": "51a48cb2-b720-480e-805d-2423ea8c8679",
   "metadata": {},
   "outputs": [
    {
     "name": "stdout",
     "output_type": "stream",
     "text": [
      "Alice 80\n",
      "Bob 90\n",
      "Charlie 75\n",
      "David None\n"
     ]
    }
   ],
   "source": [
    "# itertools.zip_longest() 以长度最长的可迭代对象为准进行迭代\n",
    "import itertools\n",
    "\n",
    "names = ['Alice', 'Bob', 'Charlie', 'David']\n",
    "scores = [80, 90, 75]\n",
    "\n",
    "for name, score in itertools.zip_longest(names, scores):\n",
    "    print(name, score)"
   ]
  },
  {
   "cell_type": "code",
   "execution_count": 5,
   "id": "c492be39-7934-48c5-ac49-9dd06b64fa6a",
   "metadata": {},
   "outputs": [
    {
     "name": "stdout",
     "output_type": "stream",
     "text": [
      "<class 'zip'>\n",
      "[('Alice', 80), ('Bob', 90), ('Charlie', 75)]\n"
     ]
    }
   ],
   "source": [
    "print(type(zip(names, scores)))\n",
    "print(list(zip(names, scores)))"
   ]
  }
 ],
 "metadata": {
  "kernelspec": {
   "display_name": "Python 3 (ipykernel)",
   "language": "python",
   "name": "python3"
  },
  "language_info": {
   "codemirror_mode": {
    "name": "ipython",
    "version": 3
   },
   "file_extension": ".py",
   "mimetype": "text/x-python",
   "name": "python",
   "nbconvert_exporter": "python",
   "pygments_lexer": "ipython3",
   "version": "3.11.7"
  }
 },
 "nbformat": 4,
 "nbformat_minor": 5
}
