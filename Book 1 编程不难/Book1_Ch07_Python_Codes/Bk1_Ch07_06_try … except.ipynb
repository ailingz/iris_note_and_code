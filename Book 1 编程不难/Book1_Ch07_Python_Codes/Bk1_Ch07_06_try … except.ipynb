{
 "cells": [
  {
   "cell_type": "markdown",
   "id": "13075df1-ff1c-4345-a968-b7802a33e8cf",
   "metadata": {},
   "source": [
    "Book 1  \n",
    "Chapter 7 Control Flow Statements in Python\n",
    "### 用 `try … except` 捕捉异常"
   ]
  },
  {
   "cell_type": "code",
   "execution_count": 2,
   "id": "7902bd74-8f37-46ce-b30e-a65b70c19c06",
   "metadata": {},
   "outputs": [
    {
     "name": "stdout",
     "output_type": "stream",
     "text": [
      "除数不能为零\n"
     ]
    }
   ],
   "source": [
    "try: # 包含可能引发异常的代码\n",
    "    x = 1/0\n",
    "except ZeroDivisionError: # 用于处理异常情况\n",
    "    print('除数不能为零')"
   ]
  }
 ],
 "metadata": {
  "kernelspec": {
   "display_name": "Python 3 (ipykernel)",
   "language": "python",
   "name": "python3"
  },
  "language_info": {
   "codemirror_mode": {
    "name": "ipython",
    "version": 3
   },
   "file_extension": ".py",
   "mimetype": "text/x-python",
   "name": "python",
   "nbconvert_exporter": "python",
   "pygments_lexer": "ipython3",
   "version": "3.11.7"
  }
 },
 "nbformat": 4,
 "nbformat_minor": 5
}
