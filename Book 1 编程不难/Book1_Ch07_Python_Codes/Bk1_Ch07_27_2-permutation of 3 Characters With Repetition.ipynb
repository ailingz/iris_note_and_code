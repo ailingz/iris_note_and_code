{
 "cells": [
  {
   "cell_type": "markdown",
   "id": "7d198392-b4c2-47ef-aea0-9b8c1fdf1719",
   "metadata": {},
   "source": [
    "Book 1  \n",
    "Chapter 7 Control Flow Statements in Python\n",
    "### 3个字符有放回取2个排列"
   ]
  },
  {
   "cell_type": "code",
   "execution_count": 2,
   "id": "5d60aed9-8708-4681-a55f-4c8142cd4fcd",
   "metadata": {},
   "outputs": [],
   "source": [
    "import itertools\n",
    "\n",
    "string = 'abc'\n",
    "\n",
    "elements = list(string) # 定义元素列表\n",
    "repeat = 2 # 指定重复次数"
   ]
  },
  {
   "cell_type": "code",
   "execution_count": 3,
   "id": "059dc735-0be2-4b9f-b4ba-8b5595b50a9e",
   "metadata": {},
   "outputs": [
    {
     "name": "stdout",
     "output_type": "stream",
     "text": [
      "aa\n",
      "ab\n",
      "ac\n",
      "ba\n",
      "bb\n",
      "bc\n",
      "ca\n",
      "cb\n",
      "cc\n"
     ]
    }
   ],
   "source": [
    "# 生成有放回排列\n",
    "permutations = itertools.product(elements, repeat=repeat)\n",
    "\n",
    "for permutation_idx in permutations:\n",
    "    print(''.join(permutation_idx))"
   ]
  },
  {
   "cell_type": "code",
   "execution_count": 4,
   "id": "68442694-3823-46cf-8df7-d033d55956e5",
   "metadata": {},
   "outputs": [
    {
     "data": {
      "text/plain": [
       "[('a', 'a'),\n",
       " ('a', 'b'),\n",
       " ('a', 'c'),\n",
       " ('b', 'a'),\n",
       " ('b', 'b'),\n",
       " ('b', 'c'),\n",
       " ('c', 'a'),\n",
       " ('c', 'b'),\n",
       " ('c', 'c')]"
      ]
     },
     "execution_count": 4,
     "metadata": {},
     "output_type": "execute_result"
    }
   ],
   "source": [
    "list(itertools.product(elements, repeat=repeat))"
   ]
  },
  {
   "cell_type": "code",
   "execution_count": 5,
   "id": "60d6fdcf-3423-4ba5-ac09-436794775d0b",
   "metadata": {},
   "outputs": [
    {
     "data": {
      "text/plain": [
       "[('a', 'a'),\n",
       " ('a', 'b'),\n",
       " ('a', 'c'),\n",
       " ('b', 'a'),\n",
       " ('b', 'b'),\n",
       " ('b', 'c'),\n",
       " ('c', 'a'),\n",
       " ('c', 'b'),\n",
       " ('c', 'c')]"
      ]
     },
     "execution_count": 5,
     "metadata": {},
     "output_type": "execute_result"
    }
   ],
   "source": [
    "list(itertools.product(string, repeat=repeat))"
   ]
  }
 ],
 "metadata": {
  "kernelspec": {
   "display_name": "Python 3 (ipykernel)",
   "language": "python",
   "name": "python3"
  },
  "language_info": {
   "codemirror_mode": {
    "name": "ipython",
    "version": 3
   },
   "file_extension": ".py",
   "mimetype": "text/x-python",
   "name": "python",
   "nbconvert_exporter": "python",
   "pygments_lexer": "ipython3",
   "version": "3.11.7"
  }
 },
 "nbformat": 4,
 "nbformat_minor": 5
}
