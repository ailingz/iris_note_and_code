{
 "cells": [
  {
   "cell_type": "markdown",
   "id": "ce53b718-c699-4144-8453-bb7932b52cf4",
   "metadata": {},
   "source": [
    "Book 1  \n",
    "Chapter 7 Control Flow Statements in Python\n",
    "### `break` 打断 `for` 循环"
   ]
  },
  {
   "cell_type": "code",
   "execution_count": 2,
   "id": "35b3f090-6222-4f1f-90ac-b0de72969bad",
   "metadata": {},
   "outputs": [
    {
     "name": "stdout",
     "output_type": "stream",
     "text": [
      "0\n",
      "1\n",
      "2\n",
      "3\n",
      "4\n",
      "5\n",
      "6\n",
      "7\n"
     ]
    }
   ],
   "source": [
    "for x in range(10):\n",
    "    if x >= 8:\n",
    "        break\n",
    "    else:\n",
    "        print(x)\n",
    "else: # 当循环被 break 语句打断后，else 语句中的附加操作不会被执行\n",
    "    print('For loop finished')"
   ]
  }
 ],
 "metadata": {
  "kernelspec": {
   "display_name": "Python 3 (ipykernel)",
   "language": "python",
   "name": "python3"
  },
  "language_info": {
   "codemirror_mode": {
    "name": "ipython",
    "version": 3
   },
   "file_extension": ".py",
   "mimetype": "text/x-python",
   "name": "python",
   "nbconvert_exporter": "python",
   "pygments_lexer": "ipython3",
   "version": "3.11.7"
  }
 },
 "nbformat": 4,
 "nbformat_minor": 5
}
