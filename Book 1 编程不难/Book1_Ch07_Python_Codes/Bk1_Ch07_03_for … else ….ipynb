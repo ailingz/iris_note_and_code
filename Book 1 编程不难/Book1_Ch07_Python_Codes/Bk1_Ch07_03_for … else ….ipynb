{
 "cells": [
  {
   "cell_type": "markdown",
   "id": "532808b4-6c27-4cdd-9e4c-be9c7f22fcea",
   "metadata": {},
   "source": [
    "Book 1  \n",
    "Chapter 7 Control Flow Statements in Python\n",
    "### `for … else …` 语句例子\n",
    "\n",
    "用于在循环结束时执行一些特定的代码"
   ]
  },
  {
   "cell_type": "code",
   "execution_count": 2,
   "id": "5557da69-09ca-4a83-8ba7-ee41668e53a4",
   "metadata": {},
   "outputs": [
    {
     "name": "stdout",
     "output_type": "stream",
     "text": [
      "0\n",
      "1\n",
      "2\n",
      "3\n",
      "4\n",
      "5\n",
      "6\n",
      "7\n",
      "8\n",
      "9\n",
      "For loop finished\n"
     ]
    }
   ],
   "source": [
    "for x in range(10):\n",
    "    print(x)\n",
    "else: # 循环结束时执行\n",
    "    print('For loop finished')"
   ]
  }
 ],
 "metadata": {
  "kernelspec": {
   "display_name": "Python 3 (ipykernel)",
   "language": "python",
   "name": "python3"
  },
  "language_info": {
   "codemirror_mode": {
    "name": "ipython",
    "version": 3
   },
   "file_extension": ".py",
   "mimetype": "text/x-python",
   "name": "python",
   "nbconvert_exporter": "python",
   "pygments_lexer": "ipython3",
   "version": "3.11.7"
  }
 },
 "nbformat": 4,
 "nbformat_minor": 5
}
