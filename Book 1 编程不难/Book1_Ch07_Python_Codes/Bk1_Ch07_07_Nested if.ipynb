{
 "cells": [
  {
   "cell_type": "markdown",
   "id": "e84fd5dd-4ed6-4619-a9fb-48812aa0e49c",
   "metadata": {},
   "source": [
    "Book 1  \n",
    "Chapter 7 Control Flow Statements in Python\n",
    "### 用 `if` 判断是否成绩及格，三层判断"
   ]
  },
  {
   "cell_type": "code",
   "execution_count": 2,
   "id": "a9d13346-afe3-4e84-a1e7-4b31ae9a92ed",
   "metadata": {},
   "outputs": [
    {
     "name": "stdin",
     "output_type": "stream",
     "text": [
      "Please enter a number:  61\n"
     ]
    },
    {
     "name": "stdout",
     "output_type": "stream",
     "text": [
      "61: Pass\n"
     ]
    }
   ],
   "source": [
    "value = input('Please enter a number: ')\n",
    "\n",
    "# 第一层\n",
    "if value.isdigit():\n",
    "    number = int(value)\n",
    "\n",
    "    # 第二层\n",
    "    if 0 <= number <= 100:\n",
    "\n",
    "        # 第三层\n",
    "        if number < 60:\n",
    "            print(f'{number}: Fail')\n",
    "        else:\n",
    "            print(f'{number}: Pass')\n",
    "        # 第三层结束\n",
    "\n",
    "    else:\n",
    "        print('The number is not between 0~100')\n",
    "    # 第二层结束\n",
    "else:\n",
    "    print('The input is not an integer')\n",
    "# 第一层结束"
   ]
  }
 ],
 "metadata": {
  "kernelspec": {
   "display_name": "Python 3 (ipykernel)",
   "language": "python",
   "name": "python3"
  },
  "language_info": {
   "codemirror_mode": {
    "name": "ipython",
    "version": 3
   },
   "file_extension": ".py",
   "mimetype": "text/x-python",
   "name": "python",
   "nbconvert_exporter": "python",
   "pygments_lexer": "ipython3",
   "version": "3.11.7"
  }
 },
 "nbformat": 4,
 "nbformat_minor": 5
}
