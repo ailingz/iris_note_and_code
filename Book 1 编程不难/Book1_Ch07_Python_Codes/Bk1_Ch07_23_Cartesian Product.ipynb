{
 "cells": [
  {
   "cell_type": "markdown",
   "id": "742b9bab-29d6-4900-933b-a612a3efe1eb",
   "metadata": {},
   "source": [
    "Book 1  \n",
    "Chapter 7 Control Flow Statements in Python\n",
    "### 笛卡尔积\n",
    "\n",
    "- Cartesian product 笛卡尔积\n",
    "    - 直积\n",
    "    - 如果集合 $A$ 中有 a 个元素，集合 $B$ 中有 b 个元素，那么 $A$ 和 $B$ 的笛卡尔积就有 a × b 个元素\n",
    "\n",
    "$A = \\{1, 2\\}$  \n",
    "$B = \\{\\text{'a'}, \\text{'b'}\\}$  \n",
    "$C = \\{(1, \\text{'a'}), (1, \\text{'b'}), (2, \\text{'a'}), (2, \\text{'b'})\\}$"
   ]
  },
  {
   "cell_type": "code",
   "execution_count": 2,
   "id": "5b705cbe-3fb5-41c7-921c-5c24875db586",
   "metadata": {},
   "outputs": [],
   "source": [
    "column1 = [1, 2, 3, 4]\n",
    "column2 = ['a', 'b', 'c']"
   ]
  },
  {
   "cell_type": "code",
   "execution_count": 3,
   "id": "6a2b9331-ad6e-49a1-bc47-17c29a15d7af",
   "metadata": {},
   "outputs": [
    {
     "name": "stdout",
     "output_type": "stream",
     "text": [
      "[(1, 'a'), (1, 'b'), (1, 'c'), (2, 'a'), (2, 'b'), (2, 'c'), (3, 'a'), (3, 'b'), (3, 'c'), (4, 'a'), (4, 'b'), (4, 'c')]\n"
     ]
    }
   ],
   "source": [
    "cartesian_product = [(x, y) for x in column1\n",
    "                            for y in column2]\n",
    "print(cartesian_product)"
   ]
  },
  {
   "cell_type": "code",
   "execution_count": 4,
   "id": "bcae1d3a-49d3-41b3-bc5f-83eeff78fd33",
   "metadata": {},
   "outputs": [
    {
     "name": "stdout",
     "output_type": "stream",
     "text": [
      "[(1, 'a'), (2, 'a'), (3, 'a'), (4, 'a')]\n",
      "[(1, 'b'), (2, 'b'), (3, 'b'), (4, 'b')]\n",
      "[(1, 'c'), (2, 'c'), (3, 'c'), (4, 'c')]\n"
     ]
    }
   ],
   "source": [
    "# Nested list comprehension\n",
    "cartesian_product = [[(x, y) for x in column1]\n",
    "                             for y in column2]\n",
    "for prod_idx in cartesian_product:\n",
    "    print(prod_idx)"
   ]
  },
  {
   "cell_type": "code",
   "execution_count": 5,
   "id": "adbadb2f-6a25-4deb-9710-3367382bc125",
   "metadata": {},
   "outputs": [
    {
     "name": "stdout",
     "output_type": "stream",
     "text": [
      "[(1, 'a'), (1, 'b'), (1, 'c'), (2, 'a'), (2, 'b'), (2, 'c'), (3, 'a'), (3, 'b'), (3, 'c'), (4, 'a'), (4, 'b'), (4, 'c')]\n",
      "<class 'itertools.product'>\n"
     ]
    }
   ],
   "source": [
    "from itertools import product\n",
    "\n",
    "cartesian_product = product(column1, column2)\n",
    "print(list(cartesian_product))\n",
    "print(type(cartesian_product))"
   ]
  }
 ],
 "metadata": {
  "kernelspec": {
   "display_name": "Python 3 (ipykernel)",
   "language": "python",
   "name": "python3"
  },
  "language_info": {
   "codemirror_mode": {
    "name": "ipython",
    "version": 3
   },
   "file_extension": ".py",
   "mimetype": "text/x-python",
   "name": "python",
   "nbconvert_exporter": "python",
   "pygments_lexer": "ipython3",
   "version": "3.11.7"
  }
 },
 "nbformat": 4,
 "nbformat_minor": 5
}
