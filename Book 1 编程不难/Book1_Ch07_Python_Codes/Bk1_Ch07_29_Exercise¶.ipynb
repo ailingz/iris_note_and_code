{
 "cells": [
  {
   "cell_type": "markdown",
   "id": "584de017-8b84-4a4a-85e5-831d955cff93",
   "metadata": {},
   "source": [
    "Book 1  \n",
    "Chapter 7 Control Flow Statements in Python\n",
    "### 习题答案"
   ]
  },
  {
   "cell_type": "markdown",
   "id": "7f7668e4-5f0f-4e3c-b4e5-ba7a868d5961",
   "metadata": {},
   "source": [
    "#### Q1. 给定一个整数列表[3, 5, 2, 7, 1]，找到其中的最大值和最小值，并打印两者之和。"
   ]
  },
  {
   "cell_type": "code",
   "execution_count": 3,
   "id": "17996266-cb2b-4c39-8839-d1e13c2acdd6",
   "metadata": {},
   "outputs": [
    {
     "name": "stdout",
     "output_type": "stream",
     "text": [
      "8\n"
     ]
    }
   ],
   "source": [
    "num_list = [3, 5, 2, 7, 1]\n",
    "\n",
    "max_num = num_list[0]\n",
    "min_num = num_list[0]\n",
    "\n",
    "for num in num_list:\n",
    "    if num > max_num:\n",
    "        max_num = num\n",
    "    elif num < min_num:\n",
    "        min_num = num\n",
    "\n",
    "print(max_num + min_num)"
   ]
  },
  {
   "cell_type": "markdown",
   "id": "1a130997-670a-4ed2-8c32-556f563be551",
   "metadata": {},
   "source": [
    "#### Q2. 使用 while 循环输出 1 到 10 的所有奇数。"
   ]
  },
  {
   "cell_type": "code",
   "execution_count": 5,
   "id": "47b06470-3b59-438f-a9c0-a32f291a832e",
   "metadata": {},
   "outputs": [
    {
     "name": "stdout",
     "output_type": "stream",
     "text": [
      "1\n",
      "3\n",
      "5\n",
      "7\n",
      "9\n"
     ]
    }
   ],
   "source": [
    "num = 1\n",
    "\n",
    "while num <= 10:\n",
    "    if num % 2 != 0:\n",
    "        print(num)\n",
    "\n",
    "    num += 1"
   ]
  },
  {
   "cell_type": "markdown",
   "id": "a28a34f9-2e80-4feb-a972-0611f53f7998",
   "metadata": {},
   "source": [
    "#### Q3. 输入一个数字并将其转换为整数，如果输入的不是数字，则提示用户重新输入直到输入数字为止。"
   ]
  },
  {
   "cell_type": "code",
   "execution_count": 7,
   "id": "5fa77731-2c9a-4fab-ad83-d0c5fa8c0ba8",
   "metadata": {},
   "outputs": [
    {
     "name": "stdin",
     "output_type": "stream",
     "text": [
      "Enter a number:  1.5\n"
     ]
    },
    {
     "name": "stdout",
     "output_type": "stream",
     "text": [
      "The value entered is not an integer. Please re-enter.\n"
     ]
    },
    {
     "name": "stdin",
     "output_type": "stream",
     "text": [
      "Enter a number:  3\n"
     ]
    },
    {
     "name": "stdout",
     "output_type": "stream",
     "text": [
      "The number entered is 3\n"
     ]
    }
   ],
   "source": [
    "while True:\n",
    "    try:\n",
    "        num = int(input('Enter a number: '))\n",
    "        break\n",
    "    except ValueError:\n",
    "        print('The value entered is not an integer. Please re-enter.')\n",
    "\n",
    "print(f'The number entered is {num}')"
   ]
  },
  {
   "cell_type": "markdown",
   "id": "61b6dd72-363a-46f8-8bae-1718730bd363",
   "metadata": {},
   "source": [
    "#### Q4. 求100 以内的素数。"
   ]
  },
  {
   "cell_type": "code",
   "execution_count": 9,
   "id": "a2f96ac6-129d-4eb2-8fd1-18eb78fe7b0d",
   "metadata": {},
   "outputs": [
    {
     "name": "stdout",
     "output_type": "stream",
     "text": [
      "[2, 3, 5, 7, 11, 13, 17, 19, 23, 29, 31, 37, 41, 43, 47, 53, 59, 61, 67, 71, 73, 79, 83, 89, 97]\n"
     ]
    }
   ],
   "source": [
    "def prime(n):\n",
    "    prime_list = []\n",
    "\n",
    "    for num in range(2, n+1):\n",
    "        for i in range(2, num):\n",
    "            if num % i == 0:\n",
    "                break\n",
    "        else:\n",
    "            prime_list.append(num)\n",
    "\n",
    "    return prime_list\n",
    "\n",
    "print(prime(100))"
   ]
  },
  {
   "cell_type": "markdown",
   "id": "7f32ddb8-b6cf-4d0f-bd0f-56faf0337493",
   "metadata": {},
   "source": [
    "#### Q5. 请用至少两种不同办法计算1-100中奇数之和。"
   ]
  },
  {
   "cell_type": "code",
   "execution_count": 11,
   "id": "f2718a0d-8ad4-430b-93c8-76daf5327a7d",
   "metadata": {},
   "outputs": [
    {
     "name": "stdout",
     "output_type": "stream",
     "text": [
      "2500\n"
     ]
    }
   ],
   "source": [
    "# Method 1 - for loop\n",
    "sum_odd_numbers = 0\n",
    "\n",
    "for i in range(1, 101):\n",
    "    if i % 2 != 0:\n",
    "        sum_odd_numbers += i\n",
    "\n",
    "print(sum_odd_numbers)"
   ]
  },
  {
   "cell_type": "code",
   "execution_count": 12,
   "id": "6879e2f0-1063-4983-b4c6-9b7cafe0ec4b",
   "metadata": {},
   "outputs": [
    {
     "name": "stdout",
     "output_type": "stream",
     "text": [
      "2500\n"
     ]
    }
   ],
   "source": [
    "# Method 2 - while\n",
    "sum_odd_numbers = 0\n",
    "i = 1\n",
    "\n",
    "while i < 101:\n",
    "    if i % 2 != 0:\n",
    "        sum_odd_numbers += i\n",
    "\n",
    "    i += 1\n",
    "\n",
    "print(sum_odd_numbers)"
   ]
  },
  {
   "cell_type": "code",
   "execution_count": 13,
   "id": "63a7ebf3-f799-46f9-b917-1c330688940b",
   "metadata": {},
   "outputs": [
    {
     "name": "stdout",
     "output_type": "stream",
     "text": [
      "2500\n"
     ]
    }
   ],
   "source": [
    "# Method 3 - while\n",
    "sum_odd_numbers = 0\n",
    "i = 1\n",
    "\n",
    "while i <= 100:\n",
    "    sum_odd_numbers += i\n",
    "    i += 2\n",
    "\n",
    "print(sum_odd_numbers)"
   ]
  },
  {
   "cell_type": "code",
   "execution_count": 14,
   "id": "bf7e7886-030c-419b-afe5-6b7d923b13bc",
   "metadata": {},
   "outputs": [
    {
     "name": "stdout",
     "output_type": "stream",
     "text": [
      "2500\n"
     ]
    }
   ],
   "source": [
    "# Method 4 - while\n",
    "sum_odd_numbers = 0\n",
    "i = 1\n",
    "\n",
    "while True:\n",
    "    sum_odd_numbers += i\n",
    "    i += 2\n",
    "\n",
    "    if i > 100:\n",
    "        break\n",
    "\n",
    "print(sum_odd_numbers)"
   ]
  },
  {
   "cell_type": "code",
   "execution_count": 15,
   "id": "4ae3efa3-76b4-4bbb-b3bd-eacdbfc66116",
   "metadata": {},
   "outputs": [
    {
     "name": "stdout",
     "output_type": "stream",
     "text": [
      "2500\n"
     ]
    }
   ],
   "source": [
    "# Method 5 - while\n",
    "sum_odd_numbers = 0\n",
    "i = 0\n",
    "\n",
    "while i <= 100:\n",
    "    sum_odd_numbers += (i % 2) * i\n",
    "    i += 1\n",
    "\n",
    "print(sum_odd_numbers)"
   ]
  },
  {
   "cell_type": "code",
   "execution_count": 16,
   "id": "a6a247c6-f071-4d01-ab2f-48c23989cac1",
   "metadata": {},
   "outputs": [
    {
     "name": "stdout",
     "output_type": "stream",
     "text": [
      "2500\n"
     ]
    }
   ],
   "source": [
    "# Method 6 - list comprehension\n",
    "sum_odd_numbers = sum([i for i in range(1, 101) if i % 2 != 0])\n",
    "print(sum_odd_numbers)"
   ]
  },
  {
   "cell_type": "code",
   "execution_count": 17,
   "id": "632cd92a-a410-4898-b92a-a6878e54692a",
   "metadata": {},
   "outputs": [
    {
     "name": "stdout",
     "output_type": "stream",
     "text": [
      "2500\n"
     ]
    }
   ],
   "source": [
    "# Method 7 - range with step\n",
    "sum_odd_numbers = sum([i for i in range(1, 101, 2)])\n",
    "print(sum_odd_numbers)"
   ]
  },
  {
   "cell_type": "code",
   "execution_count": 18,
   "id": "97a592d7-aa57-4a82-a397-21a62a20fb0d",
   "metadata": {},
   "outputs": [
    {
     "name": "stdout",
     "output_type": "stream",
     "text": [
      "2500\n"
     ]
    }
   ],
   "source": [
    "# Method 8 - range\n",
    "sum_odd_numbers = sum(range(1, 101, 2))\n",
    "print(sum_odd_numbers)"
   ]
  },
  {
   "cell_type": "code",
   "execution_count": 19,
   "id": "402a0600-2515-4c7e-b8fb-93c356d98256",
   "metadata": {},
   "outputs": [
    {
     "name": "stdout",
     "output_type": "stream",
     "text": [
      "2500\n"
     ]
    }
   ],
   "source": [
    "# Method 9 - range\n",
    "sum_odd_numbers = sum(list(range(1, 101, 2)))\n",
    "print(sum_odd_numbers)"
   ]
  },
  {
   "cell_type": "code",
   "execution_count": 20,
   "id": "cfdf3c6d-a435-4faa-a99a-e2891ed29a00",
   "metadata": {},
   "outputs": [
    {
     "name": "stdout",
     "output_type": "stream",
     "text": [
      "2500\n"
     ]
    }
   ],
   "source": [
    "# Method 10 - slicing\n",
    "sum_odd_numbers = sum(list(range(1, 101))[::2])\n",
    "print(sum_odd_numbers)"
   ]
  },
  {
   "cell_type": "code",
   "execution_count": 21,
   "id": "591fad90-4a8a-487b-b07d-09c021a66b71",
   "metadata": {},
   "outputs": [
    {
     "name": "stdout",
     "output_type": "stream",
     "text": [
      "2500\n"
     ]
    }
   ],
   "source": [
    "# Method 11 - slicing numpy array by condition\n",
    "import numpy as np\n",
    "\n",
    "numbers = np.arange(1, 101)\n",
    "sum_odd_numbers = np.sum(numbers[numbers % 2 != 0])\n",
    "\n",
    "print(sum_odd_numbers)"
   ]
  },
  {
   "cell_type": "markdown",
   "id": "6b2a911e-a252-4718-8ccb-ee2b957fe98a",
   "metadata": {},
   "source": [
    "#### Q6. 写两个函数分别计算矩阵行、列方向元素之和。"
   ]
  },
  {
   "cell_type": "code",
   "execution_count": 23,
   "id": "3046b6e9-ca8d-49ca-ab14-df5b8ba8248e",
   "metadata": {},
   "outputs": [
    {
     "name": "stdout",
     "output_type": "stream",
     "text": [
      "Sum of row is [6, 15, 24]\n",
      "Sum of column is [12, 15, 18]\n"
     ]
    }
   ],
   "source": [
    "# 计算矩阵每行元素之和\n",
    "def matrix_sum_row(matrix):\n",
    "    return [sum(row) for row in matrix]\n",
    "\n",
    "# 计算矩阵每列元素之和\n",
    "def matrix_sum_col(matrix):\n",
    "    num_rows = len(matrix)\n",
    "    num_cols = len(matrix[0])\n",
    "\n",
    "    col_sums = []\n",
    "\n",
    "    for j in range(num_cols):\n",
    "        col_sum = 0\n",
    "\n",
    "        for i in range(num_rows):\n",
    "            col_sum += matrix[i][j]\n",
    "\n",
    "        col_sums.append(col_sum)\n",
    "\n",
    "    return col_sums\n",
    "\n",
    "A = [[1, 2, 3],\n",
    "     [4, 5, 6],\n",
    "     [7, 8, 9]]\n",
    "\n",
    "print(f'Sum of row is {matrix_sum_row(A)}')\n",
    "print(f'Sum of column is {matrix_sum_col(A)}')"
   ]
  },
  {
   "cell_type": "markdown",
   "id": "d8a7a9d7-2ed9-4b6e-a5f1-ac3224b225a5",
   "metadata": {},
   "source": [
    "#### Q7. 写两个函数分别计算矩阵行、列方向元素平均值。"
   ]
  },
  {
   "cell_type": "code",
   "execution_count": 25,
   "id": "60ce3b21-a587-4e63-96c9-8db71f792bee",
   "metadata": {},
   "outputs": [
    {
     "name": "stdout",
     "output_type": "stream",
     "text": [
      "Sum of row is [2.0, 5.0, 8.0]\n",
      "Sum of column is [4.0, 5.0, 6.0]\n"
     ]
    }
   ],
   "source": [
    "# 计算矩阵每行元素平均值\n",
    "def matrix_avg_row(matrix):\n",
    "    return [sum(row)/len(row) for row in matrix]\n",
    "\n",
    "# 计算矩阵每列元素平均值\n",
    "def matrix_avg_col(matrix):\n",
    "    num_rows = len(matrix)\n",
    "    num_cols = len(matrix[0])\n",
    "\n",
    "    col_avgs = []\n",
    "\n",
    "    for j in range(num_cols):\n",
    "        col_sum = 0\n",
    "\n",
    "        for i in range(num_rows):\n",
    "            col_sum += matrix[i][j]\n",
    "\n",
    "        col_avgs.append(col_sum/num_rows)\n",
    "\n",
    "    return col_avgs\n",
    "\n",
    "A = [[1, 2, 3],\n",
    "     [4, 5, 6],\n",
    "     [7, 8, 9]]\n",
    "\n",
    "print(f'Sum of row is {matrix_avg_row(A)}')\n",
    "print(f'Sum of column is {matrix_avg_col(A)}')"
   ]
  }
 ],
 "metadata": {
  "kernelspec": {
   "display_name": "Python 3 (ipykernel)",
   "language": "python",
   "name": "python3"
  },
  "language_info": {
   "codemirror_mode": {
    "name": "ipython",
    "version": 3
   },
   "file_extension": ".py",
   "mimetype": "text/x-python",
   "name": "python",
   "nbconvert_exporter": "python",
   "pygments_lexer": "ipython3",
   "version": "3.11.7"
  }
 },
 "nbformat": 4,
 "nbformat_minor": 5
}
