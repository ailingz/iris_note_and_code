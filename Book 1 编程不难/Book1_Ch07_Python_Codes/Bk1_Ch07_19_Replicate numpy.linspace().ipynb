{
 "cells": [
  {
   "cell_type": "markdown",
   "id": "483fb598-d436-43e4-823c-f57f9b31a127",
   "metadata": {},
   "source": [
    "Book 1  \n",
    "Chapter 7 Control Flow Statements in Python\n",
    "### 复刻 `numpy.linspace()` 基本功能"
   ]
  },
  {
   "cell_type": "code",
   "execution_count": 2,
   "id": "aec9d480-2469-4b5d-a98e-bde2f1f6a27c",
   "metadata": {},
   "outputs": [],
   "source": [
    "# 自定义函数模仿 numpy.linspace()\n",
    "def linspace(start, stop, num=50, endpoint=True):\n",
    "    if start == stop:\n",
    "        raise ValueError('Start and stop values are the same')\n",
    "    if not isinstance(num, int) or num < 2:\n",
    "        raise ValueError('Number of samples must be an interger at least 2')\n",
    "\n",
    "    # 是否包括右端点\n",
    "    # if endpoint:\n",
    "    #     step = (stop - start) / (num - 1)\n",
    "    #     return [start + i * step for i in range(num)]\n",
    "    # else:\n",
    "    #     step = (stop - start) / num\n",
    "    #     return [start + i * step for i in range(num)]\n",
    "\n",
    "    return [start + i * ((stop - start) / (num - 1)) if endpoint\n",
    "            else start + i * ((stop - start) / num)\n",
    "            for i in range(num)]"
   ]
  },
  {
   "cell_type": "code",
   "execution_count": 3,
   "id": "facd47ed-9aea-433f-8ac3-462787850b7e",
   "metadata": {},
   "outputs": [],
   "source": [
    "# 示例用法\n",
    "start = 0\n",
    "stop = 10\n",
    "num = 21\n",
    "endpoint = True"
   ]
  },
  {
   "cell_type": "code",
   "execution_count": 4,
   "id": "5262def3-2df1-4ae5-8ead-4230fff561ef",
   "metadata": {},
   "outputs": [
    {
     "name": "stdout",
     "output_type": "stream",
     "text": [
      "[0.0, 0.5, 1.0, 1.5, 2.0, 2.5, 3.0, 3.5, 4.0, 4.5, 5.0, 5.5, 6.0, 6.5, 7.0, 7.5, 8.0, 8.5, 9.0, 9.5, 10.0]\n"
     ]
    }
   ],
   "source": [
    "# 调用自定义函数生成等差数列\n",
    "values = linspace(start, stop, num, endpoint)\n",
    "print(values)"
   ]
  },
  {
   "cell_type": "code",
   "execution_count": 5,
   "id": "2d7ccaa9-b162-4eaa-ae37-3ebc6562e975",
   "metadata": {},
   "outputs": [
    {
     "data": {
      "text/plain": [
       "array([ 0. ,  0.5,  1. ,  1.5,  2. ,  2.5,  3. ,  3.5,  4. ,  4.5,  5. ,\n",
       "        5.5,  6. ,  6.5,  7. ,  7.5,  8. ,  8.5,  9. ,  9.5, 10. ])"
      ]
     },
     "execution_count": 5,
     "metadata": {},
     "output_type": "execute_result"
    }
   ],
   "source": [
    "import numpy as np\n",
    "\n",
    "np.linspace(0, 10, 21)"
   ]
  }
 ],
 "metadata": {
  "kernelspec": {
   "display_name": "Python 3 (ipykernel)",
   "language": "python",
   "name": "python3"
  },
  "language_info": {
   "codemirror_mode": {
    "name": "ipython",
    "version": 3
   },
   "file_extension": ".py",
   "mimetype": "text/x-python",
   "name": "python",
   "nbconvert_exporter": "python",
   "pygments_lexer": "ipython3",
   "version": "3.11.7"
  }
 },
 "nbformat": 4,
 "nbformat_minor": 5
}
