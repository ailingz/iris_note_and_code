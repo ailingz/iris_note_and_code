{
 "cells": [
  {
   "cell_type": "markdown",
   "id": "cc35c075-cb9b-4b4d-9753-313b28fe40cf",
   "metadata": {},
   "source": [
    "Book 1  \n",
    "Chapter 7 Control Flow Statements in Python\n",
    "### 四个 `for` 循环例子"
   ]
  },
  {
   "cell_type": "code",
   "execution_count": 2,
   "id": "742aadd5-a77d-45b2-b8ef-a2cba97cf477",
   "metadata": {},
   "outputs": [
    {
     "name": "stdout",
     "output_type": "stream",
     "text": [
      "M\n",
      "a\n",
      "t\n",
      "p\n",
      "l\n",
      "o\n",
      "t\n",
      "l\n",
      "i\n",
      "b\n"
     ]
    }
   ],
   "source": [
    "# 循环字符串内字符\n",
    "str_for_loop = 'Matplotlib'\n",
    "\n",
    "for str_idx in str_for_loop:\n",
    "    print(str_idx)"
   ]
  },
  {
   "cell_type": "code",
   "execution_count": 3,
   "id": "2e43093c-b0a3-4f2d-9cc6-3bcaee9de6fe",
   "metadata": {},
   "outputs": [
    {
     "name": "stdout",
     "output_type": "stream",
     "text": [
      "Matplotlib\n",
      "NumPy\n",
      "Seaborn\n",
      "Pandas\n",
      "Plotly\n",
      "SK-learn\n"
     ]
    }
   ],
   "source": [
    "# 循环 list 中元素\n",
    "list_for_loop = ['Matplotlib', 'NumPy', 'Seaborn', 'Pandas', 'Plotly', 'SK-learn']\n",
    "\n",
    "for item_idx in list_for_loop:\n",
    "    print(item_idx)"
   ]
  },
  {
   "cell_type": "code",
   "execution_count": 4,
   "id": "78f4edb1-b35e-43da-bc2f-d029e9e1b6f8",
   "metadata": {},
   "outputs": [
    {
     "name": "stdout",
     "output_type": "stream",
     "text": [
      "===============\n",
      "Matplotlib\n",
      "A visualization tool\n",
      "===============\n",
      "NumPy\n",
      "===============\n",
      "Seaborn\n",
      "A visualization tool\n",
      "===============\n",
      "Pandas\n",
      "===============\n",
      "Plotly\n",
      "A visualization tool\n",
      "===============\n",
      "SK-learn\n"
     ]
    }
   ],
   "source": [
    "# 循环中嵌入 if 判断\n",
    "packages_visual = ['Matplotlib', 'Seaborn', 'Plotly']\n",
    "\n",
    "for item_idx in list_for_loop:\n",
    "    print('===============')\n",
    "    print(item_idx)\n",
    "\n",
    "    if item_idx in packages_visual:\n",
    "        print('A visualization tool')"
   ]
  },
  {
   "cell_type": "code",
   "execution_count": 5,
   "id": "157fb221-e06d-4b1c-91ff-f96482bc0f3e",
   "metadata": {},
   "outputs": [
    {
     "name": "stdout",
     "output_type": "stream",
     "text": [
      "===============\n",
      "Matplotlib\n",
      "M\n",
      "a\n",
      "t\n",
      "p\n",
      "l\n",
      "o\n",
      "t\n",
      "l\n",
      "i\n",
      "b\n",
      "===============\n",
      "NumPy\n",
      "N\n",
      "u\n",
      "m\n",
      "P\n",
      "y\n",
      "===============\n",
      "Seaborn\n",
      "S\n",
      "e\n",
      "a\n",
      "b\n",
      "o\n",
      "r\n",
      "n\n",
      "===============\n",
      "Pandas\n",
      "P\n",
      "a\n",
      "n\n",
      "d\n",
      "a\n",
      "s\n",
      "===============\n",
      "Plotly\n",
      "P\n",
      "l\n",
      "o\n",
      "t\n",
      "l\n",
      "y\n",
      "===============\n",
      "SK-learn\n",
      "S\n",
      "K\n",
      "-\n",
      "l\n",
      "e\n",
      "a\n",
      "r\n",
      "n\n"
     ]
    }
   ],
   "source": [
    "# 嵌套 for 循环\n",
    "for item_idx in list_for_loop:\n",
    "    print('===============')\n",
    "    print(item_idx)\n",
    "\n",
    "    for item_idx in item_idx:\n",
    "        print(item_idx)"
   ]
  }
 ],
 "metadata": {
  "kernelspec": {
   "display_name": "Python 3 (ipykernel)",
   "language": "python",
   "name": "python3"
  },
  "language_info": {
   "codemirror_mode": {
    "name": "ipython",
    "version": 3
   },
   "file_extension": ".py",
   "mimetype": "text/x-python",
   "name": "python",
   "nbconvert_exporter": "python",
   "pygments_lexer": "ipython3",
   "version": "3.11.7"
  }
 },
 "nbformat": 4,
 "nbformat_minor": 5
}
