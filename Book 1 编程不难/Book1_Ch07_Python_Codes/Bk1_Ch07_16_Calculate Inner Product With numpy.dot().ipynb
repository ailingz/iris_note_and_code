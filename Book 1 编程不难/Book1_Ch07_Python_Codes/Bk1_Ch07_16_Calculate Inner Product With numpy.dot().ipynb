{
 "cells": [
  {
   "cell_type": "markdown",
   "id": "e53ec6d4-b467-44e6-8860-6af94f7bdb1e",
   "metadata": {},
   "source": [
    "Book 1  \n",
    "Chapter 7 Control Flow Statements in Python\n",
    "### 使用 `numpy.dot()` 计算向量内积"
   ]
  },
  {
   "cell_type": "code",
   "execution_count": 2,
   "id": "f4825ab9-7b3e-4483-b264-ca0fce3b78fc",
   "metadata": {},
   "outputs": [],
   "source": [
    "import numpy as np\n",
    "\n",
    "# 定义向量 a 和 b；准确来说是一维数组\n",
    "a = np.array([1, 2, 3, 4, 5])\n",
    "b = np.array([6, 7, 8, 9, 0])"
   ]
  },
  {
   "cell_type": "code",
   "execution_count": 3,
   "id": "7df70896-416a-4cb0-b169-3cb82b4ef3a2",
   "metadata": {},
   "outputs": [
    {
     "name": "stdout",
     "output_type": "stream",
     "text": [
      "The Inner Product is: 80\n"
     ]
    }
   ],
   "source": [
    "# 计算向量内积\n",
    "dot_product = np.dot(a, b)\n",
    "\n",
    "print(f'The Inner Product is: {dot_product}')"
   ]
  }
 ],
 "metadata": {
  "kernelspec": {
   "display_name": "Python 3 (ipykernel)",
   "language": "python",
   "name": "python3"
  },
  "language_info": {
   "codemirror_mode": {
    "name": "ipython",
    "version": 3
   },
   "file_extension": ".py",
   "mimetype": "text/x-python",
   "name": "python",
   "nbconvert_exporter": "python",
   "pygments_lexer": "ipython3",
   "version": "3.11.7"
  }
 },
 "nbformat": 4,
 "nbformat_minor": 5
}
