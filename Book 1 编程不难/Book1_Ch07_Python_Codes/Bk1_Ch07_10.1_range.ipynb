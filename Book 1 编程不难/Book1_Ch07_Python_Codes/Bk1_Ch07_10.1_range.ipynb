{
 "cells": [
  {
   "cell_type": "markdown",
   "id": "a2f9e7f4-edc3-41e6-b3f3-9473b40e774f",
   "metadata": {},
   "source": [
    "Book 1  \n",
    "Chapter 7 Control Flow Statements in Python\n",
    "### `range()`\n",
    "\n",
    "`range(start, stop, step)` 生成一个可迭代对象，而不是一个列表"
   ]
  },
  {
   "cell_type": "code",
   "execution_count": 2,
   "id": "2b479621-8b43-4173-a772-e3fb6deb366f",
   "metadata": {},
   "outputs": [
    {
     "name": "stdout",
     "output_type": "stream",
     "text": [
      "0\n",
      "1\n",
      "2\n",
      "3\n",
      "4\n"
     ]
    }
   ],
   "source": [
    "# 生成从0到4的整数序列\n",
    "for i in range(4+1):\n",
    "    print(i)"
   ]
  },
  {
   "cell_type": "code",
   "execution_count": 3,
   "id": "336d46f3-9a61-4b20-8e77-3f7bc2304470",
   "metadata": {},
   "outputs": [
    {
     "name": "stdout",
     "output_type": "stream",
     "text": [
      "10\n",
      "11\n",
      "12\n",
      "13\n",
      "14\n",
      "15\n",
      "16\n",
      "17\n",
      "18\n",
      "19\n",
      "20\n"
     ]
    }
   ],
   "source": [
    "# 生成从10到20的整数序列\n",
    "for i in range(10, 20+1):\n",
    "    print(i)"
   ]
  },
  {
   "cell_type": "code",
   "execution_count": 4,
   "id": "963d2278-c849-4b80-9ac6-d4705efe6912",
   "metadata": {},
   "outputs": [
    {
     "name": "stdout",
     "output_type": "stream",
     "text": [
      "1\n",
      "3\n",
      "5\n",
      "7\n",
      "9\n"
     ]
    }
   ],
   "source": [
    "# 生成从1到10的奇数序列\n",
    "for i in range(1, 10+1, 2):\n",
    "    print(i)"
   ]
  },
  {
   "cell_type": "code",
   "execution_count": 5,
   "id": "87249966-7000-4663-9e71-475e97720548",
   "metadata": {},
   "outputs": [
    {
     "name": "stdout",
     "output_type": "stream",
     "text": [
      "10\n",
      "9\n",
      "8\n",
      "7\n",
      "6\n",
      "5\n",
      "4\n",
      "3\n",
      "2\n",
      "1\n"
     ]
    }
   ],
   "source": [
    "# 生成从10到1的倒序整数序列\n",
    "for i in range(10, 1-1, -1):\n",
    "    print(i)"
   ]
  },
  {
   "cell_type": "code",
   "execution_count": 6,
   "id": "c90b4bed-75c7-4158-b100-e5855e39fe21",
   "metadata": {
    "tags": []
   },
   "outputs": [
    {
     "data": {
      "text/plain": [
       "[10, 9, 8, 7, 6, 5, 4, 3, 2, 1]"
      ]
     },
     "execution_count": 6,
     "metadata": {},
     "output_type": "execute_result"
    }
   ],
   "source": [
    "# 将 range() 生成的可迭代对象变成 list\n",
    "list(range(10, 1-1, -1))"
   ]
  }
 ],
 "metadata": {
  "kernelspec": {
   "display_name": "Python 3 (ipykernel)",
   "language": "python",
   "name": "python3"
  },
  "language_info": {
   "codemirror_mode": {
    "name": "ipython",
    "version": 3
   },
   "file_extension": ".py",
   "mimetype": "text/x-python",
   "name": "python",
   "nbconvert_exporter": "python",
   "pygments_lexer": "ipython3",
   "version": "3.11.7"
  }
 },
 "nbformat": 4,
 "nbformat_minor": 5
}
