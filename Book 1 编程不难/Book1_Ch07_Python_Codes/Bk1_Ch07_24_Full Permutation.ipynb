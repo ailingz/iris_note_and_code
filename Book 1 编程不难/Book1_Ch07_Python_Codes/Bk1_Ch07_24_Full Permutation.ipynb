{
 "cells": [
  {
   "cell_type": "markdown",
   "id": "102073cc-dc79-41d7-82bf-e4afadafa2b6",
   "metadata": {},
   "source": [
    "Book 1  \n",
    "Chapter 7 Control Flow Statements in Python\n",
    "### 3个字符全排列"
   ]
  },
  {
   "cell_type": "code",
   "execution_count": 2,
   "id": "02e0b1bd-5329-4734-a652-d75b9fdcf43a",
   "metadata": {},
   "outputs": [
    {
     "name": "stdout",
     "output_type": "stream",
     "text": [
      "<class 'itertools.permutations'>\n"
     ]
    }
   ],
   "source": [
    "import itertools\n",
    "\n",
    "string = 'abc'\n",
    "perms_all = itertools.permutations(string) # 返回一个可迭代对象perms，其中包含了string的所有排列方式\n",
    "\n",
    "print(type(perms_all))\n",
    "# print(list(perms_all)) # An iterator can only be consumed once"
   ]
  },
  {
   "cell_type": "code",
   "execution_count": 3,
   "id": "b6558840-0af9-45d0-8d88-ea39c69f1f0d",
   "metadata": {},
   "outputs": [
    {
     "name": "stdout",
     "output_type": "stream",
     "text": [
      "abc\n",
      "acb\n",
      "bac\n",
      "bca\n",
      "cab\n",
      "cba\n"
     ]
    }
   ],
   "source": [
    "# 全排列\n",
    "for perm_idx in list(perms_all):\n",
    "    print(''.join(perm_idx))"
   ]
  }
 ],
 "metadata": {
  "kernelspec": {
   "display_name": "Python 3 (ipykernel)",
   "language": "python",
   "name": "python3"
  },
  "language_info": {
   "codemirror_mode": {
    "name": "ipython",
    "version": 3
   },
   "file_extension": ".py",
   "mimetype": "text/x-python",
   "name": "python",
   "nbconvert_exporter": "python",
   "pygments_lexer": "ipython3",
   "version": "3.11.7"
  }
 },
 "nbformat": 4,
 "nbformat_minor": 5
}
