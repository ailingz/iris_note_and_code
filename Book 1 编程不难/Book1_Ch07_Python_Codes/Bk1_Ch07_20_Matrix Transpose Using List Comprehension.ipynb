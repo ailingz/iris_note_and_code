{
 "cells": [
  {
   "cell_type": "markdown",
   "id": "c820d3ff-6774-4b08-b1d6-17053d5789d9",
   "metadata": {},
   "source": [
    "Book 1  \n",
    "Chapter 7 Control Flow Statements in Python\n",
    "### 利用一层列表生成式完成矩阵转置\n",
    "\n",
    "- **转置矩阵 The Transpose of a Matrix**\n",
    "    - 指将矩阵的行和列互换的操作\n",
    "    - 如果有一个矩阵 $A$，其形状为 m × n，那么矩阵 $A$ 的转置，记作 $A^T$，形状为 n × m"
   ]
  },
  {
   "cell_type": "code",
   "execution_count": 2,
   "id": "56dc1a5f-a2f7-4be2-a0e5-f7e22c9b031d",
   "metadata": {},
   "outputs": [],
   "source": [
    "def transpose(matrix):\n",
    "    transposed = []\n",
    "\n",
    "    rows = len(matrix)\n",
    "    cols = len(matrix[0])\n",
    "\n",
    "    for j in range(cols):\n",
    "        transposed_row = [matrix[i][j] for i in range(rows)]\n",
    "        transposed.append(transposed_row)\n",
    "\n",
    "    print(transposed)"
   ]
  },
  {
   "cell_type": "code",
   "execution_count": 3,
   "id": "5b693550-702c-4073-a367-91b9e3f4ab68",
   "metadata": {},
   "outputs": [],
   "source": [
    "# 示例用法\n",
    "A = [[1, 2, 3],\n",
    "     [4, 5, 6]]"
   ]
  },
  {
   "cell_type": "code",
   "execution_count": 4,
   "id": "be52a509-b3e7-49bd-9207-58e54d3eaf28",
   "metadata": {},
   "outputs": [
    {
     "name": "stdout",
     "output_type": "stream",
     "text": [
      "[[1, 4], [2, 5], [3, 6]]\n"
     ]
    }
   ],
   "source": [
    "transpose(A)"
   ]
  },
  {
   "cell_type": "code",
   "execution_count": 5,
   "id": "044fbb08-4d12-411d-872e-34db7184e825",
   "metadata": {},
   "outputs": [
    {
     "data": {
      "text/plain": [
       "array([[1, 4],\n",
       "       [2, 5],\n",
       "       [3, 6]])"
      ]
     },
     "execution_count": 5,
     "metadata": {},
     "output_type": "execute_result"
    }
   ],
   "source": [
    "import numpy as np\n",
    "\n",
    "np.array(A).T"
   ]
  }
 ],
 "metadata": {
  "kernelspec": {
   "display_name": "Python 3 (ipykernel)",
   "language": "python",
   "name": "python3"
  },
  "language_info": {
   "codemirror_mode": {
    "name": "ipython",
    "version": 3
   },
   "file_extension": ".py",
   "mimetype": "text/x-python",
   "name": "python",
   "nbconvert_exporter": "python",
   "pygments_lexer": "ipython3",
   "version": "3.11.7"
  }
 },
 "nbformat": 4,
 "nbformat_minor": 5
}
